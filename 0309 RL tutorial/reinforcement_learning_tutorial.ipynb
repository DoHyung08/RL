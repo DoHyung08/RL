{
  "cells": [
    {
      "cell_type": "markdown",
      "metadata": {
        "id": "view-in-github",
        "colab_type": "text"
      },
      "source": [
        "<a href=\"https://colab.research.google.com/github/DoHyung08/RL/blob/main/0309%20RL%20tutorial/reinforcement_learning_tutorial.ipynb\" target=\"_parent\"><img src=\"https://colab.research.google.com/assets/colab-badge.svg\" alt=\"Open In Colab\"/></a>"
      ]
    },
    {
      "cell_type": "markdown",
      "metadata": {
        "id": "w2BsaXtWqpAp"
      },
      "source": [
        "# 강화 학습 맛보기\n",
        "\n",
        "강화 학습 수업에 오신 여러분을 진심으로 환영합니다!\n",
        "\n",
        "여러분이 앞으로 1년 동안 배우게 될 강화 학습은 인공지능 분야 중에서도 가장 독특하고 유용한 기술입니다.\n",
        "아마 다른 어떤 수업에서도 경험하지 못할 재미있고 유익한 경험이 될 거에요."
      ]
    },
    {
      "cell_type": "markdown",
      "metadata": {
        "id": "yPaT76WHqrUV"
      },
      "source": [
        "## 강화 학습 내용 훑어보기\n",
        "\n",
        "강화 학습은 시행착오를 거치며 경험을 통해 적절한 행동 방식을 배워나가는 과정입니다. \"당근과 채찍\" 전략을 생각하면 쉽습니다. 여러분이 좋은 행동을 하면 당근을, 나쁜 행동을 하면 채찍질을 주는 것이 바로 강화 학습입니다. 이 당근과 채찍을 통틀어 강화 학습에서는 \"보상\"이라고 부릅니다. 강화 학습의 가장 중요한 요소 중 하나가 바로 이 보상입니다.\n",
        "\n",
        "![](https://s3-ap-northeast-2.amazonaws.com/opentutorials-user-file/module/4916/12365.jpeg)\n",
        "\n",
        "강화 학습의 또 다른 중요한 요소는 바로 끊임없이 변화하는 환경의 상태입니다. 어러분이 취하는 행동은 여러분 주변의 환경을 변화시킵니다. 여러분은 이 끊임없이 변화하는 환경 속에서 계속 보상을 최대한 취할 수 있도록 노력해야합니다. 이 과정이 바로 강화 학습의 과정과 많이 닮아있습니다.\n",
        "\n"
      ]
    },
    {
      "cell_type": "markdown",
      "metadata": {
        "id": "94yhPKFYquQw"
      },
      "source": [
        "## 강화 학습 예제 경험하기\n",
        "\n",
        "강화 학습이 어떤 문제를 풀 수 있는지 한번 살펴볼까요?\n",
        "\n",
        "사실 강화 학습은 우리 주변에서 흔히 접할 수 있는 대부분의 문제를 다 풀 수 있는 아주 유용한 기술입니다. 로봇을 조종하는 것부터 시작해서, 자율 주행, 주식 투자, 심지어는 최근에 각광받는 ChatGPT 역시 강화 학습 기술이 사용되었습니다. 우리가 일상 생활에서 상벌의 개념을 생각할 수 있는 거의 모든 문제를 강화 학습으로 풀 수 있습니다."
      ]
    },
    {
      "cell_type": "code",
      "execution_count": 1,
      "metadata": {
        "id": "t3e7d7NMlQPE"
      },
      "outputs": [],
      "source": [
        "%%capture\n",
        "!pip install -U ray[rllib]\n",
        "!pip install gputil\n",
        "!pip install ipython==7.10.0\n",
        "!pip install moviepy\n",
        "!pip install gymnasium[classic-control]"
      ]
    },
    {
      "cell_type": "code",
      "execution_count": 2,
      "metadata": {
        "id": "zk7kE26_lTjF"
      },
      "outputs": [],
      "source": [
        "from __future__ import absolute_import\n",
        "from __future__ import division\n",
        "from __future__ import print_function\n",
        "\n",
        "import ray\n",
        "import numpy as np\n",
        "import gymnasium as gym\n",
        "\n",
        "import warnings\n",
        "warnings.filterwarnings('ignore')\n",
        "\n",
        "from IPython.display import HTML\n",
        "from base64 import b64encode\n",
        "from gymnasium.wrappers import RecordVideo\n",
        "\n",
        "\n",
        "def view_video(filename):\n",
        "    video = f'video/{filename}-episode-0.mp4'\n",
        "    mp4 = open(video,'rb').read()\n",
        "    data_url = \"data:video/mp4;base64,\" + b64encode(mp4).decode()\n",
        "\n",
        "    return HTML(\"\"\"\n",
        "    <video width=400 controls>\n",
        "          <source src=\"%s\" type=\"video/mp4\">\n",
        "    </video>\n",
        "    \"\"\" % data_url)"
      ]
    },
    {
      "cell_type": "markdown",
      "metadata": {
        "id": "5_OKJ8jCqxuQ"
      },
      "source": [
        "### 환경 정의하기\n",
        "\n",
        "오늘 수업 시간에는 강화 학습에서 가장 단순하고 유명한 예제 중 하나인 \"Mountain Car\" 문제를 직접 풀어볼 것입니다. 이 문제에서 여러분의 목표는 산 정상의 깃발에 도달하는 것입니다.\n",
        "여러분은 오른쪽 또는 왼쪽으로 가속하는 페달을 밟거나, 페달을 밟지 않는 선택을 할 수 있습니다.\n",
        "산 정상까지 올라가려면 페달을 적절히 밟아야 합니다. 하지만 산의 경사가 너무 가파르기 때문에, 아무리 밟아도 중력 때문에 올라가지 못할 수도 있습니다.\n",
        "\n",
        "![](https://www.gymlibrary.dev/_images/mountain_car.gif)\n",
        "\n",
        "먼저, 이 환경에서 여러분이 취할 수 있는 행동은 다음과 같이 표현할 수 있습니다:\n",
        "\n",
        "0: 왼쪽으로 가속하는 페달 밟기\n",
        "\n",
        "1: 페달 밟지 않기\n",
        "\n",
        "2: 오른쪽으로 가속하는 페달 밟기"
      ]
    },
    {
      "cell_type": "code",
      "execution_count": 3,
      "metadata": {
        "colab": {
          "base_uri": "https://localhost:8080/"
        },
        "id": "X25O_F-BlbXG",
        "outputId": "7ccfe09a-01e0-4238-9a30-6a3d1861b2e3"
      },
      "outputs": [
        {
          "output_type": "stream",
          "name": "stdout",
          "text": [
            "Created env: <TimeLimit<OrderEnforcing<PassiveEnvChecker<MountainCarEnv<MountainCar-v0>>>>>\n",
            "Available actions: Discrete(3)\n"
          ]
        }
      ],
      "source": [
        "env = gym.make('MountainCar-v0')\n",
        "print('Created env:', env)\n",
        "print('Available actions:', env.action_space)"
      ]
    },
    {
      "cell_type": "markdown",
      "metadata": {
        "id": "JvkYwDs729JS"
      },
      "source": [
        "다음으로, 이 환경에서 받을 수 있는 상태에 대한 정보는 $s_{t} = (x_{t}, v_{t})$입니다.\n",
        "즉, 여러분이 받는 상태 정보 $s_{t}$는 $x$축 방향에서의 현재 위치 $x_{t}$와 속도 $v_{t}$입니다.\n",
        "\n",
        "$x$축 방향의 좌표는 $(-1.2, 0.6)$ 사이이고, 속도 $v$는 (-0.07, 0.07) 사이입니다."
      ]
    },
    {
      "cell_type": "code",
      "execution_count": 4,
      "metadata": {
        "colab": {
          "base_uri": "https://localhost:8080/"
        },
        "id": "6XWStLA-ldOd",
        "outputId": "07f6ae3d-5ce7-432b-d19f-882a79b8b4b9"
      },
      "outputs": [
        {
          "output_type": "stream",
          "name": "stdout",
          "text": [
            "Observation space: Box([-1.2  -0.07], [0.6  0.07], (2,), float32)\n",
            "The starting state is: [-0.43379477  0.        ]\n"
          ]
        }
      ],
      "source": [
        "state, _ = env.reset()#리셋\n",
        "print('Observation space:', env.observation_space)\n",
        "print('The starting state is:', state)#시작 위치와 속도"
      ]
    },
    {
      "cell_type": "markdown",
      "metadata": {
        "id": "NLssGQki29JT"
      },
      "source": [
        "여러분이 어떤 행동을 선택하면, 다음과 같이 환경의 상태가 변화합니다.\n",
        "\n",
        "$v_{t+1} = v_{t} + (\\mathrm{action} - 1) * F - \\cos(3 * x_{t}) * mg$\n",
        "\n",
        "$x_{t+1} = x_{t} + v_{t+1}$\n",
        "\n",
        "여기서 $F$는 페달을 밟을 때 가속하는 힘 $F = 0.001$이고, 중력 $mg = 0.0025$입니다."
      ]
    },
    {
      "cell_type": "code",
      "execution_count": 5,
      "metadata": {
        "colab": {
          "base_uri": "https://localhost:8080/"
        },
        "id": "DKYtgu-blgGL",
        "outputId": "728ba677-cd62-4872-c578-8d02e038aeb6"
      },
      "outputs": [
        {
          "output_type": "stream",
          "name": "stdout",
          "text": [
            "State: [-0.43546015 -0.00166541]\n",
            "Reward: -1.0\n",
            "Done: False\n"
          ]
        }
      ],
      "source": [
        "states = []\n",
        "\n",
        "action = 0\n",
        "\n",
        "\n",
        "#행동 선택후\n",
        "# 다음 상태(위치와속도), 보상, 끝났는지 정보\n",
        "state, reward, done, _, _ = env.step(action)\n",
        "print(f\"State: {state}\") #x축 좌표와 속도\n",
        "print(f\"Reward: {reward}\")#다음 보상\n",
        "print(f\"Done: {done}\")#환경이 끝났는지.\n",
        "states.append(state[0])"
      ]
    },
    {
      "cell_type": "code",
      "source": [
        "import matplotlib.pyplot as plt\n",
        "\n",
        "plt.plot(states)\n",
        "plt.figure(figsize=(8,30))\n",
        "\n",
        "plt.show()"
      ],
      "metadata": {
        "id": "16Ea0rf5mcZo",
        "outputId": "d35dfa1e-5bd7-48af-caf2-4a989709fbeb",
        "colab": {
          "base_uri": "https://localhost:8080/",
          "height": 448
        }
      },
      "execution_count": 6,
      "outputs": [
        {
          "output_type": "display_data",
          "data": {
            "text/plain": [
              "<Figure size 640x480 with 1 Axes>"
            ],
            "image/png": "[encoded data removed]"
          },
          "metadata": {}
        },
        {
          "output_type": "display_data",
          "data": {
            "text/plain": [
              "<Figure size 800x3000 with 0 Axes>"
            ]
          },
          "metadata": {}
        }
      ]
    },
    {
      "cell_type": "markdown",
      "metadata": {
        "id": "GCUIOuWYq0Nq"
      },
      "source": [
        "### 인공지능 정책 정의하기\n",
        "\n",
        "강화 학습에서 정책은 인공지능의 두뇌입니다. 인공지능이 변화하는 환경 속에서 어떻게 행동할지를 결정하는 지침으로 생각할 수 있습니다. 가장 단순한 형태의 정책으로는 여러분이 취할 수 있는 행동 중에서 아무거나 (샘플링하여) 고르는 것이 있겠습니다."
      ]
    },
    {
      "cell_type": "code",
      "execution_count": 9,
      "metadata": {
        "id": "1o18p51sq0lv"
      },
      "outputs": [],
      "source": [
        "class RandomPolicy():\n",
        "  #클래스 선언\n",
        "    def __init__(self, action_space):\n",
        "        self.action_space = action_space\n",
        "\n",
        "    #클래스를 호출하는 함수\n",
        "    def __call__(self, state):\n",
        "        return self.action_space.sample()##행동 공간중 랜덤한 행동 선택하여 동작"
      ]
    },
    {
      "cell_type": "code",
      "source": [
        "#정책 새로 만들기\n",
        "class government():\n",
        "  def __init__(self,action_space):\n",
        "    self.action_space = action_space\n",
        "    self.start_position = -0.6\n",
        "\n",
        "  def __call__(self, state):\n",
        "    x, v = state;\n",
        "    r = 1.2\n",
        "    crit = 0.005\n",
        "\n",
        "    if(x<self.start_position * r and v<-crit):\n",
        "      action = 0\n",
        "    elif(x<self.start_position * r and v>-crit):\n",
        "      action = 2\n",
        "    elif(x>self.start_position / r and v>crit):\n",
        "      action = 2\n",
        "    elif(x>self.start_position / r and v<crit):\n",
        "      action = 0\n",
        "    else:\n",
        "      action = 1;\n",
        "\n",
        "    return action"
      ],
      "metadata": {
        "id": "WZaCzpaYn1Cw"
      },
      "execution_count": 10,
      "outputs": []
    },
    {
      "cell_type": "markdown",
      "metadata": {
        "id": "WBvVYPQrq3h_"
      },
      "source": [
        "### 환경과 상호작용하기\n",
        "\n",
        "정책이 있다면, 여러분은 주어진 상황에서 어떤 행동을 취해야 할지 결정할 수 있습니다. 그럼 이제 본격적으로 환경 속에 들어가서 직접 부딪혀볼까요?\n",
        "\n",
        "여러분이 어떤 행동을 취하면, 환경은 여러분에게 보상을 줍니다. 이 보상은 여러분이 좋은 행동을 했는지, 나쁜 행동을 했는지 알려주는 값입니다. 그리고 여러분이 취한 행동에 따라 환경은 변화하고, 이 변화한 환경을 여러분은 다시 관찰할 수 있습니다. 그리고 여러분은 또다시 (여러분이 관찰한 결과를 토대로) 어떤 행동을 취할지 결정합니다. 강화 학습은 이 과정을 반복하며 진행됩니다."
      ]
    },
    {
      "cell_type": "code",
      "execution_count": 159,
      "metadata": {
        "colab": {
          "base_uri": "https://localhost:8080/",
          "height": 939
        },
        "id": "mwtH_tezxFYm",
        "outputId": "e34e0262-afe4-4e57-cffe-8992fca64581"
      },
      "outputs": [
        {
          "output_type": "stream",
          "name": "stdout",
          "text": [
            "Moviepy - Building video /content/video/random-agent-episode-0.mp4.\n",
            "Moviepy - Writing video /content/video/random-agent-episode-0.mp4\n",
            "\n"
          ]
        },
        {
          "output_type": "stream",
          "name": "stderr",
          "text": [
            "                                                  "
          ]
        },
        {
          "output_type": "stream",
          "name": "stdout",
          "text": [
            "Moviepy - Done !\n",
            "Moviepy - video ready /content/video/random-agent-episode-0.mp4\n"
          ]
        },
        {
          "output_type": "stream",
          "name": "stderr",
          "text": [
            "\r"
          ]
        },
        {
          "output_type": "stream",
          "name": "stdout",
          "text": [
            "Moviepy - Building video /content/video/random-agent-episode-0.mp4.\n",
            "Moviepy - Writing video /content/video/random-agent-episode-0.mp4\n",
            "\n"
          ]
        },
        {
          "output_type": "stream",
          "name": "stderr",
          "text": []
        },
        {
          "output_type": "stream",
          "name": "stdout",
          "text": [
            "Moviepy - Done !\n",
            "Moviepy - video ready /content/video/random-agent-episode-0.mp4\n",
            "try time :  161\n"
          ]
        },
        {
          "output_type": "display_data",
          "data": {
            "text/plain": [
              "<Figure size 640x480 with 1 Axes>"
            ],
            "image/png": "[encoded data removed]"
          },
          "metadata": {}
        },
        {
          "output_type": "stream",
          "name": "stdout",
          "text": [
            "\n"
          ]
        },
        {
          "output_type": "execute_result",
          "data": {
            "text/plain": [
              "<IPython.core.display.HTML object>"
            ],
            "text/html": [
              "\n",
              "    <video width=400 controls>\n",
              "          <source src=\"data:video/mp4;base64,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\" type=\"video/mp4\">\n",
              "    </video>\n",
              "    "
            ]
          },
          "metadata": {},
          "execution_count": 159
        }
      ],
      "source": [
        "env = gym.make(\"MountainCar-v0\", render_mode=\"rgb_array\")#환경 생성\n",
        "env = RecordVideo(env, 'video', name_prefix='random-agent')#비디어 저장\n",
        "\n",
        "#정책 불러오기\n",
        "agent = government(env.action_space)\n",
        "state, _ = env.reset()#환경 초기화\n",
        "env.start_video_recorder()#비디오 촬영 시작\n",
        "\n",
        "velos = []\n",
        "\n",
        "for t in range(1000):\n",
        "  velos.append(state[1])\n",
        "  action = agent(state)#상태 받아 행동 결정\n",
        "  state, reward, done, _, _ = env.step(action)#행동에 의해 상태 변경\n",
        "  env.render()#비디오 촬영\n",
        "\n",
        "  if state[0] > 0.6:\n",
        "    print(\"try time : \", t)\n",
        "    break\n",
        "\n",
        "\n",
        "plt.plot(velos,color='r')\n",
        "plt.xlabel(\"try\")\n",
        "plt.ylabel(\"velocity\")\n",
        "plt.grid(True)\n",
        "plt.show()\n",
        "print(\"\")\n",
        "\n",
        "env.close()\n",
        "view_video('random-agent')"
      ]
    },
    {
      "cell_type": "markdown",
      "metadata": {
        "id": "lq8HYkX-29JU"
      },
      "source": [
        "### BONUS: 강화 학습 에이전트 학습하기"
      ]
    },
    {
      "cell_type": "code",
      "execution_count": null,
      "metadata": {
        "colab": {
          "base_uri": "https://localhost:8080/"
        },
        "id": "MxmeXv3xlrgD",
        "outputId": "9f379433-62c7-4420-dc5f-71d01dba300b"
      },
      "outputs": [
        {
          "output_type": "stream",
          "name": "stderr",
          "text": [
            "2024-03-09 05:53:06,749\tINFO worker.py:1724 -- Started a local Ray instance.\n",
            "2024-03-09 05:53:21,468\tINFO trainable.py:164 -- Trainable.setup took 18.401 seconds. If your trainable is slow to initialize, consider setting reuse_actors=True to reduce actor creation overheads.\n"
          ]
        }
      ],
      "source": [
        "%%capture\n",
        "from ray.rllib.algorithms.ppo import PPOConfig\n",
        "from ray.tune.logger import pretty_print\n",
        "\n",
        "algo = (\n",
        "    PPOConfig()\n",
        "    .rollouts(num_rollout_workers=1)\n",
        "    .resources(num_gpus=1)\n",
        "    .environment(env=\"MountainCar-v0\")\n",
        "    .build()\n",
        ")\n",
        "\n",
        "for i in range(2):\n",
        "    algo.train()"
      ]
    },
    {
      "cell_type": "code",
      "execution_count": null,
      "metadata": {
        "id": "2Zs6i6LW29JV",
        "outputId": "a6cc0d5b-09b7-428b-c92a-ecce92cf013c",
        "colab": {
          "base_uri": "https://localhost:8080/",
          "height": 527
        }
      },
      "outputs": [
        {
          "output_type": "stream",
          "name": "stderr",
          "text": [
            "/usr/local/lib/python3.10/dist-packages/ipykernel/ipkernel.py:283: DeprecationWarning: `should_run_async` will not call `transform_cell` automatically in the future. Please pass the result to `transformed_cell` argument and any exception that happen during thetransform in `preprocessing_exc_tuple` in IPython 7.17 and above.\n",
            "  and should_run_async(code)\n"
          ]
        },
        {
          "output_type": "stream",
          "name": "stdout",
          "text": [
            "Moviepy - Building video /content/video/ppo-agent-episode-0.mp4.\n",
            "Moviepy - Writing video /content/video/ppo-agent-episode-0.mp4\n",
            "\n"
          ]
        },
        {
          "output_type": "stream",
          "name": "stderr",
          "text": []
        },
        {
          "output_type": "stream",
          "name": "stdout",
          "text": [
            "Moviepy - Done !\n",
            "Moviepy - video ready /content/video/ppo-agent-episode-0.mp4\n",
            "Moviepy - Building video /content/video/ppo-agent-episode-0.mp4.\n",
            "Moviepy - Writing video /content/video/ppo-agent-episode-0.mp4\n",
            "\n"
          ]
        },
        {
          "output_type": "stream",
          "name": "stderr",
          "text": []
        },
        {
          "output_type": "stream",
          "name": "stdout",
          "text": [
            "Moviepy - Done !\n",
            "Moviepy - video ready /content/video/ppo-agent-episode-0.mp4\n"
          ]
        },
        {
          "output_type": "execute_result",
          "data": {
            "text/plain": [
              "<IPython.core.display.HTML object>"
            ],
            "text/html": [
              "\n",
              "    <video width=400 controls>\n",
              "          <source src=\"data:video/mp4;base64,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\" type=\"video/mp4\">\n",
              "    </video>\n",
              "    "
            ]
          },
          "metadata": {},
          "execution_count": 112
        }
      ],
      "source": [
        "env = gym.make(\"MountainCar-v0\", render_mode=\"rgb_array\")\n",
        "env = RecordVideo(env, 'video', name_prefix='ppo-agent')\n",
        "\n",
        "state, _ = env.reset()\n",
        "env.start_video_recorder()\n",
        "\n",
        "for t in range(100):\n",
        "    action = algo.compute_single_action(state)\n",
        "    state, reward, done, _, _ = env.step(action)\n",
        "    env.render()\n",
        "\n",
        "env.close()\n",
        "view_video('ppo-agent')"
      ]
    },
    {
      "cell_type": "markdown",
      "metadata": {
        "id": "5w4RV5BU29JV"
      },
      "source": [
        "# 강화 학습 환경 직접 만져보기"
      ]
    },
    {
      "cell_type": "markdown",
      "metadata": {
        "id": "OSLMhkaf29JV"
      },
      "source": [
        "### 블랙잭"
      ]
    },
    {
      "cell_type": "code",
      "source": [
        "from collections import Counter"
      ],
      "metadata": {
        "id": "RidRGe7v8PMt"
      },
      "execution_count": 53,
      "outputs": []
    },
    {
      "cell_type": "code",
      "source": [
        "class gambleKing():\n",
        "    def __init__(self, action_space):\n",
        "        self.action_space = action_space\n",
        "\n",
        "    def __call__(self, state):\n",
        "      ply = state[0]\n",
        "      der = state[1]\n",
        "      ace = state[2]\n",
        "\n",
        "      if der>10:\n",
        "        if ace:\n",
        "          return 1\n",
        "        else:\n",
        "          return 0\n",
        "\n",
        "      else:\n",
        "        if ply < 12:\n",
        "          return 1\n",
        "        else:\n",
        "          return 0\n"
      ],
      "metadata": {
        "id": "uFi1Gkwe_-Hz"
      },
      "execution_count": 151,
      "outputs": []
    },
    {
      "cell_type": "code",
      "execution_count": 152,
      "metadata": {
        "id": "AUqaqv1229JV",
        "outputId": "e525bae6-8deb-47c4-ac38-fdd75c13a6d0",
        "colab": {
          "base_uri": "https://localhost:8080/"
        }
      },
      "outputs": [
        {
          "output_type": "stream",
          "name": "stdout",
          "text": [
            "win rate : 41.604 %\n"
          ]
        }
      ],
      "source": [
        "# Create the Blackjack environment\n",
        "env2 = gym.make('Blackjack-v1')\n",
        "\n",
        "\n",
        "state, _ = env2.reset()\n",
        "\n",
        "\n",
        "\n",
        "\n",
        "agent = gambleKing(env.action_space)\n",
        "rewards = []\n",
        "\n",
        "reaptt = 25000\n",
        "\n",
        "for i in range(0,reaptt):\n",
        "  #print(f\"Initial state : {state}\")\n",
        "  state, _ = env2.reset()\n",
        "\n",
        "  done = False\n",
        "  while not done:\n",
        "      #print(f\"Initial state : {state}\")\n",
        "      # Choose a random action\n",
        "      action = agent(state)\n",
        "\n",
        "      # Take a step in the environment\n",
        "      state, reward, done, info, _ = env2.step(action)\n",
        "\n",
        "      #print('State:', state)\n",
        "      #print('Reward:', reward)\n",
        "      #print('Done:', done)\n",
        "\n",
        "  #print(reward,\"\\n\")\n",
        "  rewards.append(reward)\n",
        "  env2.close()\n",
        "\n",
        "\n",
        "\n",
        "cnt = Counter(rewards)\n",
        "\n",
        "print(\"win rate :\", round(cnt[1.0] / reaptt * 100, 3),\"%\")\n",
        "\n",
        "\n",
        "\n",
        "# Close the environment\n",
        "env2.close()\n"
      ]
    },
    {
      "cell_type": "markdown",
      "metadata": {
        "id": "4D32tu8y29JV"
      },
      "source": [
        "### Tic-Tac-Toe"
      ]
    },
    {
      "cell_type": "code",
      "execution_count": null,
      "metadata": {
        "id": "BjTibbDV29JW"
      },
      "outputs": [],
      "source": [
        "import numpy as np\n",
        "import gymnasium as gym\n",
        "from gymnasium import spaces\n",
        "\n",
        "class TicTacToeEnv(gym.Env):\n",
        "    def __init__(self):\n",
        "        self.board = np.zeros((3, 3), dtype=int)\n",
        "        self.current_player = 1\n",
        "        self.action_space = spaces.Discrete(9)\n",
        "        self.observation_space = spaces.Box(low=0, high=1, shape=(3, 3), dtype=int)\n",
        "\n",
        "    def reset(self):\n",
        "        self.board = np.zeros((3, 3), dtype=int)\n",
        "        self.current_player = 1\n",
        "        return self.board\n",
        "\n",
        "    def step(self, action):\n",
        "        row = action // 3\n",
        "        col = action % 3\n",
        "\n",
        "        if self.board[row, col] != 0:\n",
        "            return self.board, -1, False, False, {}\n",
        "\n",
        "        self.board[row, col] = self.current_player\n",
        "\n",
        "        if self._check_winner(self.current_player):\n",
        "            return self.board, 1, True, False, {}\n",
        "\n",
        "        if np.count_nonzero(self.board) == 9:\n",
        "            return self.board, 0, True, False, {}\n",
        "\n",
        "        self.current_player = -self.current_player\n",
        "        return self.board, 0, False, False, {}\n",
        "\n",
        "    def render(self):\n",
        "        print(self.board)\n",
        "\n",
        "    def _check_winner(self, player):\n",
        "        for i in range(3):\n",
        "            if np.all(self.board[i, :] == player) or np.all(self.board[:, i] == player):\n",
        "                return True\n",
        "        if np.all(np.diag(self.board) == player) or np.all(np.diag(np.fliplr(self.board)) == player):\n",
        "            return True\n",
        "        return False"
      ]
    },
    {
      "cell_type": "code",
      "execution_count": null,
      "metadata": {
        "id": "_aJo9uhx29JW"
      },
      "outputs": [],
      "source": [
        "env = TicTacToeEnv()\n",
        "state = env.reset()\n",
        "env.render()\n",
        "\n",
        "done = False\n",
        "while not done:\n",
        "    action = ?????\n",
        "    state, reward, done, _ = env.step(action)\n",
        "    env.render()"
      ]
    }
  ],
  "metadata": {
    "accelerator": "GPU",
    "colab": {
      "gpuType": "T4",
      "provenance": [],
      "collapsed_sections": [
        "lq8HYkX-29JU"
      ],
      "include_colab_link": true
    },
    "kernelspec": {
      "display_name": "Python 3",
      "name": "python3"
    },
    "language_info": {
      "codemirror_mode": {
        "name": "ipython",
        "version": 3
      },
      "file_extension": ".py",
      "mimetype": "text/x-python",
      "name": "python",
      "nbconvert_exporter": "python",
      "pygments_lexer": "ipython3",
      "version": "3.9.6"
    }
  },
  "nbformat": 4,
  "nbformat_minor": 0
}