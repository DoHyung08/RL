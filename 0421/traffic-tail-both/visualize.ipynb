{
 "cells": [
  {
   "cell_type": "code",
   "execution_count": 1,
   "metadata": {},
   "outputs": [],
   "source": [
    "USE_SUMO_GUI = True # set to True to use sumo-gui\n",
    "TOTAL_TIME = 1200 # 60*60*2 = 2 hours (e.g. rush hour 7am - 9am)"
   ]
  },
  {
   "cell_type": "code",
   "execution_count": 2,
   "metadata": {},
   "outputs": [
    {
     "name": "stdout",
     "output_type": "stream",
     "text": [
      "Using custom environment with both overspeed and tailgating behavior.\n"
     ]
    },
    {
     "name": "stderr",
     "output_type": "stream",
     "text": [
      "100%|█████████▉| 1195/1200 [00:22<00:00, 46.89it/s]"
     ]
    },
    {
     "name": "stdout",
     "output_type": "stream",
     "text": [
      "episode : 0\n",
      "Total reward: -4.919999999999999\n",
      "Running Time : 24.26864790916443\n",
      "\n",
      "Using custom environment with both overspeed and tailgating behavior.\n"
     ]
    },
    {
     "name": "stderr",
     "output_type": "stream",
     "text": [
      "100%|██████████| 1200/1200 [00:24<00:00, 49.49it/s]\n"
     ]
    },
    {
     "name": "stdout",
     "output_type": "stream",
     "text": [
      "episode : 1\n",
      "Total reward: -1.5899999999999976\n",
      "Running Time : 22.62871813774109\n",
      "\n",
      "Using custom environment with both overspeed and tailgating behavior.\n"
     ]
    },
    {
     "name": "stderr",
     "output_type": "stream",
     "text": [
      "100%|██████████| 1200/1200 [00:22<00:00, 53.12it/s]\n",
      "100%|██████████| 1200/1200 [00:23<00:00, 44.95it/s]"
     ]
    },
    {
     "name": "stdout",
     "output_type": "stream",
     "text": [
      "episode : 2\n",
      "Total reward: -3.8600000000000083\n",
      "Running Time : 25.142200469970703\n",
      "\n",
      "Using custom environment with both overspeed and tailgating behavior.\n"
     ]
    },
    {
     "name": "stderr",
     "output_type": "stream",
     "text": [
      "100%|██████████| 1200/1200 [00:25<00:00, 47.68it/s]\n"
     ]
    },
    {
     "name": "stdout",
     "output_type": "stream",
     "text": [
      "episode : 3\n",
      "Total reward: -7.140000000000008\n",
      "Running Time : 26.541083812713623\n",
      "\n",
      "Using custom environment with both overspeed and tailgating behavior.\n"
     ]
    },
    {
     "name": "stderr",
     "output_type": "stream",
     "text": [
      "100%|██████████| 1200/1200 [00:26<00:00, 45.29it/s]\n",
      "100%|██████████| 1200/1200 [00:22<00:00, 49.57it/s]"
     ]
    },
    {
     "name": "stdout",
     "output_type": "stream",
     "text": [
      "episode : 4\n",
      "Total reward: -10.369999999999994\n",
      "Running Time : 23.81116485595703\n",
      "\n",
      "Using custom environment with both overspeed and tailgating behavior.\n"
     ]
    },
    {
     "name": "stderr",
     "output_type": "stream",
     "text": [
      "100%|██████████| 1200/1200 [00:23<00:00, 50.36it/s]\n"
     ]
    },
    {
     "name": "stdout",
     "output_type": "stream",
     "text": [
      "episode : 5\n",
      "Total reward: -10.950000000000001\n",
      "Running Time : 22.6609206199646\n",
      "\n",
      "Using custom environment with both overspeed and tailgating behavior.\n"
     ]
    },
    {
     "name": "stderr",
     "output_type": "stream",
     "text": [
      "100%|██████████| 1200/1200 [00:22<00:00, 52.88it/s]\n",
      "100%|██████████| 1200/1200 [00:20<00:00, 56.11it/s]"
     ]
    },
    {
     "name": "stdout",
     "output_type": "stream",
     "text": [
      "episode : 6\n",
      "Total reward: -4.219999999999997\n",
      "Running Time : 21.295777082443237\n",
      "\n",
      "Using custom environment with both overspeed and tailgating behavior.\n"
     ]
    },
    {
     "name": "stderr",
     "output_type": "stream",
     "text": [
      "100%|██████████| 1200/1200 [00:21<00:00, 56.37it/s]\n"
     ]
    },
    {
     "name": "stdout",
     "output_type": "stream",
     "text": [
      "episode : 7\n",
      "Total reward: -4.600000000000004\n",
      "Running Time : 21.708137273788452\n",
      "\n",
      "Using custom environment with both overspeed and tailgating behavior.\n"
     ]
    },
    {
     "name": "stderr",
     "output_type": "stream",
     "text": [
      "100%|██████████| 1200/1200 [00:21<00:00, 55.36it/s]\n",
      "100%|██████████| 1200/1200 [00:21<00:00, 37.93it/s]"
     ]
    },
    {
     "name": "stdout",
     "output_type": "stream",
     "text": [
      "episode : 8\n",
      "Total reward: -11.029999999999996\n",
      "Running Time : 22.731175184249878\n",
      "\n",
      "Using custom environment with both overspeed and tailgating behavior.\n"
     ]
    },
    {
     "name": "stderr",
     "output_type": "stream",
     "text": [
      "100%|██████████| 1200/1200 [00:22<00:00, 52.79it/s]\n"
     ]
    },
    {
     "name": "stdout",
     "output_type": "stream",
     "text": [
      "episode : 9\n",
      "Total reward: -5.849999999999993\n",
      "Running Time : 24.088141202926636\n",
      "\n",
      "Using custom environment with both overspeed and tailgating behavior.\n"
     ]
    },
    {
     "name": "stderr",
     "output_type": "stream",
     "text": [
      "100%|██████████| 1200/1200 [00:24<00:00, 49.74it/s]\n",
      "100%|██████████| 1200/1200 [00:28<00:00, 44.97it/s]"
     ]
    },
    {
     "name": "stdout",
     "output_type": "stream",
     "text": [
      "episode : 10\n",
      "Total reward: -9.439999999999992\n",
      "Running Time : 29.532405138015747\n",
      "\n",
      "Using custom environment with both overspeed and tailgating behavior.\n"
     ]
    },
    {
     "name": "stderr",
     "output_type": "stream",
     "text": [
      "100%|██████████| 1200/1200 [00:29<00:00, 40.64it/s]\n"
     ]
    },
    {
     "name": "stdout",
     "output_type": "stream",
     "text": [
      "episode : 11\n",
      "Total reward: -0.9400000000000022\n",
      "Running Time : 27.700398206710815\n",
      "\n",
      "Using custom environment with both overspeed and tailgating behavior.\n"
     ]
    },
    {
     "name": "stderr",
     "output_type": "stream",
     "text": [
      "100%|██████████| 1200/1200 [00:27<00:00, 43.33it/s]\n",
      "100%|██████████| 1200/1200 [00:24<00:00, 47.72it/s]"
     ]
    },
    {
     "name": "stdout",
     "output_type": "stream",
     "text": [
      "episode : 12\n",
      "Total reward: -5.310000000000003\n",
      "Running Time : 25.571905612945557\n",
      "\n",
      "Using custom environment with both overspeed and tailgating behavior.\n"
     ]
    },
    {
     "name": "stderr",
     "output_type": "stream",
     "text": [
      "100%|██████████| 1200/1200 [00:25<00:00, 46.89it/s]\n"
     ]
    },
    {
     "name": "stdout",
     "output_type": "stream",
     "text": [
      "episode : 13\n",
      "Total reward: -10.069999999999999\n",
      "Running Time : 24.04644513130188\n",
      "\n",
      "Using custom environment with both overspeed and tailgating behavior.\n"
     ]
    },
    {
     "name": "stderr",
     "output_type": "stream",
     "text": [
      "100%|██████████| 1200/1200 [00:24<00:00, 49.93it/s]\n",
      "100%|█████████▉| 1195/1200 [00:28<00:00, 50.65it/s]"
     ]
    },
    {
     "name": "stdout",
     "output_type": "stream",
     "text": [
      "episode : 14\n",
      "Total reward: -3.749999999999998\n",
      "Running Time : 29.397879123687744\n",
      "\n",
      "Using custom environment with both overspeed and tailgating behavior.\n"
     ]
    },
    {
     "name": "stderr",
     "output_type": "stream",
     "text": [
      "100%|██████████| 1200/1200 [00:29<00:00, 40.83it/s]\n"
     ]
    },
    {
     "name": "stdout",
     "output_type": "stream",
     "text": [
      "episode : 15\n",
      "Total reward: -8.61999999999999\n",
      "Running Time : 23.53515386581421\n",
      "\n",
      "Using custom environment with both overspeed and tailgating behavior.\n"
     ]
    },
    {
     "name": "stderr",
     "output_type": "stream",
     "text": [
      "100%|██████████| 1200/1200 [00:23<00:00, 50.95it/s]\n",
      "100%|██████████| 1200/1200 [00:22<00:00, 49.96it/s]"
     ]
    },
    {
     "name": "stdout",
     "output_type": "stream",
     "text": [
      "episode : 16\n",
      "Total reward: -5.169999999999998\n",
      "Running Time : 24.05091404914856\n",
      "\n",
      "Using custom environment with both overspeed and tailgating behavior.\n"
     ]
    },
    {
     "name": "stderr",
     "output_type": "stream",
     "text": [
      "100%|██████████| 1200/1200 [00:24<00:00, 49.89it/s]\n"
     ]
    },
    {
     "name": "stdout",
     "output_type": "stream",
     "text": [
      "episode : 17\n",
      "Total reward: -17.429999999999993\n",
      "Running Time : 25.517613410949707\n",
      "\n",
      "Using custom environment with both overspeed and tailgating behavior.\n"
     ]
    },
    {
     "name": "stderr",
     "output_type": "stream",
     "text": [
      "100%|██████████| 1200/1200 [00:25<00:00, 47.06it/s]\n",
      "100%|██████████| 1200/1200 [00:26<00:00, 41.59it/s]"
     ]
    },
    {
     "name": "stdout",
     "output_type": "stream",
     "text": [
      "episode : 18\n",
      "Total reward: -21.63000000000001\n",
      "Running Time : 27.88248038291931\n",
      "\n",
      "Using custom environment with both overspeed and tailgating behavior.\n"
     ]
    },
    {
     "name": "stderr",
     "output_type": "stream",
     "text": [
      "100%|██████████| 1200/1200 [00:27<00:00, 42.99it/s]\n"
     ]
    },
    {
     "name": "stdout",
     "output_type": "stream",
     "text": [
      "episode : 19\n",
      "Total reward: -6.580000000000006\n",
      "Running Time : 23.3025803565979\n",
      "\n",
      "total_mean : -7.6735\n"
     ]
    }
   ],
   "source": [
    "import warnings\n",
    "import time\n",
    "\n",
    "warnings.filterwarnings(\"ignore\")\n",
    "\n",
    "from tqdm import tqdm\n",
    "from traffic_tail.environment import create_env\n",
    "\n",
    "rewards = []\n",
    "for i in range(20):\n",
    "    start = time.time()\n",
    "    env = create_env(\n",
    "        tailgating=True, #####\n",
    "        use_gui=False, \n",
    "        num_seconds=TOTAL_TIME,\n",
    "    )\n",
    "\n",
    "    total_reward = 0\n",
    "    state = env.reset()\n",
    "    done = {\"__all__\": False}\n",
    "\n",
    "    pbar = tqdm(total=TOTAL_TIME)\n",
    "    while not done[\"__all__\"]:\n",
    "        actions = {\n",
    "            ts_id: env.action_spaces(ts_id).sample()\n",
    "            for ts_id in env.ts_ids\n",
    "        }\n",
    "        state, reward, done, _ = env.step(actions)\n",
    "        total_reward += sum(reward.values())\n",
    "        pbar.update(env.delta_time)\n",
    "\n",
    "    env.close()\n",
    "    print(f\"episode : {i}\")\n",
    "    print(f\"Total reward: {total_reward}\")\n",
    "    rewards.append(total_reward)\n",
    "    print(f\"Running Time : {time.time()-start}\\n\")\n",
    "print(f\"total_mean : {sum(rewards)/len(rewards)}\")"
   ]
  },
  {
   "cell_type": "code",
   "execution_count": 2,
   "metadata": {},
   "outputs": [
    {
     "name": "stdout",
     "output_type": "stream",
     "text": [
      "Using custom environment with both overspeed and tailgating behavior.\n",
      "Initializing RL agents. (This may take a while)\n"
     ]
    },
    {
     "name": "stderr",
     "output_type": "stream",
     "text": [
      "Episode 1/100: Total Reward -10.190:   1%|          | 1200/120000 [00:42<1:21:15, 24.37it/s]"
     ]
    },
    {
     "name": "stdout",
     "output_type": "stream",
     "text": [
      "Episode 1 : Total reward -10.189999999999998\n"
     ]
    },
    {
     "name": "stderr",
     "output_type": "stream",
     "text": [
      "Episode 2/100: Total Reward -0.860:   2%|▏         | 2400/120000 [01:18<56:32, 34.67it/s]   "
     ]
    },
    {
     "name": "stdout",
     "output_type": "stream",
     "text": [
      "Episode 2 : Total reward -0.8600000000000004\n"
     ]
    },
    {
     "name": "stderr",
     "output_type": "stream",
     "text": [
      "Episode 3/100: Total Reward -3.880:   3%|▎         | 3600/120000 [01:52<59:54, 32.38it/s]"
     ]
    },
    {
     "name": "stdout",
     "output_type": "stream",
     "text": [
      "Episode 3 : Total reward -3.880000000000001\n"
     ]
    },
    {
     "name": "stderr",
     "output_type": "stream",
     "text": [
      "Episode 4/100: Total Reward -0.730:   4%|▍         | 4800/120000 [02:30<55:29, 34.60it/s]"
     ]
    },
    {
     "name": "stdout",
     "output_type": "stream",
     "text": [
      "Episode 4 : Total reward -0.7299999999999902\n"
     ]
    },
    {
     "name": "stderr",
     "output_type": "stream",
     "text": [
      "Episode 5/100: Total Reward -0.580:   5%|▌         | 6000/120000 [03:06<1:01:06, 31.09it/s]"
     ]
    },
    {
     "name": "stdout",
     "output_type": "stream",
     "text": [
      "Episode 5 : Total reward -0.5800000000000011\n"
     ]
    },
    {
     "name": "stderr",
     "output_type": "stream",
     "text": [
      "Episode 6/100: Total Reward -1.350:   6%|▌         | 7200/120000 [03:42<52:01, 36.14it/s]  "
     ]
    },
    {
     "name": "stdout",
     "output_type": "stream",
     "text": [
      "Episode 6 : Total reward -1.3500000000000005\n"
     ]
    },
    {
     "name": "stderr",
     "output_type": "stream",
     "text": [
      "Episode 7/100: Total Reward -0.560:   7%|▋         | 8400/120000 [04:18<56:45, 32.77it/s]"
     ]
    },
    {
     "name": "stdout",
     "output_type": "stream",
     "text": [
      "Episode 7 : Total reward -0.5600000000000005\n"
     ]
    },
    {
     "name": "stderr",
     "output_type": "stream",
     "text": [
      "Episode 8/100: Total Reward -0.840:   8%|▊         | 9600/120000 [04:55<55:38, 33.07it/s]"
     ]
    },
    {
     "name": "stdout",
     "output_type": "stream",
     "text": [
      "Episode 8 : Total reward -0.8400000000000003\n"
     ]
    },
    {
     "name": "stderr",
     "output_type": "stream",
     "text": [
      "Episode 9/100: Total Reward -0.660:   9%|▉         | 10800/120000 [05:31<50:18, 36.17it/s]"
     ]
    },
    {
     "name": "stdout",
     "output_type": "stream",
     "text": [
      "Episode 9 : Total reward -0.6600000000000001\n"
     ]
    },
    {
     "name": "stderr",
     "output_type": "stream",
     "text": [
      "Episode 10/100: Total Reward -1.350:  10%|█         | 12000/120000 [06:06<58:15, 30.90it/s]"
     ]
    },
    {
     "name": "stdout",
     "output_type": "stream",
     "text": [
      "Episode 10 : Total reward -1.3500000000000034\n"
     ]
    },
    {
     "name": "stderr",
     "output_type": "stream",
     "text": [
      "Episode 11/100: Total Reward -3.670:  11%|█         | 13200/120000 [06:40<54:16, 32.79it/s]"
     ]
    },
    {
     "name": "stdout",
     "output_type": "stream",
     "text": [
      "Episode 11 : Total reward -3.6700000000000004\n"
     ]
    },
    {
     "name": "stderr",
     "output_type": "stream",
     "text": [
      "Episode 12/100: Total Reward -3.370:  12%|█▏        | 14400/120000 [07:16<58:32, 30.06it/s]"
     ]
    },
    {
     "name": "stdout",
     "output_type": "stream",
     "text": [
      "Episode 12 : Total reward -3.37\n"
     ]
    },
    {
     "name": "stderr",
     "output_type": "stream",
     "text": [
      "Episode 13/100: Total Reward -0.500:  13%|█▎        | 15600/120000 [07:51<47:31, 36.61it/s]"
     ]
    },
    {
     "name": "stdout",
     "output_type": "stream",
     "text": [
      "Episode 13 : Total reward -0.49999999999999944\n"
     ]
    },
    {
     "name": "stderr",
     "output_type": "stream",
     "text": [
      "Episode 14/100: Total Reward -0.970:  14%|█▍        | 16800/120000 [08:26<50:38, 33.96it/s]"
     ]
    },
    {
     "name": "stdout",
     "output_type": "stream",
     "text": [
      "Episode 14 : Total reward -0.9699999999999982\n"
     ]
    },
    {
     "name": "stderr",
     "output_type": "stream",
     "text": [
      "Episode 15/100: Total Reward -0.390:  15%|█▌        | 18000/120000 [09:01<50:08, 33.91it/s]"
     ]
    },
    {
     "name": "stdout",
     "output_type": "stream",
     "text": [
      "Episode 15 : Total reward -0.3899999999999989\n"
     ]
    },
    {
     "name": "stderr",
     "output_type": "stream",
     "text": [
      "Episode 16/100: Total Reward -1.390:  16%|█▌        | 19200/120000 [09:38<44:04, 38.12it/s]"
     ]
    },
    {
     "name": "stdout",
     "output_type": "stream",
     "text": [
      "Episode 16 : Total reward -1.3899999999999975\n"
     ]
    },
    {
     "name": "stderr",
     "output_type": "stream",
     "text": [
      "Episode 17/100: Total Reward -0.330:  17%|█▋        | 20400/120000 [10:12<46:36, 35.61it/s]"
     ]
    },
    {
     "name": "stdout",
     "output_type": "stream",
     "text": [
      "Episode 17 : Total reward -0.3299999999999985\n"
     ]
    },
    {
     "name": "stderr",
     "output_type": "stream",
     "text": [
      "Episode 18/100: Total Reward -2.420:  18%|█▊        | 21600/120000 [10:48<51:55, 31.58it/s]"
     ]
    },
    {
     "name": "stdout",
     "output_type": "stream",
     "text": [
      "Episode 18 : Total reward -2.420000000000001\n"
     ]
    },
    {
     "name": "stderr",
     "output_type": "stream",
     "text": [
      "Episode 19/100: Total Reward -0.840:  19%|█▉        | 22800/120000 [11:23<43:37, 37.14it/s]"
     ]
    },
    {
     "name": "stdout",
     "output_type": "stream",
     "text": [
      "Episode 19 : Total reward -0.8400000000000012\n"
     ]
    },
    {
     "name": "stderr",
     "output_type": "stream",
     "text": [
      "Episode 20/100: Total Reward -0.710:  20%|██        | 24000/120000 [11:58<46:22, 34.50it/s]"
     ]
    },
    {
     "name": "stdout",
     "output_type": "stream",
     "text": [
      "Episode 20 : Total reward -0.7100000000000011\n"
     ]
    },
    {
     "name": "stderr",
     "output_type": "stream",
     "text": [
      "Episode 21/100: Total Reward -1.690:  21%|██        | 25200/120000 [12:35<49:33, 31.89it/s]"
     ]
    },
    {
     "name": "stdout",
     "output_type": "stream",
     "text": [
      "Episode 21 : Total reward -1.6899999999999986\n"
     ]
    },
    {
     "name": "stderr",
     "output_type": "stream",
     "text": [
      "Episode 22/100: Total Reward -1.320:  22%|██▏       | 26400/120000 [13:08<44:40, 34.92it/s]"
     ]
    },
    {
     "name": "stdout",
     "output_type": "stream",
     "text": [
      "Episode 22 : Total reward -1.3199999999999996\n"
     ]
    },
    {
     "name": "stderr",
     "output_type": "stream",
     "text": [
      "Episode 23/100: Total Reward -0.830:  23%|██▎       | 27600/120000 [13:42<51:31, 29.89it/s]"
     ]
    },
    {
     "name": "stdout",
     "output_type": "stream",
     "text": [
      "Episode 23 : Total reward -0.8300000000000004\n"
     ]
    },
    {
     "name": "stderr",
     "output_type": "stream",
     "text": [
      "Episode 24/100: Total Reward -1.690:  24%|██▍       | 28800/120000 [14:19<49:59, 30.40it/s]"
     ]
    },
    {
     "name": "stdout",
     "output_type": "stream",
     "text": [
      "Episode 24 : Total reward -1.6900000000000008\n"
     ]
    },
    {
     "name": "stderr",
     "output_type": "stream",
     "text": [
      "Episode 25/100: Total Reward -0.110:  25%|██▌       | 30000/120000 [14:56<41:00, 36.58it/s]"
     ]
    },
    {
     "name": "stdout",
     "output_type": "stream",
     "text": [
      "Episode 25 : Total reward -0.11000000000000193\n"
     ]
    },
    {
     "name": "stderr",
     "output_type": "stream",
     "text": [
      "Episode 26/100: Total Reward -0.500:  26%|██▌       | 31200/120000 [15:30<39:30, 37.46it/s]"
     ]
    },
    {
     "name": "stdout",
     "output_type": "stream",
     "text": [
      "Episode 26 : Total reward -0.4999999999999983\n"
     ]
    },
    {
     "name": "stderr",
     "output_type": "stream",
     "text": [
      "Episode 27/100: Total Reward -1.260:  27%|██▋       | 32400/120000 [16:06<46:24, 31.46it/s]"
     ]
    },
    {
     "name": "stdout",
     "output_type": "stream",
     "text": [
      "Episode 27 : Total reward -1.259999999999999\n"
     ]
    },
    {
     "name": "stderr",
     "output_type": "stream",
     "text": [
      "Episode 28/100: Total Reward -0.250:  28%|██▊       | 33600/120000 [16:41<47:45, 30.15it/s]"
     ]
    },
    {
     "name": "stdout",
     "output_type": "stream",
     "text": [
      "Episode 28 : Total reward -0.24999999999999836\n"
     ]
    },
    {
     "name": "stderr",
     "output_type": "stream",
     "text": [
      "Episode 29/100: Total Reward -0.500:  29%|██▉       | 34800/120000 [17:20<45:54, 30.93it/s]"
     ]
    },
    {
     "name": "stdout",
     "output_type": "stream",
     "text": [
      "Episode 29 : Total reward -0.5000000000000011\n"
     ]
    },
    {
     "name": "stderr",
     "output_type": "stream",
     "text": [
      "Episode 30/100: Total Reward -2.960:  30%|███       | 36000/120000 [18:01<45:05, 31.05it/s]"
     ]
    },
    {
     "name": "stdout",
     "output_type": "stream",
     "text": [
      "Episode 30 : Total reward -2.960000000000001\n"
     ]
    },
    {
     "name": "stderr",
     "output_type": "stream",
     "text": [
      "Episode 31/100: Total Reward -2.800:  31%|███       | 37200/120000 [18:36<46:24, 29.73it/s]"
     ]
    },
    {
     "name": "stdout",
     "output_type": "stream",
     "text": [
      "Episode 31 : Total reward -2.7999999999999985\n"
     ]
    },
    {
     "name": "stderr",
     "output_type": "stream",
     "text": [
      "Episode 32/100: Total Reward -0.540:  32%|███▏      | 38400/120000 [19:11<40:27, 33.61it/s]"
     ]
    },
    {
     "name": "stdout",
     "output_type": "stream",
     "text": [
      "Episode 32 : Total reward -0.5399999999999981\n"
     ]
    },
    {
     "name": "stderr",
     "output_type": "stream",
     "text": [
      "Episode 33/100: Total Reward -0.770:  33%|███▎      | 39600/120000 [19:46<38:38, 34.67it/s]"
     ]
    },
    {
     "name": "stdout",
     "output_type": "stream",
     "text": [
      "Episode 33 : Total reward -0.7699999999999985\n"
     ]
    },
    {
     "name": "stderr",
     "output_type": "stream",
     "text": [
      "Episode 34/100: Total Reward -3.260:  34%|███▍      | 40800/120000 [20:22<39:13, 33.65it/s]"
     ]
    },
    {
     "name": "stdout",
     "output_type": "stream",
     "text": [
      "Episode 34 : Total reward -3.2600000000000016\n"
     ]
    },
    {
     "name": "stderr",
     "output_type": "stream",
     "text": [
      "Episode 35/100: Total Reward -0.440:  35%|███▌      | 42000/120000 [20:58<39:47, 32.67it/s]"
     ]
    },
    {
     "name": "stdout",
     "output_type": "stream",
     "text": [
      "Episode 35 : Total reward -0.44000000000000056\n"
     ]
    },
    {
     "name": "stderr",
     "output_type": "stream",
     "text": [
      "Episode 36/100: Total Reward -0.440:  36%|███▌      | 43200/120000 [21:34<33:50, 37.82it/s]"
     ]
    },
    {
     "name": "stdout",
     "output_type": "stream",
     "text": [
      "Episode 36 : Total reward -0.43999999999999995\n"
     ]
    },
    {
     "name": "stderr",
     "output_type": "stream",
     "text": [
      "Episode 37/100: Total Reward -0.500:  37%|███▋      | 44400/120000 [22:07<35:31, 35.47it/s]"
     ]
    },
    {
     "name": "stdout",
     "output_type": "stream",
     "text": [
      "Episode 37 : Total reward -0.5000000000000017\n"
     ]
    },
    {
     "name": "stderr",
     "output_type": "stream",
     "text": [
      "Episode 38/100: Total Reward -1.110:  38%|███▊      | 45600/120000 [22:39<34:34, 35.86it/s]"
     ]
    },
    {
     "name": "stdout",
     "output_type": "stream",
     "text": [
      "Episode 38 : Total reward -1.1099999999999997\n"
     ]
    },
    {
     "name": "stderr",
     "output_type": "stream",
     "text": [
      "Episode 39/100: Total Reward -0.580:  39%|███▉      | 46800/120000 [23:17<34:08, 35.74it/s]"
     ]
    },
    {
     "name": "stdout",
     "output_type": "stream",
     "text": [
      "Episode 39 : Total reward -0.5800000000000018\n"
     ]
    },
    {
     "name": "stderr",
     "output_type": "stream",
     "text": [
      "Episode 40/100: Total Reward -0.440:  40%|████      | 48000/120000 [23:53<34:01, 35.27it/s]"
     ]
    },
    {
     "name": "stdout",
     "output_type": "stream",
     "text": [
      "Episode 40 : Total reward -0.4399999999999977\n"
     ]
    },
    {
     "name": "stderr",
     "output_type": "stream",
     "text": [
      "Episode 41/100: Total Reward -0.180:  41%|████      | 49200/120000 [24:26<30:24, 38.81it/s]"
     ]
    },
    {
     "name": "stdout",
     "output_type": "stream",
     "text": [
      "Episode 41 : Total reward -0.18000000000000083\n"
     ]
    },
    {
     "name": "stderr",
     "output_type": "stream",
     "text": [
      "Episode 42/100: Total Reward -0.740:  42%|████▏     | 50400/120000 [25:02<31:51, 36.42it/s]"
     ]
    },
    {
     "name": "stdout",
     "output_type": "stream",
     "text": [
      "Episode 42 : Total reward -0.7399999999999999\n"
     ]
    },
    {
     "name": "stderr",
     "output_type": "stream",
     "text": [
      "Episode 43/100: Total Reward -0.330:  43%|████▎     | 51600/120000 [25:37<32:55, 34.63it/s]"
     ]
    },
    {
     "name": "stdout",
     "output_type": "stream",
     "text": [
      "Episode 43 : Total reward -0.3299999999999994\n"
     ]
    },
    {
     "name": "stderr",
     "output_type": "stream",
     "text": [
      "Episode 44/100: Total Reward -0.710:  44%|████▍     | 52800/120000 [26:14<33:43, 33.21it/s]"
     ]
    },
    {
     "name": "stdout",
     "output_type": "stream",
     "text": [
      "Episode 44 : Total reward -0.7100000000000009\n"
     ]
    },
    {
     "name": "stderr",
     "output_type": "stream",
     "text": [
      "Episode 45/100: Total Reward -1.340:  45%|████▌     | 54000/120000 [26:47<30:07, 36.51it/s]"
     ]
    },
    {
     "name": "stdout",
     "output_type": "stream",
     "text": [
      "Episode 45 : Total reward -1.3400000000000016\n"
     ]
    },
    {
     "name": "stderr",
     "output_type": "stream",
     "text": [
      "Episode 46/100: Total Reward -1.810:  46%|████▌     | 55200/120000 [27:23<37:57, 28.45it/s]"
     ]
    },
    {
     "name": "stdout",
     "output_type": "stream",
     "text": [
      "Episode 46 : Total reward -1.8099999999999996\n"
     ]
    },
    {
     "name": "stderr",
     "output_type": "stream",
     "text": [
      "Episode 47/100: Total Reward -1.200:  47%|████▋     | 56400/120000 [27:58<32:25, 32.70it/s]"
     ]
    },
    {
     "name": "stdout",
     "output_type": "stream",
     "text": [
      "Episode 47 : Total reward -1.199999999999998\n"
     ]
    },
    {
     "name": "stderr",
     "output_type": "stream",
     "text": [
      "Episode 48/100: Total Reward -1.140:  48%|████▊     | 57600/120000 [28:30<26:52, 38.69it/s]"
     ]
    },
    {
     "name": "stdout",
     "output_type": "stream",
     "text": [
      "Episode 48 : Total reward -1.14\n"
     ]
    },
    {
     "name": "stderr",
     "output_type": "stream",
     "text": [
      "Episode 49/100: Total Reward -1.960:  49%|████▉     | 58800/120000 [29:06<31:04, 32.83it/s]"
     ]
    },
    {
     "name": "stdout",
     "output_type": "stream",
     "text": [
      "Episode 49 : Total reward -1.9600000000000024\n"
     ]
    },
    {
     "name": "stderr",
     "output_type": "stream",
     "text": [
      "Episode 50/100: Total Reward -0.440:  50%|█████     | 60000/120000 [29:41<40:16, 24.83it/s]"
     ]
    },
    {
     "name": "stdout",
     "output_type": "stream",
     "text": [
      "Episode 50 : Total reward -0.43999999999999856\n"
     ]
    },
    {
     "name": "stderr",
     "output_type": "stream",
     "text": [
      "Episode 51/100: Total Reward -1.600:  51%|█████     | 61200/120000 [30:20<29:36, 33.10it/s]"
     ]
    },
    {
     "name": "stdout",
     "output_type": "stream",
     "text": [
      "Episode 51 : Total reward -1.5999999999999979\n"
     ]
    },
    {
     "name": "stderr",
     "output_type": "stream",
     "text": [
      "Episode 52/100: Total Reward -1.660:  52%|█████▏    | 62400/120000 [30:56<27:55, 34.39it/s]"
     ]
    },
    {
     "name": "stdout",
     "output_type": "stream",
     "text": [
      "Episode 52 : Total reward -1.659999999999999\n"
     ]
    },
    {
     "name": "stderr",
     "output_type": "stream",
     "text": [
      "Episode 53/100: Total Reward -0.900:  53%|█████▎    | 63600/120000 [31:31<25:03, 37.52it/s]"
     ]
    },
    {
     "name": "stdout",
     "output_type": "stream",
     "text": [
      "Episode 53 : Total reward -0.9000000000000031\n"
     ]
    },
    {
     "name": "stderr",
     "output_type": "stream",
     "text": [
      "Episode 54/100: Total Reward -1.400:  54%|█████▍    | 64800/120000 [32:09<31:22, 29.32it/s]"
     ]
    },
    {
     "name": "stdout",
     "output_type": "stream",
     "text": [
      "Episode 54 : Total reward -1.3999999999999984\n"
     ]
    },
    {
     "name": "stderr",
     "output_type": "stream",
     "text": [
      "Episode 55/100: Total Reward -0.690:  55%|█████▌    | 66000/120000 [32:45<25:06, 35.86it/s]"
     ]
    },
    {
     "name": "stdout",
     "output_type": "stream",
     "text": [
      "Episode 55 : Total reward -0.6900000000000022\n"
     ]
    },
    {
     "name": "stderr",
     "output_type": "stream",
     "text": [
      "Episode 56/100: Total Reward -0.350:  56%|█████▌    | 67200/120000 [33:20<26:02, 33.80it/s]"
     ]
    },
    {
     "name": "stdout",
     "output_type": "stream",
     "text": [
      "Episode 56 : Total reward -0.35\n"
     ]
    },
    {
     "name": "stderr",
     "output_type": "stream",
     "text": [
      "Episode 57/100: Total Reward -0.310:  57%|█████▋    | 68400/120000 [33:53<23:16, 36.96it/s]"
     ]
    },
    {
     "name": "stdout",
     "output_type": "stream",
     "text": [
      "Episode 57 : Total reward -0.30999999999999994\n"
     ]
    },
    {
     "name": "stderr",
     "output_type": "stream",
     "text": [
      "Episode 58/100: Total Reward -1.360:  58%|█████▊    | 69600/120000 [34:28<22:17, 37.69it/s]"
     ]
    },
    {
     "name": "stdout",
     "output_type": "stream",
     "text": [
      "Episode 58 : Total reward -1.3599999999999999\n"
     ]
    },
    {
     "name": "stderr",
     "output_type": "stream",
     "text": [
      "Episode 59/100: Total Reward -0.670:  59%|█████▉    | 70800/120000 [35:02<23:48, 34.43it/s]"
     ]
    },
    {
     "name": "stdout",
     "output_type": "stream",
     "text": [
      "Episode 59 : Total reward -0.6699999999999997\n"
     ]
    },
    {
     "name": "stderr",
     "output_type": "stream",
     "text": [
      "Episode 60/100: Total Reward -3.150:  60%|██████    | 72000/120000 [35:38<25:13, 31.72it/s]"
     ]
    },
    {
     "name": "stdout",
     "output_type": "stream",
     "text": [
      "Episode 60 : Total reward -3.1499999999999995\n"
     ]
    },
    {
     "name": "stderr",
     "output_type": "stream",
     "text": [
      "Episode 61/100: Total Reward -1.170:  61%|██████    | 73200/120000 [36:17<21:34, 36.15it/s]"
     ]
    },
    {
     "name": "stdout",
     "output_type": "stream",
     "text": [
      "Episode 61 : Total reward -1.1700000000000021\n"
     ]
    },
    {
     "name": "stderr",
     "output_type": "stream",
     "text": [
      "Episode 62/100: Total Reward -1.430:  62%|██████▏   | 74400/120000 [36:51<21:25, 35.46it/s]"
     ]
    },
    {
     "name": "stdout",
     "output_type": "stream",
     "text": [
      "Episode 62 : Total reward -1.43\n"
     ]
    },
    {
     "name": "stderr",
     "output_type": "stream",
     "text": [
      "Episode 63/100: Total Reward -1.480:  63%|██████▎   | 75600/120000 [37:28<20:56, 35.33it/s]"
     ]
    },
    {
     "name": "stdout",
     "output_type": "stream",
     "text": [
      "Episode 63 : Total reward -1.4799999999999993\n"
     ]
    },
    {
     "name": "stderr",
     "output_type": "stream",
     "text": [
      "Episode 64/100: Total Reward -1.120:  64%|██████▍   | 76800/120000 [38:07<22:54, 31.43it/s]"
     ]
    },
    {
     "name": "stdout",
     "output_type": "stream",
     "text": [
      "Episode 64 : Total reward -1.120000000000001\n"
     ]
    },
    {
     "name": "stderr",
     "output_type": "stream",
     "text": [
      "Episode 65/100: Total Reward -0.220:  65%|██████▌   | 78000/120000 [38:44<17:03, 41.04it/s]"
     ]
    },
    {
     "name": "stdout",
     "output_type": "stream",
     "text": [
      "Episode 65 : Total reward -0.2200000000000024\n"
     ]
    },
    {
     "name": "stderr",
     "output_type": "stream",
     "text": [
      "Episode 66/100: Total Reward -0.770:  66%|██████▌   | 79200/120000 [39:19<20:20, 33.44it/s]"
     ]
    },
    {
     "name": "stdout",
     "output_type": "stream",
     "text": [
      "Episode 66 : Total reward -0.7699999999999981\n"
     ]
    },
    {
     "name": "stderr",
     "output_type": "stream",
     "text": [
      "Episode 67/100: Total Reward -0.260:  67%|██████▋   | 80400/120000 [39:55<18:47, 35.12it/s]"
     ]
    },
    {
     "name": "stdout",
     "output_type": "stream",
     "text": [
      "Episode 67 : Total reward -0.26000000000000056\n"
     ]
    },
    {
     "name": "stderr",
     "output_type": "stream",
     "text": [
      "Episode 68/100: Total Reward -0.430:  68%|██████▊   | 81600/120000 [40:32<17:09, 37.28it/s]"
     ]
    },
    {
     "name": "stdout",
     "output_type": "stream",
     "text": [
      "Episode 68 : Total reward -0.42999999999999977\n"
     ]
    },
    {
     "name": "stderr",
     "output_type": "stream",
     "text": [
      "Episode 69/100: Total Reward -0.700:  69%|██████▉   | 82800/120000 [41:06<14:49, 41.82it/s]"
     ]
    },
    {
     "name": "stdout",
     "output_type": "stream",
     "text": [
      "Episode 69 : Total reward -0.7000000000000003\n"
     ]
    },
    {
     "name": "stderr",
     "output_type": "stream",
     "text": [
      "Episode 70/100: Total Reward -4.210:  70%|███████   | 84000/120000 [41:42<21:41, 27.66it/s]"
     ]
    },
    {
     "name": "stdout",
     "output_type": "stream",
     "text": [
      "Episode 70 : Total reward -4.210000000000001\n"
     ]
    },
    {
     "name": "stderr",
     "output_type": "stream",
     "text": [
      "Episode 71/100: Total Reward -1.240:  71%|███████   | 85200/120000 [42:18<17:42, 32.76it/s]"
     ]
    },
    {
     "name": "stdout",
     "output_type": "stream",
     "text": [
      "Episode 71 : Total reward -1.2399999999999993\n"
     ]
    },
    {
     "name": "stderr",
     "output_type": "stream",
     "text": [
      "Episode 72/100: Total Reward -1.040:  72%|███████▏  | 86400/120000 [42:52<17:18, 32.34it/s]"
     ]
    },
    {
     "name": "stdout",
     "output_type": "stream",
     "text": [
      "Episode 72 : Total reward -1.0399999999999996\n"
     ]
    },
    {
     "name": "stderr",
     "output_type": "stream",
     "text": [
      "Episode 73/100: Total Reward -0.520:  73%|███████▎  | 87600/120000 [43:25<12:54, 41.86it/s]"
     ]
    },
    {
     "name": "stdout",
     "output_type": "stream",
     "text": [
      "Episode 73 : Total reward -0.5199999999999991\n"
     ]
    },
    {
     "name": "stderr",
     "output_type": "stream",
     "text": [
      "Episode 74/100: Total Reward -1.550:  74%|███████▍  | 88800/120000 [43:59<17:11, 30.25it/s]"
     ]
    },
    {
     "name": "stdout",
     "output_type": "stream",
     "text": [
      "Episode 74 : Total reward -1.5500000000000012\n"
     ]
    },
    {
     "name": "stderr",
     "output_type": "stream",
     "text": [
      "Episode 75/100: Total Reward -5.030:  75%|███████▌  | 90000/120000 [44:35<17:01, 29.38it/s]"
     ]
    },
    {
     "name": "stdout",
     "output_type": "stream",
     "text": [
      "Episode 75 : Total reward -5.0299999999999985\n"
     ]
    },
    {
     "name": "stderr",
     "output_type": "stream",
     "text": [
      "Episode 76/100: Total Reward -0.970:  76%|███████▌  | 91200/120000 [45:11<14:04, 34.10it/s]"
     ]
    },
    {
     "name": "stdout",
     "output_type": "stream",
     "text": [
      "Episode 76 : Total reward -0.9700000000000009\n"
     ]
    },
    {
     "name": "stderr",
     "output_type": "stream",
     "text": [
      "Episode 77/100: Total Reward -0.980:  77%|███████▋  | 92400/120000 [45:48<11:37, 39.57it/s]"
     ]
    },
    {
     "name": "stdout",
     "output_type": "stream",
     "text": [
      "Episode 77 : Total reward -0.9799999999999979\n"
     ]
    },
    {
     "name": "stderr",
     "output_type": "stream",
     "text": [
      "Episode 78/100: Total Reward -0.860:  78%|███████▊  | 93600/120000 [46:24<13:57, 31.52it/s]"
     ]
    },
    {
     "name": "stdout",
     "output_type": "stream",
     "text": [
      "Episode 78 : Total reward -0.8600000000000019\n"
     ]
    },
    {
     "name": "stderr",
     "output_type": "stream",
     "text": [
      "Episode 79/100: Total Reward -0.230:  79%|███████▉  | 94800/120000 [47:01<11:35, 36.21it/s]"
     ]
    },
    {
     "name": "stdout",
     "output_type": "stream",
     "text": [
      "Episode 79 : Total reward -0.2300000000000001\n"
     ]
    },
    {
     "name": "stderr",
     "output_type": "stream",
     "text": [
      "Episode 80/100: Total Reward -0.720:  80%|████████  | 96000/120000 [47:35<11:56, 33.49it/s]"
     ]
    },
    {
     "name": "stdout",
     "output_type": "stream",
     "text": [
      "Episode 80 : Total reward -0.7199999999999995\n"
     ]
    },
    {
     "name": "stderr",
     "output_type": "stream",
     "text": [
      "Episode 81/100: Total Reward -1.480:  81%|████████  | 97200/120000 [48:10<10:16, 36.97it/s]"
     ]
    },
    {
     "name": "stdout",
     "output_type": "stream",
     "text": [
      "Episode 81 : Total reward -1.4800000000000013\n"
     ]
    },
    {
     "name": "stderr",
     "output_type": "stream",
     "text": [
      "Episode 82/100: Total Reward -0.560:  82%|████████▏ | 98400/120000 [48:46<08:38, 41.69it/s]"
     ]
    },
    {
     "name": "stdout",
     "output_type": "stream",
     "text": [
      "Episode 82 : Total reward -0.5600000000000023\n"
     ]
    },
    {
     "name": "stderr",
     "output_type": "stream",
     "text": [
      "Episode 83/100: Total Reward -1.130:  83%|████████▎ | 99600/120000 [49:21<10:01, 33.91it/s]"
     ]
    },
    {
     "name": "stdout",
     "output_type": "stream",
     "text": [
      "Episode 83 : Total reward -1.1300000000000017\n"
     ]
    },
    {
     "name": "stderr",
     "output_type": "stream",
     "text": [
      "Episode 84/100: Total Reward -1.510:  84%|████████▍ | 100800/120000 [49:57<09:16, 34.53it/s]"
     ]
    },
    {
     "name": "stdout",
     "output_type": "stream",
     "text": [
      "Episode 84 : Total reward -1.5099999999999978\n"
     ]
    },
    {
     "name": "stderr",
     "output_type": "stream",
     "text": [
      "Episode 85/100: Total Reward -1.140:  85%|████████▌ | 102000/120000 [50:34<07:33, 39.69it/s]"
     ]
    },
    {
     "name": "stdout",
     "output_type": "stream",
     "text": [
      "Episode 85 : Total reward -1.1400000000000008\n"
     ]
    },
    {
     "name": "stderr",
     "output_type": "stream",
     "text": [
      "Episode 86/100: Total Reward -0.470:  86%|████████▌ | 103200/120000 [51:08<08:19, 33.63it/s]"
     ]
    },
    {
     "name": "stdout",
     "output_type": "stream",
     "text": [
      "Episode 86 : Total reward -0.4700000000000001\n"
     ]
    },
    {
     "name": "stderr",
     "output_type": "stream",
     "text": [
      "Episode 87/100: Total Reward -0.720:  87%|████████▋ | 104400/120000 [51:44<08:22, 31.05it/s]"
     ]
    },
    {
     "name": "stdout",
     "output_type": "stream",
     "text": [
      "Episode 87 : Total reward -0.720000000000001\n"
     ]
    },
    {
     "name": "stderr",
     "output_type": "stream",
     "text": [
      "Episode 88/100: Total Reward -1.390:  88%|████████▊ | 105600/120000 [52:18<05:59, 40.09it/s]"
     ]
    },
    {
     "name": "stdout",
     "output_type": "stream",
     "text": [
      "Episode 88 : Total reward -1.3899999999999983\n"
     ]
    },
    {
     "name": "stderr",
     "output_type": "stream",
     "text": [
      "Episode 89/100: Total Reward -3.770:  89%|████████▉ | 106800/120000 [52:53<08:02, 27.33it/s]"
     ]
    },
    {
     "name": "stdout",
     "output_type": "stream",
     "text": [
      "Episode 89 : Total reward -3.7699999999999996\n"
     ]
    },
    {
     "name": "stderr",
     "output_type": "stream",
     "text": [
      "Episode 90/100: Total Reward -2.110:  90%|█████████ | 108000/120000 [53:27<05:38, 35.43it/s]"
     ]
    },
    {
     "name": "stdout",
     "output_type": "stream",
     "text": [
      "Episode 90 : Total reward -2.110000000000002\n"
     ]
    },
    {
     "name": "stderr",
     "output_type": "stream",
     "text": [
      "Episode 91/100: Total Reward -0.540:  91%|█████████ | 109200/120000 [54:01<05:20, 33.74it/s]"
     ]
    },
    {
     "name": "stdout",
     "output_type": "stream",
     "text": [
      "Episode 91 : Total reward -0.5400000000000009\n"
     ]
    },
    {
     "name": "stderr",
     "output_type": "stream",
     "text": [
      "Episode 92/100: Total Reward -0.580:  92%|█████████▏| 110400/120000 [54:35<04:19, 37.00it/s]"
     ]
    },
    {
     "name": "stdout",
     "output_type": "stream",
     "text": [
      "Episode 92 : Total reward -0.5800000000000007\n"
     ]
    },
    {
     "name": "stderr",
     "output_type": "stream",
     "text": [
      "Episode 93/100: Total Reward -2.520:  93%|█████████▎| 111600/120000 [55:11<04:34, 30.58it/s]"
     ]
    },
    {
     "name": "stdout",
     "output_type": "stream",
     "text": [
      "Episode 93 : Total reward -2.5199999999999982\n"
     ]
    },
    {
     "name": "stderr",
     "output_type": "stream",
     "text": [
      "Episode 94/100: Total Reward -1.190:  94%|█████████▍| 112800/120000 [55:42<02:37, 45.81it/s]"
     ]
    },
    {
     "name": "stdout",
     "output_type": "stream",
     "text": [
      "Episode 94 : Total reward -1.1900000000000026\n"
     ]
    },
    {
     "name": "stderr",
     "output_type": "stream",
     "text": [
      "Episode 95/100: Total Reward -2.720:  95%|█████████▌| 114000/120000 [56:10<02:21, 42.46it/s]"
     ]
    },
    {
     "name": "stdout",
     "output_type": "stream",
     "text": [
      "Episode 95 : Total reward -2.7199999999999993\n"
     ]
    },
    {
     "name": "stderr",
     "output_type": "stream",
     "text": [
      "Episode 96/100: Total Reward -0.520:  96%|█████████▌| 115200/120000 [56:37<01:50, 43.59it/s]"
     ]
    },
    {
     "name": "stdout",
     "output_type": "stream",
     "text": [
      "Episode 96 : Total reward -0.5200000000000009\n"
     ]
    },
    {
     "name": "stderr",
     "output_type": "stream",
     "text": [
      "Episode 97/100: Total Reward -1.830:  97%|█████████▋| 116400/120000 [57:07<01:32, 38.79it/s]"
     ]
    },
    {
     "name": "stdout",
     "output_type": "stream",
     "text": [
      "Episode 97 : Total reward -1.8300000000000032\n"
     ]
    },
    {
     "name": "stderr",
     "output_type": "stream",
     "text": [
      "Episode 98/100: Total Reward -3.280:  98%|█████████▊| 117600/120000 [57:36<00:59, 40.54it/s]"
     ]
    },
    {
     "name": "stdout",
     "output_type": "stream",
     "text": [
      "Episode 98 : Total reward -3.28\n"
     ]
    },
    {
     "name": "stderr",
     "output_type": "stream",
     "text": [
      "Episode 99/100: Total Reward -0.580:  99%|█████████▉| 118800/120000 [58:05<00:26, 44.85it/s]"
     ]
    },
    {
     "name": "stdout",
     "output_type": "stream",
     "text": [
      "Episode 99 : Total reward -0.580000000000001\n"
     ]
    },
    {
     "name": "stderr",
     "output_type": "stream",
     "text": [
      "Episode 100/100: Total Reward -0.750: 100%|██████████| 120000/120000 [58:33<00:00, 34.16it/s]\n"
     ]
    },
    {
     "name": "stdout",
     "output_type": "stream",
     "text": [
      "Episode 100 : Total reward -0.7499999999999987\n",
      "Running Time : 3680.9632959365845\n",
      "\n"
     ]
    },
    {
     "data": {
      "image/png": "[encoded data removed]",
      "text/plain": [
       "<Figure size 640x480 with 1 Axes>"
      ]
     },
     "metadata": {},
     "output_type": "display_data"
    }
   ],
   "source": [
    "from traffic_tail.trainer import SUMOTrainer\n",
    "import time\n",
    "start = time.time()\n",
    "\n",
    "\n",
    "trainerBoth = SUMOTrainer(\n",
    "    env='both', \n",
    "    use_gui=False,\n",
    "    num_seconds=TOTAL_TIME,\n",
    "    graphs=True,\n",
    ")\n",
    "#trainerBoth.load('results/default/best_agents.pkl') # load the default best model\n",
    "trainerBoth.train(episodes=100) # train for 5 weekdays of rush hour traffic\n",
    "print(f\"Running Time : {time.time()-start}\\n\")"
   ]
  },
  {
   "cell_type": "code",
   "execution_count": 2,
   "metadata": {},
   "outputs": [],
   "source": [
    "import warnings\n",
    "import time\n",
    "warnings.filterwarnings(\"ignore\")\n",
    "\n",
    "from tqdm import tqdm\n",
    "from traffic_tail.environment import create_env\n",
    "from traffic_tail.trainer import SUMOTrainer"
   ]
  },
  {
   "cell_type": "code",
   "execution_count": 4,
   "metadata": {},
   "outputs": [
    {
     "name": "stdout",
     "output_type": "stream",
     "text": [
      "Using default SUMO environment.\n",
      "Initializing RL agents. (This may take a while)\n"
     ]
    },
    {
     "name": "stderr",
     "output_type": "stream",
     "text": []
    },
    {
     "name": "stdout",
     "output_type": "stream",
     "text": [
      "Using custom environment with both overspeed and tailgating behavior.\n",
      "Initializing RL agents. (This may take a while)\n"
     ]
    }
   ],
   "source": [
    "trainerDef2 = SUMOTrainer(\n",
    "    env='default', \n",
    "    use_gui=False,\n",
    "    num_seconds=TOTAL_TIME,\n",
    ")\n",
    "trainerBoth2 = SUMOTrainer(\n",
    "    env='both', \n",
    "    use_gui=False,\n",
    "    num_seconds=TOTAL_TIME,\n",
    ")"
   ]
  },
  {
   "cell_type": "code",
   "execution_count": null,
   "metadata": {},
   "outputs": [],
   "source": [
    "#1\n",
    "# trainerDef2.load('results/default/best_agents.pkl') # load the default best model\n",
    "# agents = trainerDef2.agents\n",
    "\n",
    "# rewards = []\n",
    "# for i in range(5):\n",
    "#     start = time.time()\n",
    "#     env = create_env(\n",
    "#         tailgating=False, \n",
    "#         use_gui=USE_SUMO_GUI, \n",
    "#         num_seconds=TOTAL_TIME\n",
    "#     )\n",
    "\n",
    "#     total_reward = 0\n",
    "#     state = env.reset()\n",
    "#     done = {\"__all__\": False}\n",
    "\n",
    "#     pbar = tqdm(total=TOTAL_TIME)\n",
    "#     while not done[\"__all__\"]:\n",
    "#         actions = {\n",
    "#             ts_id: agents[ts_id].act(state[ts_id]) \n",
    "#             for ts_id in state.keys()\n",
    "#         }\n",
    "#         state, reward, done, _ = env.step(actions)\n",
    "#         total_reward += sum(reward.values())\n",
    "#         pbar.update(env.delta_time)\n",
    "\n",
    "#     env.close()\n",
    "#     print(f\"episode : {i}\")\n",
    "#     print(f\"Total reward: {total_reward}\")\n",
    "#     rewards.append(total_reward)\n",
    "#     print(f\"Running Time : {time.time()-start}\\n\")\n",
    "# print(f\"total_mean : {sum(rewards)/len(rewards)}\")"
   ]
  },
  {
   "cell_type": "code",
   "execution_count": 5,
   "metadata": {},
   "outputs": [
    {
     "name": "stdout",
     "output_type": "stream",
     "text": [
      "Using default SUMO environment.\n"
     ]
    },
    {
     "name": "stderr",
     "output_type": "stream",
     "text": [
      "100%|██████████| 1200/1200 [04:13<00:00,  4.74it/s]\n",
      "100%|██████████| 1200/1200 [00:12<00:00, 83.51it/s] "
     ]
    },
    {
     "name": "stdout",
     "output_type": "stream",
     "text": [
      "episode : 0\n",
      "Total reward: -5.260000000000005\n",
      "Running Time : 13.655201196670532\n",
      "\n",
      "Using default SUMO environment.\n"
     ]
    },
    {
     "name": "stderr",
     "output_type": "stream",
     "text": [
      "100%|██████████| 1200/1200 [00:13<00:00, 87.97it/s]\n"
     ]
    },
    {
     "name": "stdout",
     "output_type": "stream",
     "text": [
      "episode : 1\n",
      "Total reward: -2.3799999999999986\n",
      "Running Time : 13.990952968597412\n",
      "\n",
      "Using default SUMO environment.\n"
     ]
    },
    {
     "name": "stderr",
     "output_type": "stream",
     "text": [
      "100%|██████████| 1200/1200 [00:13<00:00, 85.87it/s]\n",
      "100%|█████████▉| 1195/1200 [00:12<00:00, 97.05it/s] "
     ]
    },
    {
     "name": "stdout",
     "output_type": "stream",
     "text": [
      "episode : 2\n",
      "Total reward: -3.1100000000000003\n",
      "Running Time : 13.5912504196167\n",
      "\n",
      "Using default SUMO environment.\n"
     ]
    },
    {
     "name": "stderr",
     "output_type": "stream",
     "text": [
      "100%|██████████| 1200/1200 [00:13<00:00, 88.19it/s]\n"
     ]
    },
    {
     "name": "stdout",
     "output_type": "stream",
     "text": [
      "episode : 3\n",
      "Total reward: -1.1500000000000001\n",
      "Running Time : 13.1749849319458\n",
      "\n",
      "Using default SUMO environment.\n"
     ]
    },
    {
     "name": "stderr",
     "output_type": "stream",
     "text": [
      "100%|██████████| 1200/1200 [00:13<00:00, 91.08it/s]\n",
      "100%|█████████▉| 1195/1200 [00:12<00:00, 97.19it/s] "
     ]
    },
    {
     "name": "stdout",
     "output_type": "stream",
     "text": [
      "episode : 4\n",
      "Total reward: -4.019999999999999\n",
      "Running Time : 13.907852172851562\n",
      "\n",
      "Using default SUMO environment.\n"
     ]
    },
    {
     "name": "stderr",
     "output_type": "stream",
     "text": [
      "100%|██████████| 1200/1200 [00:13<00:00, 86.18it/s]\n"
     ]
    },
    {
     "name": "stdout",
     "output_type": "stream",
     "text": [
      "episode : 5\n",
      "Total reward: -1.799999999999994\n",
      "Running Time : 13.551114797592163\n",
      "\n",
      "Using default SUMO environment.\n"
     ]
    },
    {
     "name": "stderr",
     "output_type": "stream",
     "text": [
      "100%|██████████| 1200/1200 [00:13<00:00, 88.62it/s] \n",
      "100%|█████████▉| 1195/1200 [00:11<00:00, 105.13it/s]"
     ]
    },
    {
     "name": "stdout",
     "output_type": "stream",
     "text": [
      "episode : 6\n",
      "Total reward: -2.7600000000000016\n",
      "Running Time : 13.01544737815857\n",
      "\n",
      "Using default SUMO environment.\n"
     ]
    },
    {
     "name": "stderr",
     "output_type": "stream",
     "text": [
      "100%|██████████| 1200/1200 [00:12<00:00, 92.36it/s] \n"
     ]
    },
    {
     "name": "stdout",
     "output_type": "stream",
     "text": [
      "episode : 7\n",
      "Total reward: -2.690000000000002\n",
      "Running Time : 14.49096941947937\n",
      "\n",
      "Using default SUMO environment.\n"
     ]
    },
    {
     "name": "stderr",
     "output_type": "stream",
     "text": [
      "100%|██████████| 1200/1200 [00:14<00:00, 82.62it/s]\n",
      "100%|█████████▉| 1195/1200 [00:12<00:00, 81.23it/s] "
     ]
    },
    {
     "name": "stdout",
     "output_type": "stream",
     "text": [
      "episode : 8\n",
      "Total reward: -15.330000000000005\n",
      "Running Time : 14.157658576965332\n",
      "\n",
      "Using default SUMO environment.\n"
     ]
    },
    {
     "name": "stderr",
     "output_type": "stream",
     "text": [
      "100%|██████████| 1200/1200 [00:14<00:00, 84.77it/s]\n"
     ]
    },
    {
     "name": "stdout",
     "output_type": "stream",
     "text": [
      "episode : 9\n",
      "Total reward: -2.320000000000002\n",
      "Running Time : 13.740979194641113\n",
      "\n",
      "Using default SUMO environment.\n"
     ]
    },
    {
     "name": "stderr",
     "output_type": "stream",
     "text": [
      "100%|██████████| 1200/1200 [00:13<00:00, 87.31it/s]\n",
      "100%|█████████▉| 1195/1200 [00:14<00:00, 73.25it/s]"
     ]
    },
    {
     "name": "stdout",
     "output_type": "stream",
     "text": [
      "episode : 10\n",
      "Total reward: -9.430000000000009\n",
      "Running Time : 15.807692527770996\n",
      "\n",
      "Using default SUMO environment.\n"
     ]
    },
    {
     "name": "stderr",
     "output_type": "stream",
     "text": [
      "100%|██████████| 1200/1200 [00:15<00:00, 75.92it/s]\n"
     ]
    },
    {
     "name": "stdout",
     "output_type": "stream",
     "text": [
      "episode : 11\n",
      "Total reward: -3.1499999999999995\n",
      "Running Time : 15.527971267700195\n",
      "\n",
      "Using default SUMO environment.\n"
     ]
    },
    {
     "name": "stderr",
     "output_type": "stream",
     "text": [
      "100%|██████████| 1200/1200 [00:15<00:00, 77.05it/s]\n",
      " 99%|█████████▉| 1190/1200 [00:14<00:00, 91.38it/s]"
     ]
    },
    {
     "name": "stdout",
     "output_type": "stream",
     "text": [
      "episode : 12\n",
      "Total reward: -1.0699999999999998\n",
      "Running Time : 16.050981044769287\n",
      "\n",
      "Using default SUMO environment.\n"
     ]
    },
    {
     "name": "stderr",
     "output_type": "stream",
     "text": [
      "100%|██████████| 1200/1200 [00:16<00:00, 74.98it/s]\n"
     ]
    },
    {
     "name": "stdout",
     "output_type": "stream",
     "text": [
      "episode : 13\n",
      "Total reward: -5.400000000000002\n",
      "Running Time : 14.691840648651123\n",
      "\n",
      "Using default SUMO environment.\n"
     ]
    },
    {
     "name": "stderr",
     "output_type": "stream",
     "text": [
      "100%|██████████| 1200/1200 [00:14<00:00, 81.69it/s]\n",
      "100%|█████████▉| 1195/1200 [00:12<00:00, 85.75it/s]"
     ]
    },
    {
     "name": "stdout",
     "output_type": "stream",
     "text": [
      "episode : 14\n",
      "Total reward: -1.1400000000000055\n",
      "Running Time : 14.257200479507446\n",
      "\n",
      "Using default SUMO environment.\n"
     ]
    },
    {
     "name": "stderr",
     "output_type": "stream",
     "text": [
      "100%|██████████| 1200/1200 [00:14<00:00, 84.17it/s]\n"
     ]
    },
    {
     "name": "stdout",
     "output_type": "stream",
     "text": [
      "episode : 15\n",
      "Total reward: -8.389999999999999\n",
      "Running Time : 14.606765747070312\n",
      "\n",
      "Using default SUMO environment.\n"
     ]
    },
    {
     "name": "stderr",
     "output_type": "stream",
     "text": [
      "100%|██████████| 1200/1200 [00:14<00:00, 82.24it/s]\n",
      "100%|██████████| 1200/1200 [00:13<00:00, 94.53it/s]"
     ]
    },
    {
     "name": "stdout",
     "output_type": "stream",
     "text": [
      "episode : 16\n",
      "Total reward: -0.9099999999999986\n",
      "Running Time : 14.390900135040283\n",
      "\n",
      "Using default SUMO environment.\n"
     ]
    },
    {
     "name": "stderr",
     "output_type": "stream",
     "text": [
      "100%|██████████| 1200/1200 [00:14<00:00, 83.20it/s]\n"
     ]
    },
    {
     "name": "stdout",
     "output_type": "stream",
     "text": [
      "episode : 17\n",
      "Total reward: -6.28\n",
      "Running Time : 14.374111890792847\n",
      "\n",
      "Using default SUMO environment.\n"
     ]
    },
    {
     "name": "stderr",
     "output_type": "stream",
     "text": [
      "100%|██████████| 1200/1200 [00:14<00:00, 83.39it/s]\n",
      "100%|██████████| 1200/1200 [00:13<00:00, 86.80it/s]"
     ]
    },
    {
     "name": "stdout",
     "output_type": "stream",
     "text": [
      "episode : 18\n",
      "Total reward: -2.99\n",
      "Running Time : 14.336485624313354\n",
      "\n",
      "Using default SUMO environment.\n"
     ]
    },
    {
     "name": "stderr",
     "output_type": "stream",
     "text": [
      "100%|██████████| 1200/1200 [00:14<00:00, 83.97it/s]\n"
     ]
    },
    {
     "name": "stdout",
     "output_type": "stream",
     "text": [
      "episode : 19\n",
      "Total reward: -13.689999999999998\n",
      "Running Time : 15.279075622558594\n",
      "\n",
      "total_mean : -4.6635\n"
     ]
    }
   ],
   "source": [
    "#2\n",
    "trainerBoth2.load('results/both/best_agents.pkl') # load the both best model\n",
    "agents = trainerBoth2.agents\n",
    "\n",
    "rewards = []\n",
    "for i in range(20):\n",
    "    start = time.time()\n",
    "    env = create_env(\n",
    "        tailgating=False, \n",
    "        #use_gui=USE_SUMO_GUI, \n",
    "        num_seconds=TOTAL_TIME\n",
    "    )\n",
    "\n",
    "    total_reward = 0\n",
    "    state = env.reset()\n",
    "    done = {\"__all__\": False}\n",
    "\n",
    "    pbar = tqdm(total=TOTAL_TIME)\n",
    "    while not done[\"__all__\"]:\n",
    "        actions = {\n",
    "            ts_id: agents[ts_id].act(state[ts_id]) \n",
    "            for ts_id in state.keys()\n",
    "        }\n",
    "        state, reward, done, _ = env.step(actions)\n",
    "        total_reward += sum(reward.values())\n",
    "        pbar.update(env.delta_time)\n",
    "\n",
    "    env.close()\n",
    "    print(f\"episode : {i}\")\n",
    "    print(f\"Total reward: {total_reward}\")\n",
    "    rewards.append(total_reward)\n",
    "    print(f\"Running Time : {time.time()-start}\\n\")\n",
    "print(f\"total_mean : {sum(rewards)/len(rewards)}\")"
   ]
  },
  {
   "cell_type": "code",
   "execution_count": 5,
   "metadata": {},
   "outputs": [
    {
     "name": "stdout",
     "output_type": "stream",
     "text": [
      "Using custom environment with both overspeed and tailgating behavior.\n",
      "Initializing RL agents. (This may take a while)\n"
     ]
    }
   ],
   "source": [
    "# trainerDef3 = SUMOTrainer(\n",
    "#     env='default', \n",
    "#     use_gui=False,\n",
    "#     num_seconds=TOTAL_TIME,\n",
    "# )\n",
    "trainerBoth3 = SUMOTrainer(\n",
    "    env='both', \n",
    "    use_gui=False,\n",
    "    num_seconds=TOTAL_TIME,\n",
    ")"
   ]
  },
  {
   "cell_type": "code",
   "execution_count": 4,
   "metadata": {},
   "outputs": [
    {
     "name": "stdout",
     "output_type": "stream",
     "text": [
      "Using custom environment with both overspeed and tailgating behavior.\n"
     ]
    },
    {
     "name": "stderr",
     "output_type": "stream",
     "text": [
      "100%|█████████▉| 1195/1200 [00:21<00:00, 60.97it/s]"
     ]
    },
    {
     "name": "stdout",
     "output_type": "stream",
     "text": [
      "episode : 0\n",
      "Total reward: -0.43999999999999784\n",
      "Running Time : 22.696998596191406\n",
      "\n",
      "Using custom environment with both overspeed and tailgating behavior.\n"
     ]
    },
    {
     "name": "stderr",
     "output_type": "stream",
     "text": [
      "100%|██████████| 1200/1200 [00:22<00:00, 52.88it/s]\n"
     ]
    },
    {
     "name": "stdout",
     "output_type": "stream",
     "text": [
      "episode : 1\n",
      "Total reward: -2.6800000000000015\n",
      "Running Time : 24.95151376724243\n",
      "\n",
      "Using custom environment with both overspeed and tailgating behavior.\n"
     ]
    },
    {
     "name": "stderr",
     "output_type": "stream",
     "text": [
      "100%|██████████| 1200/1200 [00:24<00:00, 48.09it/s]\n",
      "100%|█████████▉| 1195/1200 [00:20<00:00, 63.61it/s]"
     ]
    },
    {
     "name": "stdout",
     "output_type": "stream",
     "text": [
      "episode : 2\n",
      "Total reward: -0.7000000000000006\n",
      "Running Time : 21.869999647140503\n",
      "\n",
      "Using custom environment with both overspeed and tailgating behavior.\n"
     ]
    },
    {
     "name": "stderr",
     "output_type": "stream",
     "text": [
      "100%|██████████| 1200/1200 [00:21<00:00, 54.92it/s]\n"
     ]
    },
    {
     "name": "stdout",
     "output_type": "stream",
     "text": [
      "episode : 3\n",
      "Total reward: -3.619999999999998\n",
      "Running Time : 24.76699924468994\n",
      "\n",
      "Using custom environment with both overspeed and tailgating behavior.\n"
     ]
    },
    {
     "name": "stderr",
     "output_type": "stream",
     "text": [
      "100%|██████████| 1200/1200 [00:24<00:00, 48.44it/s]\n",
      "100%|██████████| 1200/1200 [00:20<00:00, 50.57it/s]"
     ]
    },
    {
     "name": "stdout",
     "output_type": "stream",
     "text": [
      "episode : 4\n",
      "Total reward: -1.3999999999999986\n",
      "Running Time : 21.52051568031311\n",
      "\n",
      "Using custom environment with both overspeed and tailgating behavior.\n"
     ]
    },
    {
     "name": "stderr",
     "output_type": "stream",
     "text": [
      "100%|██████████| 1200/1200 [00:21<00:00, 55.75it/s]\n"
     ]
    },
    {
     "name": "stdout",
     "output_type": "stream",
     "text": [
      "episode : 5\n",
      "Total reward: -0.7499999999999996\n",
      "Running Time : 21.22800636291504\n",
      "\n",
      "Using custom environment with both overspeed and tailgating behavior.\n"
     ]
    },
    {
     "name": "stderr",
     "output_type": "stream",
     "text": [
      "100%|██████████| 1200/1200 [00:21<00:00, 56.48it/s]\n",
      "100%|█████████▉| 1195/1200 [00:21<00:00, 52.78it/s]"
     ]
    },
    {
     "name": "stdout",
     "output_type": "stream",
     "text": [
      "episode : 6\n",
      "Total reward: -1.540000000000001\n",
      "Running Time : 23.24899458885193\n",
      "\n",
      "Using custom environment with both overspeed and tailgating behavior.\n"
     ]
    },
    {
     "name": "stderr",
     "output_type": "stream",
     "text": [
      "100%|██████████| 1200/1200 [00:23<00:00, 51.62it/s]\n"
     ]
    },
    {
     "name": "stdout",
     "output_type": "stream",
     "text": [
      "episode : 7\n",
      "Total reward: -1.070000000000002\n",
      "Running Time : 23.455000162124634\n",
      "\n",
      "Using custom environment with both overspeed and tailgating behavior.\n"
     ]
    },
    {
     "name": "stderr",
     "output_type": "stream",
     "text": [
      "100%|██████████| 1200/1200 [00:23<00:00, 51.21it/s]\n",
      "100%|██████████| 1200/1200 [00:20<00:00, 55.41it/s]"
     ]
    },
    {
     "name": "stdout",
     "output_type": "stream",
     "text": [
      "episode : 8\n",
      "Total reward: -0.39000000000000135\n",
      "Running Time : 22.214999437332153\n",
      "\n",
      "Using custom environment with both overspeed and tailgating behavior.\n"
     ]
    },
    {
     "name": "stderr",
     "output_type": "stream",
     "text": [
      "100%|██████████| 1200/1200 [00:22<00:00, 54.01it/s]\n"
     ]
    },
    {
     "name": "stdout",
     "output_type": "stream",
     "text": [
      "episode : 9\n",
      "Total reward: -2.4700000000000006\n",
      "Running Time : 22.616999864578247\n",
      "\n",
      "Using custom environment with both overspeed and tailgating behavior.\n"
     ]
    },
    {
     "name": "stderr",
     "output_type": "stream",
     "text": [
      "100%|██████████| 1200/1200 [00:22<00:00, 53.05it/s]\n",
      "100%|█████████▉| 1195/1200 [00:21<00:00, 52.12it/s]"
     ]
    },
    {
     "name": "stdout",
     "output_type": "stream",
     "text": [
      "episode : 10\n",
      "Total reward: -1.879999999999999\n",
      "Running Time : 22.68100118637085\n",
      "\n",
      "Using custom environment with both overspeed and tailgating behavior.\n"
     ]
    },
    {
     "name": "stderr",
     "output_type": "stream",
     "text": [
      "100%|██████████| 1200/1200 [00:22<00:00, 52.89it/s]\n"
     ]
    },
    {
     "name": "stdout",
     "output_type": "stream",
     "text": [
      "episode : 11\n",
      "Total reward: -1.0399999999999991\n",
      "Running Time : 22.086998224258423\n",
      "\n",
      "Using custom environment with both overspeed and tailgating behavior.\n"
     ]
    },
    {
     "name": "stderr",
     "output_type": "stream",
     "text": [
      "100%|██████████| 1200/1200 [00:22<00:00, 54.33it/s]\n",
      "100%|█████████▉| 1195/1200 [00:21<00:00, 57.80it/s]"
     ]
    },
    {
     "name": "stdout",
     "output_type": "stream",
     "text": [
      "episode : 12\n",
      "Total reward: -0.9500000000000002\n",
      "Running Time : 23.041000366210938\n",
      "\n",
      "Using custom environment with both overspeed and tailgating behavior.\n"
     ]
    },
    {
     "name": "stderr",
     "output_type": "stream",
     "text": [
      "100%|██████████| 1200/1200 [00:23<00:00, 52.10it/s]\n"
     ]
    },
    {
     "name": "stdout",
     "output_type": "stream",
     "text": [
      "episode : 13\n",
      "Total reward: -2.519999999999998\n",
      "Running Time : 23.04100251197815\n",
      "\n",
      "Using custom environment with both overspeed and tailgating behavior.\n"
     ]
    },
    {
     "name": "stderr",
     "output_type": "stream",
     "text": [
      "100%|██████████| 1200/1200 [00:23<00:00, 52.09it/s]\n",
      "100%|██████████| 1200/1200 [00:22<00:00, 52.42it/s]"
     ]
    },
    {
     "name": "stdout",
     "output_type": "stream",
     "text": [
      "episode : 14\n",
      "Total reward: -3.6399999999999997\n",
      "Running Time : 23.822998523712158\n",
      "\n",
      "Using custom environment with both overspeed and tailgating behavior.\n"
     ]
    },
    {
     "name": "stderr",
     "output_type": "stream",
     "text": [
      "100%|██████████| 1200/1200 [00:23<00:00, 50.37it/s]\n"
     ]
    },
    {
     "name": "stdout",
     "output_type": "stream",
     "text": [
      "episode : 15\n",
      "Total reward: -0.8299999999999996\n",
      "Running Time : 23.15752100944519\n",
      "\n",
      "Using custom environment with both overspeed and tailgating behavior.\n"
     ]
    },
    {
     "name": "stderr",
     "output_type": "stream",
     "text": [
      "100%|██████████| 1200/1200 [00:23<00:00, 51.83it/s]\n",
      "100%|█████████▉| 1195/1200 [00:23<00:00, 61.65it/s]"
     ]
    },
    {
     "name": "stdout",
     "output_type": "stream",
     "text": [
      "episode : 16\n",
      "Total reward: -0.2999999999999968\n",
      "Running Time : 24.649515390396118\n",
      "\n",
      "Using custom environment with both overspeed and tailgating behavior.\n"
     ]
    },
    {
     "name": "stderr",
     "output_type": "stream",
     "text": [
      "100%|██████████| 1200/1200 [00:24<00:00, 48.67it/s]\n"
     ]
    },
    {
     "name": "stdout",
     "output_type": "stream",
     "text": [
      "episode : 17\n",
      "Total reward: -0.5400000000000007\n",
      "Running Time : 23.625000715255737\n",
      "\n",
      "Using custom environment with both overspeed and tailgating behavior.\n"
     ]
    },
    {
     "name": "stderr",
     "output_type": "stream",
     "text": [
      "100%|██████████| 1200/1200 [00:23<00:00, 50.75it/s]\n",
      "100%|█████████▉| 1195/1200 [00:22<00:00, 49.96it/s]"
     ]
    },
    {
     "name": "stdout",
     "output_type": "stream",
     "text": [
      "episode : 18\n",
      "Total reward: -1.569999999999998\n",
      "Running Time : 23.35899829864502\n",
      "\n",
      "Using custom environment with both overspeed and tailgating behavior.\n"
     ]
    },
    {
     "name": "stderr",
     "output_type": "stream",
     "text": [
      "100%|██████████| 1200/1200 [00:23<00:00, 51.38it/s]\n"
     ]
    },
    {
     "name": "stdout",
     "output_type": "stream",
     "text": [
      "episode : 19\n",
      "Total reward: -0.5300000000000007\n",
      "Running Time : 21.865000009536743\n",
      "\n",
      "total_mean : -1.4429999999999994\n"
     ]
    },
    {
     "name": "stderr",
     "output_type": "stream",
     "text": []
    }
   ],
   "source": [
    "#3\n",
    "trainerDef3.load('results/default/best_agents.pkl') # load the default best model\n",
    "agents = trainerDef3.agents\n",
    "\n",
    "rewards = []\n",
    "for i in range(20):\n",
    "    start = time.time()\n",
    "    env = create_env(\n",
    "        tailgating=True, \n",
    "        #use_gui=USE_SUMO_GUI, \n",
    "        num_seconds=TOTAL_TIME\n",
    "    )\n",
    "\n",
    "    total_reward = 0\n",
    "    state = env.reset()\n",
    "    done = {\"__all__\": False}\n",
    "\n",
    "    pbar = tqdm(total=TOTAL_TIME)\n",
    "    while not done[\"__all__\"]:\n",
    "        actions = {\n",
    "            ts_id: agents[ts_id].act(state[ts_id]) \n",
    "            for ts_id in state.keys()\n",
    "        }\n",
    "        state, reward, done, _ = env.step(actions)\n",
    "        total_reward += sum(reward.values())\n",
    "        pbar.update(env.delta_time)\n",
    "\n",
    "    env.close()\n",
    "    print(f\"episode : {i}\")\n",
    "    print(f\"Total reward: {total_reward}\")\n",
    "    rewards.append(total_reward)\n",
    "    print(f\"Running Time : {time.time()-start}\\n\")\n",
    "print(f\"total_mean : {sum(rewards)/len(rewards)}\")"
   ]
  },
  {
   "cell_type": "code",
   "execution_count": 7,
   "metadata": {},
   "outputs": [
    {
     "name": "stdout",
     "output_type": "stream",
     "text": [
      "Using custom environment with both overspeed and tailgating behavior.\n"
     ]
    },
    {
     "name": "stderr",
     "output_type": "stream",
     "text": [
      " 46%|████▋     | 555/1200 [00:19<00:22, 28.93it/s]\n"
     ]
    },
    {
     "name": "stdout",
     "output_type": "stream",
     "text": [
      "episode : 0\n",
      "Total reward: -1.7700000000000014\n",
      "Running Time : 24.320998907089233\n",
      "\n",
      "Using custom environment with both overspeed and tailgating behavior.\n"
     ]
    },
    {
     "name": "stderr",
     "output_type": "stream",
     "text": [
      "100%|██████████| 1200/1200 [00:24<00:00, 49.32it/s]\n",
      "100%|█████████▉| 1195/1200 [00:23<00:00, 57.36it/s]"
     ]
    },
    {
     "name": "stdout",
     "output_type": "stream",
     "text": [
      "episode : 1\n",
      "Total reward: -0.460000000000001\n",
      "Running Time : 24.761515855789185\n",
      "\n",
      "Using custom environment with both overspeed and tailgating behavior.\n"
     ]
    },
    {
     "name": "stderr",
     "output_type": "stream",
     "text": [
      "100%|██████████| 1200/1200 [00:24<00:00, 48.52it/s]\n"
     ]
    },
    {
     "name": "stdout",
     "output_type": "stream",
     "text": [
      "episode : 2\n",
      "Total reward: -2.290000000000001\n",
      "Running Time : 23.80200481414795\n",
      "\n",
      "Using custom environment with both overspeed and tailgating behavior.\n"
     ]
    },
    {
     "name": "stderr",
     "output_type": "stream",
     "text": [
      "100%|██████████| 1200/1200 [00:23<00:00, 50.38it/s]\n",
      "100%|█████████▉| 1195/1200 [00:22<00:00, 47.99it/s]"
     ]
    },
    {
     "name": "stdout",
     "output_type": "stream",
     "text": [
      "episode : 3\n",
      "Total reward: -0.8600000000000001\n",
      "Running Time : 23.70406222343445\n",
      "\n",
      "Using custom environment with both overspeed and tailgating behavior.\n"
     ]
    },
    {
     "name": "stderr",
     "output_type": "stream",
     "text": [
      "100%|██████████| 1200/1200 [00:23<00:00, 50.61it/s]\n"
     ]
    },
    {
     "name": "stdout",
     "output_type": "stream",
     "text": [
      "episode : 4\n",
      "Total reward: -0.7600000000000033\n",
      "Running Time : 23.19999933242798\n",
      "\n",
      "Using custom environment with both overspeed and tailgating behavior.\n"
     ]
    },
    {
     "name": "stderr",
     "output_type": "stream",
     "text": [
      "100%|██████████| 1200/1200 [00:23<00:00, 51.80it/s]\n",
      "100%|██████████| 1200/1200 [00:20<00:00, 61.91it/s]"
     ]
    },
    {
     "name": "stdout",
     "output_type": "stream",
     "text": [
      "episode : 5\n",
      "Total reward: -0.5800000000000001\n",
      "Running Time : 21.58499836921692\n",
      "\n",
      "Using custom environment with both overspeed and tailgating behavior.\n"
     ]
    },
    {
     "name": "stderr",
     "output_type": "stream",
     "text": [
      "100%|██████████| 1200/1200 [00:21<00:00, 55.53it/s]\n"
     ]
    },
    {
     "name": "stdout",
     "output_type": "stream",
     "text": [
      "episode : 6\n",
      "Total reward: -2.8900000000000006\n",
      "Running Time : 21.47200036048889\n",
      "\n",
      "Using custom environment with both overspeed and tailgating behavior.\n"
     ]
    },
    {
     "name": "stderr",
     "output_type": "stream",
     "text": [
      "100%|██████████| 1200/1200 [00:21<00:00, 55.91it/s]\n",
      "100%|█████████▉| 1195/1200 [00:21<00:00, 56.45it/s]"
     ]
    },
    {
     "name": "stdout",
     "output_type": "stream",
     "text": [
      "episode : 7\n",
      "Total reward: -0.5299999999999986\n",
      "Running Time : 22.96003293991089\n",
      "\n",
      "Using custom environment with both overspeed and tailgating behavior.\n"
     ]
    },
    {
     "name": "stderr",
     "output_type": "stream",
     "text": [
      "100%|██████████| 1200/1200 [00:22<00:00, 52.29it/s]\n"
     ]
    },
    {
     "name": "stdout",
     "output_type": "stream",
     "text": [
      "episode : 8\n",
      "Total reward: -0.2199999999999986\n",
      "Running Time : 22.631511688232422\n",
      "\n",
      "Using custom environment with both overspeed and tailgating behavior.\n"
     ]
    },
    {
     "name": "stderr",
     "output_type": "stream",
     "text": [
      "100%|██████████| 1200/1200 [00:22<00:00, 53.03it/s]\n",
      "100%|█████████▉| 1195/1200 [00:22<00:00, 48.46it/s]"
     ]
    },
    {
     "name": "stdout",
     "output_type": "stream",
     "text": [
      "episode : 9\n",
      "Total reward: -1.3999999999999997\n",
      "Running Time : 23.96051859855652\n",
      "\n",
      "Using custom environment with both overspeed and tailgating behavior.\n"
     ]
    },
    {
     "name": "stderr",
     "output_type": "stream",
     "text": [
      "100%|██████████| 1200/1200 [00:23<00:00, 50.02it/s]\n"
     ]
    },
    {
     "name": "stdout",
     "output_type": "stream",
     "text": [
      "episode : 10\n",
      "Total reward: -1.040000000000001\n",
      "Running Time : 24.73851442337036\n",
      "\n",
      "Using custom environment with both overspeed and tailgating behavior.\n"
     ]
    },
    {
     "name": "stderr",
     "output_type": "stream",
     "text": [
      "100%|██████████| 1200/1200 [00:24<00:00, 48.53it/s]\n",
      "100%|█████████▉| 1195/1200 [00:22<00:00, 47.46it/s]"
     ]
    },
    {
     "name": "stdout",
     "output_type": "stream",
     "text": [
      "episode : 11\n",
      "Total reward: -1.6100000000000019\n",
      "Running Time : 24.311094284057617\n",
      "\n",
      "Using custom environment with both overspeed and tailgating behavior.\n"
     ]
    },
    {
     "name": "stderr",
     "output_type": "stream",
     "text": [
      "100%|██████████| 1200/1200 [00:24<00:00, 49.36it/s]\n"
     ]
    },
    {
     "name": "stdout",
     "output_type": "stream",
     "text": [
      "episode : 12\n",
      "Total reward: -2.55\n",
      "Running Time : 22.253999710083008\n",
      "\n",
      "Using custom environment with both overspeed and tailgating behavior.\n"
     ]
    },
    {
     "name": "stderr",
     "output_type": "stream",
     "text": [
      "100%|██████████| 1200/1200 [00:22<00:00, 53.89it/s]\n",
      "100%|██████████| 1200/1200 [00:22<00:00, 53.45it/s]"
     ]
    },
    {
     "name": "stdout",
     "output_type": "stream",
     "text": [
      "episode : 13\n",
      "Total reward: -0.4800000000000004\n",
      "Running Time : 23.372177362442017\n",
      "\n",
      "Using custom environment with both overspeed and tailgating behavior.\n"
     ]
    },
    {
     "name": "stderr",
     "output_type": "stream",
     "text": [
      "100%|██████████| 1200/1200 [00:23<00:00, 51.37it/s]\n"
     ]
    },
    {
     "name": "stdout",
     "output_type": "stream",
     "text": [
      "episode : 14\n",
      "Total reward: -0.330000000000001\n",
      "Running Time : 24.464000701904297\n",
      "\n",
      "Using custom environment with both overspeed and tailgating behavior.\n"
     ]
    },
    {
     "name": "stderr",
     "output_type": "stream",
     "text": [
      "100%|██████████| 1200/1200 [00:24<00:00, 49.04it/s]\n",
      "100%|█████████▉| 1195/1200 [00:21<00:00, 53.80it/s]"
     ]
    },
    {
     "name": "stdout",
     "output_type": "stream",
     "text": [
      "episode : 15\n",
      "Total reward: -1.5799999999999996\n",
      "Running Time : 22.969999074935913\n",
      "\n",
      "Using custom environment with both overspeed and tailgating behavior.\n"
     ]
    },
    {
     "name": "stderr",
     "output_type": "stream",
     "text": [
      "100%|██████████| 1200/1200 [00:22<00:00, 52.28it/s]\n"
     ]
    },
    {
     "name": "stdout",
     "output_type": "stream",
     "text": [
      "episode : 16\n",
      "Total reward: -1.0300000000000007\n",
      "Running Time : 22.66999864578247\n",
      "\n",
      "Using custom environment with both overspeed and tailgating behavior.\n"
     ]
    },
    {
     "name": "stderr",
     "output_type": "stream",
     "text": [
      "100%|██████████| 1200/1200 [00:22<00:00, 52.87it/s]\n",
      "100%|██████████| 1200/1200 [00:21<00:00, 57.85it/s]"
     ]
    },
    {
     "name": "stdout",
     "output_type": "stream",
     "text": [
      "episode : 17\n",
      "Total reward: -0.8400000000000007\n",
      "Running Time : 22.757002115249634\n",
      "\n",
      "Using custom environment with both overspeed and tailgating behavior.\n"
     ]
    },
    {
     "name": "stderr",
     "output_type": "stream",
     "text": [
      "100%|██████████| 1200/1200 [00:22<00:00, 52.78it/s]\n"
     ]
    },
    {
     "name": "stdout",
     "output_type": "stream",
     "text": [
      "episode : 18\n",
      "Total reward: -1.3500000000000019\n",
      "Running Time : 22.7189998626709\n",
      "\n",
      "Using custom environment with both overspeed and tailgating behavior.\n"
     ]
    },
    {
     "name": "stderr",
     "output_type": "stream",
     "text": [
      "100%|██████████| 1200/1200 [00:22<00:00, 52.77it/s]\n",
      "100%|██████████| 1200/1200 [00:22<00:00, 61.74it/s]"
     ]
    },
    {
     "name": "stdout",
     "output_type": "stream",
     "text": [
      "episode : 19\n",
      "Total reward: -0.9599999999999995\n",
      "Running Time : 23.336023807525635\n",
      "\n",
      "total_mean : -1.1765000000000005\n"
     ]
    },
    {
     "name": "stderr",
     "output_type": "stream",
     "text": [
      "100%|██████████| 1200/1200 [00:35<00:00, 61.74it/s]"
     ]
    }
   ],
   "source": [
    "#4\n",
    "trainerBoth3.load('results/both/best_agents.pkl') # load the both best model\n",
    "agents = trainerBoth3.agents\n",
    "\n",
    "rewards = []\n",
    "for i in range(20):\n",
    "    start = time.time()\n",
    "    env = create_env(\n",
    "        tailgating=True, \n",
    "        #use_gui=USE_SUMO_GUI, \n",
    "        num_seconds=TOTAL_TIME\n",
    "    )\n",
    "\n",
    "    total_reward = 0\n",
    "    state = env.reset()\n",
    "    done = {\"__all__\": False}\n",
    "\n",
    "    pbar = tqdm(total=TOTAL_TIME)\n",
    "    while not done[\"__all__\"]:\n",
    "        actions = {\n",
    "            ts_id: agents[ts_id].act(state[ts_id]) \n",
    "            for ts_id in state.keys()\n",
    "        }\n",
    "        state, reward, done, _ = env.step(actions)\n",
    "        total_reward += sum(reward.values())\n",
    "        pbar.update(env.delta_time)\n",
    "\n",
    "    env.close()\n",
    "    print(f\"episode : {i}\")\n",
    "    print(f\"Total reward: {total_reward}\")\n",
    "    rewards.append(total_reward)\n",
    "    print(f\"Running Time : {time.time()-start}\\n\")\n",
    "print(f\"total_mean : {sum(rewards)/len(rewards)}\")"
   ]
  }
 ],
 "metadata": {
  "kernelspec": {
   "display_name": "sumo",
   "language": "python",
   "name": "python3"
  },
  "language_info": {
   "codemirror_mode": {
    "name": "ipython",
    "version": 3
   },
   "file_extension": ".py",
   "mimetype": "text/x-python",
   "name": "python",
   "nbconvert_exporter": "python",
   "pygments_lexer": "ipython3",
   "version": "3.11.5"
  }
 },
 "nbformat": 4,
 "nbformat_minor": 2
}
