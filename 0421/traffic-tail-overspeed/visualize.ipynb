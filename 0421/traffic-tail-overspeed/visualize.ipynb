{
 "cells": [
  {
   "cell_type": "code",
   "execution_count": 1,
   "metadata": {},
   "outputs": [],
   "source": [
    "USE_SUMO_GUI = True # set to True to use sumo-gui\n",
    "TOTAL_TIME = 1200 # 60*60*2 = 2 hours (e.g. rush hour 7am - 9am)"
   ]
  },
  {
   "cell_type": "code",
   "execution_count": 2,
   "metadata": {},
   "outputs": [
    {
     "name": "stdout",
     "output_type": "stream",
     "text": [
      "Using custom environment with overspeed at greenlight behavior.\n"
     ]
    },
    {
     "name": "stderr",
     "output_type": "stream",
     "text": [
      "100%|█████████▉| 1195/1200 [00:23<00:00, 43.69it/s]"
     ]
    },
    {
     "name": "stdout",
     "output_type": "stream",
     "text": [
      "episode : 0\n",
      "Total reward: -3.8599999999999945\n",
      "Running Time : 24.572031021118164\n",
      "\n",
      "Using custom environment with overspeed at greenlight behavior.\n"
     ]
    },
    {
     "name": "stderr",
     "output_type": "stream",
     "text": [
      "100%|██████████| 1200/1200 [00:24<00:00, 48.90it/s]\n"
     ]
    },
    {
     "name": "stdout",
     "output_type": "stream",
     "text": [
      "episode : 1\n",
      "Total reward: -41.580000000000034\n",
      "Running Time : 32.108280181884766\n",
      "\n",
      "Using custom environment with overspeed at greenlight behavior.\n"
     ]
    },
    {
     "name": "stderr",
     "output_type": "stream",
     "text": [
      "100%|██████████| 1200/1200 [00:32<00:00, 37.37it/s]\n",
      "100%|██████████| 1200/1200 [00:23<00:00, 45.19it/s]"
     ]
    },
    {
     "name": "stdout",
     "output_type": "stream",
     "text": [
      "episode : 2\n",
      "Total reward: -4.779999999999994\n",
      "Running Time : 24.401214838027954\n",
      "\n",
      "Using custom environment with overspeed at greenlight behavior.\n"
     ]
    },
    {
     "name": "stderr",
     "output_type": "stream",
     "text": [
      "100%|██████████| 1200/1200 [00:24<00:00, 49.08it/s]\n"
     ]
    },
    {
     "name": "stdout",
     "output_type": "stream",
     "text": [
      "episode : 3\n",
      "Total reward: -30.849999999999994\n",
      "Running Time : 30.36543297767639\n",
      "\n",
      "Using custom environment with overspeed at greenlight behavior.\n"
     ]
    },
    {
     "name": "stderr",
     "output_type": "stream",
     "text": [
      "100%|██████████| 1200/1200 [00:30<00:00, 39.56it/s]\n",
      "100%|█████████▉| 1195/1200 [00:22<00:00, 58.29it/s]"
     ]
    },
    {
     "name": "stdout",
     "output_type": "stream",
     "text": [
      "episode : 4\n",
      "Total reward: -9.990000000000002\n",
      "Running Time : 23.88348889350891\n",
      "\n",
      "Using custom environment with overspeed at greenlight behavior.\n"
     ]
    },
    {
     "name": "stderr",
     "output_type": "stream",
     "text": [
      "100%|██████████| 1200/1200 [00:23<00:00, 50.30it/s]\n"
     ]
    },
    {
     "name": "stdout",
     "output_type": "stream",
     "text": [
      "episode : 5\n",
      "Total reward: -14.089999999999993\n",
      "Running Time : 31.499379634857178\n",
      "\n",
      "Using custom environment with overspeed at greenlight behavior.\n"
     ]
    },
    {
     "name": "stderr",
     "output_type": "stream",
     "text": [
      "100%|██████████| 1200/1200 [00:31<00:00, 38.10it/s]\n",
      "100%|██████████| 1200/1200 [00:22<00:00, 46.68it/s]"
     ]
    },
    {
     "name": "stdout",
     "output_type": "stream",
     "text": [
      "episode : 6\n",
      "Total reward: -13.59\n",
      "Running Time : 23.53773784637451\n",
      "\n",
      "Using custom environment with overspeed at greenlight behavior.\n"
     ]
    },
    {
     "name": "stderr",
     "output_type": "stream",
     "text": [
      "100%|██████████| 1200/1200 [00:23<00:00, 50.92it/s]\n"
     ]
    },
    {
     "name": "stdout",
     "output_type": "stream",
     "text": [
      "episode : 7\n",
      "Total reward: -12.140000000000002\n",
      "Running Time : 26.5106680393219\n",
      "\n",
      "Using custom environment with overspeed at greenlight behavior.\n"
     ]
    },
    {
     "name": "stderr",
     "output_type": "stream",
     "text": [
      "100%|██████████| 1200/1200 [00:26<00:00, 45.32it/s]\n",
      "100%|██████████| 1200/1200 [00:19<00:00, 57.87it/s]"
     ]
    },
    {
     "name": "stdout",
     "output_type": "stream",
     "text": [
      "episode : 8\n",
      "Total reward: -7.4799999999999995\n",
      "Running Time : 20.918895483016968\n",
      "\n",
      "Using custom environment with overspeed at greenlight behavior.\n"
     ]
    },
    {
     "name": "stderr",
     "output_type": "stream",
     "text": [
      "100%|██████████| 1200/1200 [00:20<00:00, 57.39it/s]\n"
     ]
    },
    {
     "name": "stdout",
     "output_type": "stream",
     "text": [
      "episode : 9\n",
      "Total reward: -7.570000000000004\n",
      "Running Time : 24.923470497131348\n",
      "\n",
      "Using custom environment with overspeed at greenlight behavior.\n"
     ]
    },
    {
     "name": "stderr",
     "output_type": "stream",
     "text": [
      "100%|██████████| 1200/1200 [00:24<00:00, 48.09it/s]\n",
      "100%|██████████| 1200/1200 [00:21<00:00, 44.06it/s]"
     ]
    },
    {
     "name": "stdout",
     "output_type": "stream",
     "text": [
      "episode : 10\n",
      "Total reward: -8.86999999999999\n",
      "Running Time : 22.593141317367554\n",
      "\n",
      "Using custom environment with overspeed at greenlight behavior.\n"
     ]
    },
    {
     "name": "stderr",
     "output_type": "stream",
     "text": [
      "100%|██████████| 1200/1200 [00:22<00:00, 53.19it/s]\n"
     ]
    },
    {
     "name": "stdout",
     "output_type": "stream",
     "text": [
      "episode : 11\n",
      "Total reward: -6.919999999999987\n",
      "Running Time : 24.465523958206177\n",
      "\n",
      "Using custom environment with overspeed at greenlight behavior.\n"
     ]
    },
    {
     "name": "stderr",
     "output_type": "stream",
     "text": [
      "100%|██████████| 1200/1200 [00:24<00:00, 48.95it/s]\n",
      "100%|██████████| 1200/1200 [00:28<00:00, 33.32it/s]"
     ]
    },
    {
     "name": "stdout",
     "output_type": "stream",
     "text": [
      "episode : 12\n",
      "Total reward: -7.780000000000012\n",
      "Running Time : 29.464423179626465\n",
      "\n",
      "Using custom environment with overspeed at greenlight behavior.\n"
     ]
    },
    {
     "name": "stderr",
     "output_type": "stream",
     "text": [
      "100%|██████████| 1200/1200 [00:29<00:00, 40.77it/s]\n"
     ]
    },
    {
     "name": "stdout",
     "output_type": "stream",
     "text": [
      "episode : 13\n",
      "Total reward: -22.930000000000014\n",
      "Running Time : 31.74701952934265\n",
      "\n",
      "Using custom environment with overspeed at greenlight behavior.\n"
     ]
    },
    {
     "name": "stderr",
     "output_type": "stream",
     "text": [
      "100%|██████████| 1200/1200 [00:31<00:00, 37.81it/s]\n",
      "100%|██████████| 1200/1200 [00:23<00:00, 39.36it/s]"
     ]
    },
    {
     "name": "stdout",
     "output_type": "stream",
     "text": [
      "episode : 14\n",
      "Total reward: -8.380000000000006\n",
      "Running Time : 24.967698574066162\n",
      "\n",
      "Using custom environment with overspeed at greenlight behavior.\n"
     ]
    },
    {
     "name": "stderr",
     "output_type": "stream",
     "text": [
      "100%|██████████| 1200/1200 [00:24<00:00, 48.06it/s]\n"
     ]
    },
    {
     "name": "stdout",
     "output_type": "stream",
     "text": [
      "episode : 15\n",
      "Total reward: -1.8200000000000007\n",
      "Running Time : 25.757933139801025\n",
      "\n",
      "Using custom environment with overspeed at greenlight behavior.\n"
     ]
    },
    {
     "name": "stderr",
     "output_type": "stream",
     "text": [
      "100%|██████████| 1200/1200 [00:25<00:00, 46.54it/s]\n",
      "100%|██████████| 1200/1200 [00:28<00:00, 26.20it/s]"
     ]
    },
    {
     "name": "stdout",
     "output_type": "stream",
     "text": [
      "episode : 16\n",
      "Total reward: -74.58000000000001\n",
      "Running Time : 29.873268604278564\n",
      "\n",
      "Using custom environment with overspeed at greenlight behavior.\n"
     ]
    },
    {
     "name": "stderr",
     "output_type": "stream",
     "text": [
      "100%|██████████| 1200/1200 [00:29<00:00, 40.20it/s]\n"
     ]
    },
    {
     "name": "stdout",
     "output_type": "stream",
     "text": [
      "episode : 17\n",
      "Total reward: -5.4999999999999964\n",
      "Running Time : 26.0166494846344\n",
      "\n",
      "Using custom environment with overspeed at greenlight behavior.\n"
     ]
    },
    {
     "name": "stderr",
     "output_type": "stream",
     "text": [
      "100%|██████████| 1200/1200 [00:26<00:00, 46.07it/s]\n",
      "100%|██████████| 1200/1200 [00:26<00:00, 47.60it/s]"
     ]
    },
    {
     "name": "stdout",
     "output_type": "stream",
     "text": [
      "episode : 18\n",
      "Total reward: -12.699999999999996\n",
      "Running Time : 28.248913049697876\n",
      "\n",
      "Using custom environment with overspeed at greenlight behavior.\n"
     ]
    },
    {
     "name": "stderr",
     "output_type": "stream",
     "text": [
      "100%|██████████| 1200/1200 [00:28<00:00, 42.51it/s]\n"
     ]
    },
    {
     "name": "stdout",
     "output_type": "stream",
     "text": [
      "episode : 19\n",
      "Total reward: -7.080000000000009\n",
      "Running Time : 26.6317880153656\n",
      "\n",
      "total_mean : -15.124500000000001\n"
     ]
    }
   ],
   "source": [
    "import warnings\n",
    "import time\n",
    "\n",
    "warnings.filterwarnings(\"ignore\")\n",
    "\n",
    "from tqdm import tqdm\n",
    "from traffic_tail.environment import create_env\n",
    "\n",
    "rewards = []\n",
    "for i in range(20):\n",
    "    start = time.time()\n",
    "    env = create_env(\n",
    "        tailgating=True, #####\n",
    "        use_gui=False, \n",
    "        num_seconds=TOTAL_TIME,\n",
    "    )\n",
    "\n",
    "    total_reward = 0\n",
    "    state = env.reset()\n",
    "    done = {\"__all__\": False}\n",
    "\n",
    "    pbar = tqdm(total=TOTAL_TIME)\n",
    "    while not done[\"__all__\"]:\n",
    "        actions = {\n",
    "            ts_id: env.action_spaces(ts_id).sample()\n",
    "            for ts_id in env.ts_ids\n",
    "        }\n",
    "        state, reward, done, _ = env.step(actions)\n",
    "        total_reward += sum(reward.values())\n",
    "        pbar.update(env.delta_time)\n",
    "\n",
    "    env.close()\n",
    "    print(f\"episode : {i}\")\n",
    "    print(f\"Total reward: {total_reward}\")\n",
    "    rewards.append(total_reward)\n",
    "    print(f\"Running Time : {time.time()-start}\\n\")\n",
    "print(f\"total_mean : {sum(rewards)/len(rewards)}\")"
   ]
  },
  {
   "cell_type": "code",
   "execution_count": 3,
   "metadata": {},
   "outputs": [
    {
     "name": "stdout",
     "output_type": "stream",
     "text": [
      "Using custom environment with overspeed at greenlight behavior.\n",
      "Initializing RL agents. (This may take a while)\n"
     ]
    },
    {
     "name": "stderr",
     "output_type": "stream",
     "text": [
      "Episode 1/100: Total Reward -9.930:   1%|          | 1200/120000 [00:37<55:30, 35.67it/s]"
     ]
    },
    {
     "name": "stdout",
     "output_type": "stream",
     "text": [
      "Episode 1 : Total reward -9.929999999999989\n"
     ]
    },
    {
     "name": "stderr",
     "output_type": "stream",
     "text": [
      "Episode 2/100: Total Reward -9.840:   2%|▏         | 2400/120000 [01:08<48:28, 40.44it/s]"
     ]
    },
    {
     "name": "stdout",
     "output_type": "stream",
     "text": [
      "Episode 2 : Total reward -9.840000000000005\n"
     ]
    },
    {
     "name": "stderr",
     "output_type": "stream",
     "text": [
      "Episode 3/100: Total Reward -0.590:   3%|▎         | 3600/120000 [01:36<45:17, 42.84it/s]"
     ]
    },
    {
     "name": "stdout",
     "output_type": "stream",
     "text": [
      "Episode 3 : Total reward -0.5899999999999961\n"
     ]
    },
    {
     "name": "stderr",
     "output_type": "stream",
     "text": [
      "Episode 4/100: Total Reward -1.200:   4%|▍         | 4800/120000 [02:04<42:36, 45.06it/s]"
     ]
    },
    {
     "name": "stdout",
     "output_type": "stream",
     "text": [
      "Episode 4 : Total reward -1.1999999999999948\n"
     ]
    },
    {
     "name": "stderr",
     "output_type": "stream",
     "text": [
      "Episode 5/100: Total Reward -0.730:   5%|▌         | 6000/120000 [02:33<39:07, 48.55it/s]"
     ]
    },
    {
     "name": "stdout",
     "output_type": "stream",
     "text": [
      "Episode 5 : Total reward -0.729999999999998\n"
     ]
    },
    {
     "name": "stderr",
     "output_type": "stream",
     "text": [
      "Episode 6/100: Total Reward -1.960:   6%|▌         | 7200/120000 [03:00<40:38, 46.26it/s]"
     ]
    },
    {
     "name": "stdout",
     "output_type": "stream",
     "text": [
      "Episode 6 : Total reward -1.9599999999999986\n"
     ]
    },
    {
     "name": "stderr",
     "output_type": "stream",
     "text": [
      "Episode 7/100: Total Reward -3.070:   7%|▋         | 8400/120000 [03:27<46:30, 39.99it/s]"
     ]
    },
    {
     "name": "stdout",
     "output_type": "stream",
     "text": [
      "Episode 7 : Total reward -3.07\n"
     ]
    },
    {
     "name": "stderr",
     "output_type": "stream",
     "text": [
      "Episode 8/100: Total Reward -0.550:   8%|▊         | 9600/120000 [03:53<34:37, 53.13it/s]"
     ]
    },
    {
     "name": "stdout",
     "output_type": "stream",
     "text": [
      "Episode 8 : Total reward -0.5500000000000005\n"
     ]
    },
    {
     "name": "stderr",
     "output_type": "stream",
     "text": [
      "Episode 9/100: Total Reward -0.650:   9%|▉         | 10800/120000 [04:19<37:09, 48.98it/s]"
     ]
    },
    {
     "name": "stdout",
     "output_type": "stream",
     "text": [
      "Episode 9 : Total reward -0.6500000000000004\n"
     ]
    },
    {
     "name": "stderr",
     "output_type": "stream",
     "text": [
      "Episode 10/100: Total Reward -0.560:  10%|█         | 12000/120000 [04:45<37:02, 48.60it/s]"
     ]
    },
    {
     "name": "stdout",
     "output_type": "stream",
     "text": [
      "Episode 10 : Total reward -0.5600000000000009\n"
     ]
    },
    {
     "name": "stderr",
     "output_type": "stream",
     "text": [
      "Episode 11/100: Total Reward -4.000:  11%|█         | 13200/120000 [05:13<43:19, 41.09it/s]"
     ]
    },
    {
     "name": "stdout",
     "output_type": "stream",
     "text": [
      "Episode 11 : Total reward -3.9999999999999987\n"
     ]
    },
    {
     "name": "stderr",
     "output_type": "stream",
     "text": [
      "Episode 12/100: Total Reward -2.160:  12%|█▏        | 14400/120000 [05:39<39:57, 44.05it/s]"
     ]
    },
    {
     "name": "stdout",
     "output_type": "stream",
     "text": [
      "Episode 12 : Total reward -2.1599999999999984\n"
     ]
    },
    {
     "name": "stderr",
     "output_type": "stream",
     "text": [
      "Episode 13/100: Total Reward -2.820:  13%|█▎        | 15600/120000 [06:06<39:08, 44.46it/s]"
     ]
    },
    {
     "name": "stdout",
     "output_type": "stream",
     "text": [
      "Episode 13 : Total reward -2.82\n"
     ]
    },
    {
     "name": "stderr",
     "output_type": "stream",
     "text": [
      "Episode 14/100: Total Reward -2.820:  14%|█▍        | 16800/120000 [06:33<43:03, 39.94it/s]"
     ]
    },
    {
     "name": "stdout",
     "output_type": "stream",
     "text": [
      "Episode 14 : Total reward -2.8199999999999994\n"
     ]
    },
    {
     "name": "stderr",
     "output_type": "stream",
     "text": [
      "Episode 15/100: Total Reward -1.320:  15%|█▌        | 18000/120000 [06:59<41:02, 41.42it/s]"
     ]
    },
    {
     "name": "stdout",
     "output_type": "stream",
     "text": [
      "Episode 15 : Total reward -1.3199999999999994\n"
     ]
    },
    {
     "name": "stderr",
     "output_type": "stream",
     "text": [
      "Episode 16/100: Total Reward -2.040:  16%|█▌        | 19200/120000 [07:25<35:59, 46.68it/s]"
     ]
    },
    {
     "name": "stdout",
     "output_type": "stream",
     "text": [
      "Episode 16 : Total reward -2.039999999999999\n"
     ]
    },
    {
     "name": "stderr",
     "output_type": "stream",
     "text": [
      "Episode 17/100: Total Reward -0.730:  17%|█▋        | 20400/120000 [07:52<34:43, 47.80it/s]"
     ]
    },
    {
     "name": "stdout",
     "output_type": "stream",
     "text": [
      "Episode 17 : Total reward -0.7300000000000028\n"
     ]
    },
    {
     "name": "stderr",
     "output_type": "stream",
     "text": [
      "Episode 18/100: Total Reward -0.900:  18%|█▊        | 21600/120000 [08:18<36:37, 44.78it/s]"
     ]
    },
    {
     "name": "stdout",
     "output_type": "stream",
     "text": [
      "Episode 18 : Total reward -0.8999999999999997\n"
     ]
    },
    {
     "name": "stderr",
     "output_type": "stream",
     "text": [
      "Episode 19/100: Total Reward -0.530:  19%|█▉        | 22800/120000 [08:44<30:11, 53.67it/s]"
     ]
    },
    {
     "name": "stdout",
     "output_type": "stream",
     "text": [
      "Episode 19 : Total reward -0.5299999999999989\n"
     ]
    },
    {
     "name": "stderr",
     "output_type": "stream",
     "text": [
      "Episode 20/100: Total Reward -1.260:  20%|██        | 24000/120000 [09:10<35:34, 44.98it/s]"
     ]
    },
    {
     "name": "stdout",
     "output_type": "stream",
     "text": [
      "Episode 20 : Total reward -1.2600000000000018\n"
     ]
    },
    {
     "name": "stderr",
     "output_type": "stream",
     "text": [
      "Episode 21/100: Total Reward -0.820:  21%|██        | 25200/120000 [09:38<35:06, 45.01it/s]"
     ]
    },
    {
     "name": "stdout",
     "output_type": "stream",
     "text": [
      "Episode 21 : Total reward -0.8199999999999976\n"
     ]
    },
    {
     "name": "stderr",
     "output_type": "stream",
     "text": [
      "Episode 22/100: Total Reward -1.800:  22%|██▏       | 26400/120000 [10:04<34:51, 44.75it/s]"
     ]
    },
    {
     "name": "stdout",
     "output_type": "stream",
     "text": [
      "Episode 22 : Total reward -1.7999999999999974\n"
     ]
    },
    {
     "name": "stderr",
     "output_type": "stream",
     "text": [
      "Episode 23/100: Total Reward -3.310:  23%|██▎       | 27600/120000 [10:31<36:51, 41.78it/s]"
     ]
    },
    {
     "name": "stdout",
     "output_type": "stream",
     "text": [
      "Episode 23 : Total reward -3.309999999999999\n"
     ]
    },
    {
     "name": "stderr",
     "output_type": "stream",
     "text": [
      "Episode 24/100: Total Reward -1.270:  24%|██▍       | 28800/120000 [10:59<34:59, 43.45it/s]"
     ]
    },
    {
     "name": "stdout",
     "output_type": "stream",
     "text": [
      "Episode 24 : Total reward -1.2699999999999991\n"
     ]
    },
    {
     "name": "stderr",
     "output_type": "stream",
     "text": [
      "Episode 25/100: Total Reward -0.850:  25%|██▌       | 30000/120000 [11:27<33:13, 45.15it/s]"
     ]
    },
    {
     "name": "stdout",
     "output_type": "stream",
     "text": [
      "Episode 25 : Total reward -0.8499999999999994\n"
     ]
    },
    {
     "name": "stderr",
     "output_type": "stream",
     "text": [
      "Episode 26/100: Total Reward -2.080:  26%|██▌       | 31200/120000 [11:54<34:10, 43.30it/s]"
     ]
    },
    {
     "name": "stdout",
     "output_type": "stream",
     "text": [
      "Episode 26 : Total reward -2.0800000000000036\n"
     ]
    },
    {
     "name": "stderr",
     "output_type": "stream",
     "text": [
      "Episode 27/100: Total Reward -1.520:  27%|██▋       | 32400/120000 [12:20<32:27, 44.98it/s]"
     ]
    },
    {
     "name": "stdout",
     "output_type": "stream",
     "text": [
      "Episode 27 : Total reward -1.5200000000000031\n"
     ]
    },
    {
     "name": "stderr",
     "output_type": "stream",
     "text": [
      "Episode 28/100: Total Reward -1.390:  28%|██▊       | 33600/120000 [12:47<32:35, 44.19it/s]"
     ]
    },
    {
     "name": "stdout",
     "output_type": "stream",
     "text": [
      "Episode 28 : Total reward -1.3900000000000026\n"
     ]
    },
    {
     "name": "stderr",
     "output_type": "stream",
     "text": [
      "Episode 29/100: Total Reward -0.910:  29%|██▉       | 34800/120000 [13:14<31:17, 45.37it/s]"
     ]
    },
    {
     "name": "stdout",
     "output_type": "stream",
     "text": [
      "Episode 29 : Total reward -0.9099999999999991\n"
     ]
    },
    {
     "name": "stderr",
     "output_type": "stream",
     "text": [
      "Episode 30/100: Total Reward -1.110:  30%|███       | 36000/120000 [13:41<32:55, 42.53it/s]"
     ]
    },
    {
     "name": "stdout",
     "output_type": "stream",
     "text": [
      "Episode 30 : Total reward -1.1100000000000005\n"
     ]
    },
    {
     "name": "stderr",
     "output_type": "stream",
     "text": [
      "Episode 31/100: Total Reward -1.350:  31%|███       | 37200/120000 [14:08<32:34, 42.36it/s]"
     ]
    },
    {
     "name": "stdout",
     "output_type": "stream",
     "text": [
      "Episode 31 : Total reward -1.3499999999999994\n"
     ]
    },
    {
     "name": "stderr",
     "output_type": "stream",
     "text": [
      "Episode 32/100: Total Reward -1.560:  32%|███▏      | 38400/120000 [14:35<29:12, 46.55it/s]"
     ]
    },
    {
     "name": "stdout",
     "output_type": "stream",
     "text": [
      "Episode 32 : Total reward -1.559999999999999\n"
     ]
    },
    {
     "name": "stderr",
     "output_type": "stream",
     "text": [
      "Episode 33/100: Total Reward -0.610:  33%|███▎      | 39600/120000 [15:02<25:24, 52.75it/s]"
     ]
    },
    {
     "name": "stdout",
     "output_type": "stream",
     "text": [
      "Episode 33 : Total reward -0.6100000000000022\n"
     ]
    },
    {
     "name": "stderr",
     "output_type": "stream",
     "text": [
      "Episode 34/100: Total Reward -2.350:  34%|███▍      | 40800/120000 [15:28<30:51, 42.78it/s]"
     ]
    },
    {
     "name": "stdout",
     "output_type": "stream",
     "text": [
      "Episode 34 : Total reward -2.350000000000002\n"
     ]
    },
    {
     "name": "stderr",
     "output_type": "stream",
     "text": [
      "Episode 35/100: Total Reward -2.210:  35%|███▌      | 42000/120000 [15:55<30:31, 42.59it/s]"
     ]
    },
    {
     "name": "stdout",
     "output_type": "stream",
     "text": [
      "Episode 35 : Total reward -2.21\n"
     ]
    },
    {
     "name": "stderr",
     "output_type": "stream",
     "text": [
      "Episode 36/100: Total Reward -1.370:  36%|███▌      | 43200/120000 [16:21<28:17, 45.25it/s]"
     ]
    },
    {
     "name": "stdout",
     "output_type": "stream",
     "text": [
      "Episode 36 : Total reward -1.3699999999999992\n"
     ]
    },
    {
     "name": "stderr",
     "output_type": "stream",
     "text": [
      "Episode 37/100: Total Reward -1.940:  37%|███▋      | 44400/120000 [16:48<27:55, 45.11it/s]"
     ]
    },
    {
     "name": "stdout",
     "output_type": "stream",
     "text": [
      "Episode 37 : Total reward -1.939999999999999\n"
     ]
    },
    {
     "name": "stderr",
     "output_type": "stream",
     "text": [
      "Episode 38/100: Total Reward -1.810:  38%|███▊      | 45600/120000 [17:13<26:30, 46.77it/s]"
     ]
    },
    {
     "name": "stdout",
     "output_type": "stream",
     "text": [
      "Episode 38 : Total reward -1.8099999999999996\n"
     ]
    },
    {
     "name": "stderr",
     "output_type": "stream",
     "text": [
      "Episode 39/100: Total Reward -2.230:  39%|███▉      | 46800/120000 [17:39<27:55, 43.68it/s]"
     ]
    },
    {
     "name": "stdout",
     "output_type": "stream",
     "text": [
      "Episode 39 : Total reward -2.230000000000002\n"
     ]
    },
    {
     "name": "stderr",
     "output_type": "stream",
     "text": [
      "Episode 40/100: Total Reward -1.380:  40%|████      | 48000/120000 [18:08<26:51, 44.69it/s]"
     ]
    },
    {
     "name": "stdout",
     "output_type": "stream",
     "text": [
      "Episode 40 : Total reward -1.3800000000000008\n"
     ]
    },
    {
     "name": "stderr",
     "output_type": "stream",
     "text": [
      "Episode 41/100: Total Reward -1.660:  41%|████      | 49200/120000 [18:34<24:57, 47.27it/s]"
     ]
    },
    {
     "name": "stdout",
     "output_type": "stream",
     "text": [
      "Episode 41 : Total reward -1.660000000000001\n"
     ]
    },
    {
     "name": "stderr",
     "output_type": "stream",
     "text": [
      "Episode 42/100: Total Reward -1.890:  42%|████▏     | 50400/120000 [19:01<28:09, 41.19it/s]"
     ]
    },
    {
     "name": "stdout",
     "output_type": "stream",
     "text": [
      "Episode 42 : Total reward -1.8900000000000021\n"
     ]
    },
    {
     "name": "stderr",
     "output_type": "stream",
     "text": [
      "Episode 43/100: Total Reward -0.580:  43%|████▎     | 51600/120000 [19:26<22:03, 51.68it/s]"
     ]
    },
    {
     "name": "stdout",
     "output_type": "stream",
     "text": [
      "Episode 43 : Total reward -0.58\n"
     ]
    },
    {
     "name": "stderr",
     "output_type": "stream",
     "text": [
      "Episode 44/100: Total Reward -2.190:  44%|████▍     | 52800/120000 [19:53<25:18, 44.25it/s]"
     ]
    },
    {
     "name": "stdout",
     "output_type": "stream",
     "text": [
      "Episode 44 : Total reward -2.190000000000004\n"
     ]
    },
    {
     "name": "stderr",
     "output_type": "stream",
     "text": [
      "Episode 45/100: Total Reward -2.990:  45%|████▌     | 54000/120000 [20:19<23:49, 46.18it/s]"
     ]
    },
    {
     "name": "stdout",
     "output_type": "stream",
     "text": [
      "Episode 45 : Total reward -2.9899999999999993\n"
     ]
    },
    {
     "name": "stderr",
     "output_type": "stream",
     "text": [
      "Episode 46/100: Total Reward -0.910:  46%|████▌     | 55200/120000 [20:45<23:39, 45.65it/s]"
     ]
    },
    {
     "name": "stdout",
     "output_type": "stream",
     "text": [
      "Episode 46 : Total reward -0.9100000000000015\n"
     ]
    },
    {
     "name": "stderr",
     "output_type": "stream",
     "text": [
      "Episode 47/100: Total Reward -0.990:  47%|████▋     | 56400/120000 [21:11<23:32, 45.03it/s]"
     ]
    },
    {
     "name": "stdout",
     "output_type": "stream",
     "text": [
      "Episode 47 : Total reward -0.9900000000000009\n"
     ]
    },
    {
     "name": "stderr",
     "output_type": "stream",
     "text": [
      "Episode 48/100: Total Reward -2.110:  48%|████▊     | 57600/120000 [21:37<23:00, 45.21it/s]"
     ]
    },
    {
     "name": "stdout",
     "output_type": "stream",
     "text": [
      "Episode 48 : Total reward -2.11\n"
     ]
    },
    {
     "name": "stderr",
     "output_type": "stream",
     "text": [
      "Episode 49/100: Total Reward -2.330:  49%|████▉     | 58800/120000 [22:04<22:05, 46.16it/s]"
     ]
    },
    {
     "name": "stdout",
     "output_type": "stream",
     "text": [
      "Episode 49 : Total reward -2.3299999999999996\n"
     ]
    },
    {
     "name": "stderr",
     "output_type": "stream",
     "text": [
      "Episode 50/100: Total Reward -0.920:  50%|█████     | 60000/120000 [22:31<22:45, 43.96it/s]"
     ]
    },
    {
     "name": "stdout",
     "output_type": "stream",
     "text": [
      "Episode 50 : Total reward -0.9200000000000006\n"
     ]
    },
    {
     "name": "stderr",
     "output_type": "stream",
     "text": [
      "Episode 51/100: Total Reward -2.460:  51%|█████     | 61200/120000 [22:59<26:29, 37.00it/s]"
     ]
    },
    {
     "name": "stdout",
     "output_type": "stream",
     "text": [
      "Episode 51 : Total reward -2.459999999999999\n"
     ]
    },
    {
     "name": "stderr",
     "output_type": "stream",
     "text": [
      "Episode 52/100: Total Reward -1.900:  52%|█████▏    | 62400/120000 [23:26<24:04, 39.88it/s]"
     ]
    },
    {
     "name": "stdout",
     "output_type": "stream",
     "text": [
      "Episode 52 : Total reward -1.9000000000000015\n"
     ]
    },
    {
     "name": "stderr",
     "output_type": "stream",
     "text": [
      "Episode 53/100: Total Reward -4.510:  53%|█████▎    | 63600/120000 [23:52<23:46, 39.53it/s]"
     ]
    },
    {
     "name": "stdout",
     "output_type": "stream",
     "text": [
      "Episode 53 : Total reward -4.51\n"
     ]
    },
    {
     "name": "stderr",
     "output_type": "stream",
     "text": [
      "Episode 54/100: Total Reward -1.620:  54%|█████▍    | 64800/120000 [24:19<18:59, 48.46it/s]"
     ]
    },
    {
     "name": "stdout",
     "output_type": "stream",
     "text": [
      "Episode 54 : Total reward -1.6200000000000019\n"
     ]
    },
    {
     "name": "stderr",
     "output_type": "stream",
     "text": [
      "Episode 55/100: Total Reward -1.740:  55%|█████▌    | 66000/120000 [24:45<20:39, 43.56it/s]"
     ]
    },
    {
     "name": "stdout",
     "output_type": "stream",
     "text": [
      "Episode 55 : Total reward -1.7400000000000013\n"
     ]
    },
    {
     "name": "stderr",
     "output_type": "stream",
     "text": [
      "Episode 56/100: Total Reward -1.460:  56%|█████▌    | 67200/120000 [25:11<21:38, 40.65it/s]"
     ]
    },
    {
     "name": "stdout",
     "output_type": "stream",
     "text": [
      "Episode 56 : Total reward -1.46\n"
     ]
    },
    {
     "name": "stderr",
     "output_type": "stream",
     "text": [
      "Episode 57/100: Total Reward -0.200:  57%|█████▋    | 68400/120000 [25:38<17:12, 49.97it/s]"
     ]
    },
    {
     "name": "stdout",
     "output_type": "stream",
     "text": [
      "Episode 57 : Total reward -0.2000000000000008\n"
     ]
    },
    {
     "name": "stderr",
     "output_type": "stream",
     "text": [
      "Episode 58/100: Total Reward -0.590:  58%|█████▊    | 69600/120000 [26:05<17:11, 48.84it/s]"
     ]
    },
    {
     "name": "stdout",
     "output_type": "stream",
     "text": [
      "Episode 58 : Total reward -0.5900000000000003\n"
     ]
    },
    {
     "name": "stderr",
     "output_type": "stream",
     "text": [
      "Episode 59/100: Total Reward -1.790:  59%|█████▉    | 70800/120000 [26:30<19:29, 42.06it/s]"
     ]
    },
    {
     "name": "stdout",
     "output_type": "stream",
     "text": [
      "Episode 59 : Total reward -1.7899999999999991\n"
     ]
    },
    {
     "name": "stderr",
     "output_type": "stream",
     "text": [
      "Episode 60/100: Total Reward -1.350:  60%|██████    | 72000/120000 [26:57<18:56, 42.25it/s]"
     ]
    },
    {
     "name": "stdout",
     "output_type": "stream",
     "text": [
      "Episode 60 : Total reward -1.3500000000000008\n"
     ]
    },
    {
     "name": "stderr",
     "output_type": "stream",
     "text": [
      "Episode 61/100: Total Reward -1.430:  61%|██████    | 73200/120000 [27:23<16:51, 46.28it/s]"
     ]
    },
    {
     "name": "stdout",
     "output_type": "stream",
     "text": [
      "Episode 61 : Total reward -1.4299999999999986\n"
     ]
    },
    {
     "name": "stderr",
     "output_type": "stream",
     "text": [
      "Episode 62/100: Total Reward -1.930:  62%|██████▏   | 74400/120000 [27:50<17:18, 43.92it/s]"
     ]
    },
    {
     "name": "stdout",
     "output_type": "stream",
     "text": [
      "Episode 62 : Total reward -1.930000000000002\n"
     ]
    },
    {
     "name": "stderr",
     "output_type": "stream",
     "text": [
      "Episode 63/100: Total Reward -0.470:  63%|██████▎   | 75600/120000 [28:17<14:59, 49.35it/s]"
     ]
    },
    {
     "name": "stdout",
     "output_type": "stream",
     "text": [
      "Episode 63 : Total reward -0.470000000000001\n"
     ]
    },
    {
     "name": "stderr",
     "output_type": "stream",
     "text": [
      "Episode 64/100: Total Reward -1.430:  64%|██████▍   | 76800/120000 [28:44<17:32, 41.05it/s]"
     ]
    },
    {
     "name": "stdout",
     "output_type": "stream",
     "text": [
      "Episode 64 : Total reward -1.429999999999999\n"
     ]
    },
    {
     "name": "stderr",
     "output_type": "stream",
     "text": [
      "Episode 65/100: Total Reward -1.720:  65%|██████▌   | 78000/120000 [29:11<16:20, 42.81it/s]"
     ]
    },
    {
     "name": "stdout",
     "output_type": "stream",
     "text": [
      "Episode 65 : Total reward -1.7200000000000002\n"
     ]
    },
    {
     "name": "stderr",
     "output_type": "stream",
     "text": [
      "Episode 66/100: Total Reward -1.270:  66%|██████▌   | 79200/120000 [29:38<15:45, 43.15it/s]"
     ]
    },
    {
     "name": "stdout",
     "output_type": "stream",
     "text": [
      "Episode 66 : Total reward -1.2700000000000018\n"
     ]
    },
    {
     "name": "stderr",
     "output_type": "stream",
     "text": [
      "Episode 67/100: Total Reward -1.070:  67%|██████▋   | 80400/120000 [30:04<12:53, 51.22it/s]"
     ]
    },
    {
     "name": "stdout",
     "output_type": "stream",
     "text": [
      "Episode 67 : Total reward -1.069999999999998\n"
     ]
    },
    {
     "name": "stderr",
     "output_type": "stream",
     "text": [
      "Episode 68/100: Total Reward -1.020:  68%|██████▊   | 81600/120000 [30:30<13:42, 46.67it/s]"
     ]
    },
    {
     "name": "stdout",
     "output_type": "stream",
     "text": [
      "Episode 68 : Total reward -1.0199999999999996\n"
     ]
    },
    {
     "name": "stderr",
     "output_type": "stream",
     "text": [
      "Episode 69/100: Total Reward -3.500:  69%|██████▉   | 82800/120000 [30:56<12:43, 48.72it/s]"
     ]
    },
    {
     "name": "stdout",
     "output_type": "stream",
     "text": [
      "Episode 69 : Total reward -3.4999999999999996\n"
     ]
    },
    {
     "name": "stderr",
     "output_type": "stream",
     "text": [
      "Episode 70/100: Total Reward -4.880:  70%|███████   | 84000/120000 [31:24<14:13, 42.18it/s]"
     ]
    },
    {
     "name": "stdout",
     "output_type": "stream",
     "text": [
      "Episode 70 : Total reward -4.880000000000001\n"
     ]
    },
    {
     "name": "stderr",
     "output_type": "stream",
     "text": [
      "Episode 71/100: Total Reward -2.570:  71%|███████   | 85200/120000 [31:50<12:43, 45.59it/s]"
     ]
    },
    {
     "name": "stdout",
     "output_type": "stream",
     "text": [
      "Episode 71 : Total reward -2.57\n"
     ]
    },
    {
     "name": "stderr",
     "output_type": "stream",
     "text": [
      "Episode 72/100: Total Reward -0.930:  72%|███████▏  | 86400/120000 [32:18<11:53, 47.08it/s]"
     ]
    },
    {
     "name": "stdout",
     "output_type": "stream",
     "text": [
      "Episode 72 : Total reward -0.9300000000000027\n"
     ]
    },
    {
     "name": "stderr",
     "output_type": "stream",
     "text": [
      "Episode 73/100: Total Reward -3.970:  73%|███████▎  | 87600/120000 [32:45<14:35, 36.99it/s]"
     ]
    },
    {
     "name": "stdout",
     "output_type": "stream",
     "text": [
      "Episode 73 : Total reward -3.9699999999999998\n"
     ]
    },
    {
     "name": "stderr",
     "output_type": "stream",
     "text": [
      "Episode 74/100: Total Reward -0.630:  74%|███████▍  | 88800/120000 [33:11<10:42, 48.57it/s]"
     ]
    },
    {
     "name": "stdout",
     "output_type": "stream",
     "text": [
      "Episode 74 : Total reward -0.6300000000000006\n"
     ]
    },
    {
     "name": "stderr",
     "output_type": "stream",
     "text": [
      "Episode 75/100: Total Reward -3.560:  75%|███████▌  | 90000/120000 [33:37<10:55, 45.77it/s]"
     ]
    },
    {
     "name": "stdout",
     "output_type": "stream",
     "text": [
      "Episode 75 : Total reward -3.5599999999999983\n"
     ]
    },
    {
     "name": "stderr",
     "output_type": "stream",
     "text": [
      "Episode 76/100: Total Reward -1.130:  76%|███████▌  | 91200/120000 [34:05<10:12, 47.06it/s]"
     ]
    },
    {
     "name": "stdout",
     "output_type": "stream",
     "text": [
      "Episode 76 : Total reward -1.1300000000000008\n"
     ]
    },
    {
     "name": "stderr",
     "output_type": "stream",
     "text": [
      "Episode 77/100: Total Reward -1.050:  77%|███████▋  | 92400/120000 [34:31<09:21, 49.17it/s]"
     ]
    },
    {
     "name": "stdout",
     "output_type": "stream",
     "text": [
      "Episode 77 : Total reward -1.050000000000002\n"
     ]
    },
    {
     "name": "stderr",
     "output_type": "stream",
     "text": [
      "Episode 78/100: Total Reward -2.120:  78%|███████▊  | 93600/120000 [34:58<09:38, 45.66it/s]"
     ]
    },
    {
     "name": "stdout",
     "output_type": "stream",
     "text": [
      "Episode 78 : Total reward -2.12\n"
     ]
    },
    {
     "name": "stderr",
     "output_type": "stream",
     "text": [
      "Episode 79/100: Total Reward -0.290:  79%|███████▉  | 94800/120000 [35:24<08:41, 48.36it/s]"
     ]
    },
    {
     "name": "stdout",
     "output_type": "stream",
     "text": [
      "Episode 79 : Total reward -0.28999999999999887\n"
     ]
    },
    {
     "name": "stderr",
     "output_type": "stream",
     "text": [
      "Episode 80/100: Total Reward -1.480:  80%|████████  | 96000/120000 [35:50<08:35, 46.57it/s]"
     ]
    },
    {
     "name": "stdout",
     "output_type": "stream",
     "text": [
      "Episode 80 : Total reward -1.48\n"
     ]
    },
    {
     "name": "stderr",
     "output_type": "stream",
     "text": [
      "Episode 81/100: Total Reward -2.540:  81%|████████  | 97200/120000 [36:17<08:58, 42.34it/s]"
     ]
    },
    {
     "name": "stdout",
     "output_type": "stream",
     "text": [
      "Episode 81 : Total reward -2.5400000000000005\n"
     ]
    },
    {
     "name": "stderr",
     "output_type": "stream",
     "text": [
      "Episode 82/100: Total Reward -3.560:  82%|████████▏ | 98400/120000 [36:45<08:13, 43.76it/s]"
     ]
    },
    {
     "name": "stdout",
     "output_type": "stream",
     "text": [
      "Episode 82 : Total reward -3.560000000000004\n"
     ]
    },
    {
     "name": "stderr",
     "output_type": "stream",
     "text": [
      "Episode 83/100: Total Reward -0.330:  83%|████████▎ | 99600/120000 [37:10<06:44, 50.38it/s]"
     ]
    },
    {
     "name": "stdout",
     "output_type": "stream",
     "text": [
      "Episode 83 : Total reward -0.33000000000000107\n"
     ]
    },
    {
     "name": "stderr",
     "output_type": "stream",
     "text": [
      "Episode 84/100: Total Reward -0.480:  84%|████████▍ | 100800/120000 [37:36<06:00, 53.19it/s]"
     ]
    },
    {
     "name": "stdout",
     "output_type": "stream",
     "text": [
      "Episode 84 : Total reward -0.48000000000000254\n"
     ]
    },
    {
     "name": "stderr",
     "output_type": "stream",
     "text": [
      "Episode 85/100: Total Reward -2.480:  85%|████████▌ | 102000/120000 [38:01<07:16, 41.21it/s]"
     ]
    },
    {
     "name": "stdout",
     "output_type": "stream",
     "text": [
      "Episode 85 : Total reward -2.4800000000000018\n"
     ]
    },
    {
     "name": "stderr",
     "output_type": "stream",
     "text": [
      "Episode 86/100: Total Reward -2.490:  86%|████████▌ | 103200/120000 [38:28<06:40, 41.91it/s]"
     ]
    },
    {
     "name": "stdout",
     "output_type": "stream",
     "text": [
      "Episode 86 : Total reward -2.4899999999999998\n"
     ]
    },
    {
     "name": "stderr",
     "output_type": "stream",
     "text": [
      "Episode 87/100: Total Reward -1.470:  87%|████████▋ | 104400/120000 [38:55<05:23, 48.19it/s]"
     ]
    },
    {
     "name": "stdout",
     "output_type": "stream",
     "text": [
      "Episode 87 : Total reward -1.4699999999999975\n"
     ]
    },
    {
     "name": "stderr",
     "output_type": "stream",
     "text": [
      "Episode 88/100: Total Reward -0.770:  88%|████████▊ | 105600/120000 [39:23<05:13, 45.88it/s]"
     ]
    },
    {
     "name": "stdout",
     "output_type": "stream",
     "text": [
      "Episode 88 : Total reward -0.7699999999999967\n"
     ]
    },
    {
     "name": "stderr",
     "output_type": "stream",
     "text": [
      "Episode 89/100: Total Reward -0.320:  89%|████████▉ | 106800/120000 [39:49<04:08, 53.15it/s]"
     ]
    },
    {
     "name": "stdout",
     "output_type": "stream",
     "text": [
      "Episode 89 : Total reward -0.32000000000000073\n"
     ]
    },
    {
     "name": "stderr",
     "output_type": "stream",
     "text": [
      "Episode 90/100: Total Reward -1.050:  90%|█████████ | 108000/120000 [40:15<04:21, 45.95it/s]"
     ]
    },
    {
     "name": "stdout",
     "output_type": "stream",
     "text": [
      "Episode 90 : Total reward -1.0499999999999956\n"
     ]
    },
    {
     "name": "stderr",
     "output_type": "stream",
     "text": [
      "Episode 91/100: Total Reward -0.690:  91%|█████████ | 109200/120000 [40:41<03:23, 53.18it/s]"
     ]
    },
    {
     "name": "stdout",
     "output_type": "stream",
     "text": [
      "Episode 91 : Total reward -0.6900000000000024\n"
     ]
    },
    {
     "name": "stderr",
     "output_type": "stream",
     "text": [
      "Episode 92/100: Total Reward -1.210:  92%|█████████▏| 110400/120000 [41:09<03:24, 46.88it/s]"
     ]
    },
    {
     "name": "stdout",
     "output_type": "stream",
     "text": [
      "Episode 92 : Total reward -1.2100000000000006\n"
     ]
    },
    {
     "name": "stderr",
     "output_type": "stream",
     "text": [
      "Episode 93/100: Total Reward -0.500:  93%|█████████▎| 111600/120000 [41:36<03:01, 46.19it/s]"
     ]
    },
    {
     "name": "stdout",
     "output_type": "stream",
     "text": [
      "Episode 93 : Total reward -0.49999999999999667\n"
     ]
    },
    {
     "name": "stderr",
     "output_type": "stream",
     "text": [
      "Episode 94/100: Total Reward -1.620:  94%|█████████▍| 112800/120000 [42:03<02:43, 44.01it/s]"
     ]
    },
    {
     "name": "stdout",
     "output_type": "stream",
     "text": [
      "Episode 94 : Total reward -1.6199999999999999\n"
     ]
    },
    {
     "name": "stderr",
     "output_type": "stream",
     "text": [
      "Episode 95/100: Total Reward -1.450:  95%|█████████▌| 114000/120000 [42:30<02:25, 41.10it/s]"
     ]
    },
    {
     "name": "stdout",
     "output_type": "stream",
     "text": [
      "Episode 95 : Total reward -1.4500000000000006\n"
     ]
    },
    {
     "name": "stderr",
     "output_type": "stream",
     "text": [
      "Episode 96/100: Total Reward -1.060:  96%|█████████▌| 115200/120000 [42:56<01:48, 44.28it/s]"
     ]
    },
    {
     "name": "stdout",
     "output_type": "stream",
     "text": [
      "Episode 96 : Total reward -1.0599999999999998\n"
     ]
    },
    {
     "name": "stderr",
     "output_type": "stream",
     "text": [
      "Episode 97/100: Total Reward -1.680:  97%|█████████▋| 116400/120000 [43:23<01:24, 42.77it/s]"
     ]
    },
    {
     "name": "stdout",
     "output_type": "stream",
     "text": [
      "Episode 97 : Total reward -1.6799999999999982\n"
     ]
    },
    {
     "name": "stderr",
     "output_type": "stream",
     "text": [
      "Episode 98/100: Total Reward -1.020:  98%|█████████▊| 117600/120000 [43:49<00:51, 46.23it/s]"
     ]
    },
    {
     "name": "stdout",
     "output_type": "stream",
     "text": [
      "Episode 98 : Total reward -1.0199999999999991\n"
     ]
    },
    {
     "name": "stderr",
     "output_type": "stream",
     "text": [
      "Episode 99/100: Total Reward -0.820:  99%|█████████▉| 118800/120000 [44:15<00:27, 43.94it/s]"
     ]
    },
    {
     "name": "stdout",
     "output_type": "stream",
     "text": [
      "Episode 99 : Total reward -0.8199999999999998\n"
     ]
    },
    {
     "name": "stderr",
     "output_type": "stream",
     "text": [
      "Episode 100/100: Total Reward -0.980: 100%|██████████| 120000/120000 [44:41<00:00, 44.75it/s]"
     ]
    },
    {
     "name": "stdout",
     "output_type": "stream",
     "text": [
      "Episode 100 : Total reward -0.9800000000000008\n",
      "Running Time : 2766.2163615226746\n",
      "\n"
     ]
    },
    {
     "name": "stderr",
     "output_type": "stream",
     "text": [
      "\n"
     ]
    },
    {
     "data": {
      "image/png": "[encoded data removed]",
      "text/plain": [
       "<Figure size 640x480 with 1 Axes>"
      ]
     },
     "metadata": {},
     "output_type": "display_data"
    }
   ],
   "source": [
    "from traffic_tail.trainer import SUMOTrainer\n",
    "import time\n",
    "start = time.time()\n",
    "\n",
    "\n",
    "trainerOver = SUMOTrainer(\n",
    "    env='overspeed', \n",
    "    use_gui=False,\n",
    "    num_seconds=TOTAL_TIME,\n",
    "    graphs=True,\n",
    ")\n",
    "#trainerOver.load('results/default/best_agents.pkl') # load the default best model\n",
    "trainerOver.train(episodes=100) # train for 5 weekdays of rush hour traffic\n",
    "print(f\"Running Time : {time.time()-start}\\n\")"
   ]
  },
  {
   "cell_type": "code",
   "execution_count": 2,
   "metadata": {},
   "outputs": [],
   "source": [
    "import warnings\n",
    "import time\n",
    "warnings.filterwarnings(\"ignore\")\n",
    "\n",
    "from tqdm import tqdm\n",
    "from traffic_tail.environment import create_env\n",
    "from traffic_tail.trainer import SUMOTrainer"
   ]
  },
  {
   "cell_type": "code",
   "execution_count": 3,
   "metadata": {},
   "outputs": [
    {
     "name": "stdout",
     "output_type": "stream",
     "text": [
      "Using default SUMO environment.\n",
      "Initializing RL agents. (This may take a while)\n"
     ]
    }
   ],
   "source": [
    "trainerDef2 = SUMOTrainer(\n",
    "    env='default', \n",
    "    use_gui=False,\n",
    "    num_seconds=TOTAL_TIME,\n",
    ")\n",
    "# trainerOver2 = SUMOTrainer(\n",
    "#     env='overspeed', \n",
    "#     use_gui=False,\n",
    "#     num_seconds=TOTAL_TIME,\n",
    "# )"
   ]
  },
  {
   "cell_type": "code",
   "execution_count": 4,
   "metadata": {},
   "outputs": [
    {
     "name": "stdout",
     "output_type": "stream",
     "text": [
      "Using default SUMO environment.\n"
     ]
    },
    {
     "name": "stderr",
     "output_type": "stream",
     "text": [
      "100%|█████████▉| 1195/1200 [00:11<00:00, 104.48it/s]"
     ]
    },
    {
     "name": "stdout",
     "output_type": "stream",
     "text": [
      "episode : 0\n",
      "Total reward: -1.1999999999999962\n",
      "Running Time : 12.661067962646484\n",
      "\n",
      "Using default SUMO environment.\n"
     ]
    },
    {
     "name": "stderr",
     "output_type": "stream",
     "text": [
      "100%|██████████| 1200/1200 [00:12<00:00, 94.79it/s] \n"
     ]
    },
    {
     "name": "stdout",
     "output_type": "stream",
     "text": [
      "episode : 1\n",
      "Total reward: -2.61\n",
      "Running Time : 12.199322938919067\n",
      "\n",
      "Using default SUMO environment.\n"
     ]
    },
    {
     "name": "stderr",
     "output_type": "stream",
     "text": [
      "100%|██████████| 1200/1200 [00:12<00:00, 98.51it/s] \n",
      " 99%|█████████▉| 1190/1200 [00:11<00:00, 114.02it/s]"
     ]
    },
    {
     "name": "stdout",
     "output_type": "stream",
     "text": [
      "episode : 2\n",
      "Total reward: -1.9999999999999998\n",
      "Running Time : 12.586320638656616\n",
      "\n",
      "Using default SUMO environment.\n"
     ]
    },
    {
     "name": "stderr",
     "output_type": "stream",
     "text": [
      "100%|██████████| 1200/1200 [00:12<00:00, 95.23it/s] \n"
     ]
    },
    {
     "name": "stdout",
     "output_type": "stream",
     "text": [
      "episode : 3\n",
      "Total reward: -1.1100000000000008\n",
      "Running Time : 12.364566087722778\n",
      "\n",
      "Using default SUMO environment.\n"
     ]
    },
    {
     "name": "stderr",
     "output_type": "stream",
     "text": [
      "100%|██████████| 1200/1200 [00:12<00:00, 97.06it/s] \n",
      "100%|█████████▉| 1195/1200 [00:11<00:00, 114.33it/s]"
     ]
    },
    {
     "name": "stdout",
     "output_type": "stream",
     "text": [
      "episode : 4\n",
      "Total reward: -0.259999999999998\n",
      "Running Time : 13.140591859817505\n",
      "\n",
      "Using default SUMO environment.\n"
     ]
    },
    {
     "name": "stderr",
     "output_type": "stream",
     "text": [
      "100%|██████████| 1200/1200 [00:13<00:00, 91.35it/s] \n"
     ]
    },
    {
     "name": "stdout",
     "output_type": "stream",
     "text": [
      "episode : 5\n",
      "Total reward: -5.060000000000005\n",
      "Running Time : 13.327912092208862\n",
      "\n",
      "Using default SUMO environment.\n"
     ]
    },
    {
     "name": "stderr",
     "output_type": "stream",
     "text": [
      "100%|██████████| 1200/1200 [00:13<00:00, 90.12it/s]\n",
      " 99%|█████████▉| 1190/1200 [00:11<00:00, 106.48it/s]"
     ]
    },
    {
     "name": "stdout",
     "output_type": "stream",
     "text": [
      "episode : 6\n",
      "Total reward: -2.2199999999999998\n",
      "Running Time : 12.521116495132446\n",
      "\n",
      "Using default SUMO environment.\n"
     ]
    },
    {
     "name": "stderr",
     "output_type": "stream",
     "text": [
      "100%|██████████| 1200/1200 [00:12<00:00, 95.68it/s] \n"
     ]
    },
    {
     "name": "stdout",
     "output_type": "stream",
     "text": [
      "episode : 7\n",
      "Total reward: -2.2000000000000015\n",
      "Running Time : 12.477046251296997\n",
      "\n",
      "Using default SUMO environment.\n"
     ]
    },
    {
     "name": "stderr",
     "output_type": "stream",
     "text": [
      "100%|██████████| 1200/1200 [00:12<00:00, 96.26it/s] \n",
      "100%|██████████| 1200/1200 [00:11<00:00, 101.87it/s]"
     ]
    },
    {
     "name": "stdout",
     "output_type": "stream",
     "text": [
      "episode : 8\n",
      "Total reward: -3.599999999999999\n",
      "Running Time : 12.743520498275757\n",
      "\n",
      "Using default SUMO environment.\n"
     ]
    },
    {
     "name": "stderr",
     "output_type": "stream",
     "text": [
      "100%|██████████| 1200/1200 [00:12<00:00, 94.11it/s] \n"
     ]
    },
    {
     "name": "stdout",
     "output_type": "stream",
     "text": [
      "episode : 9\n",
      "Total reward: -0.829999999999997\n",
      "Running Time : 12.468913316726685\n",
      "\n",
      "Using default SUMO environment.\n"
     ]
    },
    {
     "name": "stderr",
     "output_type": "stream",
     "text": [
      "100%|██████████| 1200/1200 [00:12<00:00, 96.33it/s] \n",
      "100%|██████████| 1200/1200 [00:11<00:00, 99.48it/s] "
     ]
    },
    {
     "name": "stdout",
     "output_type": "stream",
     "text": [
      "episode : 10\n",
      "Total reward: -1.0499999999999985\n",
      "Running Time : 12.664896011352539\n",
      "\n",
      "Using default SUMO environment.\n"
     ]
    },
    {
     "name": "stderr",
     "output_type": "stream",
     "text": [
      "100%|██████████| 1200/1200 [00:12<00:00, 94.63it/s]\n"
     ]
    },
    {
     "name": "stdout",
     "output_type": "stream",
     "text": [
      "episode : 11\n",
      "Total reward: -1.9300000000000017\n",
      "Running Time : 13.197929859161377\n",
      "\n",
      "Using default SUMO environment.\n"
     ]
    },
    {
     "name": "stderr",
     "output_type": "stream",
     "text": [
      "100%|██████████| 1200/1200 [00:13<00:00, 90.96it/s]\n",
      "100%|██████████| 1200/1200 [00:11<00:00, 94.99it/s] "
     ]
    },
    {
     "name": "stdout",
     "output_type": "stream",
     "text": [
      "episode : 12\n",
      "Total reward: -3.329999999999999\n",
      "Running Time : 12.843932151794434\n",
      "\n",
      "Using default SUMO environment.\n"
     ]
    },
    {
     "name": "stderr",
     "output_type": "stream",
     "text": [
      "100%|██████████| 1200/1200 [00:12<00:00, 93.42it/s]\n"
     ]
    },
    {
     "name": "stdout",
     "output_type": "stream",
     "text": [
      "episode : 13\n",
      "Total reward: -1.3200000000000007\n",
      "Running Time : 13.283004760742188\n",
      "\n",
      "Using default SUMO environment.\n"
     ]
    },
    {
     "name": "stderr",
     "output_type": "stream",
     "text": [
      "100%|██████████| 1200/1200 [00:13<00:00, 90.39it/s] \n",
      " 99%|█████████▉| 1190/1200 [00:11<00:00, 102.43it/s]"
     ]
    },
    {
     "name": "stdout",
     "output_type": "stream",
     "text": [
      "episode : 14\n",
      "Total reward: -1.5799999999999992\n",
      "Running Time : 13.232203006744385\n",
      "\n",
      "Using default SUMO environment.\n"
     ]
    },
    {
     "name": "stderr",
     "output_type": "stream",
     "text": [
      "100%|██████████| 1200/1200 [00:13<00:00, 90.69it/s] \n"
     ]
    },
    {
     "name": "stdout",
     "output_type": "stream",
     "text": [
      "episode : 15\n",
      "Total reward: -5.189999999999998\n",
      "Running Time : 13.721707344055176\n",
      "\n",
      "Using default SUMO environment.\n"
     ]
    },
    {
     "name": "stderr",
     "output_type": "stream",
     "text": [
      "100%|██████████| 1200/1200 [00:13<00:00, 87.37it/s]\n",
      " 99%|█████████▉| 1190/1200 [00:11<00:00, 101.17it/s]"
     ]
    },
    {
     "name": "stdout",
     "output_type": "stream",
     "text": [
      "episode : 16\n",
      "Total reward: -0.5100000000000027\n",
      "Running Time : 13.234685182571411\n",
      "\n",
      "Using default SUMO environment.\n"
     ]
    },
    {
     "name": "stderr",
     "output_type": "stream",
     "text": [
      "100%|██████████| 1200/1200 [00:13<00:00, 90.75it/s] \n"
     ]
    },
    {
     "name": "stdout",
     "output_type": "stream",
     "text": [
      "episode : 17\n",
      "Total reward: -5.12\n",
      "Running Time : 12.837722539901733\n",
      "\n",
      "Using default SUMO environment.\n"
     ]
    },
    {
     "name": "stderr",
     "output_type": "stream",
     "text": [
      "100%|██████████| 1200/1200 [00:12<00:00, 93.34it/s]\n",
      "100%|██████████| 1200/1200 [00:11<00:00, 87.45it/s] "
     ]
    },
    {
     "name": "stdout",
     "output_type": "stream",
     "text": [
      "episode : 18\n",
      "Total reward: -3.1800000000000015\n",
      "Running Time : 12.895257472991943\n",
      "\n",
      "Using default SUMO environment.\n"
     ]
    },
    {
     "name": "stderr",
     "output_type": "stream",
     "text": [
      "100%|██████████| 1200/1200 [00:12<00:00, 93.15it/s]\n"
     ]
    },
    {
     "name": "stdout",
     "output_type": "stream",
     "text": [
      "episode : 19\n",
      "Total reward: -1.5299999999999998\n",
      "Running Time : 13.81525444984436\n",
      "\n",
      "total_mean : -2.2915\n"
     ]
    },
    {
     "name": "stderr",
     "output_type": "stream",
     "text": []
    }
   ],
   "source": [
    "#1\n",
    "trainerDef2.load('results/default/best_agents.pkl') # load the default best model\n",
    "agents = trainerDef2.agents\n",
    "\n",
    "rewards = []\n",
    "for i in range(20):\n",
    "    start = time.time()\n",
    "    env = create_env(\n",
    "        tailgating=False, \n",
    "        use_gui=False, \n",
    "        num_seconds=TOTAL_TIME\n",
    "    )\n",
    "\n",
    "    total_reward = 0\n",
    "    state = env.reset()\n",
    "    done = {\"__all__\": False}\n",
    "\n",
    "    pbar = tqdm(total=TOTAL_TIME)\n",
    "    while not done[\"__all__\"]:\n",
    "        actions = {\n",
    "            ts_id: agents[ts_id].act(state[ts_id]) \n",
    "            for ts_id in state.keys()\n",
    "        }\n",
    "        state, reward, done, _ = env.step(actions)\n",
    "        total_reward += sum(reward.values())\n",
    "        pbar.update(env.delta_time)\n",
    "\n",
    "    env.close()\n",
    "    print(f\"episode : {i}\")\n",
    "    print(f\"Total reward: {total_reward}\")\n",
    "    rewards.append(total_reward)\n",
    "    print(f\"Running Time : {time.time()-start}\\n\")\n",
    "print(f\"total_mean : {sum(rewards)/len(rewards)}\")"
   ]
  },
  {
   "cell_type": "code",
   "execution_count": 6,
   "metadata": {},
   "outputs": [
    {
     "name": "stdout",
     "output_type": "stream",
     "text": [
      "Using default SUMO environment.\n"
     ]
    },
    {
     "name": "stderr",
     "output_type": "stream",
     "text": [
      "100%|██████████| 1200/1200 [00:15<00:00, 78.07it/s]\n",
      "100%|██████████| 1200/1200 [00:13<00:00, 69.22it/s]"
     ]
    },
    {
     "name": "stdout",
     "output_type": "stream",
     "text": [
      "episode : 0\n",
      "Total reward: -13.02\n",
      "Running Time : 15.80994462966919\n",
      "\n",
      "Using default SUMO environment.\n"
     ]
    },
    {
     "name": "stderr",
     "output_type": "stream",
     "text": [
      "100%|██████████| 1200/1200 [00:15<00:00, 75.75it/s]\n"
     ]
    },
    {
     "name": "stdout",
     "output_type": "stream",
     "text": [
      "episode : 1\n",
      "Total reward: -2.1599999999999953\n",
      "Running Time : 17.246043920516968\n",
      "\n",
      "Using default SUMO environment.\n"
     ]
    },
    {
     "name": "stderr",
     "output_type": "stream",
     "text": [
      "100%|██████████| 1200/1200 [00:17<00:00, 69.56it/s]\n",
      "100%|██████████| 1200/1200 [00:14<00:00, 87.85it/s]"
     ]
    },
    {
     "name": "stdout",
     "output_type": "stream",
     "text": [
      "episode : 2\n",
      "Total reward: -8.759999999999986\n",
      "Running Time : 16.259451866149902\n",
      "\n",
      "Using default SUMO environment.\n"
     ]
    },
    {
     "name": "stderr",
     "output_type": "stream",
     "text": [
      "100%|██████████| 1200/1200 [00:16<00:00, 73.57it/s]\n"
     ]
    },
    {
     "name": "stdout",
     "output_type": "stream",
     "text": [
      "episode : 3\n",
      "Total reward: -2.0699999999999954\n",
      "Running Time : 16.085424184799194\n",
      "\n",
      "Using default SUMO environment.\n"
     ]
    },
    {
     "name": "stderr",
     "output_type": "stream",
     "text": [
      "100%|██████████| 1200/1200 [00:16<00:00, 74.74it/s]\n",
      "100%|█████████▉| 1195/1200 [00:13<00:00, 80.14it/s]"
     ]
    },
    {
     "name": "stdout",
     "output_type": "stream",
     "text": [
      "episode : 4\n",
      "Total reward: -1.5899999999999954\n",
      "Running Time : 15.790979623794556\n",
      "\n",
      "Using default SUMO environment.\n"
     ]
    },
    {
     "name": "stderr",
     "output_type": "stream",
     "text": [
      "100%|██████████| 1200/1200 [00:15<00:00, 78.65it/s]\n"
     ]
    },
    {
     "name": "stdout",
     "output_type": "stream",
     "text": [
      "episode : 5\n",
      "Total reward: -5.59\n",
      "Running Time : 14.923094272613525\n",
      "\n",
      "Using default SUMO environment.\n"
     ]
    },
    {
     "name": "stderr",
     "output_type": "stream",
     "text": [
      "100%|██████████| 1200/1200 [00:15<00:00, 77.97it/s]\n",
      "100%|█████████▉| 1195/1200 [00:14<00:00, 90.25it/s]"
     ]
    },
    {
     "name": "stdout",
     "output_type": "stream",
     "text": [
      "episode : 6\n",
      "Total reward: -2.5500000000000043\n",
      "Running Time : 16.22326922416687\n",
      "\n",
      "Using default SUMO environment.\n"
     ]
    },
    {
     "name": "stderr",
     "output_type": "stream",
     "text": [
      "100%|██████████| 1200/1200 [00:15<00:00, 76.16it/s]\n"
     ]
    },
    {
     "name": "stdout",
     "output_type": "stream",
     "text": [
      "episode : 7\n",
      "Total reward: -10.509999999999998\n",
      "Running Time : 15.423232316970825\n",
      "\n",
      "Using default SUMO environment.\n"
     ]
    },
    {
     "name": "stderr",
     "output_type": "stream",
     "text": [
      "100%|██████████| 1200/1200 [00:15<00:00, 75.76it/s]\n",
      " 99%|█████████▉| 1190/1200 [00:13<00:00, 87.58it/s]"
     ]
    },
    {
     "name": "stdout",
     "output_type": "stream",
     "text": [
      "episode : 8\n",
      "Total reward: -1.0700000000000036\n",
      "Running Time : 15.78875184059143\n",
      "\n",
      "Using default SUMO environment.\n"
     ]
    },
    {
     "name": "stderr",
     "output_type": "stream",
     "text": [
      "100%|██████████| 1200/1200 [00:15<00:00, 78.12it/s]\n"
     ]
    },
    {
     "name": "stdout",
     "output_type": "stream",
     "text": [
      "episode : 9\n",
      "Total reward: -5.520000000000006\n",
      "Running Time : 15.641326665878296\n",
      "\n",
      "Using default SUMO environment.\n"
     ]
    },
    {
     "name": "stderr",
     "output_type": "stream",
     "text": [
      "100%|██████████| 1200/1200 [00:15<00:00, 76.83it/s]\n",
      "100%|█████████▉| 1195/1200 [00:13<00:00, 84.87it/s]"
     ]
    },
    {
     "name": "stdout",
     "output_type": "stream",
     "text": [
      "episode : 10\n",
      "Total reward: -2.049999999999999\n",
      "Running Time : 15.624011516571045\n",
      "\n",
      "Using default SUMO environment.\n"
     ]
    },
    {
     "name": "stderr",
     "output_type": "stream",
     "text": [
      "100%|██████████| 1200/1200 [00:15<00:00, 76.64it/s]\n"
     ]
    },
    {
     "name": "stdout",
     "output_type": "stream",
     "text": [
      "episode : 11\n",
      "Total reward: -2.610000000000005\n",
      "Running Time : 15.456194877624512\n",
      "\n",
      "Using default SUMO environment.\n"
     ]
    },
    {
     "name": "stderr",
     "output_type": "stream",
     "text": [
      "100%|██████████| 1200/1200 [00:15<00:00, 77.80it/s]\n",
      "100%|██████████| 1200/1200 [00:13<00:00, 86.61it/s]"
     ]
    },
    {
     "name": "stdout",
     "output_type": "stream",
     "text": [
      "episode : 12\n",
      "Total reward: -1.280000000000003\n",
      "Running Time : 15.407336235046387\n",
      "\n",
      "Using default SUMO environment.\n"
     ]
    },
    {
     "name": "stderr",
     "output_type": "stream",
     "text": [
      "100%|██████████| 1200/1200 [00:15<00:00, 78.06it/s]\n"
     ]
    },
    {
     "name": "stdout",
     "output_type": "stream",
     "text": [
      "episode : 13\n",
      "Total reward: -3.5399999999999956\n",
      "Running Time : 15.073296070098877\n",
      "\n",
      "Using default SUMO environment.\n"
     ]
    },
    {
     "name": "stderr",
     "output_type": "stream",
     "text": [
      "100%|██████████| 1200/1200 [00:15<00:00, 79.34it/s]\n",
      "100%|██████████| 1200/1200 [00:13<00:00, 84.32it/s]"
     ]
    },
    {
     "name": "stdout",
     "output_type": "stream",
     "text": [
      "episode : 14\n",
      "Total reward: -1.1599999999999975\n",
      "Running Time : 15.273266792297363\n",
      "\n",
      "Using default SUMO environment.\n"
     ]
    },
    {
     "name": "stderr",
     "output_type": "stream",
     "text": [
      "100%|██████████| 1200/1200 [00:15<00:00, 78.74it/s]\n"
     ]
    },
    {
     "name": "stdout",
     "output_type": "stream",
     "text": [
      "episode : 15\n",
      "Total reward: -2.0000000000000058\n",
      "Running Time : 15.656050205230713\n",
      "\n",
      "Using default SUMO environment.\n"
     ]
    },
    {
     "name": "stderr",
     "output_type": "stream",
     "text": [
      "100%|██████████| 1200/1200 [00:15<00:00, 76.57it/s]\n",
      "100%|██████████| 1200/1200 [00:14<00:00, 80.78it/s]"
     ]
    },
    {
     "name": "stdout",
     "output_type": "stream",
     "text": [
      "episode : 16\n",
      "Total reward: -3.400000000000012\n",
      "Running Time : 16.27050471305847\n",
      "\n",
      "Using default SUMO environment.\n"
     ]
    },
    {
     "name": "stderr",
     "output_type": "stream",
     "text": [
      "100%|██████████| 1200/1200 [00:16<00:00, 71.31it/s]\n"
     ]
    },
    {
     "name": "stdout",
     "output_type": "stream",
     "text": [
      "episode : 17\n",
      "Total reward: -4.699999999999998\n",
      "Running Time : 15.610280990600586\n",
      "\n",
      "Using default SUMO environment.\n"
     ]
    },
    {
     "name": "stderr",
     "output_type": "stream",
     "text": [
      "100%|██████████| 1200/1200 [00:15<00:00, 79.55it/s]\n",
      "100%|█████████▉| 1195/1200 [00:12<00:00, 91.51it/s]"
     ]
    },
    {
     "name": "stdout",
     "output_type": "stream",
     "text": [
      "episode : 18\n",
      "Total reward: -2.8699999999999983\n",
      "Running Time : 14.374173164367676\n",
      "\n",
      "Using default SUMO environment.\n"
     ]
    },
    {
     "name": "stderr",
     "output_type": "stream",
     "text": [
      "100%|██████████| 1200/1200 [00:14<00:00, 83.48it/s]\n"
     ]
    },
    {
     "name": "stdout",
     "output_type": "stream",
     "text": [
      "episode : 19\n",
      "Total reward: -2.0899999999999994\n",
      "Running Time : 14.87386965751648\n",
      "\n",
      "total_mean : -3.9269999999999996\n"
     ]
    }
   ],
   "source": [
    "#2\n",
    "trainerOver2.load('results/overspeed/best_agents.pkl') # load the overspeed best model\n",
    "agents = trainerOver2.agents\n",
    "\n",
    "rewards = []\n",
    "for i in range(20):\n",
    "    start = time.time()\n",
    "    env = create_env(\n",
    "        tailgating=False, \n",
    "        use_gui=USE_SUMO_GUI, \n",
    "        num_seconds=TOTAL_TIME\n",
    "    )\n",
    "\n",
    "    total_reward = 0\n",
    "    state = env.reset()\n",
    "    done = {\"__all__\": False}\n",
    "\n",
    "    pbar = tqdm(total=TOTAL_TIME)\n",
    "    while not done[\"__all__\"]:\n",
    "        actions = {\n",
    "            ts_id: agents[ts_id].act(state[ts_id]) \n",
    "            for ts_id in state.keys()\n",
    "        }\n",
    "        state, reward, done, _ = env.step(actions)\n",
    "        total_reward += sum(reward.values())\n",
    "        pbar.update(env.delta_time)\n",
    "\n",
    "    env.close()\n",
    "    print(f\"episode : {i}\")\n",
    "    print(f\"Total reward: {total_reward}\")\n",
    "    rewards.append(total_reward)\n",
    "    print(f\"Running Time : {time.time()-start}\\n\")\n",
    "print(f\"total_mean : {sum(rewards)/len(rewards)}\")"
   ]
  },
  {
   "cell_type": "code",
   "execution_count": 6,
   "metadata": {},
   "outputs": [
    {
     "name": "stdout",
     "output_type": "stream",
     "text": [
      "Using custom environment with overspeed at greenlight behavior.\n",
      "Initializing RL agents. (This may take a while)\n"
     ]
    }
   ],
   "source": [
    "# trainerDef3 = SUMOTrainer(\n",
    "#     env='default', \n",
    "#     use_gui=False,\n",
    "#     num_seconds=TOTAL_TIME,\n",
    "# )\n",
    "trainerOver3 = SUMOTrainer(\n",
    "    env='overspeed', \n",
    "    use_gui=False,\n",
    "    num_seconds=TOTAL_TIME,\n",
    ")"
   ]
  },
  {
   "cell_type": "code",
   "execution_count": 5,
   "metadata": {},
   "outputs": [
    {
     "name": "stdout",
     "output_type": "stream",
     "text": [
      "Using custom environment with overspeed at greenlight behavior.\n"
     ]
    },
    {
     "name": "stderr",
     "output_type": "stream",
     "text": [
      " 50%|█████     | 605/1200 [00:42<00:42, 14.12it/s]\n"
     ]
    },
    {
     "name": "stdout",
     "output_type": "stream",
     "text": [
      "episode : 0\n",
      "Total reward: -1.7800000000000007\n",
      "Running Time : 25.30299687385559\n",
      "\n",
      "Using custom environment with overspeed at greenlight behavior.\n"
     ]
    },
    {
     "name": "stderr",
     "output_type": "stream",
     "text": [
      "100%|██████████| 1200/1200 [00:25<00:00, 47.44it/s]\n",
      "100%|██████████| 1200/1200 [00:23<00:00, 56.79it/s]"
     ]
    },
    {
     "name": "stdout",
     "output_type": "stream",
     "text": [
      "episode : 1\n",
      "Total reward: -0.9600000000000036\n",
      "Running Time : 24.73351526260376\n",
      "\n",
      "Using custom environment with overspeed at greenlight behavior.\n"
     ]
    },
    {
     "name": "stderr",
     "output_type": "stream",
     "text": [
      "100%|██████████| 1200/1200 [00:24<00:00, 48.52it/s]\n"
     ]
    },
    {
     "name": "stdout",
     "output_type": "stream",
     "text": [
      "episode : 2\n",
      "Total reward: -1.8000000000000012\n",
      "Running Time : 22.931998252868652\n",
      "\n",
      "Using custom environment with overspeed at greenlight behavior.\n"
     ]
    },
    {
     "name": "stderr",
     "output_type": "stream",
     "text": [
      "100%|██████████| 1200/1200 [00:22<00:00, 52.31it/s]\n",
      "100%|██████████| 1200/1200 [00:22<00:00, 50.36it/s]"
     ]
    },
    {
     "name": "stdout",
     "output_type": "stream",
     "text": [
      "episode : 3\n",
      "Total reward: -1.2999999999999978\n",
      "Running Time : 23.658004999160767\n",
      "\n",
      "Using custom environment with overspeed at greenlight behavior.\n"
     ]
    },
    {
     "name": "stderr",
     "output_type": "stream",
     "text": [
      "100%|██████████| 1200/1200 [00:23<00:00, 50.74it/s]\n"
     ]
    },
    {
     "name": "stdout",
     "output_type": "stream",
     "text": [
      "episode : 4\n",
      "Total reward: -1.4800000000000004\n",
      "Running Time : 23.416512966156006\n",
      "\n",
      "Using custom environment with overspeed at greenlight behavior.\n"
     ]
    },
    {
     "name": "stderr",
     "output_type": "stream",
     "text": [
      "100%|██████████| 1200/1200 [00:23<00:00, 51.25it/s]\n",
      "100%|█████████▉| 1195/1200 [00:22<00:00, 53.70it/s]"
     ]
    },
    {
     "name": "stdout",
     "output_type": "stream",
     "text": [
      "episode : 5\n",
      "Total reward: -0.5599999999999994\n",
      "Running Time : 23.44899845123291\n",
      "\n",
      "Using custom environment with overspeed at greenlight behavior.\n"
     ]
    },
    {
     "name": "stderr",
     "output_type": "stream",
     "text": [
      "100%|██████████| 1200/1200 [00:23<00:00, 51.17it/s]\n"
     ]
    },
    {
     "name": "stdout",
     "output_type": "stream",
     "text": [
      "episode : 6\n",
      "Total reward: -0.6500000000000002\n",
      "Running Time : 24.661001443862915\n",
      "\n",
      "Using custom environment with overspeed at greenlight behavior.\n"
     ]
    },
    {
     "name": "stderr",
     "output_type": "stream",
     "text": [
      "100%|██████████| 1200/1200 [00:24<00:00, 48.66it/s]\n",
      "100%|█████████▉| 1195/1200 [00:22<00:00, 51.57it/s]"
     ]
    },
    {
     "name": "stdout",
     "output_type": "stream",
     "text": [
      "episode : 7\n",
      "Total reward: -1.5500000000000007\n",
      "Running Time : 24.205998420715332\n",
      "\n",
      "Using custom environment with overspeed at greenlight behavior.\n"
     ]
    },
    {
     "name": "stderr",
     "output_type": "stream",
     "text": [
      "100%|██████████| 1200/1200 [00:24<00:00, 49.56it/s]\n"
     ]
    },
    {
     "name": "stdout",
     "output_type": "stream",
     "text": [
      "episode : 8\n",
      "Total reward: -0.6000000000000002\n",
      "Running Time : 23.360998392105103\n",
      "\n",
      "Using custom environment with overspeed at greenlight behavior.\n"
     ]
    },
    {
     "name": "stderr",
     "output_type": "stream",
     "text": [
      "100%|██████████| 1200/1200 [00:23<00:00, 51.41it/s]\n",
      "100%|█████████▉| 1195/1200 [00:22<00:00, 50.99it/s]"
     ]
    },
    {
     "name": "stdout",
     "output_type": "stream",
     "text": [
      "episode : 9\n",
      "Total reward: -3.419999999999998\n",
      "Running Time : 23.437001943588257\n",
      "\n",
      "Using custom environment with overspeed at greenlight behavior.\n"
     ]
    },
    {
     "name": "stderr",
     "output_type": "stream",
     "text": [
      "100%|██████████| 1200/1200 [00:23<00:00, 51.21it/s]\n"
     ]
    },
    {
     "name": "stdout",
     "output_type": "stream",
     "text": [
      "episode : 10\n",
      "Total reward: -1.0600000000000003\n",
      "Running Time : 22.804999113082886\n",
      "\n",
      "Using custom environment with overspeed at greenlight behavior.\n"
     ]
    },
    {
     "name": "stderr",
     "output_type": "stream",
     "text": [
      "100%|██████████| 1200/1200 [00:22<00:00, 52.56it/s]\n",
      "100%|██████████| 1200/1200 [00:21<00:00, 50.28it/s]"
     ]
    },
    {
     "name": "stdout",
     "output_type": "stream",
     "text": [
      "episode : 11\n",
      "Total reward: -0.8200000000000015\n",
      "Running Time : 23.1850004196167\n",
      "\n",
      "Using custom environment with overspeed at greenlight behavior.\n"
     ]
    },
    {
     "name": "stderr",
     "output_type": "stream",
     "text": [
      "100%|██████████| 1200/1200 [00:23<00:00, 51.80it/s]\n"
     ]
    },
    {
     "name": "stdout",
     "output_type": "stream",
     "text": [
      "episode : 12\n",
      "Total reward: -2.1499999999999995\n",
      "Running Time : 22.574999570846558\n",
      "\n",
      "Using custom environment with overspeed at greenlight behavior.\n"
     ]
    },
    {
     "name": "stderr",
     "output_type": "stream",
     "text": [
      "100%|██████████| 1200/1200 [00:22<00:00, 53.17it/s]\n",
      "100%|██████████| 1200/1200 [00:23<00:00, 49.76it/s]"
     ]
    },
    {
     "name": "stdout",
     "output_type": "stream",
     "text": [
      "episode : 13\n",
      "Total reward: -0.6999999999999973\n",
      "Running Time : 24.310999870300293\n",
      "\n",
      "Using custom environment with overspeed at greenlight behavior.\n"
     ]
    },
    {
     "name": "stderr",
     "output_type": "stream",
     "text": [
      "100%|██████████| 1200/1200 [00:24<00:00, 49.35it/s]\n"
     ]
    },
    {
     "name": "stdout",
     "output_type": "stream",
     "text": [
      "episode : 14\n",
      "Total reward: -1.5200000000000007\n",
      "Running Time : 23.57151961326599\n",
      "\n",
      "Using custom environment with overspeed at greenlight behavior.\n"
     ]
    },
    {
     "name": "stderr",
     "output_type": "stream",
     "text": [
      "100%|██████████| 1200/1200 [00:23<00:00, 50.87it/s]\n",
      "100%|██████████| 1200/1200 [00:23<00:00, 52.56it/s]"
     ]
    },
    {
     "name": "stdout",
     "output_type": "stream",
     "text": [
      "episode : 15\n",
      "Total reward: -0.5600000000000007\n",
      "Running Time : 25.197516202926636\n",
      "\n",
      "Using custom environment with overspeed at greenlight behavior.\n"
     ]
    },
    {
     "name": "stderr",
     "output_type": "stream",
     "text": [
      "100%|██████████| 1200/1200 [00:25<00:00, 47.66it/s]\n"
     ]
    },
    {
     "name": "stdout",
     "output_type": "stream",
     "text": [
      "episode : 16\n",
      "Total reward: -0.7700000000000002\n",
      "Running Time : 24.047001361846924\n",
      "\n",
      "Using custom environment with overspeed at greenlight behavior.\n"
     ]
    },
    {
     "name": "stderr",
     "output_type": "stream",
     "text": [
      "100%|██████████| 1200/1200 [00:24<00:00, 49.92it/s]\n",
      "100%|█████████▉| 1195/1200 [00:22<00:00, 59.91it/s]"
     ]
    },
    {
     "name": "stdout",
     "output_type": "stream",
     "text": [
      "episode : 17\n",
      "Total reward: -0.8199999999999983\n",
      "Running Time : 23.327998876571655\n",
      "\n",
      "Using custom environment with overspeed at greenlight behavior.\n"
     ]
    },
    {
     "name": "stderr",
     "output_type": "stream",
     "text": [
      "100%|██████████| 1200/1200 [00:23<00:00, 51.43it/s]\n"
     ]
    },
    {
     "name": "stdout",
     "output_type": "stream",
     "text": [
      "episode : 18\n",
      "Total reward: -1.37\n",
      "Running Time : 24.387226104736328\n",
      "\n",
      "Using custom environment with overspeed at greenlight behavior.\n"
     ]
    },
    {
     "name": "stderr",
     "output_type": "stream",
     "text": [
      "100%|██████████| 1200/1200 [00:24<00:00, 49.19it/s]\n",
      "100%|██████████| 1200/1200 [00:21<00:00, 54.98it/s]"
     ]
    },
    {
     "name": "stdout",
     "output_type": "stream",
     "text": [
      "episode : 19\n",
      "Total reward: -0.9199999999999984\n",
      "Running Time : 22.34486961364746\n",
      "\n",
      "total_mean : -1.2394999999999998\n"
     ]
    },
    {
     "name": "stderr",
     "output_type": "stream",
     "text": [
      "100%|██████████| 1200/1200 [00:34<00:00, 54.98it/s]"
     ]
    }
   ],
   "source": [
    "#3\n",
    "trainerDef3.load('results/default/best_agents.pkl') # load the default best model\n",
    "agents = trainerDef3.agents\n",
    "\n",
    "rewards = []\n",
    "for i in range(20):\n",
    "    start = time.time()\n",
    "    env = create_env(\n",
    "        tailgating=True, \n",
    "        #use_gui=USE_SUMO_GUI, \n",
    "        num_seconds=TOTAL_TIME\n",
    "    )\n",
    "\n",
    "    total_reward = 0\n",
    "    state = env.reset()\n",
    "    done = {\"__all__\": False}\n",
    "\n",
    "    pbar = tqdm(total=TOTAL_TIME)\n",
    "    while not done[\"__all__\"]:\n",
    "        actions = {\n",
    "            ts_id: agents[ts_id].act(state[ts_id]) \n",
    "            for ts_id in state.keys()\n",
    "        }\n",
    "        state, reward, done, _ = env.step(actions)\n",
    "        total_reward += sum(reward.values())\n",
    "        pbar.update(env.delta_time)\n",
    "\n",
    "    env.close()\n",
    "    print(f\"episode : {i}\")\n",
    "    print(f\"Total reward: {total_reward}\")\n",
    "    rewards.append(total_reward)\n",
    "    print(f\"Running Time : {time.time()-start}\\n\")\n",
    "print(f\"total_mean : {sum(rewards)/len(rewards)}\")"
   ]
  },
  {
   "cell_type": "code",
   "execution_count": 7,
   "metadata": {},
   "outputs": [
    {
     "name": "stdout",
     "output_type": "stream",
     "text": [
      "Using custom environment with overspeed at greenlight behavior.\n"
     ]
    },
    {
     "name": "stderr",
     "output_type": "stream",
     "text": [
      "100%|██████████| 1200/1200 [07:11<00:00,  2.78it/s]\n"
     ]
    },
    {
     "name": "stdout",
     "output_type": "stream",
     "text": [
      "episode : 0\n",
      "Total reward: -1.9099999999999984\n",
      "Running Time : 25.603749752044678\n",
      "\n",
      "Using custom environment with overspeed at greenlight behavior.\n"
     ]
    },
    {
     "name": "stderr",
     "output_type": "stream",
     "text": [
      "100%|██████████| 1200/1200 [00:25<00:00, 46.87it/s]\n",
      "100%|██████████| 1200/1200 [00:26<00:00, 38.17it/s]"
     ]
    },
    {
     "name": "stdout",
     "output_type": "stream",
     "text": [
      "episode : 1\n",
      "Total reward: -11.47\n",
      "Running Time : 27.46731972694397\n",
      "\n",
      "Using custom environment with overspeed at greenlight behavior.\n"
     ]
    },
    {
     "name": "stderr",
     "output_type": "stream",
     "text": [
      "100%|██████████| 1200/1200 [00:27<00:00, 43.72it/s]\n"
     ]
    },
    {
     "name": "stdout",
     "output_type": "stream",
     "text": [
      "episode : 2\n",
      "Total reward: -2.47\n",
      "Running Time : 25.14151692390442\n",
      "\n",
      "Using custom environment with overspeed at greenlight behavior.\n"
     ]
    },
    {
     "name": "stderr",
     "output_type": "stream",
     "text": [
      "100%|██████████| 1200/1200 [00:25<00:00, 47.68it/s]\n",
      "100%|█████████▉| 1195/1200 [00:24<00:00, 54.00it/s]"
     ]
    },
    {
     "name": "stdout",
     "output_type": "stream",
     "text": [
      "episode : 3\n",
      "Total reward: -1.280000000000002\n",
      "Running Time : 25.852999687194824\n",
      "\n",
      "Using custom environment with overspeed at greenlight behavior.\n"
     ]
    },
    {
     "name": "stderr",
     "output_type": "stream",
     "text": [
      "100%|██████████| 1200/1200 [00:25<00:00, 46.40it/s]\n"
     ]
    },
    {
     "name": "stdout",
     "output_type": "stream",
     "text": [
      "episode : 4\n",
      "Total reward: -1.0200000000000018\n",
      "Running Time : 25.401068449020386\n",
      "\n",
      "Using custom environment with overspeed at greenlight behavior.\n"
     ]
    },
    {
     "name": "stderr",
     "output_type": "stream",
     "text": [
      "100%|██████████| 1200/1200 [00:25<00:00, 47.31it/s]\n",
      "100%|██████████| 1200/1200 [00:22<00:00, 60.16it/s]"
     ]
    },
    {
     "name": "stdout",
     "output_type": "stream",
     "text": [
      "episode : 5\n",
      "Total reward: -0.3599999999999985\n",
      "Running Time : 23.501996755599976\n",
      "\n",
      "Using custom environment with overspeed at greenlight behavior.\n"
     ]
    },
    {
     "name": "stderr",
     "output_type": "stream",
     "text": [
      "100%|██████████| 1200/1200 [00:23<00:00, 51.05it/s]\n"
     ]
    },
    {
     "name": "stdout",
     "output_type": "stream",
     "text": [
      "episode : 6\n",
      "Total reward: -0.9800000000000006\n",
      "Running Time : 21.68799877166748\n",
      "\n",
      "Using custom environment with overspeed at greenlight behavior.\n"
     ]
    },
    {
     "name": "stderr",
     "output_type": "stream",
     "text": [
      "100%|██████████| 1200/1200 [00:21<00:00, 55.29it/s]\n",
      "100%|██████████| 1200/1200 [00:21<00:00, 58.39it/s]"
     ]
    },
    {
     "name": "stdout",
     "output_type": "stream",
     "text": [
      "episode : 7\n",
      "Total reward: -0.47000000000000314\n",
      "Running Time : 22.890999794006348\n",
      "\n",
      "Using custom environment with overspeed at greenlight behavior.\n"
     ]
    },
    {
     "name": "stderr",
     "output_type": "stream",
     "text": [
      "100%|██████████| 1200/1200 [00:22<00:00, 52.45it/s]\n"
     ]
    },
    {
     "name": "stdout",
     "output_type": "stream",
     "text": [
      "episode : 8\n",
      "Total reward: -0.9899999999999994\n",
      "Running Time : 24.202033758163452\n",
      "\n",
      "Using custom environment with overspeed at greenlight behavior.\n"
     ]
    },
    {
     "name": "stderr",
     "output_type": "stream",
     "text": [
      "100%|██████████| 1200/1200 [00:24<00:00, 49.61it/s]\n",
      "100%|█████████▉| 1195/1200 [00:22<00:00, 49.49it/s]"
     ]
    },
    {
     "name": "stdout",
     "output_type": "stream",
     "text": [
      "episode : 9\n",
      "Total reward: -2.87\n",
      "Running Time : 23.727513790130615\n",
      "\n",
      "Using custom environment with overspeed at greenlight behavior.\n"
     ]
    },
    {
     "name": "stderr",
     "output_type": "stream",
     "text": [
      "100%|██████████| 1200/1200 [00:23<00:00, 50.47it/s]\n"
     ]
    },
    {
     "name": "stdout",
     "output_type": "stream",
     "text": [
      "episode : 10\n",
      "Total reward: -1.8399999999999996\n",
      "Running Time : 26.058514833450317\n",
      "\n",
      "Using custom environment with overspeed at greenlight behavior.\n"
     ]
    },
    {
     "name": "stderr",
     "output_type": "stream",
     "text": [
      "100%|██████████| 1200/1200 [00:26<00:00, 46.08it/s]\n",
      "100%|██████████| 1200/1200 [00:24<00:00, 49.17it/s]"
     ]
    },
    {
     "name": "stdout",
     "output_type": "stream",
     "text": [
      "episode : 11\n",
      "Total reward: -1.7300000000000015\n",
      "Running Time : 25.79151439666748\n",
      "\n",
      "Using custom environment with overspeed at greenlight behavior.\n"
     ]
    },
    {
     "name": "stderr",
     "output_type": "stream",
     "text": [
      "100%|██████████| 1200/1200 [00:25<00:00, 46.54it/s]\n"
     ]
    },
    {
     "name": "stdout",
     "output_type": "stream",
     "text": [
      "episode : 12\n",
      "Total reward: -1.6800000000000006\n",
      "Running Time : 23.33809757232666\n",
      "\n",
      "Using custom environment with overspeed at greenlight behavior.\n"
     ]
    },
    {
     "name": "stderr",
     "output_type": "stream",
     "text": [
      "100%|██████████| 1200/1200 [00:23<00:00, 51.40it/s]\n",
      "100%|██████████| 1200/1200 [00:20<00:00, 57.78it/s]"
     ]
    },
    {
     "name": "stdout",
     "output_type": "stream",
     "text": [
      "episode : 13\n",
      "Total reward: -1.3499999999999999\n",
      "Running Time : 22.076998472213745\n",
      "\n",
      "Using custom environment with overspeed at greenlight behavior.\n"
     ]
    },
    {
     "name": "stderr",
     "output_type": "stream",
     "text": [
      "100%|██████████| 1200/1200 [00:22<00:00, 54.39it/s]\n"
     ]
    },
    {
     "name": "stdout",
     "output_type": "stream",
     "text": [
      "episode : 14\n",
      "Total reward: -0.9399999999999991\n",
      "Running Time : 23.957175254821777\n",
      "\n",
      "Using custom environment with overspeed at greenlight behavior.\n"
     ]
    },
    {
     "name": "stderr",
     "output_type": "stream",
     "text": [
      "100%|██████████| 1200/1200 [00:23<00:00, 50.08it/s]\n",
      "100%|██████████| 1200/1200 [00:23<00:00, 54.81it/s]"
     ]
    },
    {
     "name": "stdout",
     "output_type": "stream",
     "text": [
      "episode : 15\n",
      "Total reward: -0.1200000000000011\n",
      "Running Time : 25.008000135421753\n",
      "\n",
      "Using custom environment with overspeed at greenlight behavior.\n"
     ]
    },
    {
     "name": "stderr",
     "output_type": "stream",
     "text": [
      "100%|██████████| 1200/1200 [00:25<00:00, 47.99it/s]\n"
     ]
    },
    {
     "name": "stdout",
     "output_type": "stream",
     "text": [
      "episode : 16\n",
      "Total reward: -0.6699999999999996\n",
      "Running Time : 23.470000982284546\n",
      "\n",
      "Using custom environment with overspeed at greenlight behavior.\n"
     ]
    },
    {
     "name": "stderr",
     "output_type": "stream",
     "text": [
      "100%|██████████| 1200/1200 [00:23<00:00, 51.10it/s]\n",
      "100%|██████████| 1200/1200 [00:23<00:00, 51.78it/s]"
     ]
    },
    {
     "name": "stdout",
     "output_type": "stream",
     "text": [
      "episode : 17\n",
      "Total reward: -0.8099999999999992\n",
      "Running Time : 24.39699959754944\n",
      "\n",
      "Using custom environment with overspeed at greenlight behavior.\n"
     ]
    },
    {
     "name": "stderr",
     "output_type": "stream",
     "text": [
      "100%|██████████| 1200/1200 [00:24<00:00, 49.19it/s]\n"
     ]
    },
    {
     "name": "stdout",
     "output_type": "stream",
     "text": [
      "episode : 18\n",
      "Total reward: -0.8900000000000003\n",
      "Running Time : 24.14800214767456\n",
      "\n",
      "Using custom environment with overspeed at greenlight behavior.\n"
     ]
    },
    {
     "name": "stderr",
     "output_type": "stream",
     "text": [
      "100%|██████████| 1200/1200 [00:24<00:00, 49.71it/s]\n",
      "100%|██████████| 1200/1200 [00:22<00:00, 50.45it/s]"
     ]
    },
    {
     "name": "stdout",
     "output_type": "stream",
     "text": [
      "episode : 19\n",
      "Total reward: -0.5200000000000035\n",
      "Running Time : 23.834999561309814\n",
      "\n",
      "total_mean : -1.7185000000000006\n"
     ]
    },
    {
     "name": "stderr",
     "output_type": "stream",
     "text": [
      "100%|██████████| 1200/1200 [00:40<00:00, 50.45it/s]"
     ]
    }
   ],
   "source": [
    "#4\n",
    "trainerOver3.load('results/overspeed/best_agents.pkl') # load the overspeed best model\n",
    "agents = trainerOver3.agents\n",
    "\n",
    "rewards = []\n",
    "for i in range(20):\n",
    "    start = time.time()\n",
    "    env = create_env(\n",
    "        tailgating=True, \n",
    "        use_gui=False, \n",
    "        num_seconds=TOTAL_TIME\n",
    "    )\n",
    "\n",
    "    total_reward = 0\n",
    "    state = env.reset()\n",
    "    done = {\"__all__\": False}\n",
    "\n",
    "    pbar = tqdm(total=TOTAL_TIME)\n",
    "    while not done[\"__all__\"]:\n",
    "        actions = {\n",
    "            ts_id: agents[ts_id].act(state[ts_id]) \n",
    "            for ts_id in state.keys()\n",
    "        }\n",
    "        state, reward, done, _ = env.step(actions)\n",
    "        total_reward += sum(reward.values())\n",
    "        pbar.update(env.delta_time)\n",
    "\n",
    "    env.close()\n",
    "    print(f\"episode : {i}\")\n",
    "    print(f\"Total reward: {total_reward}\")\n",
    "    rewards.append(total_reward)\n",
    "    print(f\"Running Time : {time.time()-start}\\n\")\n",
    "print(f\"total_mean : {sum(rewards)/len(rewards)}\")"
   ]
  }
 ],
 "metadata": {
  "kernelspec": {
   "display_name": "sumo",
   "language": "python",
   "name": "python3"
  },
  "language_info": {
   "codemirror_mode": {
    "name": "ipython",
    "version": 3
   },
   "file_extension": ".py",
   "mimetype": "text/x-python",
   "name": "python",
   "nbconvert_exporter": "python",
   "pygments_lexer": "ipython3",
   "version": "3.11.5"
  }
 },
 "nbformat": 4,
 "nbformat_minor": 2
}
