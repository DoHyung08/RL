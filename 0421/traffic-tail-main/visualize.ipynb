{
 "cells": [
  {
   "cell_type": "code",
   "execution_count": 2,
   "metadata": {},
   "outputs": [],
   "source": [
    "USE_SUMO_GUI = True # set to True to use sumo-gui\n",
    "TOTAL_TIME = 1200 # 60*60*2 = 2 hours (e.g. rush hour 7am - 9am)"
   ]
  },
  {
   "cell_type": "code",
   "execution_count": 7,
   "metadata": {},
   "outputs": [
    {
     "name": "stdout",
     "output_type": "stream",
     "text": [
      "Using default SUMO environment.\n"
     ]
    },
    {
     "name": "stderr",
     "output_type": "stream",
     "text": [
      "  7%|▋         | 85/1200 [00:09<02:04,  8.93it/s] \n"
     ]
    },
    {
     "name": "stdout",
     "output_type": "stream",
     "text": [
      "episode : 0\n",
      "Total reward: -55.049999999999976\n",
      "Running Time : 16.647140979766846\n",
      "\n",
      "Using default SUMO environment.\n"
     ]
    },
    {
     "name": "stderr",
     "output_type": "stream",
     "text": [
      "100%|██████████| 1200/1200 [00:16<00:00, 72.18it/s]\n",
      "100%|█████████▉| 1195/1200 [00:14<00:00, 85.14it/s]"
     ]
    },
    {
     "name": "stdout",
     "output_type": "stream",
     "text": [
      "episode : 1\n",
      "Total reward: -57.44999999999998\n",
      "Running Time : 15.527286052703857\n",
      "\n",
      "Using default SUMO environment.\n"
     ]
    },
    {
     "name": "stderr",
     "output_type": "stream",
     "text": [
      "100%|██████████| 1200/1200 [00:15<00:00, 77.24it/s]\n"
     ]
    },
    {
     "name": "stdout",
     "output_type": "stream",
     "text": [
      "episode : 2\n",
      "Total reward: -51.95000000000005\n",
      "Running Time : 17.234086275100708\n",
      "\n",
      "Using default SUMO environment.\n"
     ]
    },
    {
     "name": "stderr",
     "output_type": "stream",
     "text": [
      "100%|██████████| 1200/1200 [00:17<00:00, 69.69it/s]\n",
      "100%|█████████▉| 1195/1200 [00:15<00:00, 63.30it/s]"
     ]
    },
    {
     "name": "stdout",
     "output_type": "stream",
     "text": [
      "episode : 3\n",
      "Total reward: -53.36999999999996\n",
      "Running Time : 16.988245964050293\n",
      "\n",
      "Using default SUMO environment.\n"
     ]
    },
    {
     "name": "stderr",
     "output_type": "stream",
     "text": [
      "100%|██████████| 1200/1200 [00:16<00:00, 70.67it/s]\n"
     ]
    },
    {
     "name": "stdout",
     "output_type": "stream",
     "text": [
      "episode : 4\n",
      "Total reward: -65.57000000000008\n",
      "Running Time : 18.796010732650757\n",
      "\n",
      "Using default SUMO environment.\n"
     ]
    },
    {
     "name": "stderr",
     "output_type": "stream",
     "text": [
      "100%|██████████| 1200/1200 [00:18<00:00, 63.75it/s]\n",
      "100%|█████████▉| 1195/1200 [00:15<00:00, 64.86it/s]"
     ]
    },
    {
     "name": "stdout",
     "output_type": "stream",
     "text": [
      "episode : 5\n",
      "Total reward: -76.75000000000001\n",
      "Running Time : 16.375283241271973\n",
      "\n",
      "Using default SUMO environment.\n"
     ]
    },
    {
     "name": "stderr",
     "output_type": "stream",
     "text": [
      "100%|██████████| 1200/1200 [00:16<00:00, 73.43it/s]\n"
     ]
    },
    {
     "name": "stdout",
     "output_type": "stream",
     "text": [
      "episode : 6\n",
      "Total reward: -72.91000000000003\n",
      "Running Time : 19.39616847038269\n",
      "\n",
      "Using default SUMO environment.\n"
     ]
    },
    {
     "name": "stderr",
     "output_type": "stream",
     "text": [
      "100%|██████████| 1200/1200 [00:19<00:00, 61.80it/s]\n",
      "100%|█████████▉| 1195/1200 [00:14<00:00, 74.59it/s]"
     ]
    },
    {
     "name": "stdout",
     "output_type": "stream",
     "text": [
      "episode : 7\n",
      "Total reward: -55.81\n",
      "Running Time : 16.29765486717224\n",
      "\n",
      "Using default SUMO environment.\n"
     ]
    },
    {
     "name": "stderr",
     "output_type": "stream",
     "text": [
      "100%|██████████| 1200/1200 [00:16<00:00, 73.66it/s]\n"
     ]
    },
    {
     "name": "stdout",
     "output_type": "stream",
     "text": [
      "episode : 8\n",
      "Total reward: -50.50999999999992\n",
      "Running Time : 17.572763681411743\n",
      "\n",
      "Using default SUMO environment.\n"
     ]
    },
    {
     "name": "stderr",
     "output_type": "stream",
     "text": [
      "100%|██████████| 1200/1200 [00:17<00:00, 68.28it/s]\n",
      "100%|██████████| 1200/1200 [00:14<00:00, 67.74it/s]"
     ]
    },
    {
     "name": "stdout",
     "output_type": "stream",
     "text": [
      "episode : 9\n",
      "Total reward: -29.260000000000012\n",
      "Running Time : 15.650992393493652\n",
      "\n",
      "Using default SUMO environment.\n"
     ]
    },
    {
     "name": "stderr",
     "output_type": "stream",
     "text": [
      "100%|██████████| 1200/1200 [00:15<00:00, 76.67it/s]\n"
     ]
    },
    {
     "name": "stdout",
     "output_type": "stream",
     "text": [
      "episode : 10\n",
      "Total reward: -29.470000000000013\n",
      "Running Time : 16.367372274398804\n",
      "\n",
      "Using default SUMO environment.\n"
     ]
    },
    {
     "name": "stderr",
     "output_type": "stream",
     "text": [
      "100%|██████████| 1200/1200 [00:16<00:00, 73.37it/s]\n",
      "100%|█████████▉| 1195/1200 [00:14<00:00, 74.66it/s]"
     ]
    },
    {
     "name": "stdout",
     "output_type": "stream",
     "text": [
      "episode : 11\n",
      "Total reward: -83.92999999999995\n",
      "Running Time : 16.224123239517212\n",
      "\n",
      "Using default SUMO environment.\n"
     ]
    },
    {
     "name": "stderr",
     "output_type": "stream",
     "text": [
      "100%|██████████| 1200/1200 [00:16<00:00, 73.89it/s]\n"
     ]
    },
    {
     "name": "stdout",
     "output_type": "stream",
     "text": [
      "episode : 12\n",
      "Total reward: -49.79999999999996\n",
      "Running Time : 17.713414430618286\n",
      "\n",
      "Using default SUMO environment.\n"
     ]
    },
    {
     "name": "stderr",
     "output_type": "stream",
     "text": [
      "100%|██████████| 1200/1200 [00:17<00:00, 67.76it/s]\n",
      "100%|█████████▉| 1195/1200 [00:18<00:00, 63.73it/s]"
     ]
    },
    {
     "name": "stdout",
     "output_type": "stream",
     "text": [
      "episode : 13\n",
      "Total reward: -85.59000000000006\n",
      "Running Time : 19.33438801765442\n",
      "\n",
      "Using default SUMO environment.\n"
     ]
    },
    {
     "name": "stderr",
     "output_type": "stream",
     "text": [
      "100%|██████████| 1200/1200 [00:19<00:00, 61.97it/s]\n"
     ]
    },
    {
     "name": "stdout",
     "output_type": "stream",
     "text": [
      "episode : 14\n",
      "Total reward: -43.86999999999994\n",
      "Running Time : 14.803332567214966\n",
      "\n",
      "Using default SUMO environment.\n"
     ]
    },
    {
     "name": "stderr",
     "output_type": "stream",
     "text": [
      "100%|██████████| 1200/1200 [00:14<00:00, 81.21it/s]\n",
      "100%|█████████▉| 1195/1200 [00:13<00:00, 57.99it/s]"
     ]
    },
    {
     "name": "stdout",
     "output_type": "stream",
     "text": [
      "episode : 15\n",
      "Total reward: -33.89000000000003\n",
      "Running Time : 14.925586938858032\n",
      "\n",
      "Using default SUMO environment.\n"
     ]
    },
    {
     "name": "stderr",
     "output_type": "stream",
     "text": [
      "100%|██████████| 1200/1200 [00:14<00:00, 80.13it/s]\n"
     ]
    },
    {
     "name": "stdout",
     "output_type": "stream",
     "text": [
      "episode : 16\n",
      "Total reward: -80.84\n",
      "Running Time : 16.47171378135681\n",
      "\n",
      "Using default SUMO environment.\n"
     ]
    },
    {
     "name": "stderr",
     "output_type": "stream",
     "text": [
      "100%|██████████| 1200/1200 [00:16<00:00, 73.11it/s]\n",
      "100%|██████████| 1200/1200 [00:15<00:00, 77.63it/s]"
     ]
    },
    {
     "name": "stdout",
     "output_type": "stream",
     "text": [
      "episode : 17\n",
      "Total reward: -84.83000000000003\n",
      "Running Time : 16.629239320755005\n",
      "\n",
      "Using default SUMO environment.\n"
     ]
    },
    {
     "name": "stderr",
     "output_type": "stream",
     "text": [
      "100%|██████████| 1200/1200 [00:16<00:00, 72.26it/s]\n"
     ]
    },
    {
     "name": "stdout",
     "output_type": "stream",
     "text": [
      "episode : 18\n",
      "Total reward: -105.80999999999999\n",
      "Running Time : 17.26191282272339\n",
      "\n",
      "Using default SUMO environment.\n"
     ]
    },
    {
     "name": "stderr",
     "output_type": "stream",
     "text": [
      "100%|██████████| 1200/1200 [00:17<00:00, 69.54it/s]\n",
      "100%|█████████▉| 1195/1200 [00:12<00:00, 69.90it/s] "
     ]
    },
    {
     "name": "stdout",
     "output_type": "stream",
     "text": [
      "episode : 19\n",
      "Total reward: -43.43999999999998\n",
      "Running Time : 14.085005521774292\n",
      "\n",
      "total_mean : -60.504999999999995\n"
     ]
    }
   ],
   "source": [
    "import warnings\n",
    "import time\n",
    "\n",
    "warnings.filterwarnings(\"ignore\")\n",
    "\n",
    "from tqdm import tqdm\n",
    "from traffic_tail.environment import create_env\n",
    "\n",
    "rewards = []\n",
    "for i in range(20):\n",
    "    start = time.time()\n",
    "    env = create_env(\n",
    "        tailgating=False, #####\n",
    "        #use_gui=USE_SUMO_GUI, \n",
    "        num_seconds=TOTAL_TIME,\n",
    "    )\n",
    "\n",
    "    total_reward = 0\n",
    "    state = env.reset()\n",
    "    done = {\"__all__\": False}\n",
    "\n",
    "    pbar = tqdm(total=TOTAL_TIME)\n",
    "    while not done[\"__all__\"]:\n",
    "        actions = {\n",
    "            ts_id: env.action_spaces(ts_id).sample()\n",
    "            for ts_id in env.ts_ids\n",
    "        }\n",
    "        state, reward, done, _ = env.step(actions)\n",
    "        total_reward += sum(reward.values())\n",
    "        pbar.update(env.delta_time)\n",
    "\n",
    "    env.close()\n",
    "    print(f\"episode : {i}\")\n",
    "    print(f\"Total reward: {total_reward}\")\n",
    "    rewards.append(total_reward)\n",
    "    print(f\"Running Time : {time.time()-start}\\n\")\n",
    "print(f\"total_mean : {sum(rewards)/len(rewards)}\")"
   ]
  },
  {
   "cell_type": "code",
   "execution_count": 8,
   "metadata": {},
   "outputs": [
    {
     "name": "stdout",
     "output_type": "stream",
     "text": [
      "Using custom environment with tailgating behavior.\n"
     ]
    },
    {
     "name": "stderr",
     "output_type": "stream",
     "text": [
      "100%|██████████| 1200/1200 [00:14<00:00, 85.07it/s]\n"
     ]
    },
    {
     "name": "stdout",
     "output_type": "stream",
     "text": [
      "episode : 0\n",
      "Total reward: -439.5099999999999\n",
      "Running Time : 54.00241661071777\n",
      "\n",
      "Using custom environment with tailgating behavior.\n"
     ]
    },
    {
     "name": "stderr",
     "output_type": "stream",
     "text": [
      "100%|██████████| 1200/1200 [00:53<00:00, 22.22it/s]\n",
      "100%|██████████| 1200/1200 [00:27<00:00, 23.37it/s]"
     ]
    },
    {
     "name": "stdout",
     "output_type": "stream",
     "text": [
      "episode : 1\n",
      "Total reward: -55.0\n",
      "Running Time : 29.126797914505005\n",
      "\n",
      "Using custom environment with tailgating behavior.\n"
     ]
    },
    {
     "name": "stderr",
     "output_type": "stream",
     "text": [
      "100%|██████████| 1200/1200 [00:29<00:00, 41.17it/s]\n"
     ]
    },
    {
     "name": "stdout",
     "output_type": "stream",
     "text": [
      "episode : 2\n",
      "Total reward: -12.560000000000011\n",
      "Running Time : 33.0418016910553\n",
      "\n",
      "Using custom environment with tailgating behavior.\n"
     ]
    },
    {
     "name": "stderr",
     "output_type": "stream",
     "text": [
      "100%|██████████| 1200/1200 [00:33<00:00, 36.31it/s]\n",
      "100%|██████████| 1200/1200 [00:32<00:00, 39.02it/s]"
     ]
    },
    {
     "name": "stdout",
     "output_type": "stream",
     "text": [
      "episode : 3\n",
      "Total reward: -18.819999999999993\n",
      "Running Time : 33.24414825439453\n",
      "\n",
      "Using custom environment with tailgating behavior.\n"
     ]
    },
    {
     "name": "stderr",
     "output_type": "stream",
     "text": [
      "100%|██████████| 1200/1200 [00:33<00:00, 36.09it/s]\n"
     ]
    },
    {
     "name": "stdout",
     "output_type": "stream",
     "text": [
      "episode : 4\n",
      "Total reward: -390.9300000000002\n",
      "Running Time : 58.51053190231323\n",
      "\n",
      "Using custom environment with tailgating behavior.\n"
     ]
    },
    {
     "name": "stderr",
     "output_type": "stream",
     "text": [
      "100%|██████████| 1200/1200 [00:58<00:00, 20.50it/s]\n",
      "100%|██████████| 1200/1200 [00:30<00:00, 46.43it/s]"
     ]
    },
    {
     "name": "stdout",
     "output_type": "stream",
     "text": [
      "episode : 5\n",
      "Total reward: -6.569999999999987\n",
      "Running Time : 32.01766037940979\n",
      "\n",
      "Using custom environment with tailgating behavior.\n"
     ]
    },
    {
     "name": "stderr",
     "output_type": "stream",
     "text": [
      "100%|██████████| 1200/1200 [00:31<00:00, 37.52it/s]\n"
     ]
    },
    {
     "name": "stdout",
     "output_type": "stream",
     "text": [
      "episode : 6\n",
      "Total reward: -12.549999999999986\n",
      "Running Time : 36.00918126106262\n",
      "\n",
      "Using custom environment with tailgating behavior.\n"
     ]
    },
    {
     "name": "stderr",
     "output_type": "stream",
     "text": [
      "100%|██████████| 1200/1200 [00:36<00:00, 33.31it/s]\n",
      "100%|██████████| 1200/1200 [00:28<00:00, 39.90it/s]"
     ]
    },
    {
     "name": "stdout",
     "output_type": "stream",
     "text": [
      "episode : 7\n",
      "Total reward: -5.579999999999998\n",
      "Running Time : 30.164345264434814\n",
      "\n",
      "Using custom environment with tailgating behavior.\n"
     ]
    },
    {
     "name": "stderr",
     "output_type": "stream",
     "text": [
      "100%|██████████| 1200/1200 [00:30<00:00, 39.80it/s]\n"
     ]
    },
    {
     "name": "stdout",
     "output_type": "stream",
     "text": [
      "episode : 8\n",
      "Total reward: -9.020000000000001\n",
      "Running Time : 28.42853879928589\n",
      "\n",
      "Using custom environment with tailgating behavior.\n"
     ]
    },
    {
     "name": "stderr",
     "output_type": "stream",
     "text": [
      "100%|██████████| 1200/1200 [00:28<00:00, 42.18it/s]\n",
      "100%|██████████| 1200/1200 [00:30<00:00, 37.74it/s]"
     ]
    },
    {
     "name": "stdout",
     "output_type": "stream",
     "text": [
      "episode : 9\n",
      "Total reward: -5.049999999999991\n",
      "Running Time : 31.382257223129272\n",
      "\n",
      "Using custom environment with tailgating behavior.\n"
     ]
    },
    {
     "name": "stderr",
     "output_type": "stream",
     "text": [
      "100%|██████████| 1200/1200 [00:31<00:00, 38.21it/s]\n"
     ]
    },
    {
     "name": "stdout",
     "output_type": "stream",
     "text": [
      "episode : 10\n",
      "Total reward: -9.379999999999999\n",
      "Running Time : 28.97990131378174\n",
      "\n",
      "Using custom environment with tailgating behavior.\n"
     ]
    },
    {
     "name": "stderr",
     "output_type": "stream",
     "text": [
      "100%|██████████| 1200/1200 [00:28<00:00, 41.41it/s]\n",
      "100%|██████████| 1200/1200 [00:31<00:00, 33.79it/s]"
     ]
    },
    {
     "name": "stdout",
     "output_type": "stream",
     "text": [
      "episode : 11\n",
      "Total reward: -20.800000000000004\n",
      "Running Time : 32.296314001083374\n",
      "\n",
      "Using custom environment with tailgating behavior.\n"
     ]
    },
    {
     "name": "stderr",
     "output_type": "stream",
     "text": [
      "100%|██████████| 1200/1200 [00:32<00:00, 37.15it/s]\n"
     ]
    },
    {
     "name": "stdout",
     "output_type": "stream",
     "text": [
      "episode : 12\n",
      "Total reward: -14.949999999999992\n",
      "Running Time : 30.48038911819458\n",
      "\n",
      "Using custom environment with tailgating behavior.\n"
     ]
    },
    {
     "name": "stderr",
     "output_type": "stream",
     "text": [
      "100%|██████████| 1200/1200 [00:30<00:00, 39.37it/s]\n",
      "100%|██████████| 1200/1200 [00:26<00:00, 49.50it/s]"
     ]
    },
    {
     "name": "stdout",
     "output_type": "stream",
     "text": [
      "episode : 13\n",
      "Total reward: -4.5299999999999985\n",
      "Running Time : 27.93627405166626\n",
      "\n",
      "Using custom environment with tailgating behavior.\n"
     ]
    },
    {
     "name": "stderr",
     "output_type": "stream",
     "text": [
      "100%|██████████| 1200/1200 [00:27<00:00, 42.93it/s]\n"
     ]
    },
    {
     "name": "stdout",
     "output_type": "stream",
     "text": [
      "episode : 14\n",
      "Total reward: -15.450000000000006\n",
      "Running Time : 31.461742877960205\n",
      "\n",
      "Using custom environment with tailgating behavior.\n"
     ]
    },
    {
     "name": "stderr",
     "output_type": "stream",
     "text": [
      "100%|██████████| 1200/1200 [00:31<00:00, 38.15it/s]\n",
      "100%|██████████| 1200/1200 [00:31<00:00, 37.43it/s]"
     ]
    },
    {
     "name": "stdout",
     "output_type": "stream",
     "text": [
      "episode : 15\n",
      "Total reward: -14.699999999999996\n",
      "Running Time : 32.44357919692993\n",
      "\n",
      "Using custom environment with tailgating behavior.\n"
     ]
    },
    {
     "name": "stderr",
     "output_type": "stream",
     "text": [
      "100%|██████████| 1200/1200 [00:32<00:00, 37.00it/s]\n"
     ]
    },
    {
     "name": "stdout",
     "output_type": "stream",
     "text": [
      "episode : 16\n",
      "Total reward: -292.04999999999995\n",
      "Running Time : 56.48348021507263\n",
      "\n",
      "Using custom environment with tailgating behavior.\n"
     ]
    },
    {
     "name": "stderr",
     "output_type": "stream",
     "text": [
      "100%|██████████| 1200/1200 [00:56<00:00, 21.25it/s]\n",
      "100%|██████████| 1200/1200 [00:32<00:00, 35.85it/s]"
     ]
    },
    {
     "name": "stdout",
     "output_type": "stream",
     "text": [
      "episode : 17\n",
      "Total reward: -14.319999999999997\n",
      "Running Time : 33.42614459991455\n",
      "\n",
      "Using custom environment with tailgating behavior.\n"
     ]
    },
    {
     "name": "stderr",
     "output_type": "stream",
     "text": [
      "100%|██████████| 1200/1200 [00:33<00:00, 35.88it/s]\n"
     ]
    },
    {
     "name": "stdout",
     "output_type": "stream",
     "text": [
      "episode : 18\n",
      "Total reward: -17.28999999999999\n",
      "Running Time : 31.763283014297485\n",
      "\n",
      "Using custom environment with tailgating behavior.\n"
     ]
    },
    {
     "name": "stderr",
     "output_type": "stream",
     "text": [
      "100%|██████████| 1200/1200 [00:31<00:00, 37.79it/s]\n",
      "100%|██████████| 1200/1200 [00:28<00:00, 34.61it/s]"
     ]
    },
    {
     "name": "stdout",
     "output_type": "stream",
     "text": [
      "episode : 19\n",
      "Total reward: -9.030000000000008\n",
      "Running Time : 29.49903631210327\n",
      "\n",
      "total_mean : -68.40449999999998\n"
     ]
    }
   ],
   "source": [
    "import warnings\n",
    "import time\n",
    "\n",
    "warnings.filterwarnings(\"ignore\")\n",
    "\n",
    "from tqdm import tqdm\n",
    "from traffic_tail.environment import create_env\n",
    "\n",
    "rewards =[]\n",
    "for i in range(20):\n",
    "    start = time.time()\n",
    "    env = create_env(\n",
    "        tailgating=True, #####\n",
    "        use_gui=False, \n",
    "        num_seconds=TOTAL_TIME,\n",
    "    )\n",
    "\n",
    "    total_reward = 0\n",
    "    state = env.reset()\n",
    "    done = {\"__all__\": False}\n",
    "\n",
    "    pbar = tqdm(total=TOTAL_TIME)\n",
    "    while not done[\"__all__\"]:\n",
    "        actions = {\n",
    "            ts_id: env.action_spaces(ts_id).sample()\n",
    "            for ts_id in env.ts_ids\n",
    "        }\n",
    "        state, reward, done, _ = env.step(actions)\n",
    "        total_reward += sum(reward.values())\n",
    "        pbar.update(env.delta_time)\n",
    "\n",
    "    env.close()\n",
    "    print(f\"episode : {i}\")\n",
    "    print(f\"Total reward: {total_reward}\")\n",
    "    rewards.append(total_reward)\n",
    "    print(f\"Running Time : {time.time()-start}\\n\")\n",
    "print(f\"total_mean : {sum(rewards)/len(rewards)}\")"
   ]
  },
  {
   "cell_type": "code",
   "execution_count": 3,
   "metadata": {},
   "outputs": [
    {
     "name": "stdout",
     "output_type": "stream",
     "text": [
      "Using default SUMO environment.\n",
      "Initializing RL agents. (This may take a while)\n"
     ]
    },
    {
     "name": "stderr",
     "output_type": "stream",
     "text": [
      "Episode 1/100: Total Reward -292.930:   1%|          | 1200/120000 [00:23<51:27, 38.48it/s]"
     ]
    },
    {
     "name": "stdout",
     "output_type": "stream",
     "text": [
      "Episode 1 : Total reward -292.92999999999995\n"
     ]
    },
    {
     "name": "stderr",
     "output_type": "stream",
     "text": [
      "Episode 2/100: Total Reward -605.340:   2%|▏         | 2400/120000 [00:54<59:36, 32.88it/s]"
     ]
    },
    {
     "name": "stdout",
     "output_type": "stream",
     "text": [
      "Episode 2 : Total reward -605.3400000000001\n"
     ]
    },
    {
     "name": "stderr",
     "output_type": "stream",
     "text": [
      "Episode 3/100: Total Reward -618.960:   3%|▎         | 3600/120000 [01:25<56:01, 34.63it/s]"
     ]
    },
    {
     "name": "stdout",
     "output_type": "stream",
     "text": [
      "Episode 3 : Total reward -618.96\n"
     ]
    },
    {
     "name": "stderr",
     "output_type": "stream",
     "text": [
      "Episode 4/100: Total Reward -670.190:   4%|▍         | 4800/120000 [01:57<1:00:28, 31.75it/s]"
     ]
    },
    {
     "name": "stdout",
     "output_type": "stream",
     "text": [
      "Episode 4 : Total reward -670.19\n"
     ]
    },
    {
     "name": "stderr",
     "output_type": "stream",
     "text": [
      "Episode 5/100: Total Reward -87.700:   5%|▌         | 6000/120000 [02:26<48:04, 39.52it/s]   "
     ]
    },
    {
     "name": "stdout",
     "output_type": "stream",
     "text": [
      "Episode 5 : Total reward -87.69999999999993\n"
     ]
    },
    {
     "name": "stderr",
     "output_type": "stream",
     "text": [
      "Episode 6/100: Total Reward -120.130:   6%|▌         | 7200/120000 [02:53<36:16, 51.82it/s]"
     ]
    },
    {
     "name": "stdout",
     "output_type": "stream",
     "text": [
      "Episode 6 : Total reward -120.1300000000002\n"
     ]
    },
    {
     "name": "stderr",
     "output_type": "stream",
     "text": [
      "Episode 7/100: Total Reward -39.210:   7%|▋         | 8400/120000 [03:14<34:46, 53.48it/s] "
     ]
    },
    {
     "name": "stdout",
     "output_type": "stream",
     "text": [
      "Episode 7 : Total reward -39.20999999999998\n"
     ]
    },
    {
     "name": "stderr",
     "output_type": "stream",
     "text": [
      "Episode 8/100: Total Reward -17.320:   8%|▊         | 9600/120000 [03:35<30:16, 60.77it/s]"
     ]
    },
    {
     "name": "stdout",
     "output_type": "stream",
     "text": [
      "Episode 8 : Total reward -17.32\n"
     ]
    },
    {
     "name": "stderr",
     "output_type": "stream",
     "text": [
      "Episode 9/100: Total Reward -7.660:   9%|▉         | 10800/120000 [03:55<28:23, 64.09it/s]"
     ]
    },
    {
     "name": "stdout",
     "output_type": "stream",
     "text": [
      "Episode 9 : Total reward -7.659999999999998\n"
     ]
    },
    {
     "name": "stderr",
     "output_type": "stream",
     "text": [
      "Episode 10/100: Total Reward -6.340:  10%|█         | 12000/120000 [04:15<29:19, 61.37it/s]"
     ]
    },
    {
     "name": "stdout",
     "output_type": "stream",
     "text": [
      "Episode 10 : Total reward -6.34\n"
     ]
    },
    {
     "name": "stderr",
     "output_type": "stream",
     "text": [
      "Episode 11/100: Total Reward -2.220:  11%|█         | 13200/120000 [04:34<25:18, 70.33it/s]"
     ]
    },
    {
     "name": "stdout",
     "output_type": "stream",
     "text": [
      "Episode 11 : Total reward -2.21999999999999\n"
     ]
    },
    {
     "name": "stderr",
     "output_type": "stream",
     "text": [
      "Episode 12/100: Total Reward -10.660:  12%|█▏        | 14400/120000 [04:54<30:18, 58.06it/s]"
     ]
    },
    {
     "name": "stdout",
     "output_type": "stream",
     "text": [
      "Episode 12 : Total reward -10.659999999999997\n"
     ]
    },
    {
     "name": "stderr",
     "output_type": "stream",
     "text": [
      "Episode 13/100: Total Reward -5.860:  13%|█▎        | 15600/120000 [05:12<25:56, 67.09it/s] "
     ]
    },
    {
     "name": "stdout",
     "output_type": "stream",
     "text": [
      "Episode 13 : Total reward -5.860000000000002\n"
     ]
    },
    {
     "name": "stderr",
     "output_type": "stream",
     "text": [
      "Episode 14/100: Total Reward -7.930:  14%|█▍        | 16800/120000 [05:31<31:09, 55.19it/s]"
     ]
    },
    {
     "name": "stdout",
     "output_type": "stream",
     "text": [
      "Episode 14 : Total reward -7.930000000000004\n"
     ]
    },
    {
     "name": "stderr",
     "output_type": "stream",
     "text": [
      "Episode 15/100: Total Reward -3.180:  15%|█▌        | 18000/120000 [05:50<25:00, 67.98it/s]"
     ]
    },
    {
     "name": "stdout",
     "output_type": "stream",
     "text": [
      "Episode 15 : Total reward -3.179999999999999\n"
     ]
    },
    {
     "name": "stderr",
     "output_type": "stream",
     "text": [
      "Episode 16/100: Total Reward -4.080:  16%|█▌        | 19200/120000 [06:09<24:11, 69.46it/s]"
     ]
    },
    {
     "name": "stdout",
     "output_type": "stream",
     "text": [
      "Episode 16 : Total reward -4.079999999999995\n"
     ]
    },
    {
     "name": "stderr",
     "output_type": "stream",
     "text": [
      "Episode 17/100: Total Reward -6.370:  17%|█▋        | 20400/120000 [06:29<24:58, 66.45it/s]"
     ]
    },
    {
     "name": "stdout",
     "output_type": "stream",
     "text": [
      "Episode 17 : Total reward -6.369999999999994\n"
     ]
    },
    {
     "name": "stderr",
     "output_type": "stream",
     "text": [
      "Episode 18/100: Total Reward -3.170:  18%|█▊        | 21600/120000 [06:48<23:28, 69.86it/s]"
     ]
    },
    {
     "name": "stdout",
     "output_type": "stream",
     "text": [
      "Episode 18 : Total reward -3.170000000000008\n"
     ]
    },
    {
     "name": "stderr",
     "output_type": "stream",
     "text": [
      "Episode 19/100: Total Reward -9.920:  19%|█▉        | 22800/120000 [07:08<25:00, 64.77it/s]"
     ]
    },
    {
     "name": "stdout",
     "output_type": "stream",
     "text": [
      "Episode 19 : Total reward -9.920000000000007\n"
     ]
    },
    {
     "name": "stderr",
     "output_type": "stream",
     "text": [
      "Episode 20/100: Total Reward -12.580:  20%|██        | 24000/120000 [07:28<25:56, 61.69it/s]"
     ]
    },
    {
     "name": "stdout",
     "output_type": "stream",
     "text": [
      "Episode 20 : Total reward -12.580000000000005\n"
     ]
    },
    {
     "name": "stderr",
     "output_type": "stream",
     "text": [
      "Episode 21/100: Total Reward -3.150:  21%|██        | 25200/120000 [07:47<22:23, 70.59it/s] "
     ]
    },
    {
     "name": "stdout",
     "output_type": "stream",
     "text": [
      "Episode 21 : Total reward -3.1499999999999986\n"
     ]
    },
    {
     "name": "stderr",
     "output_type": "stream",
     "text": [
      "Episode 22/100: Total Reward -6.170:  22%|██▏       | 26400/120000 [08:06<25:15, 61.75it/s]"
     ]
    },
    {
     "name": "stdout",
     "output_type": "stream",
     "text": [
      "Episode 22 : Total reward -6.169999999999989\n"
     ]
    },
    {
     "name": "stderr",
     "output_type": "stream",
     "text": [
      "Episode 23/100: Total Reward -5.120:  23%|██▎       | 27600/120000 [08:25<24:30, 62.82it/s]"
     ]
    },
    {
     "name": "stdout",
     "output_type": "stream",
     "text": [
      "Episode 23 : Total reward -5.119999999999993\n"
     ]
    },
    {
     "name": "stderr",
     "output_type": "stream",
     "text": [
      "Episode 24/100: Total Reward -12.360:  24%|██▍       | 28800/120000 [08:45<27:39, 54.97it/s]"
     ]
    },
    {
     "name": "stdout",
     "output_type": "stream",
     "text": [
      "Episode 24 : Total reward -12.359999999999998\n"
     ]
    },
    {
     "name": "stderr",
     "output_type": "stream",
     "text": [
      "Episode 25/100: Total Reward -4.350:  25%|██▌       | 30000/120000 [09:03<22:04, 67.97it/s] "
     ]
    },
    {
     "name": "stdout",
     "output_type": "stream",
     "text": [
      "Episode 25 : Total reward -4.35\n"
     ]
    },
    {
     "name": "stderr",
     "output_type": "stream",
     "text": [
      "Episode 26/100: Total Reward -7.030:  26%|██▌       | 31200/120000 [09:22<23:27, 63.09it/s]"
     ]
    },
    {
     "name": "stdout",
     "output_type": "stream",
     "text": [
      "Episode 26 : Total reward -7.029999999999998\n"
     ]
    },
    {
     "name": "stderr",
     "output_type": "stream",
     "text": [
      "Episode 27/100: Total Reward -1.970:  27%|██▋       | 32400/120000 [09:40<20:43, 70.47it/s]"
     ]
    },
    {
     "name": "stdout",
     "output_type": "stream",
     "text": [
      "Episode 27 : Total reward -1.970000000000002\n"
     ]
    },
    {
     "name": "stderr",
     "output_type": "stream",
     "text": [
      "Episode 28/100: Total Reward -22.600:  28%|██▊       | 33600/120000 [09:59<24:13, 59.45it/s]"
     ]
    },
    {
     "name": "stdout",
     "output_type": "stream",
     "text": [
      "Episode 28 : Total reward -22.60000000000001\n"
     ]
    },
    {
     "name": "stderr",
     "output_type": "stream",
     "text": [
      "Episode 29/100: Total Reward -7.150:  29%|██▉       | 34800/120000 [10:18<23:15, 61.04it/s] "
     ]
    },
    {
     "name": "stdout",
     "output_type": "stream",
     "text": [
      "Episode 29 : Total reward -7.149999999999992\n"
     ]
    },
    {
     "name": "stderr",
     "output_type": "stream",
     "text": [
      "Episode 30/100: Total Reward -7.500:  30%|███       | 36000/120000 [10:37<20:41, 67.65it/s]"
     ]
    },
    {
     "name": "stdout",
     "output_type": "stream",
     "text": [
      "Episode 30 : Total reward -7.499999999999997\n"
     ]
    },
    {
     "name": "stderr",
     "output_type": "stream",
     "text": [
      "Episode 31/100: Total Reward -14.820:  31%|███       | 37200/120000 [10:56<23:24, 58.96it/s]"
     ]
    },
    {
     "name": "stdout",
     "output_type": "stream",
     "text": [
      "Episode 31 : Total reward -14.820000000000002\n"
     ]
    },
    {
     "name": "stderr",
     "output_type": "stream",
     "text": [
      "Episode 32/100: Total Reward -6.920:  32%|███▏      | 38400/120000 [11:15<21:11, 64.15it/s] "
     ]
    },
    {
     "name": "stdout",
     "output_type": "stream",
     "text": [
      "Episode 32 : Total reward -6.919999999999992\n"
     ]
    },
    {
     "name": "stderr",
     "output_type": "stream",
     "text": [
      "Episode 33/100: Total Reward -6.000:  33%|███▎      | 39600/120000 [11:33<19:21, 69.21it/s]"
     ]
    },
    {
     "name": "stdout",
     "output_type": "stream",
     "text": [
      "Episode 33 : Total reward -6.000000000000004\n"
     ]
    },
    {
     "name": "stderr",
     "output_type": "stream",
     "text": [
      "Episode 34/100: Total Reward -2.440:  34%|███▍      | 40800/120000 [11:51<19:07, 69.01it/s]"
     ]
    },
    {
     "name": "stdout",
     "output_type": "stream",
     "text": [
      "Episode 34 : Total reward -2.440000000000003\n"
     ]
    },
    {
     "name": "stderr",
     "output_type": "stream",
     "text": [
      "Episode 35/100: Total Reward -7.350:  35%|███▌      | 42000/120000 [12:10<20:42, 62.79it/s]"
     ]
    },
    {
     "name": "stdout",
     "output_type": "stream",
     "text": [
      "Episode 35 : Total reward -7.349999999999999\n"
     ]
    },
    {
     "name": "stderr",
     "output_type": "stream",
     "text": [
      "Episode 36/100: Total Reward -5.080:  36%|███▌      | 43200/120000 [12:28<19:31, 65.56it/s]"
     ]
    },
    {
     "name": "stdout",
     "output_type": "stream",
     "text": [
      "Episode 36 : Total reward -5.080000000000002\n"
     ]
    },
    {
     "name": "stderr",
     "output_type": "stream",
     "text": [
      "Episode 37/100: Total Reward -19.320:  37%|███▋      | 44400/120000 [12:48<20:32, 61.35it/s]"
     ]
    },
    {
     "name": "stdout",
     "output_type": "stream",
     "text": [
      "Episode 37 : Total reward -19.32\n"
     ]
    },
    {
     "name": "stderr",
     "output_type": "stream",
     "text": [
      "Episode 38/100: Total Reward -22.110:  38%|███▊      | 45600/120000 [13:07<22:01, 56.30it/s]"
     ]
    },
    {
     "name": "stdout",
     "output_type": "stream",
     "text": [
      "Episode 38 : Total reward -22.109999999999992\n"
     ]
    },
    {
     "name": "stderr",
     "output_type": "stream",
     "text": [
      "Episode 39/100: Total Reward -10.140:  39%|███▉      | 46800/120000 [13:28<19:03, 63.99it/s]"
     ]
    },
    {
     "name": "stdout",
     "output_type": "stream",
     "text": [
      "Episode 39 : Total reward -10.140000000000008\n"
     ]
    },
    {
     "name": "stderr",
     "output_type": "stream",
     "text": [
      "Episode 40/100: Total Reward -5.510:  40%|████      | 48000/120000 [13:47<17:58, 66.75it/s] "
     ]
    },
    {
     "name": "stdout",
     "output_type": "stream",
     "text": [
      "Episode 40 : Total reward -5.510000000000002\n"
     ]
    },
    {
     "name": "stderr",
     "output_type": "stream",
     "text": [
      "Episode 41/100: Total Reward -4.440:  41%|████      | 49200/120000 [14:06<17:53, 65.93it/s]"
     ]
    },
    {
     "name": "stdout",
     "output_type": "stream",
     "text": [
      "Episode 41 : Total reward -4.440000000000006\n"
     ]
    },
    {
     "name": "stderr",
     "output_type": "stream",
     "text": [
      "Episode 42/100: Total Reward -17.880:  42%|████▏     | 50400/120000 [14:27<21:08, 54.88it/s]"
     ]
    },
    {
     "name": "stdout",
     "output_type": "stream",
     "text": [
      "Episode 42 : Total reward -17.88000000000001\n"
     ]
    },
    {
     "name": "stderr",
     "output_type": "stream",
     "text": [
      "Episode 43/100: Total Reward -6.610:  43%|████▎     | 51600/120000 [14:46<17:01, 66.98it/s] "
     ]
    },
    {
     "name": "stdout",
     "output_type": "stream",
     "text": [
      "Episode 43 : Total reward -6.610000000000004\n"
     ]
    },
    {
     "name": "stderr",
     "output_type": "stream",
     "text": [
      "Episode 44/100: Total Reward -15.030:  44%|████▍     | 52800/120000 [15:05<19:18, 57.99it/s]"
     ]
    },
    {
     "name": "stdout",
     "output_type": "stream",
     "text": [
      "Episode 44 : Total reward -15.029999999999998\n"
     ]
    },
    {
     "name": "stderr",
     "output_type": "stream",
     "text": [
      "Episode 45/100: Total Reward -12.010:  45%|████▌     | 54000/120000 [15:24<17:23, 63.25it/s]"
     ]
    },
    {
     "name": "stdout",
     "output_type": "stream",
     "text": [
      "Episode 45 : Total reward -12.01\n"
     ]
    },
    {
     "name": "stderr",
     "output_type": "stream",
     "text": [
      "Episode 46/100: Total Reward -12.390:  46%|████▌     | 55200/120000 [15:42<15:26, 69.97it/s]"
     ]
    },
    {
     "name": "stdout",
     "output_type": "stream",
     "text": [
      "Episode 46 : Total reward -12.390000000000002\n"
     ]
    },
    {
     "name": "stderr",
     "output_type": "stream",
     "text": [
      "Episode 47/100: Total Reward -8.770:  47%|████▋     | 56400/120000 [16:00<17:52, 59.32it/s] "
     ]
    },
    {
     "name": "stdout",
     "output_type": "stream",
     "text": [
      "Episode 47 : Total reward -8.769999999999998\n"
     ]
    },
    {
     "name": "stderr",
     "output_type": "stream",
     "text": [
      "Episode 48/100: Total Reward -6.810:  48%|████▊     | 57600/120000 [16:20<16:42, 62.23it/s]"
     ]
    },
    {
     "name": "stdout",
     "output_type": "stream",
     "text": [
      "Episode 48 : Total reward -6.8100000000000005\n"
     ]
    },
    {
     "name": "stderr",
     "output_type": "stream",
     "text": [
      "Episode 49/100: Total Reward -7.600:  49%|████▉     | 58800/120000 [16:38<15:06, 67.48it/s]"
     ]
    },
    {
     "name": "stdout",
     "output_type": "stream",
     "text": [
      "Episode 49 : Total reward -7.5999999999999925\n"
     ]
    },
    {
     "name": "stderr",
     "output_type": "stream",
     "text": [
      "Episode 50/100: Total Reward -12.540:  50%|█████     | 60000/120000 [16:56<15:08, 66.06it/s]"
     ]
    },
    {
     "name": "stdout",
     "output_type": "stream",
     "text": [
      "Episode 50 : Total reward -12.540000000000001\n"
     ]
    },
    {
     "name": "stderr",
     "output_type": "stream",
     "text": [
      "Episode 51/100: Total Reward -15.220:  51%|█████     | 61200/120000 [17:16<14:25, 67.93it/s]"
     ]
    },
    {
     "name": "stdout",
     "output_type": "stream",
     "text": [
      "Episode 51 : Total reward -15.219999999999992\n"
     ]
    },
    {
     "name": "stderr",
     "output_type": "stream",
     "text": [
      "Episode 52/100: Total Reward -43.400:  52%|█████▏    | 62400/120000 [17:35<14:48, 64.80it/s]"
     ]
    },
    {
     "name": "stdout",
     "output_type": "stream",
     "text": [
      "Episode 52 : Total reward -43.4\n"
     ]
    },
    {
     "name": "stderr",
     "output_type": "stream",
     "text": [
      "Episode 53/100: Total Reward -31.540:  53%|█████▎    | 63600/120000 [17:54<15:15, 61.63it/s]"
     ]
    },
    {
     "name": "stdout",
     "output_type": "stream",
     "text": [
      "Episode 53 : Total reward -31.539999999999985\n"
     ]
    },
    {
     "name": "stderr",
     "output_type": "stream",
     "text": [
      "Episode 54/100: Total Reward -2.010:  54%|█████▍    | 64800/120000 [18:12<13:04, 70.34it/s] "
     ]
    },
    {
     "name": "stdout",
     "output_type": "stream",
     "text": [
      "Episode 54 : Total reward -2.0099999999999985\n"
     ]
    },
    {
     "name": "stderr",
     "output_type": "stream",
     "text": [
      "Episode 55/100: Total Reward -13.710:  55%|█████▌    | 66000/120000 [18:31<15:08, 59.46it/s]"
     ]
    },
    {
     "name": "stdout",
     "output_type": "stream",
     "text": [
      "Episode 55 : Total reward -13.709999999999983\n"
     ]
    },
    {
     "name": "stderr",
     "output_type": "stream",
     "text": [
      "Episode 56/100: Total Reward -0.670:  56%|█████▌    | 67200/120000 [18:50<12:26, 70.75it/s] "
     ]
    },
    {
     "name": "stdout",
     "output_type": "stream",
     "text": [
      "Episode 56 : Total reward -0.6699999999999973\n"
     ]
    },
    {
     "name": "stderr",
     "output_type": "stream",
     "text": [
      "Episode 57/100: Total Reward -8.110:  57%|█████▋    | 68400/120000 [19:08<13:56, 61.69it/s]"
     ]
    },
    {
     "name": "stdout",
     "output_type": "stream",
     "text": [
      "Episode 57 : Total reward -8.109999999999998\n"
     ]
    },
    {
     "name": "stderr",
     "output_type": "stream",
     "text": [
      "Episode 58/100: Total Reward -31.780:  58%|█████▊    | 69600/120000 [19:29<17:45, 47.30it/s]"
     ]
    },
    {
     "name": "stdout",
     "output_type": "stream",
     "text": [
      "Episode 58 : Total reward -31.779999999999987\n"
     ]
    },
    {
     "name": "stderr",
     "output_type": "stream",
     "text": [
      "Episode 59/100: Total Reward -7.360:  59%|█████▉    | 70800/120000 [19:48<12:08, 67.53it/s] "
     ]
    },
    {
     "name": "stdout",
     "output_type": "stream",
     "text": [
      "Episode 59 : Total reward -7.360000000000002\n"
     ]
    },
    {
     "name": "stderr",
     "output_type": "stream",
     "text": [
      "Episode 60/100: Total Reward -6.730:  60%|██████    | 72000/120000 [20:07<11:27, 69.83it/s]"
     ]
    },
    {
     "name": "stdout",
     "output_type": "stream",
     "text": [
      "Episode 60 : Total reward -6.730000000000003\n"
     ]
    },
    {
     "name": "stderr",
     "output_type": "stream",
     "text": [
      "Episode 61/100: Total Reward -3.370:  61%|██████    | 73200/120000 [20:25<11:21, 68.67it/s]"
     ]
    },
    {
     "name": "stdout",
     "output_type": "stream",
     "text": [
      "Episode 61 : Total reward -3.3700000000000028\n"
     ]
    },
    {
     "name": "stderr",
     "output_type": "stream",
     "text": [
      "Episode 62/100: Total Reward -3.960:  62%|██████▏   | 74400/120000 [20:45<11:17, 67.35it/s]"
     ]
    },
    {
     "name": "stdout",
     "output_type": "stream",
     "text": [
      "Episode 62 : Total reward -3.9600000000000013\n"
     ]
    },
    {
     "name": "stderr",
     "output_type": "stream",
     "text": [
      "Episode 63/100: Total Reward -7.580:  63%|██████▎   | 75600/120000 [21:04<11:51, 62.40it/s]"
     ]
    },
    {
     "name": "stdout",
     "output_type": "stream",
     "text": [
      "Episode 63 : Total reward -7.579999999999998\n"
     ]
    },
    {
     "name": "stderr",
     "output_type": "stream",
     "text": [
      "Episode 64/100: Total Reward -14.610:  64%|██████▍   | 76800/120000 [21:25<13:13, 54.46it/s]"
     ]
    },
    {
     "name": "stdout",
     "output_type": "stream",
     "text": [
      "Episode 64 : Total reward -14.609999999999978\n"
     ]
    },
    {
     "name": "stderr",
     "output_type": "stream",
     "text": [
      "Episode 65/100: Total Reward -3.780:  65%|██████▌   | 78000/120000 [21:44<10:39, 65.68it/s] "
     ]
    },
    {
     "name": "stdout",
     "output_type": "stream",
     "text": [
      "Episode 65 : Total reward -3.7800000000000047\n"
     ]
    },
    {
     "name": "stderr",
     "output_type": "stream",
     "text": [
      "Episode 66/100: Total Reward -19.200:  66%|██████▌   | 79200/120000 [22:04<11:22, 59.75it/s]"
     ]
    },
    {
     "name": "stdout",
     "output_type": "stream",
     "text": [
      "Episode 66 : Total reward -19.2\n"
     ]
    },
    {
     "name": "stderr",
     "output_type": "stream",
     "text": [
      "Episode 67/100: Total Reward -36.460:  67%|██████▋   | 80400/120000 [22:24<11:00, 59.93it/s]"
     ]
    },
    {
     "name": "stdout",
     "output_type": "stream",
     "text": [
      "Episode 67 : Total reward -36.459999999999994\n"
     ]
    },
    {
     "name": "stderr",
     "output_type": "stream",
     "text": [
      "Episode 68/100: Total Reward -2.580:  68%|██████▊   | 81600/120000 [22:43<09:17, 68.83it/s] "
     ]
    },
    {
     "name": "stdout",
     "output_type": "stream",
     "text": [
      "Episode 68 : Total reward -2.579999999999998\n"
     ]
    },
    {
     "name": "stderr",
     "output_type": "stream",
     "text": [
      "Episode 69/100: Total Reward -14.440:  69%|██████▉   | 82800/120000 [23:03<10:44, 57.71it/s]"
     ]
    },
    {
     "name": "stdout",
     "output_type": "stream",
     "text": [
      "Episode 69 : Total reward -14.439999999999987\n"
     ]
    },
    {
     "name": "stderr",
     "output_type": "stream",
     "text": [
      "Episode 70/100: Total Reward -21.050:  70%|███████   | 84000/120000 [23:24<11:33, 51.93it/s]"
     ]
    },
    {
     "name": "stdout",
     "output_type": "stream",
     "text": [
      "Episode 70 : Total reward -21.049999999999997\n"
     ]
    },
    {
     "name": "stderr",
     "output_type": "stream",
     "text": [
      "Episode 71/100: Total Reward -16.870:  71%|███████   | 85200/120000 [23:44<10:18, 56.23it/s]"
     ]
    },
    {
     "name": "stdout",
     "output_type": "stream",
     "text": [
      "Episode 71 : Total reward -16.870000000000005\n"
     ]
    },
    {
     "name": "stderr",
     "output_type": "stream",
     "text": [
      "Episode 72/100: Total Reward -20.060:  72%|███████▏  | 86400/120000 [24:04<09:43, 57.62it/s]"
     ]
    },
    {
     "name": "stdout",
     "output_type": "stream",
     "text": [
      "Episode 72 : Total reward -20.060000000000002\n"
     ]
    },
    {
     "name": "stderr",
     "output_type": "stream",
     "text": [
      "Episode 73/100: Total Reward -17.000:  73%|███████▎  | 87600/120000 [24:25<10:16, 52.57it/s]"
     ]
    },
    {
     "name": "stdout",
     "output_type": "stream",
     "text": [
      "Episode 73 : Total reward -16.999999999999996\n"
     ]
    },
    {
     "name": "stderr",
     "output_type": "stream",
     "text": [
      "Episode 74/100: Total Reward -44.050:  74%|███████▍  | 88800/120000 [24:45<10:35, 49.10it/s]"
     ]
    },
    {
     "name": "stdout",
     "output_type": "stream",
     "text": [
      "Episode 74 : Total reward -44.050000000000004\n"
     ]
    },
    {
     "name": "stderr",
     "output_type": "stream",
     "text": [
      "Episode 75/100: Total Reward -6.440:  75%|███████▌  | 90000/120000 [25:04<07:53, 63.29it/s] "
     ]
    },
    {
     "name": "stdout",
     "output_type": "stream",
     "text": [
      "Episode 75 : Total reward -6.4399999999999995\n"
     ]
    },
    {
     "name": "stderr",
     "output_type": "stream",
     "text": [
      "Episode 76/100: Total Reward -36.830:  76%|███████▌  | 91200/120000 [25:24<09:29, 50.61it/s]"
     ]
    },
    {
     "name": "stdout",
     "output_type": "stream",
     "text": [
      "Episode 76 : Total reward -36.82999999999999\n"
     ]
    },
    {
     "name": "stderr",
     "output_type": "stream",
     "text": [
      "Episode 77/100: Total Reward -5.040:  77%|███████▋  | 92400/120000 [25:44<06:53, 66.70it/s] "
     ]
    },
    {
     "name": "stdout",
     "output_type": "stream",
     "text": [
      "Episode 77 : Total reward -5.039999999999991\n"
     ]
    },
    {
     "name": "stderr",
     "output_type": "stream",
     "text": [
      "Episode 78/100: Total Reward -39.930:  78%|███████▊  | 93600/120000 [26:06<08:51, 49.71it/s]"
     ]
    },
    {
     "name": "stdout",
     "output_type": "stream",
     "text": [
      "Episode 78 : Total reward -39.930000000000035\n"
     ]
    },
    {
     "name": "stderr",
     "output_type": "stream",
     "text": [
      "Episode 79/100: Total Reward -2.560:  79%|███████▉  | 94800/120000 [26:24<06:03, 69.40it/s] "
     ]
    },
    {
     "name": "stdout",
     "output_type": "stream",
     "text": [
      "Episode 79 : Total reward -2.559999999999995\n"
     ]
    },
    {
     "name": "stderr",
     "output_type": "stream",
     "text": [
      "Episode 80/100: Total Reward -1.600:  80%|████████  | 96000/120000 [26:42<05:43, 69.79it/s]"
     ]
    },
    {
     "name": "stdout",
     "output_type": "stream",
     "text": [
      "Episode 80 : Total reward -1.6000000000000005\n"
     ]
    },
    {
     "name": "stderr",
     "output_type": "stream",
     "text": [
      "Episode 81/100: Total Reward -2.890:  81%|████████  | 97200/120000 [27:01<05:42, 66.48it/s]"
     ]
    },
    {
     "name": "stdout",
     "output_type": "stream",
     "text": [
      "Episode 81 : Total reward -2.890000000000003\n"
     ]
    },
    {
     "name": "stderr",
     "output_type": "stream",
     "text": [
      "Episode 82/100: Total Reward -21.970:  82%|████████▏ | 98400/120000 [27:22<06:44, 53.43it/s]"
     ]
    },
    {
     "name": "stdout",
     "output_type": "stream",
     "text": [
      "Episode 82 : Total reward -21.97\n"
     ]
    },
    {
     "name": "stderr",
     "output_type": "stream",
     "text": [
      "Episode 83/100: Total Reward -12.620:  83%|████████▎ | 99600/120000 [27:43<06:02, 56.26it/s]"
     ]
    },
    {
     "name": "stdout",
     "output_type": "stream",
     "text": [
      "Episode 83 : Total reward -12.620000000000012\n"
     ]
    },
    {
     "name": "stderr",
     "output_type": "stream",
     "text": [
      "Episode 84/100: Total Reward -12.930:  84%|████████▍ | 100800/120000 [28:02<05:20, 59.93it/s]"
     ]
    },
    {
     "name": "stdout",
     "output_type": "stream",
     "text": [
      "Episode 84 : Total reward -12.93\n"
     ]
    },
    {
     "name": "stderr",
     "output_type": "stream",
     "text": [
      "Episode 85/100: Total Reward -42.920:  85%|████████▌ | 102000/120000 [28:24<05:42, 52.52it/s]"
     ]
    },
    {
     "name": "stdout",
     "output_type": "stream",
     "text": [
      "Episode 85 : Total reward -42.91999999999996\n"
     ]
    },
    {
     "name": "stderr",
     "output_type": "stream",
     "text": [
      "Episode 86/100: Total Reward -23.590:  86%|████████▌ | 103200/120000 [28:45<05:11, 53.93it/s]"
     ]
    },
    {
     "name": "stdout",
     "output_type": "stream",
     "text": [
      "Episode 86 : Total reward -23.589999999999993\n"
     ]
    },
    {
     "name": "stderr",
     "output_type": "stream",
     "text": [
      "Episode 87/100: Total Reward -21.530:  87%|████████▋ | 104400/120000 [29:06<05:00, 51.92it/s]"
     ]
    },
    {
     "name": "stdout",
     "output_type": "stream",
     "text": [
      "Episode 87 : Total reward -21.52999999999998\n"
     ]
    },
    {
     "name": "stderr",
     "output_type": "stream",
     "text": [
      "Episode 88/100: Total Reward -28.690:  88%|████████▊ | 105600/120000 [29:28<04:39, 51.50it/s]"
     ]
    },
    {
     "name": "stdout",
     "output_type": "stream",
     "text": [
      "Episode 88 : Total reward -28.68999999999998\n"
     ]
    },
    {
     "name": "stderr",
     "output_type": "stream",
     "text": [
      "Episode 89/100: Total Reward -0.790:  89%|████████▉ | 106800/120000 [29:47<03:05, 71.05it/s] "
     ]
    },
    {
     "name": "stdout",
     "output_type": "stream",
     "text": [
      "Episode 89 : Total reward -0.790000000000005\n"
     ]
    },
    {
     "name": "stderr",
     "output_type": "stream",
     "text": [
      "Episode 90/100: Total Reward -9.330:  90%|█████████ | 108000/120000 [30:06<03:12, 62.46it/s]"
     ]
    },
    {
     "name": "stdout",
     "output_type": "stream",
     "text": [
      "Episode 90 : Total reward -9.329999999999997\n"
     ]
    },
    {
     "name": "stderr",
     "output_type": "stream",
     "text": [
      "Episode 91/100: Total Reward -10.740:  91%|█████████ | 109200/120000 [30:25<02:47, 64.29it/s]"
     ]
    },
    {
     "name": "stdout",
     "output_type": "stream",
     "text": [
      "Episode 91 : Total reward -10.740000000000004\n"
     ]
    },
    {
     "name": "stderr",
     "output_type": "stream",
     "text": [
      "Episode 92/100: Total Reward -25.390:  92%|█████████▏| 110400/120000 [30:45<03:00, 53.32it/s]"
     ]
    },
    {
     "name": "stdout",
     "output_type": "stream",
     "text": [
      "Episode 92 : Total reward -25.39\n"
     ]
    },
    {
     "name": "stderr",
     "output_type": "stream",
     "text": [
      "Episode 93/100: Total Reward -48.840:  93%|█████████▎| 111600/120000 [31:06<03:03, 45.89it/s]"
     ]
    },
    {
     "name": "stdout",
     "output_type": "stream",
     "text": [
      "Episode 93 : Total reward -48.84\n"
     ]
    },
    {
     "name": "stderr",
     "output_type": "stream",
     "text": [
      "Episode 94/100: Total Reward -16.400:  94%|█████████▍| 112800/120000 [31:26<01:59, 60.47it/s]"
     ]
    },
    {
     "name": "stdout",
     "output_type": "stream",
     "text": [
      "Episode 94 : Total reward -16.399999999999984\n"
     ]
    },
    {
     "name": "stderr",
     "output_type": "stream",
     "text": [
      "Episode 95/100: Total Reward -21.700:  95%|█████████▌| 114000/120000 [31:46<01:41, 59.37it/s]"
     ]
    },
    {
     "name": "stdout",
     "output_type": "stream",
     "text": [
      "Episode 95 : Total reward -21.699999999999985\n"
     ]
    },
    {
     "name": "stderr",
     "output_type": "stream",
     "text": [
      "Episode 96/100: Total Reward -20.300:  96%|█████████▌| 115200/120000 [32:07<01:31, 52.40it/s]"
     ]
    },
    {
     "name": "stdout",
     "output_type": "stream",
     "text": [
      "Episode 96 : Total reward -20.299999999999976\n"
     ]
    },
    {
     "name": "stderr",
     "output_type": "stream",
     "text": [
      "Episode 97/100: Total Reward -17.600:  97%|█████████▋| 116400/120000 [32:26<01:05, 55.36it/s]"
     ]
    },
    {
     "name": "stdout",
     "output_type": "stream",
     "text": [
      "Episode 97 : Total reward -17.6\n"
     ]
    },
    {
     "name": "stderr",
     "output_type": "stream",
     "text": [
      "Episode 98/100: Total Reward -30.140:  98%|█████████▊| 117600/120000 [32:46<00:41, 58.26it/s]"
     ]
    },
    {
     "name": "stdout",
     "output_type": "stream",
     "text": [
      "Episode 98 : Total reward -30.139999999999993\n"
     ]
    },
    {
     "name": "stderr",
     "output_type": "stream",
     "text": [
      "Episode 99/100: Total Reward -6.320:  99%|█████████▉| 118800/120000 [33:05<00:19, 60.30it/s] "
     ]
    },
    {
     "name": "stdout",
     "output_type": "stream",
     "text": [
      "Episode 99 : Total reward -6.320000000000005\n"
     ]
    },
    {
     "name": "stderr",
     "output_type": "stream",
     "text": [
      "Episode 100/100: Total Reward -18.280: 100%|██████████| 120000/120000 [33:25<00:00, 59.84it/s]"
     ]
    },
    {
     "name": "stdout",
     "output_type": "stream",
     "text": [
      "Episode 100 : Total reward -18.28000000000001\n",
      "Running Time : 2088.0385246276855\n",
      "\n"
     ]
    },
    {
     "name": "stderr",
     "output_type": "stream",
     "text": [
      "\n"
     ]
    },
    {
     "data": {
      "image/png": "[encoded data removed]",
      "text/plain": [
       "<Figure size 640x480 with 1 Axes>"
      ]
     },
     "metadata": {},
     "output_type": "display_data"
    }
   ],
   "source": [
    "from traffic_tail.trainer import SUMOTrainer\n",
    "import time\n",
    "start = time.time()\n",
    "\n",
    "\n",
    "trainerDef = SUMOTrainer(\n",
    "    env='default', \n",
    "    use_gui=False,\n",
    "    num_seconds=TOTAL_TIME,\n",
    "    graphs=True,\n",
    ")\n",
    "trainerDef.train(episodes=100) # train for 5 weekdays of rush hour traffic\n",
    "print(f\"Running Time : {time.time()-start}\\n\")"
   ]
  },
  {
   "cell_type": "code",
   "execution_count": 4,
   "metadata": {},
   "outputs": [
    {
     "name": "stdout",
     "output_type": "stream",
     "text": [
      "Using custom environment with tailgating behavior.\n",
      "Initializing RL agents. (This may take a while)\n"
     ]
    },
    {
     "name": "stderr",
     "output_type": "stream",
     "text": [
      "Episode 1/100: Total Reward -109.020:   1%|          | 1200/120000 [00:45<1:48:59, 18.17it/s]"
     ]
    },
    {
     "name": "stdout",
     "output_type": "stream",
     "text": [
      "Episode 1 : Total reward -109.01999999999998\n"
     ]
    },
    {
     "name": "stderr",
     "output_type": "stream",
     "text": [
      "Episode 2/100: Total Reward -82.160:   2%|▏         | 2400/120000 [01:33<1:38:16, 19.94it/s] "
     ]
    },
    {
     "name": "stdout",
     "output_type": "stream",
     "text": [
      "Episode 2 : Total reward -82.16000000000004\n"
     ]
    },
    {
     "name": "stderr",
     "output_type": "stream",
     "text": [
      "Episode 3/100: Total Reward -285.310:   3%|▎         | 3600/120000 [02:28<2:29:45, 12.95it/s]"
     ]
    },
    {
     "name": "stdout",
     "output_type": "stream",
     "text": [
      "Episode 3 : Total reward -285.31000000000006\n"
     ]
    },
    {
     "name": "stderr",
     "output_type": "stream",
     "text": [
      "Episode 4/100: Total Reward -513.760:   4%|▍         | 4800/120000 [03:46<2:43:05, 11.77it/s]"
     ]
    },
    {
     "name": "stdout",
     "output_type": "stream",
     "text": [
      "Episode 4 : Total reward -513.7600000000002\n"
     ]
    },
    {
     "name": "stderr",
     "output_type": "stream",
     "text": [
      "Episode 5/100: Total Reward -589.290:   5%|▌         | 6000/120000 [05:05<2:37:07, 12.09it/s]"
     ]
    },
    {
     "name": "stdout",
     "output_type": "stream",
     "text": [
      "Episode 5 : Total reward -589.2900000000004\n"
     ]
    },
    {
     "name": "stderr",
     "output_type": "stream",
     "text": [
      "Episode 6/100: Total Reward -601.650:   6%|▌         | 7200/120000 [06:17<2:09:06, 14.56it/s]"
     ]
    },
    {
     "name": "stdout",
     "output_type": "stream",
     "text": [
      "Episode 6 : Total reward -601.6499999999999\n"
     ]
    },
    {
     "name": "stderr",
     "output_type": "stream",
     "text": [
      "Episode 7/100: Total Reward -466.920:   7%|▋         | 8400/120000 [07:23<1:57:49, 15.79it/s]"
     ]
    },
    {
     "name": "stdout",
     "output_type": "stream",
     "text": [
      "Episode 7 : Total reward -466.9199999999999\n"
     ]
    },
    {
     "name": "stderr",
     "output_type": "stream",
     "text": [
      "Episode 8/100: Total Reward -699.210:   8%|▊         | 9600/120000 [08:45<2:38:07, 11.64it/s]"
     ]
    },
    {
     "name": "stdout",
     "output_type": "stream",
     "text": [
      "Episode 8 : Total reward -699.21\n"
     ]
    },
    {
     "name": "stderr",
     "output_type": "stream",
     "text": [
      "Episode 9/100: Total Reward -818.680:   9%|▉         | 10800/120000 [10:07<2:55:37, 10.36it/s]"
     ]
    },
    {
     "name": "stdout",
     "output_type": "stream",
     "text": [
      "Episode 9 : Total reward -818.6800000000003\n"
     ]
    },
    {
     "name": "stderr",
     "output_type": "stream",
     "text": [
      "Episode 10/100: Total Reward -666.400:  10%|█         | 12000/120000 [11:20<2:30:04, 11.99it/s]"
     ]
    },
    {
     "name": "stdout",
     "output_type": "stream",
     "text": [
      "Episode 10 : Total reward -666.4\n"
     ]
    },
    {
     "name": "stderr",
     "output_type": "stream",
     "text": [
      "Episode 11/100: Total Reward -735.380:  11%|█         | 13200/120000 [12:38<2:53:15, 10.27it/s]"
     ]
    },
    {
     "name": "stdout",
     "output_type": "stream",
     "text": [
      "Episode 11 : Total reward -735.3799999999997\n"
     ]
    },
    {
     "name": "stderr",
     "output_type": "stream",
     "text": [
      "Episode 12/100: Total Reward -594.570:  12%|█▏        | 14400/120000 [13:44<1:59:04, 14.78it/s]"
     ]
    },
    {
     "name": "stdout",
     "output_type": "stream",
     "text": [
      "Episode 12 : Total reward -594.5699999999999\n"
     ]
    },
    {
     "name": "stderr",
     "output_type": "stream",
     "text": [
      "Episode 13/100: Total Reward -412.280:  13%|█▎        | 15600/120000 [14:45<2:09:57, 13.39it/s]"
     ]
    },
    {
     "name": "stdout",
     "output_type": "stream",
     "text": [
      "Episode 13 : Total reward -412.28\n"
     ]
    },
    {
     "name": "stderr",
     "output_type": "stream",
     "text": [
      "Episode 14/100: Total Reward -261.550:  14%|█▍        | 16800/120000 [15:40<1:57:45, 14.61it/s]"
     ]
    },
    {
     "name": "stdout",
     "output_type": "stream",
     "text": [
      "Episode 14 : Total reward -261.5499999999999\n"
     ]
    },
    {
     "name": "stderr",
     "output_type": "stream",
     "text": [
      "Episode 15/100: Total Reward -191.200:  15%|█▌        | 18000/120000 [16:32<1:46:34, 15.95it/s]"
     ]
    },
    {
     "name": "stdout",
     "output_type": "stream",
     "text": [
      "Episode 15 : Total reward -191.2\n"
     ]
    },
    {
     "name": "stderr",
     "output_type": "stream",
     "text": [
      "Episode 16/100: Total Reward -769.330:  16%|█▌        | 19200/120000 [17:52<2:25:44, 11.53it/s]"
     ]
    },
    {
     "name": "stdout",
     "output_type": "stream",
     "text": [
      "Episode 16 : Total reward -769.3300000000003\n"
     ]
    },
    {
     "name": "stderr",
     "output_type": "stream",
     "text": [
      "Episode 17/100: Total Reward -759.430:  17%|█▋        | 20400/120000 [19:09<2:12:57, 12.48it/s]"
     ]
    },
    {
     "name": "stdout",
     "output_type": "stream",
     "text": [
      "Episode 17 : Total reward -759.430000000001\n"
     ]
    },
    {
     "name": "stderr",
     "output_type": "stream",
     "text": [
      "Episode 18/100: Total Reward -743.650:  18%|█▊        | 21600/120000 [20:31<2:22:14, 11.53it/s]"
     ]
    },
    {
     "name": "stdout",
     "output_type": "stream",
     "text": [
      "Episode 18 : Total reward -743.6499999999992\n"
     ]
    },
    {
     "name": "stderr",
     "output_type": "stream",
     "text": [
      "Episode 19/100: Total Reward -431.490:  19%|█▉        | 22800/120000 [21:41<2:27:00, 11.02it/s]"
     ]
    },
    {
     "name": "stdout",
     "output_type": "stream",
     "text": [
      "Episode 19 : Total reward -431.49000000000035\n"
     ]
    },
    {
     "name": "stderr",
     "output_type": "stream",
     "text": [
      "Episode 20/100: Total Reward -20.080:  20%|██        | 24000/120000 [22:24<53:49, 29.73it/s]   "
     ]
    },
    {
     "name": "stdout",
     "output_type": "stream",
     "text": [
      "Episode 20 : Total reward -20.07999999999997\n"
     ]
    },
    {
     "name": "stderr",
     "output_type": "stream",
     "text": [
      "Episode 21/100: Total Reward -27.020:  21%|██        | 25200/120000 [23:04<1:04:22, 24.54it/s]"
     ]
    },
    {
     "name": "stdout",
     "output_type": "stream",
     "text": [
      "Episode 21 : Total reward -27.019999999999982\n"
     ]
    },
    {
     "name": "stderr",
     "output_type": "stream",
     "text": [
      "Episode 22/100: Total Reward -621.010:  22%|██▏       | 26400/120000 [24:11<2:19:43, 11.16it/s]"
     ]
    },
    {
     "name": "stdout",
     "output_type": "stream",
     "text": [
      "Episode 22 : Total reward -621.0099999999996\n"
     ]
    },
    {
     "name": "stderr",
     "output_type": "stream",
     "text": [
      "Episode 23/100: Total Reward -36.080:  23%|██▎       | 27600/120000 [24:50<1:02:41, 24.56it/s] "
     ]
    },
    {
     "name": "stdout",
     "output_type": "stream",
     "text": [
      "Episode 23 : Total reward -36.07999999999997\n"
     ]
    },
    {
     "name": "stderr",
     "output_type": "stream",
     "text": [
      "Episode 24/100: Total Reward -3.780:  24%|██▍       | 28800/120000 [25:30<38:04, 39.92it/s]   "
     ]
    },
    {
     "name": "stdout",
     "output_type": "stream",
     "text": [
      "Episode 24 : Total reward -3.7799999999999763\n"
     ]
    },
    {
     "name": "stderr",
     "output_type": "stream",
     "text": [
      "Episode 25/100: Total Reward -5.070:  25%|██▌       | 30000/120000 [26:04<41:28, 36.17it/s]"
     ]
    },
    {
     "name": "stdout",
     "output_type": "stream",
     "text": [
      "Episode 25 : Total reward -5.070000000000005\n"
     ]
    },
    {
     "name": "stderr",
     "output_type": "stream",
     "text": [
      "Episode 26/100: Total Reward -14.000:  26%|██▌       | 31200/120000 [26:38<46:10, 32.05it/s]"
     ]
    },
    {
     "name": "stdout",
     "output_type": "stream",
     "text": [
      "Episode 26 : Total reward -13.99999999999998\n"
     ]
    },
    {
     "name": "stderr",
     "output_type": "stream",
     "text": [
      "Episode 27/100: Total Reward -25.590:  27%|██▋       | 32400/120000 [27:14<1:00:09, 24.27it/s]"
     ]
    },
    {
     "name": "stdout",
     "output_type": "stream",
     "text": [
      "Episode 27 : Total reward -25.58999999999999\n"
     ]
    },
    {
     "name": "stderr",
     "output_type": "stream",
     "text": [
      "Episode 28/100: Total Reward -0.890:  28%|██▊       | 33600/120000 [27:49<35:39, 40.39it/s]   "
     ]
    },
    {
     "name": "stdout",
     "output_type": "stream",
     "text": [
      "Episode 28 : Total reward -0.8899999999999897\n"
     ]
    },
    {
     "name": "stderr",
     "output_type": "stream",
     "text": [
      "Episode 29/100: Total Reward -2.170:  29%|██▉       | 34800/120000 [28:21<38:39, 36.73it/s]"
     ]
    },
    {
     "name": "stdout",
     "output_type": "stream",
     "text": [
      "Episode 29 : Total reward -2.169999999999999\n"
     ]
    },
    {
     "name": "stderr",
     "output_type": "stream",
     "text": [
      "Episode 30/100: Total Reward -9.930:  30%|███       | 36000/120000 [28:53<45:10, 30.99it/s]"
     ]
    },
    {
     "name": "stdout",
     "output_type": "stream",
     "text": [
      "Episode 30 : Total reward -9.93\n"
     ]
    },
    {
     "name": "stderr",
     "output_type": "stream",
     "text": [
      "Episode 31/100: Total Reward -2.090:  31%|███       | 37200/120000 [29:24<36:23, 37.92it/s]"
     ]
    },
    {
     "name": "stdout",
     "output_type": "stream",
     "text": [
      "Episode 31 : Total reward -2.0899999999999985\n"
     ]
    },
    {
     "name": "stderr",
     "output_type": "stream",
     "text": [
      "Episode 32/100: Total Reward -13.240:  32%|███▏      | 38400/120000 [29:57<45:28, 29.91it/s]"
     ]
    },
    {
     "name": "stdout",
     "output_type": "stream",
     "text": [
      "Episode 32 : Total reward -13.239999999999995\n"
     ]
    },
    {
     "name": "stderr",
     "output_type": "stream",
     "text": [
      "Episode 33/100: Total Reward -8.420:  33%|███▎      | 39600/120000 [30:32<38:27, 34.85it/s] "
     ]
    },
    {
     "name": "stdout",
     "output_type": "stream",
     "text": [
      "Episode 33 : Total reward -8.419999999999996\n"
     ]
    },
    {
     "name": "stderr",
     "output_type": "stream",
     "text": [
      "Episode 34/100: Total Reward -2.930:  34%|███▍      | 40800/120000 [31:04<29:23, 44.91it/s]"
     ]
    },
    {
     "name": "stdout",
     "output_type": "stream",
     "text": [
      "Episode 34 : Total reward -2.9300000000000006\n"
     ]
    },
    {
     "name": "stderr",
     "output_type": "stream",
     "text": [
      "Episode 35/100: Total Reward -9.180:  35%|███▌      | 42000/120000 [31:36<35:19, 36.81it/s]"
     ]
    },
    {
     "name": "stdout",
     "output_type": "stream",
     "text": [
      "Episode 35 : Total reward -9.179999999999996\n"
     ]
    },
    {
     "name": "stderr",
     "output_type": "stream",
     "text": [
      "Episode 36/100: Total Reward -6.390:  36%|███▌      | 43200/120000 [32:11<38:30, 33.24it/s]"
     ]
    },
    {
     "name": "stdout",
     "output_type": "stream",
     "text": [
      "Episode 36 : Total reward -6.389999999999991\n"
     ]
    },
    {
     "name": "stderr",
     "output_type": "stream",
     "text": [
      "Episode 37/100: Total Reward -3.710:  37%|███▋      | 44400/120000 [32:43<33:28, 37.65it/s]"
     ]
    },
    {
     "name": "stdout",
     "output_type": "stream",
     "text": [
      "Episode 37 : Total reward -3.709999999999999\n"
     ]
    },
    {
     "name": "stderr",
     "output_type": "stream",
     "text": [
      "Episode 38/100: Total Reward -9.920:  38%|███▊      | 45600/120000 [33:16<33:49, 36.66it/s]"
     ]
    },
    {
     "name": "stdout",
     "output_type": "stream",
     "text": [
      "Episode 38 : Total reward -9.919999999999995\n"
     ]
    },
    {
     "name": "stderr",
     "output_type": "stream",
     "text": [
      "Episode 39/100: Total Reward -2.270:  39%|███▉      | 46800/120000 [33:47<33:27, 36.47it/s]"
     ]
    },
    {
     "name": "stdout",
     "output_type": "stream",
     "text": [
      "Episode 39 : Total reward -2.2699999999999982\n"
     ]
    },
    {
     "name": "stderr",
     "output_type": "stream",
     "text": [
      "Episode 40/100: Total Reward -6.390:  40%|████      | 48000/120000 [34:21<41:30, 28.91it/s]"
     ]
    },
    {
     "name": "stdout",
     "output_type": "stream",
     "text": [
      "Episode 40 : Total reward -6.390000000000001\n"
     ]
    },
    {
     "name": "stderr",
     "output_type": "stream",
     "text": [
      "Episode 41/100: Total Reward -1.860:  41%|████      | 49200/120000 [34:53<27:34, 42.79it/s]"
     ]
    },
    {
     "name": "stdout",
     "output_type": "stream",
     "text": [
      "Episode 41 : Total reward -1.8599999999999977\n"
     ]
    },
    {
     "name": "stderr",
     "output_type": "stream",
     "text": [
      "Episode 42/100: Total Reward -3.070:  42%|████▏     | 50400/120000 [35:24<32:04, 36.16it/s]"
     ]
    },
    {
     "name": "stdout",
     "output_type": "stream",
     "text": [
      "Episode 42 : Total reward -3.0700000000000003\n"
     ]
    },
    {
     "name": "stderr",
     "output_type": "stream",
     "text": [
      "Episode 43/100: Total Reward -4.150:  43%|████▎     | 51600/120000 [35:54<30:56, 36.83it/s]"
     ]
    },
    {
     "name": "stdout",
     "output_type": "stream",
     "text": [
      "Episode 43 : Total reward -4.15\n"
     ]
    },
    {
     "name": "stderr",
     "output_type": "stream",
     "text": [
      "Episode 44/100: Total Reward -3.280:  44%|████▍     | 52800/120000 [36:25<30:44, 36.44it/s]"
     ]
    },
    {
     "name": "stdout",
     "output_type": "stream",
     "text": [
      "Episode 44 : Total reward -3.2799999999999976\n"
     ]
    },
    {
     "name": "stderr",
     "output_type": "stream",
     "text": [
      "Episode 45/100: Total Reward -5.530:  45%|████▌     | 54000/120000 [36:58<31:18, 35.14it/s]"
     ]
    },
    {
     "name": "stdout",
     "output_type": "stream",
     "text": [
      "Episode 45 : Total reward -5.53\n"
     ]
    },
    {
     "name": "stderr",
     "output_type": "stream",
     "text": [
      "Episode 46/100: Total Reward -2.760:  46%|████▌     | 55200/120000 [37:29<25:51, 41.76it/s]"
     ]
    },
    {
     "name": "stdout",
     "output_type": "stream",
     "text": [
      "Episode 46 : Total reward -2.759999999999997\n"
     ]
    },
    {
     "name": "stderr",
     "output_type": "stream",
     "text": [
      "Episode 47/100: Total Reward -2.040:  47%|████▋     | 56400/120000 [38:01<27:45, 38.20it/s]"
     ]
    },
    {
     "name": "stdout",
     "output_type": "stream",
     "text": [
      "Episode 47 : Total reward -2.040000000000008\n"
     ]
    },
    {
     "name": "stderr",
     "output_type": "stream",
     "text": [
      "Episode 48/100: Total Reward -4.000:  48%|████▊     | 57600/120000 [38:34<29:29, 35.27it/s]"
     ]
    },
    {
     "name": "stdout",
     "output_type": "stream",
     "text": [
      "Episode 48 : Total reward -4.000000000000003\n"
     ]
    },
    {
     "name": "stderr",
     "output_type": "stream",
     "text": [
      "Episode 49/100: Total Reward -1.840:  49%|████▉     | 58800/120000 [39:07<25:06, 40.62it/s]"
     ]
    },
    {
     "name": "stdout",
     "output_type": "stream",
     "text": [
      "Episode 49 : Total reward -1.8399999999999979\n"
     ]
    },
    {
     "name": "stderr",
     "output_type": "stream",
     "text": [
      "Episode 50/100: Total Reward -2.760:  50%|█████     | 60000/120000 [39:37<24:48, 40.32it/s]"
     ]
    },
    {
     "name": "stdout",
     "output_type": "stream",
     "text": [
      "Episode 50 : Total reward -2.759999999999998\n"
     ]
    },
    {
     "name": "stderr",
     "output_type": "stream",
     "text": [
      "Episode 51/100: Total Reward -3.970:  51%|█████     | 61200/120000 [40:11<25:25, 38.54it/s]"
     ]
    },
    {
     "name": "stdout",
     "output_type": "stream",
     "text": [
      "Episode 51 : Total reward -3.9699999999999953\n"
     ]
    },
    {
     "name": "stderr",
     "output_type": "stream",
     "text": [
      "Episode 52/100: Total Reward -3.300:  52%|█████▏    | 62400/120000 [40:43<26:24, 36.34it/s]"
     ]
    },
    {
     "name": "stdout",
     "output_type": "stream",
     "text": [
      "Episode 52 : Total reward -3.3000000000000016\n"
     ]
    },
    {
     "name": "stderr",
     "output_type": "stream",
     "text": [
      "Episode 53/100: Total Reward -2.050:  53%|█████▎    | 63600/120000 [41:14<24:11, 38.86it/s]"
     ]
    },
    {
     "name": "stdout",
     "output_type": "stream",
     "text": [
      "Episode 53 : Total reward -2.050000000000004\n"
     ]
    },
    {
     "name": "stderr",
     "output_type": "stream",
     "text": [
      "Episode 54/100: Total Reward -2.290:  54%|█████▍    | 64800/120000 [41:47<24:48, 37.09it/s]"
     ]
    },
    {
     "name": "stdout",
     "output_type": "stream",
     "text": [
      "Episode 54 : Total reward -2.290000000000001\n"
     ]
    },
    {
     "name": "stderr",
     "output_type": "stream",
     "text": [
      "Episode 55/100: Total Reward -2.960:  55%|█████▌    | 66000/120000 [42:18<27:14, 33.04it/s]"
     ]
    },
    {
     "name": "stdout",
     "output_type": "stream",
     "text": [
      "Episode 55 : Total reward -2.96\n"
     ]
    },
    {
     "name": "stderr",
     "output_type": "stream",
     "text": [
      "Episode 56/100: Total Reward -1.210:  56%|█████▌    | 67200/120000 [42:49<19:56, 44.13it/s]"
     ]
    },
    {
     "name": "stdout",
     "output_type": "stream",
     "text": [
      "Episode 56 : Total reward -1.2099999999999995\n"
     ]
    },
    {
     "name": "stderr",
     "output_type": "stream",
     "text": [
      "Episode 57/100: Total Reward -3.630:  57%|█████▋    | 68400/120000 [43:19<20:13, 42.52it/s]"
     ]
    },
    {
     "name": "stdout",
     "output_type": "stream",
     "text": [
      "Episode 57 : Total reward -3.6299999999999986\n"
     ]
    },
    {
     "name": "stderr",
     "output_type": "stream",
     "text": [
      "Episode 58/100: Total Reward -1.680:  58%|█████▊    | 69600/120000 [43:51<22:44, 36.93it/s]"
     ]
    },
    {
     "name": "stdout",
     "output_type": "stream",
     "text": [
      "Episode 58 : Total reward -1.6799999999999988\n"
     ]
    },
    {
     "name": "stderr",
     "output_type": "stream",
     "text": [
      "Episode 59/100: Total Reward -3.950:  59%|█████▉    | 70800/120000 [44:22<22:26, 36.54it/s]"
     ]
    },
    {
     "name": "stdout",
     "output_type": "stream",
     "text": [
      "Episode 59 : Total reward -3.9500000000000037\n"
     ]
    },
    {
     "name": "stderr",
     "output_type": "stream",
     "text": [
      "Episode 60/100: Total Reward -0.460:  60%|██████    | 72000/120000 [44:53<17:45, 45.05it/s]"
     ]
    },
    {
     "name": "stdout",
     "output_type": "stream",
     "text": [
      "Episode 60 : Total reward -0.45999999999999863\n"
     ]
    },
    {
     "name": "stderr",
     "output_type": "stream",
     "text": [
      "Episode 61/100: Total Reward -4.730:  61%|██████    | 73200/120000 [45:25<19:13, 40.56it/s]"
     ]
    },
    {
     "name": "stdout",
     "output_type": "stream",
     "text": [
      "Episode 61 : Total reward -4.729999999999997\n"
     ]
    },
    {
     "name": "stderr",
     "output_type": "stream",
     "text": [
      "Episode 62/100: Total Reward -6.830:  62%|██████▏   | 74400/120000 [45:57<23:17, 32.64it/s]"
     ]
    },
    {
     "name": "stdout",
     "output_type": "stream",
     "text": [
      "Episode 62 : Total reward -6.83\n"
     ]
    },
    {
     "name": "stderr",
     "output_type": "stream",
     "text": [
      "Episode 63/100: Total Reward -2.470:  63%|██████▎   | 75600/120000 [46:28<18:33, 39.86it/s]"
     ]
    },
    {
     "name": "stdout",
     "output_type": "stream",
     "text": [
      "Episode 63 : Total reward -2.469999999999996\n"
     ]
    },
    {
     "name": "stderr",
     "output_type": "stream",
     "text": [
      "Episode 64/100: Total Reward -2.760:  64%|██████▍   | 76800/120000 [46:58<18:00, 40.00it/s]"
     ]
    },
    {
     "name": "stdout",
     "output_type": "stream",
     "text": [
      "Episode 64 : Total reward -2.7600000000000002\n"
     ]
    },
    {
     "name": "stderr",
     "output_type": "stream",
     "text": [
      "Episode 65/100: Total Reward -2.920:  65%|██████▌   | 78000/120000 [47:27<18:05, 38.70it/s]"
     ]
    },
    {
     "name": "stdout",
     "output_type": "stream",
     "text": [
      "Episode 65 : Total reward -2.920000000000001\n"
     ]
    },
    {
     "name": "stderr",
     "output_type": "stream",
     "text": [
      "Episode 66/100: Total Reward -5.580:  66%|██████▌   | 79200/120000 [47:59<17:59, 37.79it/s]"
     ]
    },
    {
     "name": "stdout",
     "output_type": "stream",
     "text": [
      "Episode 66 : Total reward -5.580000000000002\n"
     ]
    },
    {
     "name": "stderr",
     "output_type": "stream",
     "text": [
      "Episode 67/100: Total Reward -0.550:  67%|██████▋   | 80400/120000 [48:29<15:31, 42.49it/s]"
     ]
    },
    {
     "name": "stdout",
     "output_type": "stream",
     "text": [
      "Episode 67 : Total reward -0.5500000000000025\n"
     ]
    },
    {
     "name": "stderr",
     "output_type": "stream",
     "text": [
      "Episode 68/100: Total Reward -1.600:  68%|██████▊   | 81600/120000 [49:01<15:24, 41.52it/s]"
     ]
    },
    {
     "name": "stdout",
     "output_type": "stream",
     "text": [
      "Episode 68 : Total reward -1.600000000000001\n"
     ]
    },
    {
     "name": "stderr",
     "output_type": "stream",
     "text": [
      "Episode 69/100: Total Reward -5.560:  69%|██████▉   | 82800/120000 [49:34<17:41, 35.05it/s]"
     ]
    },
    {
     "name": "stdout",
     "output_type": "stream",
     "text": [
      "Episode 69 : Total reward -5.559999999999994\n"
     ]
    },
    {
     "name": "stderr",
     "output_type": "stream",
     "text": [
      "Episode 70/100: Total Reward -2.280:  70%|███████   | 84000/120000 [50:04<15:33, 38.57it/s]"
     ]
    },
    {
     "name": "stdout",
     "output_type": "stream",
     "text": [
      "Episode 70 : Total reward -2.280000000000001\n"
     ]
    },
    {
     "name": "stderr",
     "output_type": "stream",
     "text": [
      "Episode 71/100: Total Reward -2.740:  71%|███████   | 85200/120000 [50:35<15:33, 37.26it/s]"
     ]
    },
    {
     "name": "stdout",
     "output_type": "stream",
     "text": [
      "Episode 71 : Total reward -2.7400000000000024\n"
     ]
    },
    {
     "name": "stderr",
     "output_type": "stream",
     "text": [
      "Episode 72/100: Total Reward -2.300:  72%|███████▏  | 86400/120000 [51:05<13:29, 41.49it/s]"
     ]
    },
    {
     "name": "stdout",
     "output_type": "stream",
     "text": [
      "Episode 72 : Total reward -2.300000000000002\n"
     ]
    },
    {
     "name": "stderr",
     "output_type": "stream",
     "text": [
      "Episode 73/100: Total Reward -6.320:  73%|███████▎  | 87600/120000 [51:36<16:06, 33.51it/s]"
     ]
    },
    {
     "name": "stdout",
     "output_type": "stream",
     "text": [
      "Episode 73 : Total reward -6.320000000000005\n"
     ]
    },
    {
     "name": "stderr",
     "output_type": "stream",
     "text": [
      "Episode 74/100: Total Reward -2.230:  74%|███████▍  | 88800/120000 [52:07<12:46, 40.69it/s]"
     ]
    },
    {
     "name": "stdout",
     "output_type": "stream",
     "text": [
      "Episode 74 : Total reward -2.2299999999999995\n"
     ]
    },
    {
     "name": "stderr",
     "output_type": "stream",
     "text": [
      "Episode 75/100: Total Reward -0.770:  75%|███████▌  | 90000/120000 [52:38<12:35, 39.69it/s]"
     ]
    },
    {
     "name": "stdout",
     "output_type": "stream",
     "text": [
      "Episode 75 : Total reward -0.7700000000000049\n"
     ]
    },
    {
     "name": "stderr",
     "output_type": "stream",
     "text": [
      "Episode 76/100: Total Reward -3.090:  76%|███████▌  | 91200/120000 [53:09<11:55, 40.24it/s]"
     ]
    },
    {
     "name": "stdout",
     "output_type": "stream",
     "text": [
      "Episode 76 : Total reward -3.089999999999998\n"
     ]
    },
    {
     "name": "stderr",
     "output_type": "stream",
     "text": [
      "Episode 77/100: Total Reward -3.710:  77%|███████▋  | 92400/120000 [53:39<11:15, 40.83it/s]"
     ]
    },
    {
     "name": "stdout",
     "output_type": "stream",
     "text": [
      "Episode 77 : Total reward -3.7100000000000026\n"
     ]
    },
    {
     "name": "stderr",
     "output_type": "stream",
     "text": [
      "Episode 78/100: Total Reward -2.780:  78%|███████▊  | 93600/120000 [54:11<11:16, 39.04it/s]"
     ]
    },
    {
     "name": "stdout",
     "output_type": "stream",
     "text": [
      "Episode 78 : Total reward -2.7799999999999963\n"
     ]
    },
    {
     "name": "stderr",
     "output_type": "stream",
     "text": [
      "Episode 79/100: Total Reward -2.540:  79%|███████▉  | 94800/120000 [54:42<11:56, 35.18it/s]"
     ]
    },
    {
     "name": "stdout",
     "output_type": "stream",
     "text": [
      "Episode 79 : Total reward -2.5400000000000014\n"
     ]
    },
    {
     "name": "stderr",
     "output_type": "stream",
     "text": [
      "Episode 80/100: Total Reward -1.920:  80%|████████  | 96000/120000 [55:13<09:57, 40.16it/s]"
     ]
    },
    {
     "name": "stdout",
     "output_type": "stream",
     "text": [
      "Episode 80 : Total reward -1.920000000000002\n"
     ]
    },
    {
     "name": "stderr",
     "output_type": "stream",
     "text": [
      "Episode 81/100: Total Reward -2.660:  81%|████████  | 97200/120000 [55:44<10:25, 36.44it/s]"
     ]
    },
    {
     "name": "stdout",
     "output_type": "stream",
     "text": [
      "Episode 81 : Total reward -2.66\n"
     ]
    },
    {
     "name": "stderr",
     "output_type": "stream",
     "text": [
      "Episode 82/100: Total Reward -0.410:  82%|████████▏ | 98400/120000 [56:15<08:07, 44.28it/s]"
     ]
    },
    {
     "name": "stdout",
     "output_type": "stream",
     "text": [
      "Episode 82 : Total reward -0.4099999999999986\n"
     ]
    },
    {
     "name": "stderr",
     "output_type": "stream",
     "text": [
      "Episode 83/100: Total Reward -2.360:  83%|████████▎ | 99600/120000 [56:45<08:17, 41.00it/s]"
     ]
    },
    {
     "name": "stdout",
     "output_type": "stream",
     "text": [
      "Episode 83 : Total reward -2.3600000000000003\n"
     ]
    },
    {
     "name": "stderr",
     "output_type": "stream",
     "text": [
      "Episode 84/100: Total Reward -1.160:  84%|████████▍ | 100800/120000 [57:16<08:07, 39.37it/s]"
     ]
    },
    {
     "name": "stdout",
     "output_type": "stream",
     "text": [
      "Episode 84 : Total reward -1.1599999999999977\n"
     ]
    },
    {
     "name": "stderr",
     "output_type": "stream",
     "text": [
      "Episode 85/100: Total Reward -2.430:  85%|████████▌ | 102000/120000 [57:46<09:06, 32.96it/s]"
     ]
    },
    {
     "name": "stdout",
     "output_type": "stream",
     "text": [
      "Episode 85 : Total reward -2.430000000000002\n"
     ]
    },
    {
     "name": "stderr",
     "output_type": "stream",
     "text": [
      "Episode 86/100: Total Reward -3.840:  86%|████████▌ | 103200/120000 [58:17<06:51, 40.88it/s]"
     ]
    },
    {
     "name": "stdout",
     "output_type": "stream",
     "text": [
      "Episode 86 : Total reward -3.8400000000000003\n"
     ]
    },
    {
     "name": "stderr",
     "output_type": "stream",
     "text": [
      "Episode 87/100: Total Reward -1.710:  87%|████████▋ | 104400/120000 [58:48<07:09, 36.31it/s]"
     ]
    },
    {
     "name": "stdout",
     "output_type": "stream",
     "text": [
      "Episode 87 : Total reward -1.7099999999999995\n"
     ]
    },
    {
     "name": "stderr",
     "output_type": "stream",
     "text": [
      "Episode 88/100: Total Reward -1.740:  88%|████████▊ | 105600/120000 [59:20<06:57, 34.46it/s]"
     ]
    },
    {
     "name": "stdout",
     "output_type": "stream",
     "text": [
      "Episode 88 : Total reward -1.7399999999999987\n"
     ]
    },
    {
     "name": "stderr",
     "output_type": "stream",
     "text": [
      "Episode 89/100: Total Reward -4.110:  89%|████████▉ | 106800/120000 [59:52<06:09, 35.69it/s]"
     ]
    },
    {
     "name": "stdout",
     "output_type": "stream",
     "text": [
      "Episode 89 : Total reward -4.109999999999997\n"
     ]
    },
    {
     "name": "stderr",
     "output_type": "stream",
     "text": [
      "Episode 90/100: Total Reward -2.730:  90%|█████████ | 108000/120000 [1:00:23<04:58, 40.23it/s]"
     ]
    },
    {
     "name": "stdout",
     "output_type": "stream",
     "text": [
      "Episode 90 : Total reward -2.7300000000000004\n"
     ]
    },
    {
     "name": "stderr",
     "output_type": "stream",
     "text": [
      "Episode 91/100: Total Reward -6.620:  91%|█████████ | 109200/120000 [1:00:55<04:36, 39.10it/s]"
     ]
    },
    {
     "name": "stdout",
     "output_type": "stream",
     "text": [
      "Episode 91 : Total reward -6.620000000000001\n"
     ]
    },
    {
     "name": "stderr",
     "output_type": "stream",
     "text": [
      "Episode 92/100: Total Reward -1.230:  92%|█████████▏| 110400/120000 [1:01:26<03:30, 45.71it/s]"
     ]
    },
    {
     "name": "stdout",
     "output_type": "stream",
     "text": [
      "Episode 92 : Total reward -1.2299999999999973\n"
     ]
    },
    {
     "name": "stderr",
     "output_type": "stream",
     "text": [
      "Episode 93/100: Total Reward -4.720:  93%|█████████▎| 111600/120000 [1:01:58<03:48, 36.76it/s]"
     ]
    },
    {
     "name": "stdout",
     "output_type": "stream",
     "text": [
      "Episode 93 : Total reward -4.720000000000003\n"
     ]
    },
    {
     "name": "stderr",
     "output_type": "stream",
     "text": [
      "Episode 94/100: Total Reward -3.220:  94%|█████████▍| 112800/120000 [1:02:30<03:42, 32.43it/s]"
     ]
    },
    {
     "name": "stdout",
     "output_type": "stream",
     "text": [
      "Episode 94 : Total reward -3.2199999999999993\n"
     ]
    },
    {
     "name": "stderr",
     "output_type": "stream",
     "text": [
      "Episode 95/100: Total Reward -3.470:  95%|█████████▌| 114000/120000 [1:03:03<02:53, 34.55it/s]"
     ]
    },
    {
     "name": "stdout",
     "output_type": "stream",
     "text": [
      "Episode 95 : Total reward -3.4699999999999935\n"
     ]
    },
    {
     "name": "stderr",
     "output_type": "stream",
     "text": [
      "Episode 96/100: Total Reward -4.380:  96%|█████████▌| 115200/120000 [1:03:34<02:31, 31.75it/s]"
     ]
    },
    {
     "name": "stdout",
     "output_type": "stream",
     "text": [
      "Episode 96 : Total reward -4.380000000000003\n"
     ]
    },
    {
     "name": "stderr",
     "output_type": "stream",
     "text": [
      "Episode 97/100: Total Reward -4.090:  97%|█████████▋| 116400/120000 [1:04:05<01:43, 34.85it/s]"
     ]
    },
    {
     "name": "stdout",
     "output_type": "stream",
     "text": [
      "Episode 97 : Total reward -4.090000000000002\n"
     ]
    },
    {
     "name": "stderr",
     "output_type": "stream",
     "text": [
      "Episode 98/100: Total Reward -3.310:  98%|█████████▊| 117600/120000 [1:04:37<01:01, 39.17it/s]"
     ]
    },
    {
     "name": "stdout",
     "output_type": "stream",
     "text": [
      "Episode 98 : Total reward -3.3100000000000023\n"
     ]
    },
    {
     "name": "stderr",
     "output_type": "stream",
     "text": [
      "Episode 99/100: Total Reward -4.320:  99%|█████████▉| 118800/120000 [1:05:09<00:28, 41.67it/s]"
     ]
    },
    {
     "name": "stdout",
     "output_type": "stream",
     "text": [
      "Episode 99 : Total reward -4.32\n"
     ]
    },
    {
     "name": "stderr",
     "output_type": "stream",
     "text": [
      "Episode 100/100: Total Reward -3.160: 100%|██████████| 120000/120000 [1:05:40<00:00, 30.45it/s]\n"
     ]
    },
    {
     "name": "stdout",
     "output_type": "stream",
     "text": [
      "Episode 100 : Total reward -3.159999999999999\n",
      "Running Time : 4022.5326914787292\n",
      "\n"
     ]
    },
    {
     "data": {
      "image/png": "[encoded data removed]",
      "text/plain": [
       "<Figure size 640x480 with 1 Axes>"
      ]
     },
     "metadata": {},
     "output_type": "display_data"
    }
   ],
   "source": [
    "from traffic_tail.trainer import SUMOTrainer\n",
    "import time\n",
    "start = time.time()\n",
    "\n",
    "\n",
    "trainerTail = SUMOTrainer(\n",
    "    env='tailgating', \n",
    "    use_gui=False,\n",
    "    num_seconds=TOTAL_TIME,\n",
    "    graphs=True,\n",
    ")\n",
    "#trainerTail.load('results/default/best_agents.pkl') # load the default best model\n",
    "trainerTail.train(episodes=100) # train for 5 weekdays of rush hour traffic\n",
    "print(f\"Running Time : {time.time()-start}\\n\")"
   ]
  },
  {
   "cell_type": "code",
   "execution_count": 1,
   "metadata": {},
   "outputs": [],
   "source": [
    "import warnings\n",
    "import time\n",
    "warnings.filterwarnings(\"ignore\")\n",
    "\n",
    "from tqdm import tqdm\n",
    "from traffic_tail.environment import create_env\n",
    "from traffic_tail.trainer import SUMOTrainer"
   ]
  },
  {
   "cell_type": "code",
   "execution_count": 10,
   "metadata": {},
   "outputs": [
    {
     "name": "stdout",
     "output_type": "stream",
     "text": [
      "Using default SUMO environment.\n",
      "Initializing RL agents. (This may take a while)\n"
     ]
    },
    {
     "name": "stderr",
     "output_type": "stream",
     "text": [
      "100%|██████████| 1200/1200 [00:45<00:00, 34.61it/s]"
     ]
    },
    {
     "name": "stdout",
     "output_type": "stream",
     "text": [
      "Using custom environment with tailgating behavior.\n",
      "Initializing RL agents. (This may take a while)\n"
     ]
    }
   ],
   "source": [
    "trainerDef2 = SUMOTrainer(\n",
    "    env='default', \n",
    "    use_gui=False,\n",
    "    num_seconds=TOTAL_TIME,\n",
    ")\n",
    "trainerTail2 = SUMOTrainer(\n",
    "    env='tailgating', \n",
    "    use_gui=False,\n",
    "    num_seconds=TOTAL_TIME,\n",
    ")"
   ]
  },
  {
   "cell_type": "code",
   "execution_count": null,
   "metadata": {},
   "outputs": [
    {
     "name": "stderr",
     "output_type": "stream",
     "text": []
    }
   ],
   "source": [
    "#1\n",
    "# trainerDef2.load('results/default/best_agents.pkl') # load the default best model\n",
    "# agents = trainerDef2.agents\n",
    "\n",
    "# rewards = []\n",
    "# for i in range(5):\n",
    "#     start = time.time()\n",
    "#     env = create_env(\n",
    "#         tailgating=False, \n",
    "#         use_gui=USE_SUMO_GUI, \n",
    "#         num_seconds=TOTAL_TIME\n",
    "#     )\n",
    "\n",
    "#     total_reward = 0\n",
    "#     state = env.reset()\n",
    "#     done = {\"__all__\": False}\n",
    "\n",
    "#     pbar = tqdm(total=TOTAL_TIME)\n",
    "#     while not done[\"__all__\"]:\n",
    "#         actions = {\n",
    "#             ts_id: agents[ts_id].act(state[ts_id]) \n",
    "#             for ts_id in state.keys()\n",
    "#         }\n",
    "#         state, reward, done, _ = env.step(actions)\n",
    "#         total_reward += sum(reward.values())\n",
    "#         pbar.update(env.delta_time)\n",
    "\n",
    "#     env.close()\n",
    "#     print(f\"episode : {i}\")\n",
    "#     print(f\"Total reward: {total_reward}\")\n",
    "#     rewards.append(total_reward)\n",
    "#     print(f\"Running Time : {time.time()-start}\\n\")\n",
    "# print(f\"total_mean : {sum(rewards)/len(rewards)}\")"
   ]
  },
  {
   "cell_type": "code",
   "execution_count": 11,
   "metadata": {},
   "outputs": [
    {
     "name": "stdout",
     "output_type": "stream",
     "text": [
      "Using default SUMO environment.\n"
     ]
    },
    {
     "name": "stderr",
     "output_type": "stream",
     "text": [
      "100%|██████████| 1200/1200 [04:11<00:00,  4.78it/s]\n"
     ]
    },
    {
     "name": "stdout",
     "output_type": "stream",
     "text": [
      "episode : 0\n",
      "Total reward: -21.519999999999968\n",
      "Running Time : 18.871532440185547\n",
      "\n",
      "Using default SUMO environment.\n"
     ]
    },
    {
     "name": "stderr",
     "output_type": "stream",
     "text": [
      "100%|██████████| 1200/1200 [00:18<00:00, 63.76it/s]\n",
      "100%|█████████▉| 1195/1200 [00:17<00:00, 57.76it/s]"
     ]
    },
    {
     "name": "stdout",
     "output_type": "stream",
     "text": [
      "episode : 1\n",
      "Total reward: -57.72999999999999\n",
      "Running Time : 19.054614305496216\n",
      "\n",
      "Using default SUMO environment.\n"
     ]
    },
    {
     "name": "stderr",
     "output_type": "stream",
     "text": [
      "100%|██████████| 1200/1200 [00:19<00:00, 62.81it/s]\n"
     ]
    },
    {
     "name": "stdout",
     "output_type": "stream",
     "text": [
      "episode : 2\n",
      "Total reward: -10.77999999999998\n",
      "Running Time : 18.63853120803833\n",
      "\n",
      "Using default SUMO environment.\n"
     ]
    },
    {
     "name": "stderr",
     "output_type": "stream",
     "text": [
      "100%|██████████| 1200/1200 [00:19<00:00, 62.59it/s]\n",
      "100%|██████████| 1200/1200 [00:15<00:00, 74.44it/s]"
     ]
    },
    {
     "name": "stdout",
     "output_type": "stream",
     "text": [
      "episode : 3\n",
      "Total reward: -18.880000000000003\n",
      "Running Time : 17.247064352035522\n",
      "\n",
      "Using default SUMO environment.\n"
     ]
    },
    {
     "name": "stderr",
     "output_type": "stream",
     "text": [
      "100%|██████████| 1200/1200 [00:16<00:00, 71.97it/s]\n"
     ]
    },
    {
     "name": "stdout",
     "output_type": "stream",
     "text": [
      "episode : 4\n",
      "Total reward: -21.209999999999997\n",
      "Running Time : 20.228227615356445\n",
      "\n",
      "Using default SUMO environment.\n"
     ]
    },
    {
     "name": "stderr",
     "output_type": "stream",
     "text": [
      "100%|██████████| 1200/1200 [00:20<00:00, 59.05it/s]\n",
      "100%|█████████▉| 1195/1200 [00:18<00:00, 60.38it/s]"
     ]
    },
    {
     "name": "stdout",
     "output_type": "stream",
     "text": [
      "episode : 5\n",
      "Total reward: -28.989999999999995\n",
      "Running Time : 20.020604610443115\n",
      "\n",
      "Using default SUMO environment.\n"
     ]
    },
    {
     "name": "stderr",
     "output_type": "stream",
     "text": [
      "100%|██████████| 1200/1200 [00:19<00:00, 60.24it/s]\n"
     ]
    },
    {
     "name": "stdout",
     "output_type": "stream",
     "text": [
      "episode : 6\n",
      "Total reward: -125.14000000000006\n",
      "Running Time : 19.944258451461792\n",
      "\n",
      "Using default SUMO environment.\n"
     ]
    },
    {
     "name": "stderr",
     "output_type": "stream",
     "text": [
      "100%|██████████| 1200/1200 [00:20<00:00, 58.62it/s]\n",
      "100%|██████████| 1200/1200 [00:18<00:00, 51.89it/s]"
     ]
    },
    {
     "name": "stdout",
     "output_type": "stream",
     "text": [
      "episode : 7\n",
      "Total reward: -63.55000000000002\n",
      "Running Time : 21.046833038330078\n",
      "\n",
      "Using default SUMO environment.\n"
     ]
    },
    {
     "name": "stderr",
     "output_type": "stream",
     "text": [
      "100%|██████████| 1200/1200 [00:20<00:00, 58.43it/s]\n"
     ]
    },
    {
     "name": "stdout",
     "output_type": "stream",
     "text": [
      "episode : 8\n",
      "Total reward: -58.329999999999956\n",
      "Running Time : 19.578436851501465\n",
      "\n",
      "Using default SUMO environment.\n"
     ]
    },
    {
     "name": "stderr",
     "output_type": "stream",
     "text": [
      "100%|██████████| 1200/1200 [00:19<00:00, 61.37it/s]\n",
      "100%|██████████| 1200/1200 [00:19<00:00, 59.64it/s]"
     ]
    },
    {
     "name": "stdout",
     "output_type": "stream",
     "text": [
      "episode : 9\n",
      "Total reward: -11.779999999999998\n",
      "Running Time : 21.195505619049072\n",
      "\n",
      "Using default SUMO environment.\n"
     ]
    },
    {
     "name": "stderr",
     "output_type": "stream",
     "text": [
      "100%|██████████| 1200/1200 [00:21<00:00, 56.69it/s]\n"
     ]
    },
    {
     "name": "stdout",
     "output_type": "stream",
     "text": [
      "episode : 10\n",
      "Total reward: -41.339999999999996\n",
      "Running Time : 19.38815188407898\n",
      "\n",
      "Using default SUMO environment.\n"
     ]
    },
    {
     "name": "stderr",
     "output_type": "stream",
     "text": [
      "100%|██████████| 1200/1200 [00:19<00:00, 60.09it/s]\n",
      "100%|█████████▉| 1195/1200 [00:18<00:00, 62.43it/s]"
     ]
    },
    {
     "name": "stdout",
     "output_type": "stream",
     "text": [
      "episode : 11\n",
      "Total reward: -21.689999999999987\n",
      "Running Time : 21.04322862625122\n",
      "\n",
      "Using default SUMO environment.\n"
     ]
    },
    {
     "name": "stderr",
     "output_type": "stream",
     "text": [
      "100%|██████████| 1200/1200 [00:20<00:00, 58.57it/s]\n"
     ]
    },
    {
     "name": "stdout",
     "output_type": "stream",
     "text": [
      "episode : 12\n",
      "Total reward: -16.33\n",
      "Running Time : 16.45521569252014\n",
      "\n",
      "Using default SUMO environment.\n"
     ]
    },
    {
     "name": "stderr",
     "output_type": "stream",
     "text": [
      "100%|██████████| 1200/1200 [00:16<00:00, 72.59it/s]\n",
      "100%|██████████| 1200/1200 [00:15<00:00, 76.85it/s]"
     ]
    },
    {
     "name": "stdout",
     "output_type": "stream",
     "text": [
      "episode : 13\n",
      "Total reward: -35.160000000000004\n",
      "Running Time : 16.850390672683716\n",
      "\n",
      "Using default SUMO environment.\n"
     ]
    },
    {
     "name": "stderr",
     "output_type": "stream",
     "text": [
      "100%|██████████| 1200/1200 [00:16<00:00, 71.15it/s]\n"
     ]
    },
    {
     "name": "stdout",
     "output_type": "stream",
     "text": [
      "episode : 14\n",
      "Total reward: -23.619999999999997\n",
      "Running Time : 18.171497106552124\n",
      "\n",
      "Using default SUMO environment.\n"
     ]
    },
    {
     "name": "stderr",
     "output_type": "stream",
     "text": [
      "100%|██████████| 1200/1200 [00:18<00:00, 66.16it/s]\n",
      "100%|██████████| 1200/1200 [00:19<00:00, 41.63it/s]"
     ]
    },
    {
     "name": "stdout",
     "output_type": "stream",
     "text": [
      "episode : 15\n",
      "Total reward: -177.3200000000001\n",
      "Running Time : 21.080153465270996\n",
      "\n",
      "Using default SUMO environment.\n"
     ]
    },
    {
     "name": "stderr",
     "output_type": "stream",
     "text": [
      "100%|██████████| 1200/1200 [00:21<00:00, 55.63it/s]\n"
     ]
    },
    {
     "name": "stdout",
     "output_type": "stream",
     "text": [
      "episode : 16\n",
      "Total reward: -233.79999999999984\n",
      "Running Time : 24.176921844482422\n",
      "\n",
      "Using default SUMO environment.\n"
     ]
    },
    {
     "name": "stderr",
     "output_type": "stream",
     "text": [
      "100%|██████████| 1200/1200 [00:24<00:00, 49.54it/s]\n",
      "100%|██████████| 1200/1200 [00:19<00:00, 35.88it/s]"
     ]
    },
    {
     "name": "stdout",
     "output_type": "stream",
     "text": [
      "episode : 17\n",
      "Total reward: -177.56\n",
      "Running Time : 21.78295111656189\n",
      "\n",
      "Using default SUMO environment.\n"
     ]
    },
    {
     "name": "stderr",
     "output_type": "stream",
     "text": [
      "100%|██████████| 1200/1200 [00:21<00:00, 56.27it/s]\n"
     ]
    },
    {
     "name": "stdout",
     "output_type": "stream",
     "text": [
      "episode : 18\n",
      "Total reward: -33.07000000000001\n",
      "Running Time : 19.92571210861206\n",
      "\n",
      "Using default SUMO environment.\n"
     ]
    },
    {
     "name": "stderr",
     "output_type": "stream",
     "text": [
      "100%|██████████| 1200/1200 [00:20<00:00, 58.88it/s]\n",
      "100%|█████████▉| 1195/1200 [00:18<00:00, 58.17it/s]"
     ]
    },
    {
     "name": "stdout",
     "output_type": "stream",
     "text": [
      "episode : 19\n",
      "Total reward: -117.30000000000003\n",
      "Running Time : 20.26567506790161\n",
      "\n",
      "total_mean : -64.755\n"
     ]
    }
   ],
   "source": [
    "#2\n",
    "trainerTail2.load('results/tailgating/best_agents.pkl') # load the tailgating best model\n",
    "agents = trainerTail2.agents\n",
    "\n",
    "rewards = []\n",
    "for i in range(20):\n",
    "    start = time.time()\n",
    "    env = create_env(\n",
    "        tailgating=False, \n",
    "        use_gui=USE_SUMO_GUI, \n",
    "        num_seconds=TOTAL_TIME\n",
    "    )\n",
    "\n",
    "    total_reward = 0\n",
    "    state = env.reset()\n",
    "    done = {\"__all__\": False}\n",
    "\n",
    "    pbar = tqdm(total=TOTAL_TIME)\n",
    "    while not done[\"__all__\"]:\n",
    "        actions = {\n",
    "            ts_id: agents[ts_id].act(state[ts_id]) \n",
    "            for ts_id in state.keys()\n",
    "        }\n",
    "        state, reward, done, _ = env.step(actions)\n",
    "        total_reward += sum(reward.values())\n",
    "        pbar.update(env.delta_time)\n",
    "\n",
    "    env.close()\n",
    "    print(f\"episode : {i}\")\n",
    "    print(f\"Total reward: {total_reward}\")\n",
    "    rewards.append(total_reward)\n",
    "    print(f\"Running Time : {time.time()-start}\\n\")\n",
    "print(f\"total_mean : {sum(rewards)/len(rewards)}\")"
   ]
  },
  {
   "cell_type": "code",
   "execution_count": 6,
   "metadata": {},
   "outputs": [
    {
     "name": "stdout",
     "output_type": "stream",
     "text": [
      "Using custom environment with tailgating behavior.\n",
      "Initializing RL agents. (This may take a while)\n"
     ]
    }
   ],
   "source": [
    "# trainerDef3 = SUMOTrainer(\n",
    "#     env='default', \n",
    "#     use_gui=False,\n",
    "#     num_seconds=TOTAL_TIME,\n",
    "# )\n",
    "trainerTail3 = SUMOTrainer(\n",
    "    env='tailgating', \n",
    "    use_gui=False,\n",
    "    num_seconds=TOTAL_TIME,\n",
    ")"
   ]
  },
  {
   "cell_type": "code",
   "execution_count": 5,
   "metadata": {},
   "outputs": [
    {
     "name": "stdout",
     "output_type": "stream",
     "text": [
      "Using custom environment with tailgating behavior.\n"
     ]
    },
    {
     "name": "stderr",
     "output_type": "stream",
     "text": [
      "100%|██████████| 1200/1200 [00:23<00:00, 49.75it/s]"
     ]
    },
    {
     "name": "stdout",
     "output_type": "stream",
     "text": [
      "episode : 0\n",
      "Total reward: -1.2500000000000016\n",
      "Running Time : 24.98700261116028\n",
      "\n",
      "Using custom environment with tailgating behavior.\n"
     ]
    },
    {
     "name": "stderr",
     "output_type": "stream",
     "text": [
      "100%|██████████| 1200/1200 [00:24<00:00, 48.06it/s]\n"
     ]
    },
    {
     "name": "stdout",
     "output_type": "stream",
     "text": [
      "episode : 1\n",
      "Total reward: -1.2299999999999998\n",
      "Running Time : 26.718180179595947\n",
      "\n",
      "Using custom environment with tailgating behavior.\n"
     ]
    },
    {
     "name": "stderr",
     "output_type": "stream",
     "text": [
      "100%|██████████| 1200/1200 [00:26<00:00, 44.82it/s]\n",
      "100%|██████████| 1200/1200 [00:25<00:00, 42.43it/s]"
     ]
    },
    {
     "name": "stdout",
     "output_type": "stream",
     "text": [
      "episode : 2\n",
      "Total reward: -1.849999999999999\n",
      "Running Time : 26.973117351531982\n",
      "\n",
      "Using custom environment with tailgating behavior.\n"
     ]
    },
    {
     "name": "stderr",
     "output_type": "stream",
     "text": [
      "100%|██████████| 1200/1200 [00:26<00:00, 44.60it/s]\n"
     ]
    },
    {
     "name": "stdout",
     "output_type": "stream",
     "text": [
      "episode : 3\n",
      "Total reward: -1.28\n",
      "Running Time : 28.39099931716919\n",
      "\n",
      "Using custom environment with tailgating behavior.\n"
     ]
    },
    {
     "name": "stderr",
     "output_type": "stream",
     "text": [
      "100%|██████████| 1200/1200 [00:28<00:00, 42.29it/s]\n",
      "100%|█████████▉| 1195/1200 [00:25<00:00, 50.57it/s]"
     ]
    },
    {
     "name": "stdout",
     "output_type": "stream",
     "text": [
      "episode : 4\n",
      "Total reward: -0.8699999999999994\n",
      "Running Time : 26.881511926651\n",
      "\n",
      "Using custom environment with tailgating behavior.\n"
     ]
    },
    {
     "name": "stderr",
     "output_type": "stream",
     "text": [
      "100%|██████████| 1200/1200 [00:26<00:00, 44.60it/s]\n"
     ]
    },
    {
     "name": "stdout",
     "output_type": "stream",
     "text": [
      "episode : 5\n",
      "Total reward: -3.680000000000003\n",
      "Running Time : 27.73900032043457\n",
      "\n",
      "Using custom environment with tailgating behavior.\n"
     ]
    },
    {
     "name": "stderr",
     "output_type": "stream",
     "text": [
      "100%|██████████| 1200/1200 [00:27<00:00, 43.28it/s]\n",
      "100%|██████████| 1200/1200 [00:25<00:00, 54.12it/s]"
     ]
    },
    {
     "name": "stdout",
     "output_type": "stream",
     "text": [
      "episode : 6\n",
      "Total reward: -0.24000000000000207\n",
      "Running Time : 26.90751576423645\n",
      "\n",
      "Using custom environment with tailgating behavior.\n"
     ]
    },
    {
     "name": "stderr",
     "output_type": "stream",
     "text": [
      "100%|██████████| 1200/1200 [00:26<00:00, 44.61it/s]\n"
     ]
    },
    {
     "name": "stdout",
     "output_type": "stream",
     "text": [
      "episode : 7\n",
      "Total reward: -0.8499999999999973\n",
      "Running Time : 26.76000142097473\n",
      "\n",
      "Using custom environment with tailgating behavior.\n"
     ]
    },
    {
     "name": "stderr",
     "output_type": "stream",
     "text": [
      "100%|██████████| 1200/1200 [00:26<00:00, 44.85it/s]\n",
      "100%|██████████| 1200/1200 [00:26<00:00, 41.68it/s]"
     ]
    },
    {
     "name": "stdout",
     "output_type": "stream",
     "text": [
      "episode : 8\n",
      "Total reward: -0.8000000000000003\n",
      "Running Time : 27.523001432418823\n",
      "\n",
      "Using custom environment with tailgating behavior.\n"
     ]
    },
    {
     "name": "stderr",
     "output_type": "stream",
     "text": [
      "100%|██████████| 1200/1200 [00:27<00:00, 43.56it/s]\n"
     ]
    },
    {
     "name": "stdout",
     "output_type": "stream",
     "text": [
      "episode : 9\n",
      "Total reward: -2.5599999999999987\n",
      "Running Time : 28.24400019645691\n",
      "\n",
      "Using custom environment with tailgating behavior.\n"
     ]
    },
    {
     "name": "stderr",
     "output_type": "stream",
     "text": [
      "100%|██████████| 1200/1200 [00:28<00:00, 42.49it/s]\n",
      "100%|██████████| 1200/1200 [00:23<00:00, 50.24it/s]"
     ]
    },
    {
     "name": "stdout",
     "output_type": "stream",
     "text": [
      "episode : 10\n",
      "Total reward: -1.3300000000000005\n",
      "Running Time : 25.11799693107605\n",
      "\n",
      "Using custom environment with tailgating behavior.\n"
     ]
    },
    {
     "name": "stderr",
     "output_type": "stream",
     "text": [
      "100%|██████████| 1200/1200 [00:25<00:00, 47.80it/s]\n"
     ]
    },
    {
     "name": "stdout",
     "output_type": "stream",
     "text": [
      "episode : 11\n",
      "Total reward: -1.9399999999999986\n",
      "Running Time : 25.21600103378296\n",
      "\n",
      "Using custom environment with tailgating behavior.\n"
     ]
    },
    {
     "name": "stderr",
     "output_type": "stream",
     "text": [
      "100%|██████████| 1200/1200 [00:25<00:00, 47.60it/s]\n",
      "100%|██████████| 1200/1200 [00:24<00:00, 43.76it/s]"
     ]
    },
    {
     "name": "stdout",
     "output_type": "stream",
     "text": [
      "episode : 12\n",
      "Total reward: -1.7499999999999991\n",
      "Running Time : 25.50999903678894\n",
      "\n",
      "Using custom environment with tailgating behavior.\n"
     ]
    },
    {
     "name": "stderr",
     "output_type": "stream",
     "text": [
      "100%|██████████| 1200/1200 [00:25<00:00, 47.02it/s]\n"
     ]
    },
    {
     "name": "stdout",
     "output_type": "stream",
     "text": [
      "episode : 13\n",
      "Total reward: -1.6300000000000026\n",
      "Running Time : 26.507001161575317\n",
      "\n",
      "Using custom environment with tailgating behavior.\n"
     ]
    },
    {
     "name": "stderr",
     "output_type": "stream",
     "text": [
      "100%|██████████| 1200/1200 [00:26<00:00, 45.26it/s]\n",
      "100%|██████████| 1200/1200 [00:26<00:00, 51.00it/s]"
     ]
    },
    {
     "name": "stdout",
     "output_type": "stream",
     "text": [
      "episode : 14\n",
      "Total reward: -1.8799999999999992\n",
      "Running Time : 27.588000535964966\n",
      "\n",
      "Using custom environment with tailgating behavior.\n"
     ]
    },
    {
     "name": "stderr",
     "output_type": "stream",
     "text": [
      "100%|██████████| 1200/1200 [00:27<00:00, 43.51it/s]\n"
     ]
    },
    {
     "name": "stdout",
     "output_type": "stream",
     "text": [
      "episode : 15\n",
      "Total reward: -0.8800000000000009\n",
      "Running Time : 27.52500009536743\n",
      "\n",
      "Using custom environment with tailgating behavior.\n"
     ]
    },
    {
     "name": "stderr",
     "output_type": "stream",
     "text": [
      "100%|██████████| 1200/1200 [00:27<00:00, 43.61it/s]\n",
      "100%|██████████| 1200/1200 [00:27<00:00, 41.18it/s]"
     ]
    },
    {
     "name": "stdout",
     "output_type": "stream",
     "text": [
      "episode : 16\n",
      "Total reward: -2.4099999999999984\n",
      "Running Time : 28.449033737182617\n",
      "\n",
      "Using custom environment with tailgating behavior.\n"
     ]
    },
    {
     "name": "stderr",
     "output_type": "stream",
     "text": [
      "100%|██████████| 1200/1200 [00:28<00:00, 42.17it/s]\n"
     ]
    },
    {
     "name": "stdout",
     "output_type": "stream",
     "text": [
      "episode : 17\n",
      "Total reward: -1.6099999999999999\n",
      "Running Time : 27.422000408172607\n",
      "\n",
      "Using custom environment with tailgating behavior.\n"
     ]
    },
    {
     "name": "stderr",
     "output_type": "stream",
     "text": [
      "100%|██████████| 1200/1200 [00:27<00:00, 43.77it/s]\n",
      "100%|█████████▉| 1195/1200 [00:24<00:00, 52.85it/s]"
     ]
    },
    {
     "name": "stdout",
     "output_type": "stream",
     "text": [
      "episode : 18\n",
      "Total reward: -0.6800000000000005\n",
      "Running Time : 25.951002597808838\n",
      "\n",
      "Using custom environment with tailgating behavior.\n"
     ]
    },
    {
     "name": "stderr",
     "output_type": "stream",
     "text": [
      "100%|██████████| 1200/1200 [00:25<00:00, 46.19it/s]\n"
     ]
    },
    {
     "name": "stdout",
     "output_type": "stream",
     "text": [
      "episode : 19\n",
      "Total reward: -2.759999999999998\n",
      "Running Time : 27.272225379943848\n",
      "\n",
      "total_mean : -1.5739999999999998\n"
     ]
    },
    {
     "name": "stderr",
     "output_type": "stream",
     "text": []
    }
   ],
   "source": [
    "#3\n",
    "trainerDef3.load('results/default/best_agents.pkl') # load the default best model\n",
    "agents = trainerDef3.agents\n",
    "\n",
    "rewards = []\n",
    "for i in range(20):\n",
    "    start = time.time()\n",
    "    env = create_env(\n",
    "        tailgating=True, \n",
    "        #use_gui=USE_SUMO_GUI, \n",
    "        num_seconds=TOTAL_TIME\n",
    "    )\n",
    "\n",
    "    total_reward = 0\n",
    "    state = env.reset()\n",
    "    done = {\"__all__\": False}\n",
    "\n",
    "    pbar = tqdm(total=TOTAL_TIME)\n",
    "    while not done[\"__all__\"]:\n",
    "        actions = {\n",
    "            ts_id: agents[ts_id].act(state[ts_id]) \n",
    "            for ts_id in state.keys()\n",
    "        }\n",
    "        state, reward, done, _ = env.step(actions)\n",
    "        total_reward += sum(reward.values())\n",
    "        pbar.update(env.delta_time)\n",
    "\n",
    "    env.close()\n",
    "    print(f\"episode : {i}\")\n",
    "    print(f\"Total reward: {total_reward}\")\n",
    "    rewards.append(total_reward)\n",
    "    print(f\"Running Time : {time.time()-start}\\n\")\n",
    "print(f\"total_mean : {sum(rewards)/len(rewards)}\")"
   ]
  },
  {
   "cell_type": "code",
   "execution_count": 7,
   "metadata": {},
   "outputs": [
    {
     "name": "stdout",
     "output_type": "stream",
     "text": [
      "Using custom environment with tailgating behavior.\n"
     ]
    },
    {
     "name": "stderr",
     "output_type": "stream",
     "text": [
      "100%|██████████| 1200/1200 [07:08<00:00,  2.80it/s]\n",
      "100%|█████████▉| 1195/1200 [00:26<00:00, 48.84it/s]"
     ]
    },
    {
     "name": "stdout",
     "output_type": "stream",
     "text": [
      "episode : 0\n",
      "Total reward: -1.2\n",
      "Running Time : 27.65999960899353\n",
      "\n",
      "Using custom environment with tailgating behavior.\n"
     ]
    },
    {
     "name": "stderr",
     "output_type": "stream",
     "text": [
      "100%|██████████| 1200/1200 [00:27<00:00, 43.39it/s]\n"
     ]
    },
    {
     "name": "stdout",
     "output_type": "stream",
     "text": [
      "episode : 1\n",
      "Total reward: -1.6500000000000024\n",
      "Running Time : 30.698067665100098\n",
      "\n",
      "Using custom environment with tailgating behavior.\n"
     ]
    },
    {
     "name": "stderr",
     "output_type": "stream",
     "text": [
      "100%|██████████| 1200/1200 [00:30<00:00, 39.04it/s]\n",
      "100%|██████████| 1200/1200 [00:28<00:00, 44.58it/s]"
     ]
    },
    {
     "name": "stdout",
     "output_type": "stream",
     "text": [
      "episode : 2\n",
      "Total reward: -2.9799999999999973\n",
      "Running Time : 29.553318738937378\n",
      "\n",
      "Using custom environment with tailgating behavior.\n"
     ]
    },
    {
     "name": "stderr",
     "output_type": "stream",
     "text": [
      "100%|██████████| 1200/1200 [00:29<00:00, 40.67it/s]\n"
     ]
    },
    {
     "name": "stdout",
     "output_type": "stream",
     "text": [
      "episode : 3\n",
      "Total reward: -0.8399999999999995\n",
      "Running Time : 30.72351622581482\n",
      "\n",
      "Using custom environment with tailgating behavior.\n"
     ]
    },
    {
     "name": "stderr",
     "output_type": "stream",
     "text": [
      "100%|██████████| 1200/1200 [00:30<00:00, 39.05it/s]\n",
      "100%|██████████| 1200/1200 [00:27<00:00, 30.12it/s]"
     ]
    },
    {
     "name": "stdout",
     "output_type": "stream",
     "text": [
      "episode : 4\n",
      "Total reward: -3.7300000000000013\n",
      "Running Time : 28.318002939224243\n",
      "\n",
      "Using custom environment with tailgating behavior.\n"
     ]
    },
    {
     "name": "stderr",
     "output_type": "stream",
     "text": [
      "100%|██████████| 1200/1200 [00:28<00:00, 42.34it/s]\n"
     ]
    },
    {
     "name": "stdout",
     "output_type": "stream",
     "text": [
      "episode : 5\n",
      "Total reward: -1.34\n",
      "Running Time : 29.02206254005432\n",
      "\n",
      "Using custom environment with tailgating behavior.\n"
     ]
    },
    {
     "name": "stderr",
     "output_type": "stream",
     "text": [
      "100%|██████████| 1200/1200 [00:29<00:00, 41.37it/s]\n",
      "100%|██████████| 1200/1200 [00:25<00:00, 43.53it/s]"
     ]
    },
    {
     "name": "stdout",
     "output_type": "stream",
     "text": [
      "episode : 6\n",
      "Total reward: -2.460000000000001\n",
      "Running Time : 27.075000762939453\n",
      "\n",
      "Using custom environment with tailgating behavior.\n"
     ]
    },
    {
     "name": "stderr",
     "output_type": "stream",
     "text": [
      "100%|██████████| 1200/1200 [00:27<00:00, 44.32it/s]\n"
     ]
    },
    {
     "name": "stdout",
     "output_type": "stream",
     "text": [
      "episode : 7\n",
      "Total reward: -0.5\n",
      "Running Time : 26.40200161933899\n",
      "\n",
      "Using custom environment with tailgating behavior.\n"
     ]
    },
    {
     "name": "stderr",
     "output_type": "stream",
     "text": [
      "100%|██████████| 1200/1200 [00:26<00:00, 45.46it/s]\n",
      "100%|██████████| 1200/1200 [00:26<00:00, 51.88it/s]"
     ]
    },
    {
     "name": "stdout",
     "output_type": "stream",
     "text": [
      "episode : 8\n",
      "Total reward: -0.9000000000000002\n",
      "Running Time : 27.47102928161621\n",
      "\n",
      "Using custom environment with tailgating behavior.\n"
     ]
    },
    {
     "name": "stderr",
     "output_type": "stream",
     "text": [
      "100%|██████████| 1200/1200 [00:27<00:00, 43.69it/s]\n"
     ]
    },
    {
     "name": "stdout",
     "output_type": "stream",
     "text": [
      "episode : 9\n",
      "Total reward: -0.9599999999999973\n",
      "Running Time : 28.506513833999634\n",
      "\n",
      "Using custom environment with tailgating behavior.\n"
     ]
    },
    {
     "name": "stderr",
     "output_type": "stream",
     "text": [
      "100%|██████████| 1200/1200 [00:28<00:00, 42.02it/s]\n",
      "100%|██████████| 1200/1200 [00:27<00:00, 46.45it/s]"
     ]
    },
    {
     "name": "stdout",
     "output_type": "stream",
     "text": [
      "episode : 10\n",
      "Total reward: -0.9399999999999988\n",
      "Running Time : 29.02251672744751\n",
      "\n",
      "Using custom environment with tailgating behavior.\n"
     ]
    },
    {
     "name": "stderr",
     "output_type": "stream",
     "text": [
      "100%|██████████| 1200/1200 [00:28<00:00, 41.40it/s]\n"
     ]
    },
    {
     "name": "stdout",
     "output_type": "stream",
     "text": [
      "episode : 11\n",
      "Total reward: -4.139999999999997\n",
      "Running Time : 31.610065460205078\n",
      "\n",
      "Using custom environment with tailgating behavior.\n"
     ]
    },
    {
     "name": "stderr",
     "output_type": "stream",
     "text": [
      "100%|██████████| 1200/1200 [00:31<00:00, 37.96it/s]\n",
      "100%|██████████| 1200/1200 [00:26<00:00, 39.14it/s]"
     ]
    },
    {
     "name": "stdout",
     "output_type": "stream",
     "text": [
      "episode : 12\n",
      "Total reward: -4.649999999999998\n",
      "Running Time : 27.709721088409424\n",
      "\n",
      "Using custom environment with tailgating behavior.\n"
     ]
    },
    {
     "name": "stderr",
     "output_type": "stream",
     "text": [
      "100%|██████████| 1200/1200 [00:27<00:00, 43.30it/s]\n"
     ]
    },
    {
     "name": "stdout",
     "output_type": "stream",
     "text": [
      "episode : 13\n",
      "Total reward: -1.0700000000000016\n",
      "Running Time : 28.434000968933105\n",
      "\n",
      "Using custom environment with tailgating behavior.\n"
     ]
    },
    {
     "name": "stderr",
     "output_type": "stream",
     "text": [
      "100%|██████████| 1200/1200 [00:28<00:00, 42.23it/s]\n",
      "100%|██████████| 1200/1200 [00:29<00:00, 40.36it/s]"
     ]
    },
    {
     "name": "stdout",
     "output_type": "stream",
     "text": [
      "episode : 14\n",
      "Total reward: -4.609999999999996\n",
      "Running Time : 30.268003940582275\n",
      "\n",
      "Using custom environment with tailgating behavior.\n"
     ]
    },
    {
     "name": "stderr",
     "output_type": "stream",
     "text": [
      "100%|██████████| 1200/1200 [00:30<00:00, 39.64it/s]\n"
     ]
    },
    {
     "name": "stdout",
     "output_type": "stream",
     "text": [
      "episode : 15\n",
      "Total reward: -1.3299999999999994\n",
      "Running Time : 27.57499599456787\n",
      "\n",
      "Using custom environment with tailgating behavior.\n"
     ]
    },
    {
     "name": "stderr",
     "output_type": "stream",
     "text": [
      "100%|██████████| 1200/1200 [00:27<00:00, 43.52it/s]\n",
      "100%|██████████| 1200/1200 [00:26<00:00, 41.31it/s]"
     ]
    },
    {
     "name": "stdout",
     "output_type": "stream",
     "text": [
      "episode : 16\n",
      "Total reward: -3.860000000000004\n",
      "Running Time : 27.75201153755188\n",
      "\n",
      "Using custom environment with tailgating behavior.\n"
     ]
    },
    {
     "name": "stderr",
     "output_type": "stream",
     "text": [
      "100%|██████████| 1200/1200 [00:27<00:00, 43.23it/s]\n"
     ]
    },
    {
     "name": "stdout",
     "output_type": "stream",
     "text": [
      "episode : 17\n",
      "Total reward: -2.0199999999999974\n",
      "Running Time : 26.14098596572876\n",
      "\n",
      "Using custom environment with tailgating behavior.\n"
     ]
    },
    {
     "name": "stderr",
     "output_type": "stream",
     "text": [
      "100%|██████████| 1200/1200 [00:26<00:00, 45.92it/s]\n",
      "100%|██████████| 1200/1200 [00:26<00:00, 50.02it/s]"
     ]
    },
    {
     "name": "stdout",
     "output_type": "stream",
     "text": [
      "episode : 18\n",
      "Total reward: -1.4700000000000004\n",
      "Running Time : 27.945504665374756\n",
      "\n",
      "Using custom environment with tailgating behavior.\n"
     ]
    },
    {
     "name": "stderr",
     "output_type": "stream",
     "text": [
      "100%|██████████| 1200/1200 [00:27<00:00, 42.95it/s]\n"
     ]
    },
    {
     "name": "stdout",
     "output_type": "stream",
     "text": [
      "episode : 19\n",
      "Total reward: -2.009999999999998\n",
      "Running Time : 27.004515171051025\n",
      "\n",
      "total_mean : -2.1329999999999996\n"
     ]
    },
    {
     "name": "stderr",
     "output_type": "stream",
     "text": []
    }
   ],
   "source": [
    "#4\n",
    "trainerTail3.load('results/tailgating/best_agents.pkl') # load the tailgating best model\n",
    "agents = trainerTail3.agents\n",
    "\n",
    "rewards = []\n",
    "for i in range(20):\n",
    "    start = time.time()\n",
    "    env = create_env(\n",
    "        tailgating=True, \n",
    "        #use_gui=USE_SUMO_GUI, \n",
    "        num_seconds=TOTAL_TIME\n",
    "    )\n",
    "\n",
    "    total_reward = 0\n",
    "    state = env.reset()\n",
    "    done = {\"__all__\": False}\n",
    "\n",
    "    pbar = tqdm(total=TOTAL_TIME)\n",
    "    while not done[\"__all__\"]:\n",
    "        actions = {\n",
    "            ts_id: agents[ts_id].act(state[ts_id]) \n",
    "            for ts_id in state.keys()\n",
    "        }\n",
    "        state, reward, done, _ = env.step(actions)\n",
    "        total_reward += sum(reward.values())\n",
    "        pbar.update(env.delta_time)\n",
    "\n",
    "    env.close()\n",
    "    print(f\"episode : {i}\")\n",
    "    print(f\"Total reward: {total_reward}\")\n",
    "    rewards.append(total_reward)\n",
    "    print(f\"Running Time : {time.time()-start}\\n\")\n",
    "print(f\"total_mean : {sum(rewards)/len(rewards)}\")"
   ]
  }
 ],
 "metadata": {
  "kernelspec": {
   "display_name": "sumo",
   "language": "python",
   "name": "python3"
  },
  "language_info": {
   "codemirror_mode": {
    "name": "ipython",
    "version": 3
   },
   "file_extension": ".py",
   "mimetype": "text/x-python",
   "name": "python",
   "nbconvert_exporter": "python",
   "pygments_lexer": "ipython3",
   "version": "3.11.5"
  }
 },
 "nbformat": 4,
 "nbformat_minor": 2
}
