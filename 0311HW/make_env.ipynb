{
  "nbformat": 4,
  "nbformat_minor": 0,
  "metadata": {
    "colab": {
      "provenance": [],
      "collapsed_sections": [
        "2e-3lAASKjb-",
        "11KCTCsxiSSU",
        "z8XoG4H6AU9Q",
        "YBUHyPrJAZbt",
        "X_-bT_TWAanS",
        "_DBB4r4TAoqk"
      ],
      "authorship_tag": "ABX9TyPvgACYBlsQHUt2P8v+rRDr",
      "include_colab_link": true
    },
    "kernelspec": {
      "name": "python3",
      "display_name": "Python 3"
    },
    "language_info": {
      "name": "python"
    }
  },
  "cells": [
    {
      "cell_type": "markdown",
      "metadata": {
        "id": "view-in-github",
        "colab_type": "text"
      },
      "source": [
        "<a href=\"https://colab.research.google.com/github/DoHyung08/RL/blob/main/0311HW/make_env.ipynb\" target=\"_parent\"><img src=\"https://colab.research.google.com/assets/colab-badge.svg\" alt=\"Open In Colab\"/></a>"
      ]
    },
    {
      "cell_type": "markdown",
      "source": [
        "#과제, 3.11작성\n",
        "\n",
        "*   시험공부하는 과정? 환경 코드 작성\n",
        "*   행동 선택 함수 작성\n",
        "    1. 랜덤하게 행동 선택\n",
        "    2. 높은 확률로 공부 선택\n",
        "    3. 낮은 확률로 공부 선택\n",
        "\n",
        "*   지정한 행동선택 함수에 따라 환경을 탐색하는 함수 구현\n",
        "*   각 행동선택 함수에 따라 환경을 탐색하여 얻어지는 보상의 빈도를 히스토그램으로 표현\n",
        "*   행동선택 함수에 따른 환경별 예상과 실제 그래프의 분석\n",
        "\n",
        "\n",
        "\n",
        "\n",
        "\n",
        "\n",
        "\n"
      ],
      "metadata": {
        "id": "rmPuPHkBJTNS"
      }
    },
    {
      "cell_type": "markdown",
      "source": [
        "###install and import"
      ],
      "metadata": {
        "id": "2e-3lAASKjb-"
      }
    },
    {
      "cell_type": "code",
      "source": [
        "!pip install gymnasium[classic-control]"
      ],
      "metadata": {
        "colab": {
          "base_uri": "https://localhost:8080/"
        },
        "id": "9A20_a_WidkG",
        "outputId": "2c2b4760-730b-4df7-b4b6-ada4798af535"
      },
      "execution_count": 48,
      "outputs": [
        {
          "output_type": "stream",
          "name": "stdout",
          "text": [
            "Requirement already satisfied: gymnasium[classic-control] in /usr/local/lib/python3.10/dist-packages (0.29.1)\n",
            "Requirement already satisfied: numpy>=1.21.0 in /usr/local/lib/python3.10/dist-packages (from gymnasium[classic-control]) (1.25.2)\n",
            "Requirement already satisfied: cloudpickle>=1.2.0 in /usr/local/lib/python3.10/dist-packages (from gymnasium[classic-control]) (2.2.1)\n",
            "Requirement already satisfied: typing-extensions>=4.3.0 in /usr/local/lib/python3.10/dist-packages (from gymnasium[classic-control]) (4.10.0)\n",
            "Requirement already satisfied: farama-notifications>=0.0.1 in /usr/local/lib/python3.10/dist-packages (from gymnasium[classic-control]) (0.0.4)\n",
            "Requirement already satisfied: pygame>=2.1.3 in /usr/local/lib/python3.10/dist-packages (from gymnasium[classic-control]) (2.5.2)\n"
          ]
        }
      ]
    },
    {
      "cell_type": "code",
      "execution_count": 135,
      "metadata": {
        "id": "INRC6BHJiEdX"
      },
      "outputs": [],
      "source": [
        "import random\n",
        "import numpy as np\n",
        "import matplotlib.pyplot as plt\n",
        "import gymnasium as gym"
      ]
    },
    {
      "cell_type": "markdown",
      "source": [
        "##환경 구현"
      ],
      "metadata": {
        "id": "11KCTCsxiSSU"
      }
    },
    {
      "cell_type": "code",
      "source": [
        "#랜덤한 확률로 true 반환하는 함수.\n",
        "#주어진 확률로 행동을 선택하는 과정 간결화\n",
        "#0.00%까지만 반영, 그외 버림\n",
        "#매개변수는 0.00% 형식\n",
        "\n",
        "def randomTrue(a):\n",
        "  a = round(a * 100)\n",
        "  tar = random.randint(0,10000)\n",
        "\n",
        "  if(tar < a):\n",
        "    return True\n",
        "  else:\n",
        "    return False"
      ],
      "metadata": {
        "id": "Dpqx48_wlx9o"
      },
      "execution_count": 138,
      "outputs": []
    },
    {
      "cell_type": "code",
      "source": [
        "#위 코드 테스트. 잘된다!(1900 ~ 2100내 출력됨)\n",
        "\n",
        "history = []\n",
        "\n",
        "for j in range(100):\n",
        "  cnt = 0\n",
        "  for i in range(10000):\n",
        "    if(randomTrue(20)==True):\n",
        "      cnt += 1\n",
        "  history.append(cnt)\n",
        "\n",
        "plt.figure(figsize=(1.5,2))\n",
        "plt.hist(history, bins = 10, color='r', alpha = 0.9)\n",
        "plt.grid(True)\n",
        "\n",
        "plt.show()"
      ],
      "metadata": {
        "colab": {
          "base_uri": "https://localhost:8080/",
          "height": 0
        },
        "id": "pLvYCNdnnz7O",
        "outputId": "a90aa16d-1dbf-4543-8c9a-e6d66e1e8629"
      },
      "execution_count": 139,
      "outputs": [
        {
          "output_type": "display_data",
          "data": {
            "text/plain": [
              "<Figure size 150x200 with 1 Axes>"
            ],
            "image/png": "[encoded data removed]"
          },
          "metadata": {}
        }
      ]
    },
    {
      "cell_type": "code",
      "source": [
        "class exam_std(gym.Env):\n",
        "  def __init__(self):\n",
        "    self.action_space=[[0,1],[0,1],[0,1,2]]##마지막의 잘침, 못침은 상태에 넣지 않고 종료시켰다\n",
        "    #왼쪽부터 수업, 야자, 집 에 해당하는 action space\n",
        "    #각 action space는 [공부,딴짓],[공부,땡땡이], [벼락치기, 꿀잠, 쇼츠] 을 의미\n",
        "\n",
        "  def reset(self):\n",
        "    self.state = 0#수업시간에, 보상이 0인채로 시작한다.\n",
        "    self.reward = 0\n",
        "    return 0\n",
        "\n",
        "  #각 상태에 따른 행동 구현\n",
        "  #혹시라도 상태에 존재하지 않는 행동 입력받을시에는,\n",
        "  #현재 상태 그대로 반환.\n",
        "\n",
        "  def step(self, state, action):\n",
        "    reward = self.reward\n",
        "    done = False\n",
        "\n",
        "    #수업\n",
        "    if state == 0:\n",
        "      #공부\n",
        "      if action==0:\n",
        "        state = 1\n",
        "        reward -= 2\n",
        "      #딴짓\n",
        "      elif action==1:\n",
        "        reward -= 1\n",
        "        #20%확률로 야자로 넘어감\n",
        "        if randomTrue(20):\n",
        "          state = 1\n",
        "\n",
        "    #야자\n",
        "    elif state == 1:\n",
        "      #공부\n",
        "      if action == 0:\n",
        "        reward -= 2\n",
        "        state = 2\n",
        "      #땡땡이\n",
        "      elif action == 1:\n",
        "        reward += 1\n",
        "        #10%확률로 안걸리고 집에 감\n",
        "        if randomTrue(10):\n",
        "          state = 2\n",
        "        else:\n",
        "          state = 0\n",
        "\n",
        "    #집\n",
        "    elif state == 2:\n",
        "      #벼락치기\n",
        "      if action == 0:\n",
        "        reward += 5\n",
        "        done = True\n",
        "      #꿀잠\n",
        "      elif action == 1:\n",
        "        done = True\n",
        "      #쇼츠\n",
        "      elif action == 2:\n",
        "        reward -= 1\n",
        "\n",
        "    self.reward = reward\n",
        "    return state, reward, done, []\n"
      ],
      "metadata": {
        "id": "5KMbFe6MiVaW"
      },
      "execution_count": 140,
      "outputs": []
    },
    {
      "cell_type": "markdown",
      "source": [
        "##환경 실행"
      ],
      "metadata": {
        "id": "PotgbgWy7NXA"
      }
    },
    {
      "cell_type": "markdown",
      "source": [
        "###randomPolicy, 랜덤한 행동 선택\n"
      ],
      "metadata": {
        "id": "z8XoG4H6AU9Q"
      }
    },
    {
      "cell_type": "code",
      "source": [
        "class randomPolicy():\n",
        "  def __init__(self, action_space):\n",
        "    self.action_space = action_space\n",
        "\n",
        "  def __call__(self, state):\n",
        "    #현재 state에 해당하는 action_space에서\n",
        "    #행동을 랜덤한 확률로 고른다\n",
        "    action = random.choice(self.action_space[state])\n",
        "    return action"
      ],
      "metadata": {
        "id": "mtoMXHTy7HIC"
      },
      "execution_count": 141,
      "outputs": []
    },
    {
      "cell_type": "markdown",
      "source": [
        "###goodStudent, 모범생"
      ],
      "metadata": {
        "id": "YBUHyPrJAZbt"
      }
    },
    {
      "cell_type": "code",
      "source": [
        "#공부 혹은 벼락치기(action 0)을 선택할 확률을 높게 한다.\n",
        "class goodStudent():\n",
        "  def __init__(self, action_space):\n",
        "    self.action_space = action_space\n",
        "\n",
        "  def __call__(self, state):\n",
        "    #80%확률로 공부 또는 벼락치기 한다.\n",
        "    if(randomTrue(80)):\n",
        "      action = 0\n",
        "    else:\n",
        "      action = random.choice(self.action_space[state][1:])#0제외\n",
        "\n",
        "    return action"
      ],
      "metadata": {
        "id": "Xp09mGReAheh"
      },
      "execution_count": 142,
      "outputs": []
    },
    {
      "cell_type": "markdown",
      "source": [
        "###dobbyIsFree, 자유분방한 학생"
      ],
      "metadata": {
        "id": "X_-bT_TWAanS"
      }
    },
    {
      "cell_type": "code",
      "source": [
        "#공부 안할 확률을 높게 한다. 즉 action 0 선택 확률을 낮춘다.\n",
        "class dobbyIsFree():\n",
        "  def __init__(self, action_space):\n",
        "    self.action_space = action_space\n",
        "\n",
        "  #20%확률로 공부 혹은 벼락치기한다.\n",
        "  def __call__(self, state):\n",
        "    if(randomTrue(20)):\n",
        "      action = 0\n",
        "    else:\n",
        "      action = random.choice(self.action_space[state][1:])#0제외\n",
        "\n",
        "    return action"
      ],
      "metadata": {
        "id": "O5nxNq7kAh52"
      },
      "execution_count": 143,
      "outputs": []
    },
    {
      "cell_type": "markdown",
      "source": [
        "####사실 goodStudent, dobbyIsFree함수는 공부 혹은 벼락치기할 확률만 다를뿐나머지 코드는 같은 함수이다. 이 확률을 매개변수로 받아 하나의 함수로 합쳐도 된다."
      ],
      "metadata": {
        "id": "MUJFR6TNLwSV"
      }
    },
    {
      "cell_type": "markdown",
      "source": [
        "###runOn(행동선택 객체, 반복 횟수, 행동이름(그래프에 표시))\n",
        "###행동 선택 정책으로 실행하는 함수"
      ],
      "metadata": {
        "id": "_DBB4r4TAoqk"
      }
    },
    {
      "cell_type": "code",
      "source": [
        "def runOn(agent, repeatTime, timeName):\n",
        "  rewards = []\n",
        "\n",
        "\n",
        "  #지정한 횟수만큼 반복\n",
        "  for tt in range(repeatTime):\n",
        "\n",
        "    env.reset()#환경 초기화\n",
        "    state = 0\n",
        "    done = False\n",
        "\n",
        "    #끝날때까지 환경 탐색\n",
        "    while not done:\n",
        "      #print(f\"time : {tt}, state : {state}, reward : {reward}\")\n",
        "\n",
        "      action = agent(state)\n",
        "      state, reward, done, _ = env.step(state, action)\n",
        "\n",
        "\n",
        "    rewards.append(reward)#보상 기록 리스트에 현재 보상 추가\n",
        "\n",
        "  plt.figure(figsize=(4,3))\n",
        "  plt.hist(rewards, color='lime')#그래프 표시\n",
        "  plt.title(timeName, loc='left', pad=10, fontdict={'fontsize':10})#제목 표시\n",
        "  plt.grid(True)#그리드 설정\n",
        "  plt.show()"
      ],
      "metadata": {
        "id": "nDGJXNDyAmZo"
      },
      "execution_count": 144,
      "outputs": []
    },
    {
      "cell_type": "markdown",
      "source": [
        "###실제 환경 실행"
      ],
      "metadata": {
        "id": "ltiXLEciFUtd"
      }
    },
    {
      "cell_type": "code",
      "source": [
        "env = exam_std()\n",
        "agent = randomPolicy(env.action_space)\n",
        "runOn(agent,1000,\"random\")\n",
        "print()\n",
        "\n",
        "env = exam_std()\n",
        "agent = goodStudent(env.action_space)\n",
        "runOn(agent,1000,\"good student\")\n",
        "print()\n",
        "\n",
        "env = exam_std()\n",
        "agent = dobbyIsFree(env.action_space)\n",
        "runOn(agent,1000,\"dobbyIsFree\")"
      ],
      "metadata": {
        "colab": {
          "base_uri": "https://localhost:8080/",
          "height": 950
        },
        "id": "X47OR9WpFQRu",
        "outputId": "de48a38b-c00d-4541-9ade-400beb452676"
      },
      "execution_count": 146,
      "outputs": [
        {
          "output_type": "display_data",
          "data": {
            "text/plain": [
              "<Figure size 400x300 with 1 Axes>"
            ],
            "image/png": "[encoded data removed]"
          },
          "metadata": {}
        },
        {
          "output_type": "stream",
          "name": "stdout",
          "text": [
            "\n"
          ]
        },
        {
          "output_type": "display_data",
          "data": {
            "text/plain": [
              "<Figure size 400x300 with 1 Axes>"
            ],
            "image/png": "[encoded data removed]"
          },
          "metadata": {}
        },
        {
          "output_type": "stream",
          "name": "stdout",
          "text": [
            "\n"
          ]
        },
        {
          "output_type": "display_data",
          "data": {
            "text/plain": [
              "<Figure size 400x300 with 1 Axes>"
            ],
            "image/png": "[encoded data removed]"
          },
          "metadata": {}
        }
      ]
    },
    {
      "cell_type": "markdown",
      "source": [
        "###예상\n",
        "\n",
        "1번 그래프는 0을 중간으로 하여 그 주변에 보상이 밀집되어 분포하고,\n",
        "2번 그래프는 양수,\n",
        "3번 그래프는 음수 부분에 그래프가 치우져 분포될 것으로 예상한다.\n",
        "\n"
      ],
      "metadata": {
        "id": "kUdx5YNvPBKM"
      }
    },
    {
      "cell_type": "markdown",
      "source": [
        "###실제 분석\n",
        "\n",
        "1.   랜덤하게 행동을 선택하면 음수쪽 보상이 많이 발생하는 것을 볼 수 있다.\n",
        "     환경에 음수 보상이(4개) 양수 보상(2)보다 많은 것이 이유로 추정된다.\n",
        "     양수 보상 벼락치기가 그 크기가 크긴 하지만 개수가 적으므로\n",
        "     선택되기 어려울 것이다.\n",
        "\n",
        "2.   모범적으로 행동을 선택하면,\n",
        "     랜덤 선택보다 가장 낮은 보상 값도 더 높게 나타나고\n",
        "     양수인 보상이 월등히 높게 나타난다.\n",
        "     환경 그래프상 모범적으로 공부하면 음수의 보상을 얻어\n",
        "     보상이 줄어든다고 생각할 수도 있지만,\n",
        "     대부분 딴짓이나 땡땡이를 치면 그래프를 돌아 최종점에 도달하면 결국 보상이 줄어든다.\n",
        "     그 예로 야자하다가 땡땡이를 안치면 -2의 보상으로 집에 가지만\n",
        "     땡땡이를 쳤다가 높은 확률로 걸려서 야자를 하고 집에 가면\n",
        "     +1 -4 = -3의 보상으로 집에 간다.\n",
        "\n",
        "\n",
        "3.   자유분방하게(불량하게) 행동을 선택하면 가장 작은 보상값도\n",
        "     1,2보다 월등히 작게 나타나고, 전체적으로 그래프가\n",
        "     0보다 왼쪽에 쏠려있는 것을 볼 수 있다.\n",
        "     따라서 보상이 더 낮은 것을 확인할 수 있다.\n",
        "\n"
      ],
      "metadata": {
        "id": "FGgJwY3xNDjq"
      }
    }
  ]
}