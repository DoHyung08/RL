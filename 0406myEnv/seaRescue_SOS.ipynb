{
  "nbformat": 4,
  "nbformat_minor": 0,
  "metadata": {
    "colab": {
      "provenance": [],
      "collapsed_sections": [
        "XWw2PXj-Lghq"
      ],
      "authorship_tag": "ABX9TyP8m9pplfSApA/cuLOzvwWb",
      "include_colab_link": true
    },
    "kernelspec": {
      "name": "python3",
      "display_name": "Python 3"
    },
    "language_info": {
      "name": "python"
    }
  },
  "cells": [
    {
      "cell_type": "markdown",
      "metadata": {
        "id": "view-in-github",
        "colab_type": "text"
      },
      "source": [
        "<a href=\"https://colab.research.google.com/github/DoHyung08/RL/blob/main/0406myEnv/seaRescue_SOS.ipynb\" target=\"_parent\"><img src=\"https://colab.research.google.com/assets/colab-badge.svg\" alt=\"Open In Colab\"/></a>"
      ]
    },
    {
      "cell_type": "markdown",
      "source": [
        "##start"
      ],
      "metadata": {
        "id": "MYXpCgD3Wq_-"
      }
    },
    {
      "cell_type": "code",
      "source": [
        "!pip install gymnasium[classic-control]\n",
        "\n",
        "import gymnasium as gym\n",
        "import random\n",
        "import matplotlib.pyplot as plt\n",
        "import numpy as np"
      ],
      "metadata": {
        "colab": {
          "base_uri": "https://localhost:8080/"
        },
        "id": "KePCM7q__axg",
        "outputId": "41ac55bb-9948-4118-bc80-0a400b400603"
      },
      "execution_count": null,
      "outputs": [
        {
          "output_type": "stream",
          "name": "stdout",
          "text": [
            "Requirement already satisfied: gymnasium[classic-control] in /usr/local/lib/python3.10/dist-packages (0.29.1)\n",
            "Requirement already satisfied: numpy>=1.21.0 in /usr/local/lib/python3.10/dist-packages (from gymnasium[classic-control]) (1.25.2)\n",
            "Requirement already satisfied: cloudpickle>=1.2.0 in /usr/local/lib/python3.10/dist-packages (from gymnasium[classic-control]) (2.2.1)\n",
            "Requirement already satisfied: typing-extensions>=4.3.0 in /usr/local/lib/python3.10/dist-packages (from gymnasium[classic-control]) (4.10.0)\n",
            "Requirement already satisfied: farama-notifications>=0.0.1 in /usr/local/lib/python3.10/dist-packages (from gymnasium[classic-control]) (0.0.4)\n",
            "Requirement already satisfied: pygame>=2.1.3 in /usr/local/lib/python3.10/dist-packages (from gymnasium[classic-control]) (2.5.2)\n"
          ]
        }
      ]
    },
    {
      "cell_type": "code",
      "execution_count": null,
      "metadata": {
        "id": "69-5HE74_UQm"
      },
      "outputs": [],
      "source": [
        "#랜덤한 확률로 true 반환하는 함수.\n",
        "#주어진 확률로 행동을 선택하는 과정 간결화\n",
        "#0.00%까지만 반영, 그외 버림\n",
        "#매개변수는 0.00% 형식\n",
        "\n",
        "def randomTrue(a):\n",
        "  a = round(a * 100)\n",
        "  tar = random.randint(0,10000)\n",
        "\n",
        "  if(tar < a):\n",
        "    return True\n",
        "  else:\n",
        "    return False"
      ]
    },
    {
      "cell_type": "markdown",
      "source": [
        "#환경 -> 한컴타자 해상구조 sos\n",
        "\n",
        "\n",
        "매 단계마다\n",
        "상대는 70% 확률로 튜브를 얻음\n",
        "플레이어와 상대 모두 무조건 튜브 1개씩을 잃음\n",
        "\n",
        "초기상태 : 각자 튜브 7개\n",
        "\n",
        "\n",
        "##상태[player, opposite]\n",
        "\n",
        "플레이어와 상대방의 튜브 개수\n",
        "각자 0이 되면 진다.\n",
        "동시에 0이되면 비긴다.\n",
        "\n",
        "\n",
        "##행동[0,1]\n",
        "\n",
        "상대의 튜브 없애기로 결정\n",
        "-> 70% 확률로 없어짐\n",
        "\n",
        "튜브를 먹기로 결정\n",
        "-> 70% 확률로 먹음\n",
        "\n",
        "\n",
        "##보상\n",
        "지면 -1\n",
        "이기면 1\n",
        "진행중이거나 비기면 0\n"
      ],
      "metadata": {
        "id": "C-mx4XqzKxrf"
      }
    },
    {
      "cell_type": "markdown",
      "source": [
        "#기본 환경 구현 & 실행"
      ],
      "metadata": {
        "id": "UPib_WKyW4MW"
      }
    },
    {
      "cell_type": "code",
      "source": [
        "class sos:\n",
        "    def __init__(self):\n",
        "        self.action_space = [0,1]\n",
        "\n",
        "    def transition(self, state, action):\n",
        "\n",
        "        if action == 0:#상대 튜브 없애기\n",
        "          if randomTrue(70):\n",
        "            state[1] = state[1] - 1\n",
        "        else:#자기 튜브 쌓기\n",
        "          if(randomTrue(70)):\n",
        "            state[0] = state[0] + 1\n",
        "\n",
        "        state[0] -=1#\n",
        "        state[1] -=1# 매 단계마다 튜브 하나씩 잃음\n",
        "        if randomTrue(70):#상대방이 0.7의 확률로 튜브 얻음\n",
        "          state[1] +=1\n",
        "\n",
        "        self.state = state\n",
        "        return state\n",
        "\n",
        "\n",
        "    def reward_function(self, state, action):#보상함수\n",
        "        reward = 0\n",
        "        if state[0]<=0 and state[1] > 0:\n",
        "          reward = -1\n",
        "        elif state[0] > 0 and state[1] <= 0:\n",
        "          reward = 1\n",
        "\n",
        "        return reward\n",
        "\n",
        "\n",
        "    def reset(self):\n",
        "        self.state = [7,7]#각자 7개씩 튜브를 가진 상태에서 시작\n",
        "        self.reward = 0\n",
        "        return self.state\n",
        "\n",
        "\n",
        "    def step(self, action):\n",
        "\n",
        "        next_state = self.transition(self.state, action)\n",
        "        reward = self.reward_function(self.state, action)\n",
        "        done = (self.state[0] <= 0 or self.state[1] <= 0)\n",
        "\n",
        "        return next_state, reward, done"
      ],
      "metadata": {
        "id": "6aAoKSYGCT1_"
      },
      "execution_count": null,
      "outputs": []
    },
    {
      "cell_type": "code",
      "source": [
        "env = sos()#환경 실행\n",
        "state = env.reset()\n",
        "done = False\n",
        "print(\"Initial state:\", state)\n",
        "\n",
        "rewards = list()\n",
        "\n",
        "for i in range(0, 10000):\n",
        "  env.reset()\n",
        "  done = False\n",
        "  while not done:\n",
        "      action = np.random.choice(env.action_space)\n",
        "      #print(\"\\nChose action:\", action)\n",
        "      state, reward, done = env.step(action)\n",
        "      #print(\"New state:\", state)\n",
        "      if(done):\n",
        "        #print(\"Reward:\", reward)\n",
        "        rewards.append(reward)\n",
        "\n",
        "plt.figure(figsize=(3,3))\n",
        "plt.hist(rewards,color='orange',bins=5)\n",
        "plt.grid(True)\n",
        "\n",
        "plt.show()\n"
      ],
      "metadata": {
        "colab": {
          "base_uri": "https://localhost:8080/",
          "height": 309
        },
        "id": "djh2tZYAFPi0",
        "outputId": "418027fb-14c6-4e27-d3ed-88ceb6ed64e7"
      },
      "execution_count": null,
      "outputs": [
        {
          "output_type": "stream",
          "name": "stdout",
          "text": [
            "Initial state: [7, 7]\n"
          ]
        },
        {
          "output_type": "display_data",
          "data": {
            "text/plain": [
              "<Figure size 300x300 with 1 Axes>"
            ],
            "image/png": "[encoded data removed]"
          },
          "metadata": {}
        }
      ]
    },
    {
      "cell_type": "markdown",
      "source": [
        "10000번 반복. 위 환경과 랜덤한 행동선택에서 플레이어와 상대방의 승률이 거의 같은 것으로 나타났다."
      ],
      "metadata": {
        "id": "yZD2BpDjLK2u"
      }
    },
    {
      "cell_type": "markdown",
      "source": [
        "#환경 변경\n",
        "\n",
        "------------------>>>>>"
      ],
      "metadata": {
        "id": "dn7eEyfMWSZe"
      }
    },
    {
      "cell_type": "markdown",
      "source": [
        "#확률을 가진 튜브\n",
        "\n",
        "\n",
        "행동공간은 [-1,0,1,2,3] 이다.\n",
        "-1은 상대의 튜브를 없애는 것,\n",
        "0,1,2,3은 각각 0번째, 1번째, 2번째, 3번째 튜브를 선택하여 얻는 것이다.\n",
        "\n",
        "상대방이 튜브를 얻을 때도 4개중 하나를 랜덤하게 선택한다\n",
        "\n",
        "튜브를 없을 때와 얻을 때 모두 행동이 성공할 확률은 튜브에 적힌 1~99 사이 숫자이다.\n",
        "이것은 실제 한컴 타자 연습에서 튜브에 적힌 글자가 치기 어려운 정도를 의미한다.\n",
        "추후 이 확률에 따른 행동 선택으로 승률이 어떻게 변하는지, 에이전트가 어떻게 학습하는지 관찰할 수 있다.\n",
        "\n",
        "\n"
      ],
      "metadata": {
        "id": "XWw2PXj-Lghq"
      }
    },
    {
      "cell_type": "code",
      "source": [
        "class tubesos:\n",
        "    def __init__(self):\n",
        "        self.action_space = [-1,0,1,2,3]\n",
        "\n",
        "    def transition(self, state, action):\n",
        "\n",
        "        if action == -1:#상대 튜브 없애기\n",
        "          if randomTrue(self.otherTube):\n",
        "            self.otherTube = random.choice(list(range(1,100)))\n",
        "            state[1] = state[1] - 1\n",
        "        else:#자기 튜브 쌓기\n",
        "          if(randomTrue(self.tubes[action])):\n",
        "            self.tubes[action] = random.choice(list(range(1,100)))\n",
        "            state[0] = state[0] + 1\n",
        "\n",
        "        state[0] -=1#\n",
        "        state[1] -=1# 매 단계마다 튜브 하나씩 잃음\n",
        "\n",
        "        cho = random.choice([0,1,2,3])\n",
        "\n",
        "\n",
        "        if randomTrue(self.tubes[cho]):#상대방이 0.7의 확률로 튜브 얻음\n",
        "          self.tubes[cho] = random.choice(list(range(1,100)))\n",
        "          state[1] +=1\n",
        "\n",
        "        self.state = state\n",
        "        return state\n",
        "\n",
        "\n",
        "    def reward_function(self, state, action):\n",
        "        reward = 0\n",
        "        if state[0]<=0 and state[1] > 0:\n",
        "          reward = -1\n",
        "        elif state[0] > 0 and state[1] <= 0:\n",
        "          reward = 1\n",
        "\n",
        "        return reward\n",
        "\n",
        "\n",
        "    def reset(self):\n",
        "        self.state = [7,7]\n",
        "        self.tubes = [random.choice(list(range(1,100))) for i in range(4)]\n",
        "        self.otherTube = random.choice(list(range(1,100)))\n",
        "        self.reward = 0\n",
        "        return self.state\n",
        "\n",
        "\n",
        "    def step(self, action):\n",
        "\n",
        "        next_state = self.transition(self.state, action)\n",
        "        reward = self.reward_function(self.state, action)\n",
        "        done = (self.state[0] <= 0 or self.state[1] <= 0)\n",
        "\n",
        "        return next_state, reward, done"
      ],
      "metadata": {
        "id": "T968gkCKLghq"
      },
      "execution_count": null,
      "outputs": []
    },
    {
      "cell_type": "markdown",
      "source": [
        "#확률을 가진 튜브 - 실행\n",
        "\n",
        "근소한 차이지만 플레이어의 승률이 더 높다."
      ],
      "metadata": {
        "id": "-xlwztD5VHwu"
      }
    },
    {
      "cell_type": "code",
      "source": [
        "env = tubesos()\n",
        "state = env.reset()\n",
        "done = False\n",
        "print(\"Initial state:\", state)\n",
        "\n",
        "rewards = list()\n",
        "\n",
        "for i in range(0, 10000):\n",
        "  env.reset()\n",
        "  done = False\n",
        "  while not done:\n",
        "      action = np.random.choice(env.action_space)\n",
        "      #print(\"\\nChose action:\", action)\n",
        "      state, reward, done = env.step(action)\n",
        "      #print(\"New state:\", state)\n",
        "      if(done):\n",
        "        #print(\"Reward:\", reward)\n",
        "        rewards.append(reward)\n",
        "\n",
        "plt.figure(figsize=(3,3))\n",
        "plt.hist(rewards,color='orange',bins=5)\n",
        "plt.grid(True)\n",
        "\n",
        "plt.show()\n"
      ],
      "metadata": {
        "colab": {
          "base_uri": "https://localhost:8080/",
          "height": 309
        },
        "outputId": "9226a633-189c-49fa-ea34-68dfdba39f21",
        "id": "B0iU8GRfLghr"
      },
      "execution_count": null,
      "outputs": [
        {
          "output_type": "stream",
          "name": "stdout",
          "text": [
            "Initial state: [7, 7]\n"
          ]
        },
        {
          "output_type": "display_data",
          "data": {
            "text/plain": [
              "<Figure size 300x300 with 1 Axes>"
            ],
            "image/png": "[encoded data removed]"
          },
          "metadata": {}
        }
      ]
    },
    {
      "cell_type": "markdown",
      "source": [
        "#영리한 상대방\n",
        "상대방이 자신이 얻은 튜브를 고를 때, 성공 확률이 가장 높은 튜브,\n",
        "즉 가장 쉬운 단어가 적힌 튜브를 고른다."
      ],
      "metadata": {
        "id": "a4pBqcE3VPr2"
      }
    },
    {
      "cell_type": "code",
      "source": [
        "class smartOPsos:\n",
        "    def __init__(self):\n",
        "        self.action_space = [-1,0,1,2,3]\n",
        "\n",
        "    def transition(self, state, action):\n",
        "\n",
        "        if action == -1:#상대 튜브 없애기\n",
        "          if randomTrue(self.otherTube):\n",
        "            self.otherTube = random.choice(list(range(1,100)))\n",
        "            state[1] = state[1] - 1\n",
        "        else:#자기 튜브 쌓기\n",
        "          if(randomTrue(self.tubes[action])):\n",
        "            self.tubes[action] = random.choice(list(range(1,100)))\n",
        "            state[0] = state[0] + 1\n",
        "\n",
        "        state[0] -=1#\n",
        "        state[1] -=1# 매 단계마다 튜브 하나씩 잃음\n",
        "\n",
        "        cho = self.tubes.index(max(self.tubes))\n",
        "\n",
        "\n",
        "        if randomTrue(self.tubes[cho]):#상대방이 0.7의 확률로 튜브 얻음\n",
        "          self.tubes[cho] = random.choice(list(range(1,100)))\n",
        "          state[1] +=1\n",
        "\n",
        "        self.state = state\n",
        "        return state\n",
        "\n",
        "\n",
        "    def reward_function(self, state, action):\n",
        "        reward = 0\n",
        "        if state[0]<=0 and state[1] > 0:\n",
        "          reward = -1\n",
        "        elif state[0] > 0 and state[1] <= 0:\n",
        "          reward = 1\n",
        "\n",
        "        return reward\n",
        "\n",
        "\n",
        "    def reset(self):\n",
        "        self.state = [7,7]\n",
        "        self.tubes = [random.choice(list(range(1,100))) for i in range(4)]\n",
        "        self.otherTube = random.choice(list(range(1,100)))\n",
        "        self.reward = 0\n",
        "        return self.state\n",
        "\n",
        "\n",
        "    def step(self, action):\n",
        "\n",
        "        next_state = self.transition(self.state, action)\n",
        "        reward = self.reward_function(self.state, action)\n",
        "        done = (self.state[0] <= 0 or self.state[1] <= 0)\n",
        "\n",
        "        return next_state, reward, done"
      ],
      "metadata": {
        "id": "ZBiQG8gUVPNI"
      },
      "execution_count": null,
      "outputs": []
    },
    {
      "cell_type": "markdown",
      "source": [
        "#실행 - 영리한 상대방\n",
        "눈에 띄게 승률이 차이난다.\n",
        "상대방의 승률이 플레이어보다 8배가량 높다"
      ],
      "metadata": {
        "id": "QxZ954h1VefW"
      }
    },
    {
      "cell_type": "code",
      "source": [
        "env = smartOPsos()\n",
        "state = env.reset()\n",
        "done = False\n",
        "print(\"Initial state:\", state)\n",
        "\n",
        "rewards = list()\n",
        "\n",
        "for i in range(0, 10000):\n",
        "  env.reset()\n",
        "  done = False\n",
        "  while not done:\n",
        "      action = np.random.choice(env.action_space)\n",
        "      #print(\"\\nChose action:\", action)\n",
        "      state, reward, done = env.step(action)\n",
        "      #print(\"New state:\", state)\n",
        "      if(done):\n",
        "        #print(\"Reward:\", reward)\n",
        "        rewards.append(reward)\n",
        "\n",
        "plt.figure(figsize=(3,3))\n",
        "plt.hist(rewards,color='orange',bins=5)\n",
        "plt.grid(True)\n",
        "\n",
        "plt.show()\n"
      ],
      "metadata": {
        "colab": {
          "base_uri": "https://localhost:8080/",
          "height": 309
        },
        "id": "bwU0nfx0Vclm",
        "outputId": "0b05bea5-ca48-4af6-c98c-1c25d88095a6"
      },
      "execution_count": null,
      "outputs": [
        {
          "output_type": "stream",
          "name": "stdout",
          "text": [
            "Initial state: [7, 7]\n"
          ]
        },
        {
          "output_type": "display_data",
          "data": {
            "text/plain": [
              "<Figure size 300x300 with 1 Axes>"
            ],
            "image/png": "[encoded data removed]"
          },
          "metadata": {}
        }
      ]
    },
    {
      "cell_type": "markdown",
      "source": [
        "#추가할 것\n",
        "플레이어가 가장 성공확률이 낮은 튜브를 고르는 알고리즘 추가하기\n",
        "\n",
        "튜브 먹지 말고 상대꺼 뺏는게 더 좋을수도?"
      ],
      "metadata": {
        "id": "Y0dLD0LrWXMe"
      }
    }
  ]
}