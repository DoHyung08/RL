{
  "cells": [
    {
      "cell_type": "markdown",
      "metadata": {
        "id": "view-in-github",
        "colab_type": "text"
      },
      "source": [
        "<a href=\"https://colab.research.google.com/github/DoHyung08/RL/blob/main/0511MLP/MLP%2C_MNIST_%EC%88%AB%EC%9E%90%ED%8C%90%EB%B3%84_AI.ipynb\" target=\"_parent\"><img src=\"https://colab.research.google.com/assets/colab-badge.svg\" alt=\"Open In Colab\"/></a>"
      ]
    },
    {
      "cell_type": "markdown",
      "metadata": {
        "id": "2QZclz1VYZPb"
      },
      "source": [
        "# 인공 신경망 구조 이해하기"
      ]
    },
    {
      "cell_type": "code",
      "execution_count": 77,
      "metadata": {
        "id": "I3BkHNXWYZPf",
        "outputId": "b70d5ee7-f7c8-4930-bf8c-d5cf58528168",
        "colab": {
          "base_uri": "https://localhost:8080/"
        }
      },
      "outputs": [
        {
          "output_type": "stream",
          "name": "stdout",
          "text": [
            "tensor([[-0.2541],\n",
            "        [-0.3433],\n",
            "        [-0.4255],\n",
            "        [-0.4132],\n",
            "        [ 0.4912],\n",
            "        [-0.1981],\n",
            "        [ 0.4628],\n",
            "        [ 0.6552],\n",
            "        [-0.6264],\n",
            "        [ 0.3001],\n",
            "        [ 0.6944],\n",
            "        [ 0.2749],\n",
            "        [-0.4871],\n",
            "        [-0.8491],\n",
            "        [-0.5070],\n",
            "        [-0.2342]])\n",
            "tensor([ 0.0717,  0.9547,  0.7012, -0.7574,  0.0525, -0.3125, -0.1111, -0.8474,\n",
            "        -0.3686,  0.8162,  0.1413, -0.3717,  0.2464,  0.5698, -0.4719,  0.1512])\n"
          ]
        }
      ],
      "source": [
        "import torch#pytorch 기반\n",
        "import torch.nn as nn\n",
        "import torch.nn.functional as F\n",
        "\n",
        "# Write neural network code\n",
        "class NeuralNetwork(nn.Module):#!!!!! 상속받기\n",
        "\n",
        "    def __init__(self):\n",
        "        super(NeuralNetwork, self).__init__()\n",
        "        self.input_layer = nn.Linear(1,16)#!!!!! 레이어 선언\n",
        "        self.activation = nn.ReLU()#!! 활성화함수 꼭 포함\n",
        "        self.hidden_layer = nn.Linear(16,16)#!!!!! 레이어 선언\n",
        "        self.activation = nn.ReLU()#!! 활성화함수 꼭 포함\n",
        "        self.output_layer = nn.Linear(16,1)#1 -> 16 -> 1\n",
        "\n",
        "    def forward(self, x):#!!!!! forward 선언\n",
        "        x = self.input_layer(x)\n",
        "        x = self.activation(x)#활성화함수(비선형함수)가 없으면 층을 쌓는게 무의미해짐(일차함수가 된다)\n",
        "        for i in range(2):\n",
        "            x = self.hidden_layer(x)\n",
        "            x = self.activation(x)\n",
        "        x = self.output_layer(x)#함수를 통과시킨다\n",
        "        return x\n",
        "\n",
        "# Define the network and the loss function.\n",
        "network = NeuralNetwork()#만든 네트워크 불러오기\n",
        "loss_function = nn.MSELoss()#MSE 함수 불러오기, 최소 제곱 오차. 각 값과 예측값의 차이의 제곱의 평균이다.\n",
        "\n",
        "# Steps for gradient descent.\n",
        "# 'lr' stands for learning rate.\n",
        "optimizer = torch.optim.Adam(network.parameters(), lr=0.001)#학습률 설정 대부분 10e-3의 학습률을 사용한다\n",
        "\n",
        "# Training one step with sample data\n",
        "x = torch.Tensor([1])#배열, 행렬과 유사한 자료구조이다, GPU를 효율적으로 쓰기 위한 torch용 자료구조\n",
        "y = x**3 + x**2 - x - 1\n",
        "\n",
        "#한번의 경사하강을 시행한다\n",
        "optimizer.zero_grad()#최적화함수 초기화\n",
        "output = network(x)#출력, 즉 예상값\n",
        "loss = loss_function(y,output)#손실함수로 손실 계산\n",
        "loss.backward()#손실을 미분해준다\n",
        "optimizer.step()#최적화함수를 이용해 네트워크의 레이어 파라미터가 학습된다.\n",
        "\n",
        "# Check parameters\n",
        "parameters = network.input_layer.state_dict()\n",
        "w = parameters['weight']  # e.g. [-5, -1.2, 1.2, 1.2, 2, 5]\n",
        "b = parameters['bias']  # e.g. [-7.7, -1.3, 1, -0.2, -1.1, -5]\n",
        "print(w)\n",
        "print(b)"
      ]
    },
    {
      "cell_type": "code",
      "execution_count": 78,
      "metadata": {
        "id": "3hQaBAskYZPh",
        "outputId": "e2536fcd-e830-4895-ffe1-48b5194c5b65",
        "colab": {
          "base_uri": "https://localhost:8080/",
          "height": 451
        }
      },
      "outputs": [
        {
          "output_type": "stream",
          "name": "stderr",
          "text": [
            "Loss: 1.147: 100%|██████████| 100000/100000 [03:44<00:00, 445.49it/s]\n"
          ]
        },
        {
          "output_type": "display_data",
          "data": {
            "text/plain": [
              "<Figure size 640x480 with 1 Axes>"
            ],
            "image/png": "[encoded data removed]"
          },
          "metadata": {}
        }
      ],
      "source": [
        "from tqdm import tqdm\n",
        "import matplotlib.pyplot as plt\n",
        "import random\n",
        "\n",
        "# Define the network and the loss function.\n",
        "network = NeuralNetwork()\n",
        "loss_function = nn.MSELoss()\n",
        "optimizer = torch.optim.Adam(network.parameters(), lr=0.01)\n",
        "\n",
        "\n",
        "history = []\n",
        "pbar = tqdm(range(100000), desc=\"Loss: --\")\n",
        "for epoch in pbar:\n",
        "    x = torch.Tensor([random.random()+random.randint(-5,5)]);\n",
        "    y = x**3 + x**2 - x - 1\n",
        "    optimizer.zero_grad()\n",
        "    output = network(x)#출력, 즉 예상값\n",
        "    loss = loss_function(y,output)#손실함수로 손실 계산\n",
        "    loss.backward()#손실을 미분해준다\n",
        "    optimizer.step()#최적화함수를 이용해 네트워크의 레이어 파라미터가 학습된다.\n",
        "\n",
        "    history.append(loss.item())\n",
        "    if epoch % 100 == 0:\n",
        "        pbar.set_description(f\"Loss: {loss.item():.3f}\")\n",
        "\n",
        "plt.plot(history)\n",
        "plt.show()"
      ]
    },
    {
      "cell_type": "code",
      "execution_count": 79,
      "metadata": {
        "id": "8WU-AWMhYZPi",
        "outputId": "b3317646-74b4-4a2f-cccb-31202def071e",
        "colab": {
          "base_uri": "https://localhost:8080/",
          "height": 430
        }
      },
      "outputs": [
        {
          "output_type": "display_data",
          "data": {
            "text/plain": [
              "<Figure size 640x480 with 1 Axes>"
            ],
            "image/png": "[encoded data removed]"
          },
          "metadata": {}
        }
      ],
      "source": [
        "# plot the result\n",
        "x_lim = 3\n",
        "num_points = 100\n",
        "\n",
        "x = torch.linspace(-x_lim, x_lim, num_points)\n",
        "y = x**3 + x**2 - x - 1\n",
        "plt.plot(x, y, label=\"ground truth\", color=\"black\")\n",
        "plt.plot(x, network(x[:, None]).detach().numpy(), label=\"prediction\", color=\"red\")\n",
        "plt.legend()\n",
        "plt.show()"
      ]
    },
    {
      "cell_type": "markdown",
      "source": [
        "#MNIST 숫자 판별 AI (pytorch)"
      ],
      "metadata": {
        "id": "-mfugH2fQvxH"
      }
    },
    {
      "cell_type": "code",
      "source": [
        "import torch#pytorch 기반\n",
        "import torch.nn as nn\n",
        "import torch.nn.functional as F\n",
        "import tensorflow as tf\n",
        "import matplotlib.pyplot as plt\n",
        "(x_train, y_train), (x_test, y_test) = tf.keras.datasets.mnist.load_data()#MNIST 데이터셋 불러오기\n",
        "x_train, x_test = x_train/255.0, x_test/255.0 #0~1 사이 값으로 표현"
      ],
      "metadata": {
        "colab": {
          "base_uri": "https://localhost:8080/"
        },
        "id": "xHDZKo2CQrI1",
        "outputId": "6682830e-bde9-4f7b-9b4e-c5c66d9724db"
      },
      "execution_count": 81,
      "outputs": [
        {
          "output_type": "stream",
          "name": "stdout",
          "text": [
            "Downloading data from https://storage.googleapis.com/tensorflow/tf-keras-datasets/mnist.npz\n",
            "11490434/11490434 [==============================] - 0s 0us/step\n"
          ]
        }
      ]
    },
    {
      "cell_type": "code",
      "source": [
        "print(y_train[1])"
      ],
      "metadata": {
        "colab": {
          "base_uri": "https://localhost:8080/"
        },
        "id": "Qr_4ITt_Uodb",
        "outputId": "e3a7f798-e87d-4ada-fb4f-c0bac98a2ba9"
      },
      "execution_count": 103,
      "outputs": [
        {
          "output_type": "stream",
          "name": "stdout",
          "text": [
            "0\n"
          ]
        }
      ]
    },
    {
      "cell_type": "code",
      "source": [
        "class NeuralNetwork(nn.Module):\n",
        "\n",
        "    def __init__(self):\n",
        "        super(NeuralNetwork, self).__init__()\n",
        "        self.input_layer = nn.Linear(28*28,1024)#데이터 하나는 28pixel * 28pixel\n",
        "        self.activation = nn.ReLU()#활성화함수\n",
        "        self.hidden_layer = nn.Linear(1024,256)#선형회귀\n",
        "        self.activation = nn.ReLU()\n",
        "        self.output_layer = nn.Linear(256,10)#출력층, 10개의 숫자에 대해 각각의 가능성을 출력한다\n",
        "\n",
        "    def forward(self, x):\n",
        "        x = x.view(-1,28*28)#x, 즉 입력을 펴준다\n",
        "        x = self.input_layer(x)\n",
        "        x = self.activation(x)\n",
        "        x = self.hidden_layer(x)\n",
        "        x = self.activation(x)\n",
        "        x = self.output_layer(x)\n",
        "        x = F.log_softmax(x, dim=1)#softMax함수를 통과시킨다\n",
        "        return x\n",
        "\n",
        "\n",
        "network = NeuralNetwork()\n",
        "loss_function = nn.CrossEntropyLoss()#확률을 비교하는 손실함수를 사용한다\n",
        "\n",
        "optimizer = torch.optim.SGD(network.parameters(), lr=0.01, momentum=0.5)#옵티마이저 설정한다\n",
        "\n",
        "x = torch.Tensor([x_train[0]])#입력 데이터를 텐서로 전해준다\n",
        "y = torch.Tensor([y_train[0]]).long()#정답 데이터이다. long형으로 변환해준다\n",
        "\n",
        "\n",
        "optimizer.zero_grad()#초기화\n",
        "output = network(x)#예측값 받는다\n",
        "loss = loss_function(output, y)#손실 계산\n",
        "loss.backward()#미분\n",
        "optimizer.step()#학습\n",
        "\n",
        "# Check parameters\n",
        "parameters = network.input_layer.state_dict()\n",
        "w = parameters['weight']\n",
        "b = parameters['bias']\n",
        "print(w)\n",
        "print(b)"
      ],
      "metadata": {
        "colab": {
          "base_uri": "https://localhost:8080/"
        },
        "id": "Gz-lQm_FRgQx",
        "outputId": "5a1bb821-4751-4a74-f107-4efc10cd3ab4"
      },
      "execution_count": 135,
      "outputs": [
        {
          "output_type": "stream",
          "name": "stdout",
          "text": [
            "tensor([[ 0.0119, -0.0291, -0.0213,  ...,  0.0086,  0.0308,  0.0130],\n",
            "        [-0.0254,  0.0040,  0.0235,  ...,  0.0061, -0.0020,  0.0122],\n",
            "        [-0.0164, -0.0077, -0.0042,  ...,  0.0221,  0.0087, -0.0334],\n",
            "        ...,\n",
            "        [ 0.0079, -0.0111,  0.0213,  ...,  0.0193, -0.0076, -0.0112],\n",
            "        [-0.0086, -0.0342,  0.0107,  ..., -0.0118,  0.0026, -0.0310],\n",
            "        [-0.0080,  0.0224,  0.0091,  ...,  0.0165, -0.0034, -0.0024]])\n",
            "tensor([ 0.0043,  0.0039,  0.0309,  ...,  0.0302,  0.0047, -0.0075])\n"
          ]
        }
      ]
    },
    {
      "cell_type": "code",
      "source": [
        "from tqdm import tqdm\n",
        "import matplotlib.pyplot as plt\n",
        "import random\n",
        "\n",
        "# Define the network and the loss function.\n",
        "device = \"cuda\" if torch.cuda.is_available() else \"cpu\"\n",
        "network = NeuralNetwork().to(device)\n",
        "loss_function = nn.CrossEntropyLoss()\n",
        "optimizer = torch.optim.SGD(network.parameters(), lr=0.005, momentum=0.5)\n",
        "\n",
        "\n",
        "history = []\n",
        "pbar = tqdm(range(30000), desc=\"Loss: --\")\n",
        "for epoch in pbar:\n",
        "    num = random.randint(0,len(x_train)-1)#훈련 데이터중 랜덤한 인덱스 선택\n",
        "    x = torch.Tensor([x_train[num]])\n",
        "    y = torch.Tensor([y_train[num]]).long()\n",
        "\n",
        "    optimizer.zero_grad()\n",
        "    output = network(x)\n",
        "    loss = loss_function(output, y)\n",
        "    loss.backward()\n",
        "    optimizer.step()\n",
        "\n",
        "    history.append(loss.item())\n",
        "    if epoch % 100 == 0:\n",
        "        pbar.set_description(f\"Loss: {loss.item():.3f}\")\n",
        "\n",
        "plt.plot(history)#손실값 변화 출력. 수렴하지는 않는다\n",
        "plt.show()"
      ],
      "metadata": {
        "colab": {
          "base_uri": "https://localhost:8080/",
          "height": 448
        },
        "id": "rC9qSu9LWuPJ",
        "outputId": "98e143d1-3498-4301-d66d-a9882fff2bff"
      },
      "execution_count": 145,
      "outputs": [
        {
          "output_type": "stream",
          "name": "stderr",
          "text": [
            "Loss: 0.002: 100%|██████████| 30000/30000 [04:15<00:00, 117.36it/s]\n"
          ]
        },
        {
          "output_type": "display_data",
          "data": {
            "text/plain": [
              "<Figure size 640x480 with 1 Axes>"
            ],
            "image/png": "[encoded data removed]"
          },
          "metadata": {}
        }
      ]
    },
    {
      "cell_type": "code",
      "source": [
        "print(network(torch.Tensor(x_test[100])).argmax().item())#각각의 숫자에 대한 예상 확률중 가장 큰것 ->> 예상한 숫자\n",
        "\n",
        "print(y_test[100])#정답 숫자"
      ],
      "metadata": {
        "colab": {
          "base_uri": "https://localhost:8080/"
        },
        "id": "1k4VOzg5XYzu",
        "outputId": "7197dbee-7aa4-4924-8cf8-46482c6bf336"
      },
      "execution_count": 128,
      "outputs": [
        {
          "output_type": "stream",
          "name": "stdout",
          "text": [
            "6\n",
            "6\n"
          ]
        }
      ]
    },
    {
      "cell_type": "code",
      "source": [
        "accuracy = 0\n",
        "for i in range(0,len(x_test)):\n",
        "  x = x_test[i];\n",
        "  y = y_test[i]\n",
        "  output = network(torch.Tensor(x_test[i])).argmax().item()\n",
        "  if output == y:\n",
        "    accuracy += 1\n",
        "\n",
        "accuracy = accuracy / len(x_test) * 100 #정확도를 백분율로 계산해준다\n",
        "\n",
        "print(\"accuracy : {0:0.4f}%\".format(accuracy)) # 정확도 출력. 인간은 99.8%라고 한다"
      ],
      "metadata": {
        "colab": {
          "base_uri": "https://localhost:8080/"
        },
        "id": "yuaN-AEaXM41",
        "outputId": "c4d10d08-c4b1-4808-a485-666ac4003e7d"
      },
      "execution_count": 146,
      "outputs": [
        {
          "output_type": "stream",
          "name": "stdout",
          "text": [
            "accuracy : 95.0400%\n"
          ]
        }
      ]
    }
  ],
  "metadata": {
    "kernelspec": {
      "display_name": "rllib",
      "language": "python",
      "name": "python3"
    },
    "language_info": {
      "codemirror_mode": {
        "name": "ipython",
        "version": 3
      },
      "file_extension": ".py",
      "mimetype": "text/x-python",
      "name": "python",
      "nbconvert_exporter": "python",
      "pygments_lexer": "ipython3",
      "version": "3.10.6"
    },
    "colab": {
      "provenance": [],
      "include_colab_link": true
    }
  },
  "nbformat": 4,
  "nbformat_minor": 0
}